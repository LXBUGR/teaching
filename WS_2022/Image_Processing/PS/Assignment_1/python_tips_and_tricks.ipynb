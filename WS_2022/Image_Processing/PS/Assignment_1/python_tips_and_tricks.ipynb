{
 "cells": [
  {
   "cell_type": "code",
   "execution_count": 82,
   "id": "d3259fb7",
   "metadata": {},
   "outputs": [],
   "source": [
    "import numpy as np\n",
    "import functools"
   ]
  },
  {
   "cell_type": "code",
   "execution_count": 18,
   "id": "8375ff72",
   "metadata": {},
   "outputs": [
    {
     "name": "stdout",
     "output_type": "stream",
     "text": [
      "[[0. 0. 0.]\n",
      " [0. 0. 0.]\n",
      " [0. 0. 0.]]\n",
      "(3, 3)\n",
      "float64\n"
     ]
    }
   ],
   "source": [
    "# Create a zero array of size (3,3)\n",
    "m = np.zeros((3,3))\n",
    "print(m)\n",
    "print(m.shape)\n",
    "print(m.dtype)"
   ]
  },
  {
   "cell_type": "code",
   "execution_count": 38,
   "id": "f9e85c5e",
   "metadata": {},
   "outputs": [
    {
     "name": "stdout",
     "output_type": "stream",
     "text": [
      "uint8\n"
     ]
    }
   ],
   "source": [
    "# Create a zero array of size (3,3) of certain data type (e.g., uint8)\n",
    "m = np.zeros((3,3), dtype=np.uint8)\n",
    "print(m.dtype)"
   ]
  },
  {
   "cell_type": "code",
   "execution_count": 39,
   "id": "906144ae",
   "metadata": {},
   "outputs": [
    {
     "name": "stdout",
     "output_type": "stream",
     "text": [
      "float64\n"
     ]
    }
   ],
   "source": [
    "# How to change the dtype of an existing array?\n",
    "m = m.astype(np.float64)\n",
    "print(m.dtype)"
   ]
  },
  {
   "cell_type": "code",
   "execution_count": 40,
   "id": "4ee1ff0c",
   "metadata": {},
   "outputs": [
    {
     "name": "stdout",
     "output_type": "stream",
     "text": [
      "[[1. 1. 1.]\n",
      " [1. 1. 1.]\n",
      " [1. 1. 1.]]\n"
     ]
    }
   ],
   "source": [
    "# How to create an array with 1s?\n",
    "m = np.ones((3,3))\n",
    "print(m)"
   ]
  },
  {
   "cell_type": "code",
   "execution_count": 41,
   "id": "7610e677",
   "metadata": {},
   "outputs": [
    {
     "name": "stdout",
     "output_type": "stream",
     "text": [
      "[[3 3 3]\n",
      " [3 3 3]\n",
      " [3 3 3]]\n",
      "[[3. 3. 3.]\n",
      " [3. 3. 3.]\n",
      " [3. 3. 3.]]\n"
     ]
    }
   ],
   "source": [
    "# Let's say we are given an array and want to create a new array which the same size but the values v=3\n",
    "m1 = np.full(m.shape, 3)\n",
    "print(m1)\n",
    "# OR\n",
    "m2 = np.full_like(m, 3)\n",
    "print(m2)\n",
    "\n",
    "# Note: There also exist functions such as ones_like and zeros_like"
   ]
  },
  {
   "cell_type": "code",
   "execution_count": 42,
   "id": "6d58a31f",
   "metadata": {},
   "outputs": [
    {
     "name": "stdout",
     "output_type": "stream",
     "text": [
      "[[20. 20. 20.]\n",
      " [20. 20. 20.]\n",
      " [20. 20. 20.]]\n",
      "[[10. 10. 10.]\n",
      " [10. 10. 10.]\n",
      " [10. 10. 10.]]\n"
     ]
    }
   ],
   "source": [
    "# What if we want to set all values of a matrix to a certain value?\n",
    "m.fill(20) # In-place operation\n",
    "print(m)\n",
    "# OR\n",
    "m[:] = 10\n",
    "print(m)"
   ]
  },
  {
   "cell_type": "code",
   "execution_count": 121,
   "id": "90dc47fc",
   "metadata": {},
   "outputs": [
    {
     "name": "stdout",
     "output_type": "stream",
     "text": [
      "[[  1. 202.   1.]\n",
      " [100. 100. 100.]\n",
      " [  0. 202.   1.]]\n",
      "[[  1. 200.   1.]\n",
      " [100. 200. 100.]\n",
      " [  0. 200.   1.]]\n"
     ]
    }
   ],
   "source": [
    "# How do we alter the second row?\n",
    "m[1,:] = 100\n",
    "print(m)\n",
    "# How do we edit the second column?\n",
    "m[:,1] = 200\n",
    "print(m)"
   ]
  },
  {
   "cell_type": "code",
   "execution_count": 122,
   "id": "09275664",
   "metadata": {},
   "outputs": [
    {
     "name": "stdout",
     "output_type": "stream",
     "text": [
      "[  0. 200.   1.]\n"
     ]
    }
   ],
   "source": [
    "# What happens if we run m[-1]?\n",
    "print(m[-1]) # We get the LAST row of the matrix. NO out-of-bound exception!"
   ]
  },
  {
   "cell_type": "code",
   "execution_count": 130,
   "id": "bb0c4d85",
   "metadata": {},
   "outputs": [
    {
     "name": "stdout",
     "output_type": "stream",
     "text": [
      "Mask [[False  True  True]\n",
      " [False False False]]\n",
      "[20 30]\n",
      "===\n",
      "[[ 1 21 31]\n",
      " [ 1  1  1]]\n",
      "[[ 1 22 32]\n",
      " [ 1  1  1]]\n"
     ]
    }
   ],
   "source": [
    "# How to get all values greater than 10?\n",
    "m = np.array([[1, 20, 30],[1,1,1]])\n",
    "print('Mask', m>10)\n",
    "print(m[m>10])\n",
    "print('===')\n",
    "# How to add 1 to all of those values and preserve the initial matrix?\n",
    "m[m>10] += 1\n",
    "print(m)\n",
    "m[m>10] = m[m>10] + 1\n",
    "print(m)"
   ]
  },
  {
   "cell_type": "code",
   "execution_count": 124,
   "id": "23240a2b",
   "metadata": {},
   "outputs": [
    {
     "name": "stdout",
     "output_type": "stream",
     "text": [
      "[1 2 3] <class 'numpy.ndarray'>\n",
      "[10, 2, 3] [ 1  2 10]\n",
      "[10, 2, 10] [10  2  3]\n"
     ]
    }
   ],
   "source": [
    "# How can we convert an existing list into a numpy array\n",
    "l = [1,2,3]\n",
    "m = np.array(l)\n",
    "print(m, type(m))\n",
    "\n",
    "# Note, that m is a copy of l. Hence, both objects are independent from each other.\n",
    "l[0] = 10\n",
    "m[2] = 10\n",
    "print(l, m)\n",
    "\n",
    "# But if we write ...\n",
    "m = np.asarray(l)\n",
    "m[0] = 10\n",
    "l[2] = 10\n",
    "print(l, m) # The matrix just re-used the list's memory. Modifying m alters l."
   ]
  },
  {
   "cell_type": "code",
   "execution_count": 60,
   "id": "e8710d16",
   "metadata": {},
   "outputs": [
    {
     "name": "stdout",
     "output_type": "stream",
     "text": [
      "range(10, 200, 15)\n",
      "[10, 25, 40, 55, 70, 85, 100, 115, 130, 145, 160, 175, 190]\n"
     ]
    }
   ],
   "source": [
    "# How can we create a list of values ranging from 10 to (excl.) 200 (stepsize 15)?\n",
    "l = range(10, 200, 15)\n",
    "print(l) # Not a list yet. But it's iterable (that's why we can use it for, i.e. for loops)\n",
    "l = list(range(10, 200, 15))\n",
    "print(l)"
   ]
  },
  {
   "cell_type": "code",
   "execution_count": 61,
   "id": "58606f52",
   "metadata": {},
   "outputs": [
    {
     "name": "stdout",
     "output_type": "stream",
     "text": [
      "[190, 175, 160, 145, 130, 115, 100, 85, 70, 55, 40, 25, 10]\n"
     ]
    }
   ],
   "source": [
    "# How do we invert a list?\n",
    "print(l[::-1])"
   ]
  },
  {
   "cell_type": "code",
   "execution_count": 63,
   "id": "3b63ef94",
   "metadata": {},
   "outputs": [
    {
     "name": "stdout",
     "output_type": "stream",
     "text": [
      "[10, 40, 70, 100, 130, 160, 190]\n"
     ]
    }
   ],
   "source": [
    "# How do we fetch every second element from a list?\n",
    "print(l[::2])"
   ]
  },
  {
   "cell_type": "code",
   "execution_count": 64,
   "id": "4ca41e33",
   "metadata": {},
   "outputs": [
    {
     "name": "stdout",
     "output_type": "stream",
     "text": [
      "160\n"
     ]
    }
   ],
   "source": [
    "# How do we get the third last element?\n",
    "print(l[-3])"
   ]
  },
  {
   "cell_type": "code",
   "execution_count": 66,
   "id": "bf4a2066",
   "metadata": {},
   "outputs": [
    {
     "name": "stdout",
     "output_type": "stream",
     "text": [
      "[[1. 0. 0.]\n",
      " [0. 1. 0.]\n",
      " [0. 0. 1.]]\n"
     ]
    }
   ],
   "source": [
    "# How do we create an identity matrix?\n",
    "identity = np.eye(3)\n",
    "print(identity)"
   ]
  },
  {
   "cell_type": "code",
   "execution_count": 68,
   "id": "1b06f26a",
   "metadata": {},
   "outputs": [
    {
     "name": "stdout",
     "output_type": "stream",
     "text": [
      "[[1. 0. 1.]\n",
      " [0. 1. 0.]\n",
      " [0. 0. 1.]]\n",
      "[[1. 0. 0.]\n",
      " [0. 1. 0.]\n",
      " [1. 0. 1.]]\n"
     ]
    }
   ],
   "source": [
    "# How do we transpose a matrix?\n",
    "m = identity\n",
    "m[0,2] = 1\n",
    "print(m)\n",
    "m_t = m.T\n",
    "print(m_t)"
   ]
  },
  {
   "cell_type": "code",
   "execution_count": 69,
   "id": "00b3d459",
   "metadata": {},
   "outputs": [
    {
     "name": "stdout",
     "output_type": "stream",
     "text": [
      "[[1. 0. 0.]\n",
      " [0. 1. 0.]\n",
      " [0. 0. 1.]]\n"
     ]
    }
   ],
   "source": [
    "# How do we multiple matrices element-wise?\n",
    "m_mult = m * m_t\n",
    "print(m_mult)"
   ]
  },
  {
   "cell_type": "code",
   "execution_count": 70,
   "id": "1cb7d5ca",
   "metadata": {},
   "outputs": [
    {
     "name": "stdout",
     "output_type": "stream",
     "text": [
      "[[2. 0. 1.]\n",
      " [0. 1. 0.]\n",
      " [1. 0. 1.]]\n"
     ]
    }
   ],
   "source": [
    "# How do we calculate the dot-product of two matrices\n",
    "m_dot = np.dot(m, m_t)\n",
    "print(m_dot)"
   ]
  },
  {
   "cell_type": "code",
   "execution_count": 74,
   "id": "acb00649",
   "metadata": {},
   "outputs": [
    {
     "name": "stdout",
     "output_type": "stream",
     "text": [
      "[4, 4, 4, 4, 4, 4, 4, 4, 4, 4]\n"
     ]
    }
   ],
   "source": [
    "# How to create a LIST of values of 4s (compact syntax)\n",
    "# List comprehension\n",
    "l = [4 for _ in range(10)]\n",
    "print(l)"
   ]
  },
  {
   "cell_type": "code",
   "execution_count": 78,
   "id": "1cdbb14b",
   "metadata": {},
   "outputs": [
    {
     "name": "stdout",
     "output_type": "stream",
     "text": [
      "[16, 16, 16, 16, 16, 16, 16, 16, 16, 16]\n",
      "<map object at 0x7f32b6ba4c40>\n",
      "[16, 16, 16, 16, 16, 16, 16, 16, 16, 16]\n"
     ]
    }
   ],
   "source": [
    "# How to modify each element of the list using a function\n",
    "def pow(x):\n",
    "    return x**2\n",
    "\n",
    "l_pow = [pow(x) for x in l]\n",
    "print(l_pow)\n",
    "\n",
    "# In-Place methods using lambda + map\n",
    "l_pow_iter = map(lambda x: x**2, l) \n",
    "print(l_pow_iter) # Returns an iterator\n",
    "l_pow = list(l_pow_iter)\n",
    "print(l_pow)"
   ]
  },
  {
   "cell_type": "code",
   "execution_count": 98,
   "id": "8fa94f5d",
   "metadata": {},
   "outputs": [
    {
     "name": "stdout",
     "output_type": "stream",
     "text": [
      "8\n"
     ]
    }
   ],
   "source": [
    "# Map, Filter and reduce are great tools to create \"processing chains\" (e.g., apply a series of functions in a row)\n",
    "# 1. Remove all 4 from the list\n",
    "# 2. Add +1 to every element\n",
    "# 3. Compute the sum of all elements using reduce\n",
    "l1 = [1,4,4,4,1,1,1]\n",
    "c1 = filter(lambda x: x!=4, l1)\n",
    "c2 = map(lambda x: x+1, c1)\n",
    "c3 = functools.reduce(lambda x,y: x+y, c2)\n",
    "result = c3\n",
    "print(result)"
   ]
  },
  {
   "cell_type": "code",
   "execution_count": 103,
   "id": "75049e49",
   "metadata": {},
   "outputs": [
    {
     "name": "stdout",
     "output_type": "stream",
     "text": [
      "[(1, -1), (2, -2), (3, -3)]\n",
      "(1, 2, 3) (-1, -2, -3)\n"
     ]
    }
   ],
   "source": [
    "# Let's assume that we have to lists (same length) and we want to element-wise merge the two lists\n",
    "xs = [1,2,3]\n",
    "ys = [-1,-2,-3]\n",
    "merged = list(zip(xs, ys))\n",
    "print(merged)\n",
    "\n",
    "# How to invert the process?\n",
    "split = list(zip(*merged))\n",
    "xs, ys = split[0], split[1]\n",
    "print(xs, ys)"
   ]
  },
  {
   "cell_type": "code",
   "execution_count": null,
   "id": "8195aa0d",
   "metadata": {},
   "outputs": [],
   "source": []
  }
 ],
 "metadata": {
  "kernelspec": {
   "display_name": "Python 3 (ipykernel)",
   "language": "python",
   "name": "python3"
  },
  "language_info": {
   "codemirror_mode": {
    "name": "ipython",
    "version": 3
   },
   "file_extension": ".py",
   "mimetype": "text/x-python",
   "name": "python",
   "nbconvert_exporter": "python",
   "pygments_lexer": "ipython3",
   "version": "3.10.4"
  }
 },
 "nbformat": 4,
 "nbformat_minor": 5
}
