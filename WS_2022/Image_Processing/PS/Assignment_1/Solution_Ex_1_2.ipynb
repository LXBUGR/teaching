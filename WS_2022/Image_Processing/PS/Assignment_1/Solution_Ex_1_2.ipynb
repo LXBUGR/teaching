{
 "cells": [
  {
   "cell_type": "code",
   "execution_count": 1,
   "id": "c164d76b",
   "metadata": {},
   "outputs": [],
   "source": [
    "import numpy as np"
   ]
  },
  {
   "cell_type": "code",
   "execution_count": 29,
   "id": "59f154cd",
   "metadata": {},
   "outputs": [],
   "source": [
    "m = [[1, 1, 0, 0, 0, 0, 0, 0, 0, 0],\n",
    "     [0, 0, 0, 0, 0, 0, 1, 0, 1, 0],\n",
    "     [0, 0, 0, 0, 0, 0, 0, 1, 0, 0],\n",
    "     [0, 0, 0, 0, 0, 0, 1, 1, 1, 0],\n",
    "     [0, 0, 0, 0, 0, 1, 0, 0, 0, 0],\n",
    "     [0, 0, 0, 0, 0, 0, 0, 0, 0, 0],\n",
    "     [0, 0, 1, 0, 0, 0, 0, 0, 0, 0],\n",
    "     [0, 1, 1, 0, 0, 0, 0, 0, 0, 0],\n",
    "     [0, 1, 1, 1, 0, 0, 0, 0, 0, 0],\n",
    "     [0, 1, 0, 0, 0, 0, 0, 0, 0, 0]\n",
    "]\n",
    "m = np.asarray(m)"
   ]
  },
  {
   "cell_type": "code",
   "execution_count": 30,
   "id": "9ce99c90",
   "metadata": {},
   "outputs": [],
   "source": [
    "# Solution for 8-connectivity only!\n",
    "\n",
    "def connected_components(mat, connectivity='8'):\n",
    "    \n",
    "    # Zero-Pad the matrix. This way we don't have to worry about fetching wrong elements\n",
    "    # e.g., mat[-1,-1]\n",
    "    mat = np.pad(mat, (1,1))\n",
    "    label_mat = np.zeros_like(mat)\n",
    "    \n",
    "    next_label = 1\n",
    "        \n",
    "    for y, x in np.argwhere(mat):\n",
    "        label_region_3x3 = label_mat[y-1:y+2, x-1:x+2]\n",
    "        if np.all(label_region_3x3==0):\n",
    "            # No labels has been assigned to any of the neighbours\n",
    "            # Add a new label\n",
    "            label_mat[y,x] = next_label\n",
    "            next_label += 1\n",
    "        else:\n",
    "            # Some of the neighbours already have a label.\n",
    "            # Randomly assign a label and take care of similar labels\n",
    "            local_labels = np.unique(label_region_3x3[label_region_3x3 != 0]).tolist()\n",
    "            selected_label = local_labels.pop()\n",
    "            label_mat[y,x] = selected_label\n",
    "            for label in local_labels:\n",
    "                label_mat[label_mat==label] = selected_label\n",
    "    \n",
    "    # Labels might not start at 1 or have gaps.\n",
    "    # Make sure that we have a nice,continuous label assignment 1,2, ...\n",
    "    for idx, label in enumerate(np.unique(label_mat[label_mat!=0])):\n",
    "        label_mat[label_mat == label] = idx + 1\n",
    "        \n",
    "    # Remove the padded elements\n",
    "    label_mat = label_mat[1:-1, 1:-1]\n",
    "        \n",
    "    return label_mat\n",
    "    "
   ]
  },
  {
   "cell_type": "code",
   "execution_count": 31,
   "id": "b8f7b53a",
   "metadata": {},
   "outputs": [
    {
     "data": {
      "text/plain": [
       "array([[1, 1, 0, 0, 0, 0, 0, 0, 0, 0],\n",
       "       [0, 0, 0, 0, 0, 0, 2, 0, 2, 0],\n",
       "       [0, 0, 0, 0, 0, 0, 0, 2, 0, 0],\n",
       "       [0, 0, 0, 0, 0, 0, 2, 2, 2, 0],\n",
       "       [0, 0, 0, 0, 0, 2, 0, 0, 0, 0],\n",
       "       [0, 0, 0, 0, 0, 0, 0, 0, 0, 0],\n",
       "       [0, 0, 3, 0, 0, 0, 0, 0, 0, 0],\n",
       "       [0, 3, 3, 0, 0, 0, 0, 0, 0, 0],\n",
       "       [0, 3, 3, 3, 0, 0, 0, 0, 0, 0],\n",
       "       [0, 3, 0, 0, 0, 0, 0, 0, 0, 0]])"
      ]
     },
     "execution_count": 31,
     "metadata": {},
     "output_type": "execute_result"
    }
   ],
   "source": [
    "connected_components(m)"
   ]
  },
  {
   "cell_type": "code",
   "execution_count": null,
   "id": "3b5360b3",
   "metadata": {},
   "outputs": [],
   "source": []
  },
  {
   "cell_type": "code",
   "execution_count": null,
   "id": "92efdb40",
   "metadata": {},
   "outputs": [],
   "source": []
  },
  {
   "cell_type": "code",
   "execution_count": null,
   "id": "1bb2308c",
   "metadata": {},
   "outputs": [],
   "source": []
  }
 ],
 "metadata": {
  "kernelspec": {
   "display_name": "Python 3",
   "language": "python",
   "name": "python3"
  },
  "language_info": {
   "codemirror_mode": {
    "name": "ipython",
    "version": 3
   },
   "file_extension": ".py",
   "mimetype": "text/x-python",
   "name": "python",
   "nbconvert_exporter": "python",
   "pygments_lexer": "ipython3",
   "version": "3.8.8"
  }
 },
 "nbformat": 4,
 "nbformat_minor": 5
}
