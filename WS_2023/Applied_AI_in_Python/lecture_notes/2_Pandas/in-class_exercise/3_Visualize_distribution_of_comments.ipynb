{
 "cells": [
  {
   "cell_type": "markdown",
   "id": "b0cab7c4",
   "metadata": {},
   "source": [
    "# Introduction to Pandas\n",
    "\n",
    "In this tutorial, we will learn how to use Pandas by analyzing a real-world dataset.\n",
    "\n",
    "The dataset that we are going to analyze is the TED talk dataset which is available on Kaggle (https://www.kaggle.com/datasets/ahmadfatani/ted-talks-dataset). The dataset contains information about all video recordings of TED Talks uploaded to the official TED.com website until April 18th, 2020. It contains information about all talks including the number of views, tags, posted-date, speakers and titles.\n",
    "\n",
    "Note that you do not have to download the dataset from Kaggle since the data is already contained in the Github repository."
   ]
  },
  {
   "cell_type": "code",
   "execution_count": 1,
   "id": "652f6846",
   "metadata": {},
   "outputs": [],
   "source": [
    "import pandas as pd\n",
    "\n",
    "ted_df = pd.read_csv('../ted_talk_dataset/ted_main.csv')"
   ]
  },
  {
   "cell_type": "markdown",
   "id": "ee929f2e",
   "metadata": {},
   "source": [
    "## Visualize the distribution of comments"
   ]
  },
  {
   "cell_type": "markdown",
   "id": "7ababdef",
   "metadata": {},
   "source": [
    "We want to analyze the distribution of comments. In other words, we are looking for a plot that summarizes how often particular values occur. This plot should answer the question of whether there are a lot of low values or high values, etc."
   ]
  },
  {
   "cell_type": "markdown",
   "id": "b4c4d3d6",
   "metadata": {},
   "source": [
    "There are two different libraries that might come in handy for this task. See \"Visualization\" on https://pandas.pydata.org/pandas-docs/version/1.2.2/ecosystem.html\n",
    "\n",
    "In this tutorial, we are going to use the most famous one ([Matplotlib](https://matplotlib.org/)) which is natively supported by Pandas."
   ]
  },
  {
   "cell_type": "markdown",
   "id": "4c70a53d",
   "metadata": {},
   "source": [
    "### Creating our first plot (Line Plot)"
   ]
  },
  {
   "cell_type": "markdown",
   "id": "ff221252",
   "metadata": {},
   "source": [
    "Panda's series and dataframes provide easy access to Matplotlib via the `plot()` function (or an alternative backend)."
   ]
  },
  {
   "cell_type": "markdown",
   "id": "80bed8c0",
   "metadata": {},
   "source": [
    "As can be seen, by default, `plot()` creates a so-called **line plot**. The x-axis denotes the row-index and the y-axis denotes the number of comments (the value in the comment field)."
   ]
  },
  {
   "cell_type": "code",
   "execution_count": 1,
   "id": "cb6544d3",
   "metadata": {},
   "outputs": [],
   "source": [
    "# TODO: Plot the comments column with plot()"
   ]
  },
  {
   "cell_type": "markdown",
   "id": "a3056ef6",
   "metadata": {},
   "source": [
    "Let's check them to find out which ones are useful ..."
   ]
  },
  {
   "cell_type": "markdown",
   "id": "d02d4d55",
   "metadata": {},
   "source": [
    "### Other types of plots"
   ]
  },
  {
   "cell_type": "markdown",
   "id": "ba70f44f",
   "metadata": {},
   "source": [
    "#### Bar Plot"
   ]
  },
  {
   "cell_type": "code",
   "execution_count": 2,
   "id": "472bdeb6",
   "metadata": {},
   "outputs": [],
   "source": [
    "# TODO: Create a vertical bar plot"
   ]
  },
  {
   "cell_type": "code",
   "execution_count": null,
   "id": "eb05f90c",
   "metadata": {},
   "outputs": [],
   "source": [
    "# TODO. Create a horizontal bar plot"
   ]
  },
  {
   "cell_type": "markdown",
   "id": "e260408e",
   "metadata": {},
   "source": [
    "#### Hist Plot"
   ]
  },
  {
   "cell_type": "code",
   "execution_count": 3,
   "id": "4fa2ded2",
   "metadata": {},
   "outputs": [],
   "source": [
    "# TODO: Create a histogram plot"
   ]
  },
  {
   "cell_type": "code",
   "execution_count": 4,
   "id": "67ee0b44",
   "metadata": {},
   "outputs": [],
   "source": [
    "# TODO: Adjust the number of bins"
   ]
  },
  {
   "cell_type": "markdown",
   "id": "6efa36d8",
   "metadata": {},
   "source": [
    "#### Box Plot"
   ]
  },
  {
   "cell_type": "markdown",
   "id": "f211c455",
   "metadata": {},
   "source": [
    "A box plot (also called Box-and-Wisher Plot) is a method for graphically demonstrating the locality, spread, and skewness groups of numerical data through their quartiles.\n",
    "\n",
    "The box extends from the first quartile (Q1) to the third quartile (Q3) of the data, with a line at the median. The whiskers extend from the box to the farthest data point lying within 1.5x the inter-quartile range (IQR) from the box. Flier points (Outliers) are those past the end of the whiskers. <br/>\n",
    "See https://matplotlib.org/stable/api/_as_gen/matplotlib.pyplot.boxplot.html"
   ]
  },
  {
   "cell_type": "code",
   "execution_count": 6,
   "id": "87148c89",
   "metadata": {},
   "outputs": [],
   "source": [
    "# TODO: Create a box plot."
   ]
  },
  {
   "cell_type": "markdown",
   "id": "3f87614d",
   "metadata": {},
   "source": [
    "#### KDE Plot"
   ]
  },
  {
   "cell_type": "markdown",
   "id": "3acf9c77",
   "metadata": {},
   "source": [
    "Performs kernel density estimation (KDE) to estimate the probability density function (PDF)."
   ]
  },
  {
   "cell_type": "code",
   "execution_count": 7,
   "id": "93d238df",
   "metadata": {},
   "outputs": [],
   "source": [
    "# TODO: Create a KDE plot"
   ]
  },
  {
   "cell_type": "markdown",
   "id": "25b0d324",
   "metadata": {},
   "source": [
    "#### Area Plot"
   ]
  },
  {
   "cell_type": "markdown",
   "id": "f7c56430",
   "metadata": {},
   "source": [
    "An area plot is similar to a line plot except that the area under the curve is colored."
   ]
  },
  {
   "cell_type": "code",
   "execution_count": 8,
   "id": "817d3f9b",
   "metadata": {},
   "outputs": [],
   "source": [
    "# TODO: Create an area plot"
   ]
  },
  {
   "cell_type": "markdown",
   "id": "b0584da1",
   "metadata": {},
   "source": [
    "### Tweaking our plot(s)"
   ]
  },
  {
   "cell_type": "code",
   "execution_count": 10,
   "id": "29fc6723",
   "metadata": {},
   "outputs": [],
   "source": [
    "# TODO: Which plot type is the best to answer our question?\n",
    "# Adjust the plot type to create a nicely looking plot. Also consider filtering the data if that's helpful"
   ]
  }
 ],
 "metadata": {
  "kernelspec": {
   "display_name": "Python 3 (ipykernel)",
   "language": "python",
   "name": "python3"
  },
  "language_info": {
   "codemirror_mode": {
    "name": "ipython",
    "version": 3
   },
   "file_extension": ".py",
   "mimetype": "text/x-python",
   "name": "python",
   "nbconvert_exporter": "python",
   "pygments_lexer": "ipython3",
   "version": "3.11.5"
  }
 },
 "nbformat": 4,
 "nbformat_minor": 5
}
