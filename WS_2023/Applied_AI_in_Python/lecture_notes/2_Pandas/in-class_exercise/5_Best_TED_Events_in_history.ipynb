{
 "cells": [
  {
   "cell_type": "markdown",
   "id": "b0cab7c4",
   "metadata": {},
   "source": [
    "# Introduction to Pandas\n",
    "\n",
    "In this tutorial, we will learn how to use Pandas by analyzing a real-world dataset.\n",
    "\n",
    "The dataset that we are going to analyze is the TED talk dataset which is available on Kaggle (https://www.kaggle.com/datasets/ahmadfatani/ted-talks-dataset). The dataset contains information about all video recordings of TED Talks uploaded to the official TED.com website until April 18th, 2020. It contains information about all talks including the number of views, tags, posted-date, speakers and titles.\n",
    "\n",
    "Note that you do not have to download the dataset from Kaggle since the data is already contained in the Github repository."
   ]
  },
  {
   "cell_type": "code",
   "execution_count": 2,
   "id": "652f6846",
   "metadata": {},
   "outputs": [],
   "source": [
    "import pandas as pd\n",
    "\n",
    "ted_df = pd.read_csv('../ted_talk_dataset/ted_main.csv')"
   ]
  },
  {
   "cell_type": "markdown",
   "id": "2210655b",
   "metadata": {},
   "source": [
    "## What where the \"best\" TED events to attend?\n",
    "\n",
    "**Caution:** We are interested in the *event* and NOT in individual *talks*."
   ]
  },
  {
   "cell_type": "code",
   "execution_count": null,
   "id": "214fb307",
   "metadata": {},
   "outputs": [],
   "source": [
    "# TODO: Discuss how to quantify the best talks"
   ]
  },
  {
   "cell_type": "markdown",
   "id": "6370ea5d",
   "metadata": {},
   "source": [
    "### Which event had the most talks?"
   ]
  },
  {
   "cell_type": "code",
   "execution_count": null,
   "id": "79130dcb",
   "metadata": {},
   "outputs": [],
   "source": [
    "# TODO: Print the event that had the most talks"
   ]
  },
  {
   "cell_type": "markdown",
   "id": "0b03f538",
   "metadata": {},
   "source": [
    "### Which event had the most views in total?"
   ]
  },
  {
   "cell_type": "code",
   "execution_count": null,
   "id": "41b6ce06",
   "metadata": {},
   "outputs": [],
   "source": [
    "# TODO: Print the event that had the most views\n",
    "# Hint: groupby('event')\n",
    "# https://pandas.pydata.org/docs/reference/groupby.html"
   ]
  },
  {
   "cell_type": "markdown",
   "id": "0eafac7f",
   "metadata": {},
   "source": [
    "### Which event had the most views on average?"
   ]
  },
  {
   "cell_type": "code",
   "execution_count": null,
   "id": "cde3baaf",
   "metadata": {},
   "outputs": [],
   "source": [
    "# Print the event which had the most views on average\n",
    "# Hint: groupby('event'); mean()"
   ]
  },
  {
   "cell_type": "code",
   "execution_count": null,
   "id": "45bce2e0",
   "metadata": {},
   "outputs": [],
   "source": [
    "# TODO: Explain the different result for \"views on average\" and \"views in total"
   ]
  },
  {
   "cell_type": "code",
   "execution_count": null,
   "id": "59d20e05",
   "metadata": {},
   "outputs": [],
   "source": [
    "# TODO: Use the agg() function to show results for mean(), count() and sum() in a single dataframe"
   ]
  },
  {
   "cell_type": "markdown",
   "id": "9f944bc1",
   "metadata": {},
   "source": [
    "### Remark"
   ]
  },
  {
   "cell_type": "markdown",
   "id": "158932f9",
   "metadata": {},
   "source": [
    "Note that `agg()` can also take custom functions!"
   ]
  },
  {
   "cell_type": "code",
   "execution_count": null,
   "id": "bb61fae4",
   "metadata": {},
   "outputs": [],
   "source": [
    "def custom_agg_func(series):\n",
    "    # Returns always 1\n",
    "    return 1\n",
    "\n",
    "ted_df.groupby('event').views.agg([custom_agg_func])"
   ]
  },
  {
   "cell_type": "code",
   "execution_count": null,
   "id": "3f2de977",
   "metadata": {},
   "outputs": [],
   "source": [
    "ted_df.groupby('event').views.apply(custom_agg_func)"
   ]
  }
 ],
 "metadata": {
  "kernelspec": {
   "display_name": "Python 3 (ipykernel)",
   "language": "python",
   "name": "python3"
  },
  "language_info": {
   "codemirror_mode": {
    "name": "ipython",
    "version": 3
   },
   "file_extension": ".py",
   "mimetype": "text/x-python",
   "name": "python",
   "nbconvert_exporter": "python",
   "pygments_lexer": "ipython3",
   "version": "3.11.5"
  }
 },
 "nbformat": 4,
 "nbformat_minor": 5
}
