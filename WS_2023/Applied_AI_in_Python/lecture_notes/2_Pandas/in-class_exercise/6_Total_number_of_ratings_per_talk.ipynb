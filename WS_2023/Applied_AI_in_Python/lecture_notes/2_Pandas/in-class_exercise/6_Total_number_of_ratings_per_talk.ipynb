{
 "cells": [
  {
   "cell_type": "markdown",
   "id": "b0cab7c4",
   "metadata": {},
   "source": [
    "# Introduction to Pandas\n",
    "\n",
    "In this tutorial, we will learn how to use Pandas by analyzing a real-world dataset.\n",
    "\n",
    "The dataset that we are going to analyze is the TED talk dataset which is available on Kaggle (https://www.kaggle.com/datasets/ahmadfatani/ted-talks-dataset). The dataset contains information about all video recordings of TED Talks uploaded to the official TED.com website until April 18th, 2020. It contains information about all talks including the number of views, tags, posted-date, speakers and titles.\n",
    "\n",
    "Note that you do not have to download the dataset from Kaggle since the data is already contained in the Github repository."
   ]
  },
  {
   "cell_type": "code",
   "execution_count": 1,
   "id": "652f6846",
   "metadata": {},
   "outputs": [],
   "source": [
    "import pandas as pd\n",
    "\n",
    "ted_df = pd.read_csv('../ted_talk_dataset/ted_main.csv')"
   ]
  },
  {
   "cell_type": "markdown",
   "id": "5bd53de5",
   "metadata": {},
   "source": [
    "## Count the total number of ratings per talk"
   ]
  },
  {
   "cell_type": "markdown",
   "id": "2210655b",
   "metadata": {},
   "source": [
    "### Unpack the ratings data"
   ]
  },
  {
   "cell_type": "markdown",
   "id": "f4b6c1d8",
   "metadata": {},
   "source": [
    "As can be seen, the ratings column contains a **stringified representation** of a list of dictionaries. <br/>"
   ]
  },
  {
   "cell_type": "code",
   "execution_count": 20,
   "id": "98fc8f3c",
   "metadata": {},
   "outputs": [],
   "source": [
    "# TODO: Unpack the ratings data of the first row using eval()"
   ]
  },
  {
   "cell_type": "code",
   "execution_count": null,
   "id": "07318301",
   "metadata": {},
   "outputs": [],
   "source": [
    "# TODO: Why is it dangerous to use eval()?"
   ]
  },
  {
   "cell_type": "markdown",
   "id": "c0bbd23f",
   "metadata": {},
   "source": [
    "The `ast` module's `literal_eval` is a safer way to parse the string as it first checks the input.\n",
    "\n",
    "Nevertheless, note what is written in the documentation: <br/>\n",
    "*This is specifically designed not to execute Python code, unlike the more general eval(). There is no namespace, no name lookups, or ability to call out. But it is not free from attack: A relatively small input can lead to memory exhaustion or to C stack exhaustion, crashing the process. There is also the possibility for excessive CPU consumption denial of service on some inputs. Calling it on untrusted data is thus not recommended.*"
   ]
  },
  {
   "cell_type": "code",
   "execution_count": 21,
   "id": "6fe1597f",
   "metadata": {},
   "outputs": [],
   "source": [
    "# TODO: Unpack the ratings data of the first row using ast module"
   ]
  },
  {
   "cell_type": "markdown",
   "id": "6ec6ec94",
   "metadata": {},
   "source": [
    "## Create a new column that contains the total number of ratings"
   ]
  },
  {
   "cell_type": "markdown",
   "id": "57651817",
   "metadata": {},
   "source": [
    "Next, we need to unpack each individual rating field. This means that we have to apply `ast.literal_eval()` to every field. Luckily, this is easy to achieve with the `apply()` method."
   ]
  },
  {
   "cell_type": "code",
   "execution_count": 47,
   "id": "cebe735d",
   "metadata": {},
   "outputs": [],
   "source": [
    "# TODO: Write a function \"get_num_ratings()\" that receives a rating string.\n",
    "# The method should then (a) unpack the rating string using the ast module, (b) count the total number of ratings\n",
    "# and (c) return the total number of ratings"
   ]
  },
  {
   "cell_type": "code",
   "execution_count": 23,
   "id": "5c81a0b8",
   "metadata": {},
   "outputs": [],
   "source": [
    "# TODO: Use the apply() method to call the get_num_ratings() function for every row's rating column.\n",
    "# The result should be stored in a new column called \"num_ratings\""
   ]
  },
  {
   "cell_type": "code",
   "execution_count": null,
   "id": "9143ead8",
   "metadata": {},
   "outputs": [],
   "source": []
  }
 ],
 "metadata": {
  "kernelspec": {
   "display_name": "Python 3 (ipykernel)",
   "language": "python",
   "name": "python3"
  },
  "language_info": {
   "codemirror_mode": {
    "name": "ipython",
    "version": 3
   },
   "file_extension": ".py",
   "mimetype": "text/x-python",
   "name": "python",
   "nbconvert_exporter": "python",
   "pygments_lexer": "ipython3",
   "version": "3.11.5"
  }
 },
 "nbformat": 4,
 "nbformat_minor": 5
}
