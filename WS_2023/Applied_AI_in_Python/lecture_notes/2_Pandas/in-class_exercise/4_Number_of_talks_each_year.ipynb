{
 "cells": [
  {
   "cell_type": "markdown",
   "id": "b0cab7c4",
   "metadata": {},
   "source": [
    "# Introduction to Pandas\n",
    "\n",
    "In this tutorial, we will learn how to use Pandas by analyzing a real-world dataset.\n",
    "\n",
    "The dataset that we are going to analyze is the TED talk dataset which is available on Kaggle (https://www.kaggle.com/datasets/ahmadfatani/ted-talks-dataset). The dataset contains information about all video recordings of TED Talks uploaded to the official TED.com website until April 18th, 2020. It contains information about all talks including the number of views, tags, posted-date, speakers and titles.\n",
    "\n",
    "Note that you do not have to download the dataset from Kaggle since the data is already contained in the Github repository."
   ]
  },
  {
   "cell_type": "code",
   "execution_count": 1,
   "id": "652f6846",
   "metadata": {},
   "outputs": [],
   "source": [
    "import pandas as pd\n",
    "\n",
    "ted_df = pd.read_csv('../ted_talk_dataset/ted_main.csv')"
   ]
  },
  {
   "cell_type": "markdown",
   "id": "2210655b",
   "metadata": {},
   "source": [
    "## Plot the number of talks that took place each year\n",
    "\n",
    "**Important remark**: The column \"film_date\" provides informatipn when the TED talk took place (when it was filmed). <br/>\n",
    "The value used to represent the data is a **unix epoch timestamp**."
   ]
  },
  {
   "cell_type": "markdown",
   "id": "29e79857",
   "metadata": {},
   "source": [
    "### Converting the \"film_date column into a more usable format"
   ]
  },
  {
   "cell_type": "code",
   "execution_count": 2,
   "id": "172590fd",
   "metadata": {},
   "outputs": [],
   "source": [
    "# TODO: Print some randomly chosen values from the film_date column."
   ]
  },
  {
   "cell_type": "markdown",
   "id": "20557372",
   "metadata": {},
   "source": [
    "According to the dataset's documentation, this timestamp a unix epoch timestamp. This means that the value represents the number of seconds that have elapsed since January 1st, 1970 UTC.\n",
    "\n",
    "Since we are only interested in the year of filming, the unix timestamp is difficult to work with. So let's see whether we can convert this timestamp into a format that is more useful."
   ]
  },
  {
   "cell_type": "code",
   "execution_count": 3,
   "id": "e54720b0",
   "metadata": {},
   "outputs": [],
   "source": [
    "# TODO: Figure out what datatypes are supported in pandas. Is there any data type for date-time formats?\n",
    "# Convert the film_date type column to a datatype that is more suitable"
   ]
  },
  {
   "cell_type": "markdown",
   "id": "bfd48dfc",
   "metadata": {},
   "source": [
    "### Count the number of values in each year"
   ]
  },
  {
   "cell_type": "markdown",
   "id": "cf9fc8ba",
   "metadata": {},
   "source": [
    "We are interested in the number of talks that took place each year. Consequently, this requires us to obtain the \"year\" from `film_date`. So, let's see what functions are available to \"read\" the year from `datetime64[ns]`.\n",
    "\n",
    "As can be seen in the documentation, Pandas' Series provides a large variety of methods to process dates. For example, the year of a datetime object can be accessed via the `.dt.year` attribute."
   ]
  },
  {
   "cell_type": "code",
   "execution_count": 4,
   "id": "9da2382e",
   "metadata": {},
   "outputs": [],
   "source": [
    "# TODO: Print the number of TED events per year\n",
    "# Hint: value_counts() method"
   ]
  },
  {
   "cell_type": "markdown",
   "id": "ee859c1e",
   "metadata": {},
   "source": [
    "### Prepare the plot"
   ]
  },
  {
   "cell_type": "markdown",
   "id": "a9defc00",
   "metadata": {},
   "source": [
    "Note that the labels appear in random order. In order to properly visualize the sequence, we need to sort the labels in ascending order."
   ]
  },
  {
   "cell_type": "code",
   "execution_count": 5,
   "id": "f0b9409e",
   "metadata": {},
   "outputs": [],
   "source": [
    "# TODO: Sort the years in ascending order.\n",
    "# Hint: sort_index()"
   ]
  },
  {
   "cell_type": "code",
   "execution_count": 6,
   "id": "344da341",
   "metadata": {},
   "outputs": [],
   "source": [
    "# TODO: Create a line plot that shows the number of talks each year"
   ]
  }
 ],
 "metadata": {
  "kernelspec": {
   "display_name": "Python 3 (ipykernel)",
   "language": "python",
   "name": "python3"
  },
  "language_info": {
   "codemirror_mode": {
    "name": "ipython",
    "version": 3
   },
   "file_extension": ".py",
   "mimetype": "text/x-python",
   "name": "python",
   "nbconvert_exporter": "python",
   "pygments_lexer": "ipython3",
   "version": "3.11.5"
  }
 },
 "nbformat": 4,
 "nbformat_minor": 5
}
