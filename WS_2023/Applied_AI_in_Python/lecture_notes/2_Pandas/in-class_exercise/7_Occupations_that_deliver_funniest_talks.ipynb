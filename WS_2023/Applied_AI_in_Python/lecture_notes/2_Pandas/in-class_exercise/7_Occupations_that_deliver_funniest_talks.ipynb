{
 "cells": [
  {
   "cell_type": "markdown",
   "id": "b0cab7c4",
   "metadata": {},
   "source": [
    "# Introduction to Pandas\n",
    "\n",
    "In this tutorial, we will learn how to use Pandas by analyzing a real-world dataset.\n",
    "\n",
    "The dataset that we are going to analyze is the TED talk dataset which is available on Kaggle (https://www.kaggle.com/datasets/ahmadfatani/ted-talks-dataset). The dataset contains information about all video recordings of TED Talks uploaded to the official TED.com website until April 18th, 2020. It contains information about all talks including the number of views, tags, posted-date, speakers and titles.\n",
    "\n",
    "Note that you do not have to download the dataset from Kaggle since the data is already contained in the Github repository."
   ]
  },
  {
   "cell_type": "code",
   "execution_count": null,
   "id": "652f6846",
   "metadata": {},
   "outputs": [],
   "source": [
    "import pandas as pd\n",
    "\n",
    "ted_df = pd.read_csv('../ted_talk_dataset/ted_main.csv')"
   ]
  },
  {
   "cell_type": "markdown",
   "id": "25ac3cdd",
   "metadata": {},
   "source": [
    "## Which occupations deliver the funniest TED talks on average?"
   ]
  },
  {
   "cell_type": "code",
   "execution_count": null,
   "id": "f804347d",
   "metadata": {},
   "outputs": [],
   "source": [
    "ted_df.columns"
   ]
  },
  {
   "cell_type": "code",
   "execution_count": null,
   "id": "266e776b",
   "metadata": {},
   "outputs": [],
   "source": [
    "ted_df.speaker_occupation.describe()"
   ]
  },
  {
   "cell_type": "code",
   "execution_count": null,
   "id": "c4ec5149",
   "metadata": {},
   "outputs": [],
   "source": [
    "ted_df.speaker_occupation.sample(10)"
   ]
  },
  {
   "cell_type": "markdown",
   "id": "56314f87",
   "metadata": {},
   "source": [
    "#### Step 1: Count the number of funny ratings"
   ]
  },
  {
   "cell_type": "code",
   "execution_count": null,
   "id": "0c04a298",
   "metadata": {},
   "outputs": [],
   "source": [
    "# TODO: Determine how \"Funny\" ratings are stored in the ratings column"
   ]
  },
  {
   "cell_type": "code",
   "execution_count": null,
   "id": "cebe735d",
   "metadata": {},
   "outputs": [],
   "source": [
    "import ast\n",
    "\n",
    "def get_num_ratings(rating_str):\n",
    "    \n",
    "    # TODO: Use ast to unpack the rating data.\n",
    "    # Return the total number of ratings\n",
    "\n",
    "def get_funny_ratings(rating_str):\n",
    "    \n",
    "    # TODO: Use ast to unpack the rating data.\n",
    "    # Return the total number of \"Funny\" ratings"
   ]
  },
  {
   "cell_type": "code",
   "execution_count": null,
   "id": "73e551f0",
   "metadata": {},
   "outputs": [],
   "source": [
    "# TODO: Use apply to extract the total number of ratings \n",
    "# and the total number of funny ratings.\n",
    "# Results should be stored in new columns called \"num_ratings\" and \"num_funny_ratings\""
   ]
  },
  {
   "cell_type": "code",
   "execution_count": null,
   "id": "5c81a0b8",
   "metadata": {},
   "outputs": [],
   "source": [
    "# TODO: Calculate the \"funny_rate\" (percentage of ratings that were funny)"
   ]
  },
  {
   "cell_type": "markdown",
   "id": "0616c802",
   "metadata": {},
   "source": [
    "### Step 2: Analyze the funny rate by occupation"
   ]
  },
  {
   "cell_type": "markdown",
   "id": "b14fcc37",
   "metadata": {},
   "source": [
    "Next, we want to check whether our two new columns \"make sense\". In other words, we want to double check whether there is any problem with our implementation.\n",
    "\n",
    "Therefore, we first group by \"speaker_occupation\" and then compute the average rating for each group. <br/>\n",
    "Once we have done that, we can sort the output and check which occupations are among the top ratings."
   ]
  },
  {
   "cell_type": "code",
   "execution_count": null,
   "id": "e47c7582",
   "metadata": {},
   "outputs": [],
   "source": [
    "# TODO: Get the average funny rate / ratings per speaker_occcupation\n",
    "# Which occupations have the highest funny rate / funny ratings?"
   ]
  },
  {
   "cell_type": "code",
   "execution_count": null,
   "id": "3e113952",
   "metadata": {},
   "outputs": [],
   "source": [
    "# TODO: Analyze and discuss whether our metric is reliable"
   ]
  },
  {
   "cell_type": "markdown",
   "id": "57093125",
   "metadata": {},
   "source": [
    "### 3. Step: Filter out occupations that have a low count"
   ]
  },
  {
   "cell_type": "code",
   "execution_count": null,
   "id": "e2641c79",
   "metadata": {},
   "outputs": [],
   "source": [
    "# TODO: Filter and remove occupations which hardly occur. Only keep occupations that occurs at least 5 times."
   ]
  }
 ],
 "metadata": {
  "kernelspec": {
   "display_name": "Python 3 (ipykernel)",
   "language": "python",
   "name": "python3"
  },
  "language_info": {
   "codemirror_mode": {
    "name": "ipython",
    "version": 3
   },
   "file_extension": ".py",
   "mimetype": "text/x-python",
   "name": "python",
   "nbconvert_exporter": "python",
   "pygments_lexer": "ipython3",
   "version": "3.11.5"
  }
 },
 "nbformat": 4,
 "nbformat_minor": 5
}
