{
 "cells": [
  {
   "cell_type": "markdown",
   "id": "b0cab7c4",
   "metadata": {},
   "source": [
    "# Introduction to Pandas\n",
    "\n",
    "In this tutorial, we will learn how to use Pandas by analyzing a real-world dataset.\n",
    "\n",
    "The dataset that we are going to analyze is the TED talk dataset which is available on Kaggle (https://www.kaggle.com/datasets/ahmadfatani/ted-talks-dataset). The dataset contains information about all video recordings of TED Talks uploaded to the official TED.com website until April 18th, 2020. It contains information about all talks including the number of views, tags, posted-date, speakers and titles.\n",
    "\n",
    "Note that you do not have to download the dataset from Kaggle since the data is already contained in the Github repository."
   ]
  },
  {
   "cell_type": "markdown",
   "id": "4c53445f",
   "metadata": {},
   "source": [
    "## Data Exploration\n",
    "\n",
    "As a first step, we want to get a basic understanding of the data contained in the dataset. In particular, we want to know things such as:\n",
    "\n",
    "- What data (e.g., columns) is available?\n",
    "- How large is our dataset (how many rows are there)?\n",
    "- What datatype does each column have?\n",
    "- Get some statistics on our data"
   ]
  },
  {
   "cell_type": "markdown",
   "id": "c999dd2b",
   "metadata": {},
   "source": [
    "### Loading the CSV file"
   ]
  },
  {
   "cell_type": "markdown",
   "id": "b0e64c2d",
   "metadata": {},
   "source": [
    "The first step is to load the data provided in the csv file. The file that we want to load is `ted_main.csv`."
   ]
  },
  {
   "cell_type": "code",
   "execution_count": 1,
   "id": "3a353db5",
   "metadata": {},
   "outputs": [],
   "source": [
    "# TODO: Load the CSV file using in a pandas dataframe"
   ]
  },
  {
   "cell_type": "markdown",
   "id": "8736134f",
   "metadata": {},
   "source": [
    "### Printing the first few rows"
   ]
  },
  {
   "cell_type": "code",
   "execution_count": 2,
   "id": "461450f9",
   "metadata": {},
   "outputs": [],
   "source": [
    "# TODO: Print the FIRST rows of the dataframe nicely formatted"
   ]
  },
  {
   "cell_type": "code",
   "execution_count": 3,
   "id": "e44a2573",
   "metadata": {},
   "outputs": [],
   "source": [
    "# TODO: How due we adjust the number of rows?"
   ]
  },
  {
   "cell_type": "code",
   "execution_count": 5,
   "id": "9aa1a014",
   "metadata": {},
   "outputs": [],
   "source": [
    "# TODO: Print the LAST three rows of the dataframe"
   ]
  },
  {
   "cell_type": "markdown",
   "id": "c8a07c1f",
   "metadata": {},
   "source": [
    "### Obtaining the shape of a dataframe"
   ]
  },
  {
   "cell_type": "code",
   "execution_count": 6,
   "id": "e79f9c1b",
   "metadata": {},
   "outputs": [],
   "source": [
    "# TODO: Get the number of rows and columns in the dataframe"
   ]
  },
  {
   "cell_type": "markdown",
   "id": "0a1ccdf1",
   "metadata": {},
   "source": [
    "### Inspecting each column's data type"
   ]
  },
  {
   "cell_type": "code",
   "execution_count": 7,
   "id": "0f6a05c9",
   "metadata": {},
   "outputs": [],
   "source": [
    "# TODO: Print the datatype of each column"
   ]
  },
  {
   "cell_type": "code",
   "execution_count": null,
   "id": "15c8dbbc",
   "metadata": {},
   "outputs": [],
   "source": [
    "# TODO: Use the info() method to get a summary of the dataframe."
   ]
  },
  {
   "cell_type": "markdown",
   "id": "74ffc818",
   "metadata": {},
   "source": [
    "### Filtering empty rows in a dataframe"
   ]
  },
  {
   "cell_type": "code",
   "execution_count": 8,
   "id": "a1551523",
   "metadata": {},
   "outputs": [],
   "source": [
    "# TODO: Check which columns contain num values"
   ]
  },
  {
   "cell_type": "code",
   "execution_count": 9,
   "id": "b6948826",
   "metadata": {},
   "outputs": [],
   "source": [
    "# TODO: Remove all nan-values from the dataframe"
   ]
  },
  {
   "cell_type": "markdown",
   "id": "02cc857b",
   "metadata": {},
   "source": [
    "### Obtaining some overall descriptive statistics"
   ]
  },
  {
   "cell_type": "code",
   "execution_count": 10,
   "id": "f9661325",
   "metadata": {},
   "outputs": [],
   "source": [
    "# TODO: Collect descriptive statistics from the dataframe using describe()"
   ]
  },
  {
   "cell_type": "markdown",
   "id": "a3b747fb",
   "metadata": {},
   "source": [
    "### Obtaining information about the remaining columns"
   ]
  },
  {
   "cell_type": "code",
   "execution_count": 11,
   "id": "cf99c0b5",
   "metadata": {},
   "outputs": [],
   "source": [
    "# TODO: Obtain further information about the missing columns in the dataframe"
   ]
  }
 ],
 "metadata": {
  "kernelspec": {
   "display_name": "Python 3 (ipykernel)",
   "language": "python",
   "name": "python3"
  },
  "language_info": {
   "codemirror_mode": {
    "name": "ipython",
    "version": 3
   },
   "file_extension": ".py",
   "mimetype": "text/x-python",
   "name": "python",
   "nbconvert_exporter": "python",
   "pygments_lexer": "ipython3",
   "version": "3.11.5"
  }
 },
 "nbformat": 4,
 "nbformat_minor": 5
}
