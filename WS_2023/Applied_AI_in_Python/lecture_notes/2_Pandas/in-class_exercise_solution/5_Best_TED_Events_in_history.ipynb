{
 "cells": [
  {
   "cell_type": "markdown",
   "id": "b0cab7c4",
   "metadata": {},
   "source": [
    "# Introduction to Pandas\n",
    "\n",
    "In this tutorial, we will learn how to use Pandas by analyzing a real-world dataset.\n",
    "\n",
    "The dataset that we are going to analyze is the TED talk dataset which is available on Kaggle (https://www.kaggle.com/datasets/ahmadfatani/ted-talks-dataset). The dataset contains information about all video recordings of TED Talks uploaded to the official TED.com website until April 18th, 2020. It contains information about all talks including the number of views, tags, posted-date, speakers and titles.\n",
    "\n",
    "Note that you do not have to download the dataset from Kaggle since the data is already contained in the Github repository."
   ]
  },
  {
   "cell_type": "code",
   "execution_count": 1,
   "id": "652f6846",
   "metadata": {},
   "outputs": [],
   "source": [
    "import pandas as pd\n",
    "\n",
    "ted_df = pd.read_csv('../ted_talk_dataset/ted_main.csv')"
   ]
  },
  {
   "cell_type": "markdown",
   "id": "2210655b",
   "metadata": {},
   "source": [
    "## What where the \"best\" TED events to attend?\n",
    "\n",
    "**Caution:** We are interested in the *event* and NOT in individual *talks*."
   ]
  },
  {
   "cell_type": "markdown",
   "id": "6d044649",
   "metadata": {},
   "source": [
    "We first have to define what we consider \"best\". There is a large variety of options, for example ...\n",
    "\n",
    "- The event that had the most talks (Idea: If there are a lot of talks, it is worth going there)\n",
    "- Look at the ratings data to see whether we can judge individual talks based on the ratings and aggregate individual ratings to rate the event.\n",
    "- Simply sum up the number of views for all talks at each event. However, this could mean that there is one \"good\" talk and many \"bad\" ones + the number is influenced by the number of talks.\n",
    "- Simply take the average (or median?) of the number of views of all talks at each event.\n",
    "- If we are judging based on views, it might be good to normalize the data as the number of views might increase over time (this is something that should be verified)"
   ]
  },
  {
   "cell_type": "markdown",
   "id": "6370ea5d",
   "metadata": {},
   "source": [
    "### Which event had the most talks?"
   ]
  },
  {
   "cell_type": "code",
   "execution_count": 2,
   "id": "79130dcb",
   "metadata": {},
   "outputs": [
    {
     "data": {
      "text/plain": [
       "event\n",
       "TEDxZurich       1\n",
       "TEDxSFU          1\n",
       "TEDxPortland     1\n",
       "TEDxHamburg      1\n",
       "TEDxCrenshaw     1\n",
       "                ..\n",
       "TED2015         75\n",
       "TED2013         77\n",
       "TED2016         77\n",
       "TED2009         83\n",
       "TED2014         84\n",
       "Name: count, Length: 355, dtype: int64"
      ]
     },
     "execution_count": 2,
     "metadata": {},
     "output_type": "execute_result"
    }
   ],
   "source": [
    "ted_df.event.value_counts().sort_values()"
   ]
  },
  {
   "cell_type": "markdown",
   "id": "c49e8251",
   "metadata": {},
   "source": [
    "TED2014 had the most talks. So if we consider the best TED event to be the one with the most talks, it's the event \"TED2014\".\n",
    "\n",
    "Furthermore, note that there are many events that have a low number of talks (e.g., only one talk)."
   ]
  },
  {
   "cell_type": "markdown",
   "id": "0b03f538",
   "metadata": {},
   "source": [
    "### Which event had the most views in total?"
   ]
  },
  {
   "cell_type": "code",
   "execution_count": 3,
   "id": "f4d3ceef",
   "metadata": {},
   "outputs": [
    {
     "data": {
      "text/plain": [
       "event\n",
       "TED2011           137750504\n",
       "TED2016           139571905\n",
       "TED2012           144497608\n",
       "TEDGlobal 2012    145070549\n",
       "TED2009           145656385\n",
       "TED2006           147345533\n",
       "TED2015           150826305\n",
       "TEDGlobal 2013    170554736\n",
       "TED2014           174121423\n",
       "TED2013           177307937\n",
       "Name: views, dtype: int64"
      ]
     },
     "execution_count": 3,
     "metadata": {},
     "output_type": "execute_result"
    }
   ],
   "source": [
    "ted_df.groupby('event').views.sum().sort_values().tail(10)"
   ]
  },
  {
   "cell_type": "markdown",
   "id": "6ff8d25f",
   "metadata": {},
   "source": [
    "If we compare this dataframe to the previous one, we can see the events with the most total views appear among the talks that have the most talks (*). There seems to be a correlation between those \"variables\". Note that Pandas allows to quantify the correlation between different columns with the `corr()` function.\n",
    "\n",
    "(*) This seems plausible since the more talks an event has, the easier it is to collect many views."
   ]
  },
  {
   "cell_type": "code",
   "execution_count": 4,
   "id": "f57b986a",
   "metadata": {},
   "outputs": [
    {
     "name": "stdout",
     "output_type": "stream",
     "text": [
      "            most_talks  most_views\n",
      "most_talks    1.000000    0.961884\n",
      "most_views    0.961884    1.000000\n"
     ]
    }
   ],
   "source": [
    "most_talks_series = ted_df.event.value_counts().sort_values()\n",
    "most_views_series = ted_df.groupby('event').views.sum().sort_values()\n",
    "\n",
    "# We can now combine the two series based on the index\n",
    "best_df = pd.DataFrame({\n",
    "    'most_talks': most_talks_series,\n",
    "    'most_views': most_views_series\n",
    "})\n",
    "\n",
    "\n",
    "# Computes the pairwise correlation of columns\n",
    "print(best_df.corr())"
   ]
  },
  {
   "cell_type": "markdown",
   "id": "628233c2",
   "metadata": {},
   "source": [
    "Well, obviously, both rows are extremely well correlated ..."
   ]
  },
  {
   "cell_type": "code",
   "execution_count": 5,
   "id": "c026a034",
   "metadata": {},
   "outputs": [
    {
     "data": {
      "text/html": [
       "<div>\n",
       "<style scoped>\n",
       "    .dataframe tbody tr th:only-of-type {\n",
       "        vertical-align: middle;\n",
       "    }\n",
       "\n",
       "    .dataframe tbody tr th {\n",
       "        vertical-align: top;\n",
       "    }\n",
       "\n",
       "    .dataframe thead th {\n",
       "        text-align: right;\n",
       "    }\n",
       "</style>\n",
       "<table border=\"1\" class=\"dataframe\">\n",
       "  <thead>\n",
       "    <tr style=\"text-align: right;\">\n",
       "      <th></th>\n",
       "      <th>most_talks</th>\n",
       "      <th>most_views</th>\n",
       "    </tr>\n",
       "    <tr>\n",
       "      <th>event</th>\n",
       "      <th></th>\n",
       "      <th></th>\n",
       "    </tr>\n",
       "  </thead>\n",
       "  <tbody>\n",
       "    <tr>\n",
       "      <th>TED2015</th>\n",
       "      <td>75</td>\n",
       "      <td>150826305</td>\n",
       "    </tr>\n",
       "    <tr>\n",
       "      <th>TED2016</th>\n",
       "      <td>77</td>\n",
       "      <td>139571905</td>\n",
       "    </tr>\n",
       "    <tr>\n",
       "      <th>TED2013</th>\n",
       "      <td>77</td>\n",
       "      <td>177307937</td>\n",
       "    </tr>\n",
       "    <tr>\n",
       "      <th>TED2009</th>\n",
       "      <td>83</td>\n",
       "      <td>145656385</td>\n",
       "    </tr>\n",
       "    <tr>\n",
       "      <th>TED2014</th>\n",
       "      <td>84</td>\n",
       "      <td>174121423</td>\n",
       "    </tr>\n",
       "  </tbody>\n",
       "</table>\n",
       "</div>"
      ],
      "text/plain": [
       "         most_talks  most_views\n",
       "event                          \n",
       "TED2015          75   150826305\n",
       "TED2016          77   139571905\n",
       "TED2013          77   177307937\n",
       "TED2009          83   145656385\n",
       "TED2014          84   174121423"
      ]
     },
     "execution_count": 5,
     "metadata": {},
     "output_type": "execute_result"
    }
   ],
   "source": [
    "best_df.sort_values('most_talks').tail(5)"
   ]
  },
  {
   "cell_type": "markdown",
   "id": "0eafac7f",
   "metadata": {},
   "source": [
    "### Which event had the most views on average?"
   ]
  },
  {
   "cell_type": "code",
   "execution_count": 6,
   "id": "d6a415d7",
   "metadata": {},
   "outputs": [
    {
     "data": {
      "text/plain": [
       "event\n",
       "TEDxNorrkoping        6569493.0\n",
       "TEDxCreativeCoast     8444981.0\n",
       "TEDxBloomington       9484259.5\n",
       "TEDxHouston          16140250.5\n",
       "TEDxPuget Sound      34309432.0\n",
       "Name: views, dtype: float64"
      ]
     },
     "execution_count": 6,
     "metadata": {},
     "output_type": "execute_result"
    }
   ],
   "source": [
    "ted_df.groupby('event').views.mean().sort_values().tail(5)"
   ]
  },
  {
   "cell_type": "markdown",
   "id": "25c3950b",
   "metadata": {},
   "source": [
    "Ok, that's interesting. If we consider the mean instead of the sum, a totally different set of events turns out best. But wait ... Haven't we mentioned that there are some events that have only one talk? Maybe that has some effect on the result."
   ]
  },
  {
   "cell_type": "markdown",
   "id": "6dd8982d",
   "metadata": {},
   "source": [
    "Let's print the different statistics all together. This can be easily done with the `agg()` method."
   ]
  },
  {
   "cell_type": "code",
   "execution_count": 7,
   "id": "005b8bed",
   "metadata": {},
   "outputs": [
    {
     "data": {
      "text/html": [
       "<div>\n",
       "<style scoped>\n",
       "    .dataframe tbody tr th:only-of-type {\n",
       "        vertical-align: middle;\n",
       "    }\n",
       "\n",
       "    .dataframe tbody tr th {\n",
       "        vertical-align: top;\n",
       "    }\n",
       "\n",
       "    .dataframe thead th {\n",
       "        text-align: right;\n",
       "    }\n",
       "</style>\n",
       "<table border=\"1\" class=\"dataframe\">\n",
       "  <thead>\n",
       "    <tr style=\"text-align: right;\">\n",
       "      <th></th>\n",
       "      <th>mean</th>\n",
       "      <th>count</th>\n",
       "      <th>sum</th>\n",
       "    </tr>\n",
       "    <tr>\n",
       "      <th>event</th>\n",
       "      <th></th>\n",
       "      <th></th>\n",
       "      <th></th>\n",
       "    </tr>\n",
       "  </thead>\n",
       "  <tbody>\n",
       "    <tr>\n",
       "      <th>TEDxNorrkoping</th>\n",
       "      <td>6569493.0</td>\n",
       "      <td>1</td>\n",
       "      <td>6569493</td>\n",
       "    </tr>\n",
       "    <tr>\n",
       "      <th>TEDxCreativeCoast</th>\n",
       "      <td>8444981.0</td>\n",
       "      <td>1</td>\n",
       "      <td>8444981</td>\n",
       "    </tr>\n",
       "    <tr>\n",
       "      <th>TEDxBloomington</th>\n",
       "      <td>9484259.5</td>\n",
       "      <td>2</td>\n",
       "      <td>18968519</td>\n",
       "    </tr>\n",
       "    <tr>\n",
       "      <th>TEDxHouston</th>\n",
       "      <td>16140250.5</td>\n",
       "      <td>2</td>\n",
       "      <td>32280501</td>\n",
       "    </tr>\n",
       "    <tr>\n",
       "      <th>TEDxPuget Sound</th>\n",
       "      <td>34309432.0</td>\n",
       "      <td>1</td>\n",
       "      <td>34309432</td>\n",
       "    </tr>\n",
       "  </tbody>\n",
       "</table>\n",
       "</div>"
      ],
      "text/plain": [
       "                         mean  count       sum\n",
       "event                                         \n",
       "TEDxNorrkoping      6569493.0      1   6569493\n",
       "TEDxCreativeCoast   8444981.0      1   8444981\n",
       "TEDxBloomington     9484259.5      2  18968519\n",
       "TEDxHouston        16140250.5      2  32280501\n",
       "TEDxPuget Sound    34309432.0      1  34309432"
      ]
     },
     "execution_count": 7,
     "metadata": {},
     "output_type": "execute_result"
    }
   ],
   "source": [
    "ted_df.groupby('event').views.agg(['mean', 'count', 'sum']).sort_values('mean').tail(5)"
   ]
  },
  {
   "cell_type": "markdown",
   "id": "fee51f3d",
   "metadata": {},
   "source": [
    "Indeed, the events with high mean values only have just 1 or 2 events. So, this is definitely something we should have in mind when we choose our final criterion for the best number of views."
   ]
  },
  {
   "cell_type": "code",
   "execution_count": 8,
   "id": "b9b3ea91",
   "metadata": {},
   "outputs": [
    {
     "data": {
      "text/html": [
       "<div>\n",
       "<style scoped>\n",
       "    .dataframe tbody tr th:only-of-type {\n",
       "        vertical-align: middle;\n",
       "    }\n",
       "\n",
       "    .dataframe tbody tr th {\n",
       "        vertical-align: top;\n",
       "    }\n",
       "\n",
       "    .dataframe thead th {\n",
       "        text-align: right;\n",
       "    }\n",
       "</style>\n",
       "<table border=\"1\" class=\"dataframe\">\n",
       "  <thead>\n",
       "    <tr style=\"text-align: right;\">\n",
       "      <th></th>\n",
       "      <th>mean</th>\n",
       "      <th>count</th>\n",
       "      <th>sum</th>\n",
       "    </tr>\n",
       "    <tr>\n",
       "      <th>event</th>\n",
       "      <th></th>\n",
       "      <th></th>\n",
       "      <th></th>\n",
       "    </tr>\n",
       "  </thead>\n",
       "  <tbody>\n",
       "    <tr>\n",
       "      <th>TED2006</th>\n",
       "      <td>3.274345e+06</td>\n",
       "      <td>45</td>\n",
       "      <td>147345533</td>\n",
       "    </tr>\n",
       "    <tr>\n",
       "      <th>TED2015</th>\n",
       "      <td>2.011017e+06</td>\n",
       "      <td>75</td>\n",
       "      <td>150826305</td>\n",
       "    </tr>\n",
       "    <tr>\n",
       "      <th>TEDGlobal 2013</th>\n",
       "      <td>2.584163e+06</td>\n",
       "      <td>66</td>\n",
       "      <td>170554736</td>\n",
       "    </tr>\n",
       "    <tr>\n",
       "      <th>TED2014</th>\n",
       "      <td>2.072874e+06</td>\n",
       "      <td>84</td>\n",
       "      <td>174121423</td>\n",
       "    </tr>\n",
       "    <tr>\n",
       "      <th>TED2013</th>\n",
       "      <td>2.302700e+06</td>\n",
       "      <td>77</td>\n",
       "      <td>177307937</td>\n",
       "    </tr>\n",
       "  </tbody>\n",
       "</table>\n",
       "</div>"
      ],
      "text/plain": [
       "                        mean  count        sum\n",
       "event                                         \n",
       "TED2006         3.274345e+06     45  147345533\n",
       "TED2015         2.011017e+06     75  150826305\n",
       "TEDGlobal 2013  2.584163e+06     66  170554736\n",
       "TED2014         2.072874e+06     84  174121423\n",
       "TED2013         2.302700e+06     77  177307937"
      ]
     },
     "execution_count": 8,
     "metadata": {},
     "output_type": "execute_result"
    }
   ],
   "source": [
    "ted_df.groupby('event').views.agg(['mean', 'count', 'sum']).sort_values('sum').tail(5)"
   ]
  },
  {
   "cell_type": "markdown",
   "id": "9f944bc1",
   "metadata": {},
   "source": [
    "### Remark"
   ]
  },
  {
   "cell_type": "markdown",
   "id": "158932f9",
   "metadata": {},
   "source": [
    "Note that `agg()` can also take custom functions!"
   ]
  },
  {
   "cell_type": "code",
   "execution_count": 9,
   "id": "bb61fae4",
   "metadata": {},
   "outputs": [
    {
     "data": {
      "text/html": [
       "<div>\n",
       "<style scoped>\n",
       "    .dataframe tbody tr th:only-of-type {\n",
       "        vertical-align: middle;\n",
       "    }\n",
       "\n",
       "    .dataframe tbody tr th {\n",
       "        vertical-align: top;\n",
       "    }\n",
       "\n",
       "    .dataframe thead th {\n",
       "        text-align: right;\n",
       "    }\n",
       "</style>\n",
       "<table border=\"1\" class=\"dataframe\">\n",
       "  <thead>\n",
       "    <tr style=\"text-align: right;\">\n",
       "      <th></th>\n",
       "      <th>custom_agg_func</th>\n",
       "    </tr>\n",
       "    <tr>\n",
       "      <th>event</th>\n",
       "      <th></th>\n",
       "    </tr>\n",
       "  </thead>\n",
       "  <tbody>\n",
       "    <tr>\n",
       "      <th>AORN Congress</th>\n",
       "      <td>1</td>\n",
       "    </tr>\n",
       "    <tr>\n",
       "      <th>Arbejdsglaede Live</th>\n",
       "      <td>1</td>\n",
       "    </tr>\n",
       "    <tr>\n",
       "      <th>BBC TV</th>\n",
       "      <td>1</td>\n",
       "    </tr>\n",
       "    <tr>\n",
       "      <th>Bowery Poetry Club</th>\n",
       "      <td>1</td>\n",
       "    </tr>\n",
       "    <tr>\n",
       "      <th>Business Innovation Factory</th>\n",
       "      <td>1</td>\n",
       "    </tr>\n",
       "    <tr>\n",
       "      <th>...</th>\n",
       "      <td>...</td>\n",
       "    </tr>\n",
       "    <tr>\n",
       "      <th>The Do Lectures</th>\n",
       "      <td>1</td>\n",
       "    </tr>\n",
       "    <tr>\n",
       "      <th>Toronto Youth Corps</th>\n",
       "      <td>1</td>\n",
       "    </tr>\n",
       "    <tr>\n",
       "      <th>University of California</th>\n",
       "      <td>1</td>\n",
       "    </tr>\n",
       "    <tr>\n",
       "      <th>Web 2.0 Expo 2008</th>\n",
       "      <td>1</td>\n",
       "    </tr>\n",
       "    <tr>\n",
       "      <th>World Science Festival</th>\n",
       "      <td>1</td>\n",
       "    </tr>\n",
       "  </tbody>\n",
       "</table>\n",
       "<p>355 rows × 1 columns</p>\n",
       "</div>"
      ],
      "text/plain": [
       "                             custom_agg_func\n",
       "event                                       \n",
       "AORN Congress                              1\n",
       "Arbejdsglaede Live                         1\n",
       "BBC TV                                     1\n",
       "Bowery Poetry Club                         1\n",
       "Business Innovation Factory                1\n",
       "...                                      ...\n",
       "The Do Lectures                            1\n",
       "Toronto Youth Corps                        1\n",
       "University of California                   1\n",
       "Web 2.0 Expo 2008                          1\n",
       "World Science Festival                     1\n",
       "\n",
       "[355 rows x 1 columns]"
      ]
     },
     "execution_count": 9,
     "metadata": {},
     "output_type": "execute_result"
    }
   ],
   "source": [
    "def custom_agg_func(series):\n",
    "    # Returns always 1\n",
    "    return 1\n",
    "\n",
    "ted_df.groupby('event').views.agg([custom_agg_func])"
   ]
  },
  {
   "cell_type": "code",
   "execution_count": 10,
   "id": "3f2de977",
   "metadata": {},
   "outputs": [
    {
     "data": {
      "text/plain": [
       "event\n",
       "AORN Congress                  1\n",
       "Arbejdsglaede Live             1\n",
       "BBC TV                         1\n",
       "Bowery Poetry Club             1\n",
       "Business Innovation Factory    1\n",
       "                              ..\n",
       "The Do Lectures                1\n",
       "Toronto Youth Corps            1\n",
       "University of California       1\n",
       "Web 2.0 Expo 2008              1\n",
       "World Science Festival         1\n",
       "Name: views, Length: 355, dtype: int64"
      ]
     },
     "execution_count": 10,
     "metadata": {},
     "output_type": "execute_result"
    }
   ],
   "source": [
    "ted_df.groupby('event').views.apply(custom_agg_func)"
   ]
  },
  {
   "cell_type": "code",
   "execution_count": null,
   "id": "61a518ec",
   "metadata": {},
   "outputs": [],
   "source": []
  }
 ],
 "metadata": {
  "kernelspec": {
   "display_name": "Python 3 (ipykernel)",
   "language": "python",
   "name": "python3"
  },
  "language_info": {
   "codemirror_mode": {
    "name": "ipython",
    "version": 3
   },
   "file_extension": ".py",
   "mimetype": "text/x-python",
   "name": "python",
   "nbconvert_exporter": "python",
   "pygments_lexer": "ipython3",
   "version": "3.11.5"
  }
 },
 "nbformat": 4,
 "nbformat_minor": 5
}
