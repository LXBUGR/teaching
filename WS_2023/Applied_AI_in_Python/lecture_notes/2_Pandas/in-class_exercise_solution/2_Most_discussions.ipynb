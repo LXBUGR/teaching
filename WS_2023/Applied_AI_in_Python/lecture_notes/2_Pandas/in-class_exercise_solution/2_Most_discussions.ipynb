{
 "cells": [
  {
   "cell_type": "markdown",
   "id": "b0cab7c4",
   "metadata": {},
   "source": [
    "# Introduction to Pandas\n",
    "\n",
    "In this tutorial, we will learn how to use Pandas by analyzing a real-world dataset.\n",
    "\n",
    "The dataset that we are going to analyze is the TED talk dataset which is available on Kaggle (https://www.kaggle.com/datasets/ahmadfatani/ted-talks-dataset). The dataset contains information about all video recordings of TED Talks uploaded to the official TED.com website until April 18th, 2020. It contains information about all talks including the number of views, tags, posted-date, speakers and titles.\n",
    "\n",
    "Note that you do not have to download the dataset from Kaggle since the data is already contained in the Github repository."
   ]
  },
  {
   "cell_type": "code",
   "execution_count": 1,
   "id": "652f6846",
   "metadata": {},
   "outputs": [],
   "source": [
    "import pandas as pd\n",
    "\n",
    "ted_df = pd.read_csv('../ted_talk_dataset/ted_main.csv')"
   ]
  },
  {
   "cell_type": "markdown",
   "id": "ee929f2e",
   "metadata": {},
   "source": [
    "## Which talk provoked the most online discussion?"
   ]
  },
  {
   "cell_type": "markdown",
   "id": "7aff2155",
   "metadata": {},
   "source": [
    "Next, we want to know which talk has provoked the most online discussion so far. One way to figure this out would be to look at the number of comments every talk has. The one that has the most comments is the one we are interested in. Hence, we simply sort the dataframe by the number of comments and pick the one that occurs at the top."
   ]
  },
  {
   "cell_type": "code",
   "execution_count": 2,
   "id": "9716d312",
   "metadata": {},
   "outputs": [
    {
     "data": {
      "text/html": [
       "<div>\n",
       "<style scoped>\n",
       "    .dataframe tbody tr th:only-of-type {\n",
       "        vertical-align: middle;\n",
       "    }\n",
       "\n",
       "    .dataframe tbody tr th {\n",
       "        vertical-align: top;\n",
       "    }\n",
       "\n",
       "    .dataframe thead th {\n",
       "        text-align: right;\n",
       "    }\n",
       "</style>\n",
       "<table border=\"1\" class=\"dataframe\">\n",
       "  <thead>\n",
       "    <tr style=\"text-align: right;\">\n",
       "      <th></th>\n",
       "      <th>comments</th>\n",
       "      <th>description</th>\n",
       "      <th>duration</th>\n",
       "      <th>event</th>\n",
       "      <th>film_date</th>\n",
       "      <th>languages</th>\n",
       "      <th>main_speaker</th>\n",
       "      <th>name</th>\n",
       "      <th>num_speaker</th>\n",
       "      <th>published_date</th>\n",
       "      <th>ratings</th>\n",
       "      <th>related_talks</th>\n",
       "      <th>speaker_occupation</th>\n",
       "      <th>tags</th>\n",
       "      <th>title</th>\n",
       "      <th>url</th>\n",
       "      <th>views</th>\n",
       "    </tr>\n",
       "  </thead>\n",
       "  <tbody>\n",
       "    <tr>\n",
       "      <th>96</th>\n",
       "      <td>6404</td>\n",
       "      <td>Richard Dawkins urges all atheists to openly s...</td>\n",
       "      <td>1750</td>\n",
       "      <td>TED2002</td>\n",
       "      <td>1012608000</td>\n",
       "      <td>42</td>\n",
       "      <td>Richard Dawkins</td>\n",
       "      <td>Richard Dawkins: Militant atheism</td>\n",
       "      <td>1</td>\n",
       "      <td>1176689220</td>\n",
       "      <td>[{'id': 3, 'name': 'Courageous', 'count': 3236...</td>\n",
       "      <td>[{'id': 86, 'hero': 'https://pe.tedcdn.com/ima...</td>\n",
       "      <td>Evolutionary biologist</td>\n",
       "      <td>['God', 'atheism', 'culture', 'religion', 'sci...</td>\n",
       "      <td>Militant atheism</td>\n",
       "      <td>https://www.ted.com/talks/richard_dawkins_on_m...</td>\n",
       "      <td>4374792</td>\n",
       "    </tr>\n",
       "  </tbody>\n",
       "</table>\n",
       "</div>"
      ],
      "text/plain": [
       "    comments                                        description  duration  \\\n",
       "96      6404  Richard Dawkins urges all atheists to openly s...      1750   \n",
       "\n",
       "      event   film_date  languages     main_speaker  \\\n",
       "96  TED2002  1012608000         42  Richard Dawkins   \n",
       "\n",
       "                                 name  num_speaker  published_date  \\\n",
       "96  Richard Dawkins: Militant atheism            1      1176689220   \n",
       "\n",
       "                                              ratings  \\\n",
       "96  [{'id': 3, 'name': 'Courageous', 'count': 3236...   \n",
       "\n",
       "                                        related_talks      speaker_occupation  \\\n",
       "96  [{'id': 86, 'hero': 'https://pe.tedcdn.com/ima...  Evolutionary biologist   \n",
       "\n",
       "                                                 tags             title  \\\n",
       "96  ['God', 'atheism', 'culture', 'religion', 'sci...  Militant atheism   \n",
       "\n",
       "                                                  url    views  \n",
       "96  https://www.ted.com/talks/richard_dawkins_on_m...  4374792  "
      ]
     },
     "execution_count": 2,
     "metadata": {},
     "output_type": "execute_result"
    }
   ],
   "source": [
    "ted_df.sort_values(by='comments', ascending=False).head(1)"
   ]
  },
  {
   "cell_type": "markdown",
   "id": "65878f71",
   "metadata": {},
   "source": [
    "Or alternatively, we can write ..."
   ]
  },
  {
   "cell_type": "code",
   "execution_count": 3,
   "id": "ede71559",
   "metadata": {},
   "outputs": [
    {
     "data": {
      "text/html": [
       "<div>\n",
       "<style scoped>\n",
       "    .dataframe tbody tr th:only-of-type {\n",
       "        vertical-align: middle;\n",
       "    }\n",
       "\n",
       "    .dataframe tbody tr th {\n",
       "        vertical-align: top;\n",
       "    }\n",
       "\n",
       "    .dataframe thead th {\n",
       "        text-align: right;\n",
       "    }\n",
       "</style>\n",
       "<table border=\"1\" class=\"dataframe\">\n",
       "  <thead>\n",
       "    <tr style=\"text-align: right;\">\n",
       "      <th></th>\n",
       "      <th>comments</th>\n",
       "      <th>description</th>\n",
       "      <th>duration</th>\n",
       "      <th>event</th>\n",
       "      <th>film_date</th>\n",
       "      <th>languages</th>\n",
       "      <th>main_speaker</th>\n",
       "      <th>name</th>\n",
       "      <th>num_speaker</th>\n",
       "      <th>published_date</th>\n",
       "      <th>ratings</th>\n",
       "      <th>related_talks</th>\n",
       "      <th>speaker_occupation</th>\n",
       "      <th>tags</th>\n",
       "      <th>title</th>\n",
       "      <th>url</th>\n",
       "      <th>views</th>\n",
       "    </tr>\n",
       "  </thead>\n",
       "  <tbody>\n",
       "    <tr>\n",
       "      <th>96</th>\n",
       "      <td>6404</td>\n",
       "      <td>Richard Dawkins urges all atheists to openly s...</td>\n",
       "      <td>1750</td>\n",
       "      <td>TED2002</td>\n",
       "      <td>1012608000</td>\n",
       "      <td>42</td>\n",
       "      <td>Richard Dawkins</td>\n",
       "      <td>Richard Dawkins: Militant atheism</td>\n",
       "      <td>1</td>\n",
       "      <td>1176689220</td>\n",
       "      <td>[{'id': 3, 'name': 'Courageous', 'count': 3236...</td>\n",
       "      <td>[{'id': 86, 'hero': 'https://pe.tedcdn.com/ima...</td>\n",
       "      <td>Evolutionary biologist</td>\n",
       "      <td>['God', 'atheism', 'culture', 'religion', 'sci...</td>\n",
       "      <td>Militant atheism</td>\n",
       "      <td>https://www.ted.com/talks/richard_dawkins_on_m...</td>\n",
       "      <td>4374792</td>\n",
       "    </tr>\n",
       "  </tbody>\n",
       "</table>\n",
       "</div>"
      ],
      "text/plain": [
       "    comments                                        description  duration  \\\n",
       "96      6404  Richard Dawkins urges all atheists to openly s...      1750   \n",
       "\n",
       "      event   film_date  languages     main_speaker  \\\n",
       "96  TED2002  1012608000         42  Richard Dawkins   \n",
       "\n",
       "                                 name  num_speaker  published_date  \\\n",
       "96  Richard Dawkins: Militant atheism            1      1176689220   \n",
       "\n",
       "                                              ratings  \\\n",
       "96  [{'id': 3, 'name': 'Courageous', 'count': 3236...   \n",
       "\n",
       "                                        related_talks      speaker_occupation  \\\n",
       "96  [{'id': 86, 'hero': 'https://pe.tedcdn.com/ima...  Evolutionary biologist   \n",
       "\n",
       "                                                 tags             title  \\\n",
       "96  ['God', 'atheism', 'culture', 'religion', 'sci...  Militant atheism   \n",
       "\n",
       "                                                  url    views  \n",
       "96  https://www.ted.com/talks/richard_dawkins_on_m...  4374792  "
      ]
     },
     "execution_count": 3,
     "metadata": {},
     "output_type": "execute_result"
    }
   ],
   "source": [
    "ted_df.sort_values(by='comments').tail(1)"
   ]
  },
  {
   "cell_type": "markdown",
   "id": "9632aef3",
   "metadata": {},
   "source": [
    "Apparently, so far, with 6404 comments the talk in row 95 titled \"Militant atheism\" provoked the most online discussion."
   ]
  },
  {
   "cell_type": "markdown",
   "id": "381e9ec8",
   "metadata": {},
   "source": [
    "Unfortunately, there is a problem with this analysis. As the number of comments tends to increase over time, we can expect videos that have been online for a very long time to have a higher number of comments. This causes a bias in the data. "
   ]
  },
  {
   "cell_type": "markdown",
   "id": "ed45c66f",
   "metadata": {},
   "source": [
    "**How can we correct this bias?** <br/>\n",
    "For example, we could try to normalize the number of comments by the number of views."
   ]
  },
  {
   "cell_type": "code",
   "execution_count": 4,
   "id": "4a5a4fb9",
   "metadata": {},
   "outputs": [],
   "source": [
    "ted_df['comments_per_view'] = ted_df.comments / ted_df.views"
   ]
  },
  {
   "cell_type": "code",
   "execution_count": 5,
   "id": "7fe73980",
   "metadata": {},
   "outputs": [
    {
     "data": {
      "text/html": [
       "<div>\n",
       "<style scoped>\n",
       "    .dataframe tbody tr th:only-of-type {\n",
       "        vertical-align: middle;\n",
       "    }\n",
       "\n",
       "    .dataframe tbody tr th {\n",
       "        vertical-align: top;\n",
       "    }\n",
       "\n",
       "    .dataframe thead th {\n",
       "        text-align: right;\n",
       "    }\n",
       "</style>\n",
       "<table border=\"1\" class=\"dataframe\">\n",
       "  <thead>\n",
       "    <tr style=\"text-align: right;\">\n",
       "      <th></th>\n",
       "      <th>comments</th>\n",
       "      <th>description</th>\n",
       "      <th>duration</th>\n",
       "      <th>event</th>\n",
       "      <th>film_date</th>\n",
       "      <th>languages</th>\n",
       "      <th>main_speaker</th>\n",
       "      <th>name</th>\n",
       "      <th>num_speaker</th>\n",
       "      <th>published_date</th>\n",
       "      <th>ratings</th>\n",
       "      <th>related_talks</th>\n",
       "      <th>speaker_occupation</th>\n",
       "      <th>tags</th>\n",
       "      <th>title</th>\n",
       "      <th>url</th>\n",
       "      <th>views</th>\n",
       "      <th>comments_per_view</th>\n",
       "    </tr>\n",
       "  </thead>\n",
       "  <tbody>\n",
       "    <tr>\n",
       "      <th>744</th>\n",
       "      <td>649</td>\n",
       "      <td>Hours before New York lawmakers rejected a key...</td>\n",
       "      <td>453</td>\n",
       "      <td>New York State Senate</td>\n",
       "      <td>1259712000</td>\n",
       "      <td>0</td>\n",
       "      <td>Diane J. Savino</td>\n",
       "      <td>Diane J. Savino: The case for same-sex marriage</td>\n",
       "      <td>1</td>\n",
       "      <td>1282062180</td>\n",
       "      <td>[{'id': 25, 'name': 'OK', 'count': 100}, {'id'...</td>\n",
       "      <td>[{'id': 217, 'hero': 'https://pe.tedcdn.com/im...</td>\n",
       "      <td>Senator</td>\n",
       "      <td>['God', 'LGBT', 'culture', 'government', 'law'...</td>\n",
       "      <td>The case for same-sex marriage</td>\n",
       "      <td>https://www.ted.com/talks/diane_j_savino_the_c...</td>\n",
       "      <td>292395</td>\n",
       "      <td>0.00222</td>\n",
       "    </tr>\n",
       "  </tbody>\n",
       "</table>\n",
       "</div>"
      ],
      "text/plain": [
       "     comments                                        description  duration  \\\n",
       "744       649  Hours before New York lawmakers rejected a key...       453   \n",
       "\n",
       "                     event   film_date  languages     main_speaker  \\\n",
       "744  New York State Senate  1259712000          0  Diane J. Savino   \n",
       "\n",
       "                                                name  num_speaker  \\\n",
       "744  Diane J. Savino: The case for same-sex marriage            1   \n",
       "\n",
       "     published_date                                            ratings  \\\n",
       "744      1282062180  [{'id': 25, 'name': 'OK', 'count': 100}, {'id'...   \n",
       "\n",
       "                                         related_talks speaker_occupation  \\\n",
       "744  [{'id': 217, 'hero': 'https://pe.tedcdn.com/im...            Senator   \n",
       "\n",
       "                                                  tags  \\\n",
       "744  ['God', 'LGBT', 'culture', 'government', 'law'...   \n",
       "\n",
       "                              title  \\\n",
       "744  The case for same-sex marriage   \n",
       "\n",
       "                                                   url   views  \\\n",
       "744  https://www.ted.com/talks/diane_j_savino_the_c...  292395   \n",
       "\n",
       "     comments_per_view  \n",
       "744            0.00222  "
      ]
     },
     "execution_count": 5,
     "metadata": {},
     "output_type": "execute_result"
    }
   ],
   "source": [
    "ted_df.sort_values('comments_per_view').tail(1)"
   ]
  },
  {
   "cell_type": "markdown",
   "id": "373bef3e",
   "metadata": {},
   "source": [
    "According to our new definition of what's most provocative, row 744 titled \"The case for same-sex marriage\" is the most provocative talk. The talk has received 0.00222 comments per view."
   ]
  },
  {
   "cell_type": "markdown",
   "id": "6ef64bb0",
   "metadata": {},
   "source": [
    "**Views per comment**"
   ]
  },
  {
   "cell_type": "markdown",
   "id": "c549a928",
   "metadata": {},
   "source": [
    "However, we can even make this more interpretable. Instead of normalizing the number of comments by the number of views, we instead normalize the number of views by the number of comments."
   ]
  },
  {
   "cell_type": "code",
   "execution_count": 6,
   "id": "f3a4122f",
   "metadata": {},
   "outputs": [],
   "source": [
    "ted_df['views_per_comment'] = ted_df.views / ted_df.comments"
   ]
  },
  {
   "cell_type": "code",
   "execution_count": 7,
   "id": "394f4ab7",
   "metadata": {},
   "outputs": [
    {
     "data": {
      "text/html": [
       "<div>\n",
       "<style scoped>\n",
       "    .dataframe tbody tr th:only-of-type {\n",
       "        vertical-align: middle;\n",
       "    }\n",
       "\n",
       "    .dataframe tbody tr th {\n",
       "        vertical-align: top;\n",
       "    }\n",
       "\n",
       "    .dataframe thead th {\n",
       "        text-align: right;\n",
       "    }\n",
       "</style>\n",
       "<table border=\"1\" class=\"dataframe\">\n",
       "  <thead>\n",
       "    <tr style=\"text-align: right;\">\n",
       "      <th></th>\n",
       "      <th>comments</th>\n",
       "      <th>description</th>\n",
       "      <th>duration</th>\n",
       "      <th>event</th>\n",
       "      <th>film_date</th>\n",
       "      <th>languages</th>\n",
       "      <th>main_speaker</th>\n",
       "      <th>name</th>\n",
       "      <th>num_speaker</th>\n",
       "      <th>published_date</th>\n",
       "      <th>ratings</th>\n",
       "      <th>related_talks</th>\n",
       "      <th>speaker_occupation</th>\n",
       "      <th>tags</th>\n",
       "      <th>title</th>\n",
       "      <th>url</th>\n",
       "      <th>views</th>\n",
       "      <th>comments_per_view</th>\n",
       "      <th>views_per_comment</th>\n",
       "    </tr>\n",
       "  </thead>\n",
       "  <tbody>\n",
       "    <tr>\n",
       "      <th>744</th>\n",
       "      <td>649</td>\n",
       "      <td>Hours before New York lawmakers rejected a key...</td>\n",
       "      <td>453</td>\n",
       "      <td>New York State Senate</td>\n",
       "      <td>1259712000</td>\n",
       "      <td>0</td>\n",
       "      <td>Diane J. Savino</td>\n",
       "      <td>Diane J. Savino: The case for same-sex marriage</td>\n",
       "      <td>1</td>\n",
       "      <td>1282062180</td>\n",
       "      <td>[{'id': 25, 'name': 'OK', 'count': 100}, {'id'...</td>\n",
       "      <td>[{'id': 217, 'hero': 'https://pe.tedcdn.com/im...</td>\n",
       "      <td>Senator</td>\n",
       "      <td>['God', 'LGBT', 'culture', 'government', 'law'...</td>\n",
       "      <td>The case for same-sex marriage</td>\n",
       "      <td>https://www.ted.com/talks/diane_j_savino_the_c...</td>\n",
       "      <td>292395</td>\n",
       "      <td>0.00222</td>\n",
       "      <td>450.531587</td>\n",
       "    </tr>\n",
       "  </tbody>\n",
       "</table>\n",
       "</div>"
      ],
      "text/plain": [
       "     comments                                        description  duration  \\\n",
       "744       649  Hours before New York lawmakers rejected a key...       453   \n",
       "\n",
       "                     event   film_date  languages     main_speaker  \\\n",
       "744  New York State Senate  1259712000          0  Diane J. Savino   \n",
       "\n",
       "                                                name  num_speaker  \\\n",
       "744  Diane J. Savino: The case for same-sex marriage            1   \n",
       "\n",
       "     published_date                                            ratings  \\\n",
       "744      1282062180  [{'id': 25, 'name': 'OK', 'count': 100}, {'id'...   \n",
       "\n",
       "                                         related_talks speaker_occupation  \\\n",
       "744  [{'id': 217, 'hero': 'https://pe.tedcdn.com/im...            Senator   \n",
       "\n",
       "                                                  tags  \\\n",
       "744  ['God', 'LGBT', 'culture', 'government', 'law'...   \n",
       "\n",
       "                              title  \\\n",
       "744  The case for same-sex marriage   \n",
       "\n",
       "                                                   url   views  \\\n",
       "744  https://www.ted.com/talks/diane_j_savino_the_c...  292395   \n",
       "\n",
       "     comments_per_view  views_per_comment  \n",
       "744            0.00222         450.531587  "
      ]
     },
     "execution_count": 7,
     "metadata": {},
     "output_type": "execute_result"
    }
   ],
   "source": [
    "ted_df.sort_values('views_per_comment').head(1)"
   ]
  },
  {
   "cell_type": "markdown",
   "id": "f3c34261",
   "metadata": {},
   "source": [
    "We can conclude that the talk \"The case for same-sex marriage\" is the most provocative talk. Every 450th view left a comment."
   ]
  }
 ],
 "metadata": {
  "kernelspec": {
   "display_name": "Python 3 (ipykernel)",
   "language": "python",
   "name": "python3"
  },
  "language_info": {
   "codemirror_mode": {
    "name": "ipython",
    "version": 3
   },
   "file_extension": ".py",
   "mimetype": "text/x-python",
   "name": "python",
   "nbconvert_exporter": "python",
   "pygments_lexer": "ipython3",
   "version": "3.11.5"
  }
 },
 "nbformat": 4,
 "nbformat_minor": 5
}
