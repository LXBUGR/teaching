{
 "cells": [
  {
   "cell_type": "markdown",
   "id": "b0cab7c4",
   "metadata": {},
   "source": [
    "# Introduction to Pandas\n",
    "\n",
    "In this tutorial, we will learn how to use Pandas by analyzing a real-world dataset.\n",
    "\n",
    "The dataset that we are going to analyze is the TED talk dataset which is available on Kaggle (https://www.kaggle.com/datasets/ahmadfatani/ted-talks-dataset). The dataset contains information about all video recordings of TED Talks uploaded to the official TED.com website until April 18th, 2020. It contains information about all talks including the number of views, tags, posted-date, speakers and titles.\n",
    "\n",
    "Note that you do not have to download the dataset from Kaggle since the data is already contained in the Github repository."
   ]
  },
  {
   "cell_type": "code",
   "execution_count": 1,
   "id": "652f6846",
   "metadata": {},
   "outputs": [],
   "source": [
    "import pandas as pd\n",
    "\n",
    "ted_df = pd.read_csv('../ted_talk_dataset/ted_main.csv')"
   ]
  },
  {
   "cell_type": "markdown",
   "id": "2210655b",
   "metadata": {},
   "source": [
    "## Plot the number of talks that took place each year\n",
    "\n",
    "**Important remark**: The column \"film_date\" provides informatipn when the TED talk took place (when it was filmed). <br/>\n",
    "The value used to represent the data is a **unix epoch timestamp**."
   ]
  },
  {
   "cell_type": "markdown",
   "id": "29e79857",
   "metadata": {},
   "source": [
    "### Converting the \"film_date column into a more usable format"
   ]
  },
  {
   "cell_type": "code",
   "execution_count": 2,
   "id": "172590fd",
   "metadata": {},
   "outputs": [
    {
     "name": "stdout",
     "output_type": "stream",
     "text": [
      "698     1265846400\n",
      "934     1299024000\n",
      "759     1279152000\n",
      "1499    1367884800\n",
      "1461    1334188800\n",
      "1876    1410825600\n",
      "2470    1492992000\n",
      "446     1233792000\n",
      "12      1140652800\n",
      "1579    1370995200\n",
      "Name: film_date, dtype: int64\n"
     ]
    }
   ],
   "source": [
    "print(ted_df.film_date.sample(10))"
   ]
  },
  {
   "cell_type": "markdown",
   "id": "20557372",
   "metadata": {},
   "source": [
    "According to the dataset's documentation, this timestamp a unix epoch timestamp. This means that the value represents the number of seconds that have elapsed since January 1st, 1970 UTC.\n",
    "\n",
    "Since we are only interested in the year of filming, the unix timestamp is difficult to work with. So let's see whether we can convert this timestamp into a format that is more useful."
   ]
  },
  {
   "cell_type": "markdown",
   "id": "aef7f655",
   "metadata": {},
   "source": [
    "So, first, let's check which data types are available in Pandas and whether there is any type that supports dates.\n",
    "\n",
    "Documentation: https://pandas.pydata.org/docs/user_guide/basics.html#basics-dtypes\n",
    "\n",
    "The answer is yes. If we browse through the documentation, we can indeed find a function pd.to_datetime() that seems to be able to convert different formats to datetime objects.\n",
    "\n",
    "See: https://pandas.pydata.org/docs/user_guide/timeseries.html#converting-to-timestamps"
   ]
  },
  {
   "cell_type": "code",
   "execution_count": 3,
   "id": "bb840979",
   "metadata": {},
   "outputs": [
    {
     "data": {
      "text/plain": [
       "0      2006-02-25\n",
       "1      2006-02-25\n",
       "2      2006-02-24\n",
       "3      2006-02-26\n",
       "4      2006-02-22\n",
       "          ...    \n",
       "2545   2017-06-06\n",
       "2546   2017-04-24\n",
       "2547   2017-04-24\n",
       "2548   2017-07-08\n",
       "2549   2017-04-24\n",
       "Name: film_date, Length: 2550, dtype: datetime64[ns]"
      ]
     },
     "execution_count": 3,
     "metadata": {},
     "output_type": "execute_result"
    }
   ],
   "source": [
    "# Important: Do not forget to specify the unit. \n",
    "# Other Pandas will assume an input other than a unix epoch timestamp format.\n",
    "# Note that setting unit=\"s\", we tell pandas that the passed values is provided in seconds (not nanoseconds [default])\n",
    "pd.to_datetime(ted_df.film_date, unit='s')"
   ]
  },
  {
   "cell_type": "markdown",
   "id": "e367a232",
   "metadata": {},
   "source": [
    "Ok, that looks pretty nice. So let's update the column in our original dataframe."
   ]
  },
  {
   "cell_type": "code",
   "execution_count": 4,
   "id": "fe4eef3b",
   "metadata": {},
   "outputs": [],
   "source": [
    "ted_df['film_date'] = pd.to_datetime(ted_df.film_date, unit='s')"
   ]
  },
  {
   "cell_type": "code",
   "execution_count": 5,
   "id": "cf3471cd",
   "metadata": {},
   "outputs": [
    {
     "name": "stdout",
     "output_type": "stream",
     "text": [
      "<class 'pandas.core.frame.DataFrame'>\n",
      "RangeIndex: 2550 entries, 0 to 2549\n",
      "Data columns (total 17 columns):\n",
      " #   Column              Non-Null Count  Dtype         \n",
      "---  ------              --------------  -----         \n",
      " 0   comments            2550 non-null   int64         \n",
      " 1   description         2550 non-null   object        \n",
      " 2   duration            2550 non-null   int64         \n",
      " 3   event               2550 non-null   object        \n",
      " 4   film_date           2550 non-null   datetime64[ns]\n",
      " 5   languages           2550 non-null   int64         \n",
      " 6   main_speaker        2550 non-null   object        \n",
      " 7   name                2550 non-null   object        \n",
      " 8   num_speaker         2550 non-null   int64         \n",
      " 9   published_date      2550 non-null   int64         \n",
      " 10  ratings             2550 non-null   object        \n",
      " 11  related_talks       2550 non-null   object        \n",
      " 12  speaker_occupation  2544 non-null   object        \n",
      " 13  tags                2550 non-null   object        \n",
      " 14  title               2550 non-null   object        \n",
      " 15  url                 2550 non-null   object        \n",
      " 16  views               2550 non-null   int64         \n",
      "dtypes: datetime64[ns](1), int64(6), object(10)\n",
      "memory usage: 338.8+ KB\n",
      "None\n"
     ]
    }
   ],
   "source": [
    "# Briefly check whether the data type has changed ==> Yes\n",
    "print(ted_df.info())"
   ]
  },
  {
   "cell_type": "code",
   "execution_count": 6,
   "id": "b2c1a0c8",
   "metadata": {},
   "outputs": [
    {
     "data": {
      "text/html": [
       "<div>\n",
       "<style scoped>\n",
       "    .dataframe tbody tr th:only-of-type {\n",
       "        vertical-align: middle;\n",
       "    }\n",
       "\n",
       "    .dataframe tbody tr th {\n",
       "        vertical-align: top;\n",
       "    }\n",
       "\n",
       "    .dataframe thead th {\n",
       "        text-align: right;\n",
       "    }\n",
       "</style>\n",
       "<table border=\"1\" class=\"dataframe\">\n",
       "  <thead>\n",
       "    <tr style=\"text-align: right;\">\n",
       "      <th></th>\n",
       "      <th>comments</th>\n",
       "      <th>description</th>\n",
       "      <th>duration</th>\n",
       "      <th>event</th>\n",
       "      <th>film_date</th>\n",
       "      <th>languages</th>\n",
       "      <th>main_speaker</th>\n",
       "      <th>name</th>\n",
       "      <th>num_speaker</th>\n",
       "      <th>published_date</th>\n",
       "      <th>ratings</th>\n",
       "      <th>related_talks</th>\n",
       "      <th>speaker_occupation</th>\n",
       "      <th>tags</th>\n",
       "      <th>title</th>\n",
       "      <th>url</th>\n",
       "      <th>views</th>\n",
       "    </tr>\n",
       "  </thead>\n",
       "  <tbody>\n",
       "    <tr>\n",
       "      <th>0</th>\n",
       "      <td>4553</td>\n",
       "      <td>Sir Ken Robinson makes an entertaining and pro...</td>\n",
       "      <td>1164</td>\n",
       "      <td>TED2006</td>\n",
       "      <td>2006-02-25</td>\n",
       "      <td>60</td>\n",
       "      <td>Ken Robinson</td>\n",
       "      <td>Ken Robinson: Do schools kill creativity?</td>\n",
       "      <td>1</td>\n",
       "      <td>1151367060</td>\n",
       "      <td>[{'id': 7, 'name': 'Funny', 'count': 19645}, {...</td>\n",
       "      <td>[{'id': 865, 'hero': 'https://pe.tedcdn.com/im...</td>\n",
       "      <td>Author/educator</td>\n",
       "      <td>['children', 'creativity', 'culture', 'dance',...</td>\n",
       "      <td>Do schools kill creativity?</td>\n",
       "      <td>https://www.ted.com/talks/ken_robinson_says_sc...</td>\n",
       "      <td>47227110</td>\n",
       "    </tr>\n",
       "  </tbody>\n",
       "</table>\n",
       "</div>"
      ],
      "text/plain": [
       "   comments                                        description  duration  \\\n",
       "0      4553  Sir Ken Robinson makes an entertaining and pro...      1164   \n",
       "\n",
       "     event  film_date  languages  main_speaker  \\\n",
       "0  TED2006 2006-02-25         60  Ken Robinson   \n",
       "\n",
       "                                        name  num_speaker  published_date  \\\n",
       "0  Ken Robinson: Do schools kill creativity?            1      1151367060   \n",
       "\n",
       "                                             ratings  \\\n",
       "0  [{'id': 7, 'name': 'Funny', 'count': 19645}, {...   \n",
       "\n",
       "                                       related_talks speaker_occupation  \\\n",
       "0  [{'id': 865, 'hero': 'https://pe.tedcdn.com/im...    Author/educator   \n",
       "\n",
       "                                                tags  \\\n",
       "0  ['children', 'creativity', 'culture', 'dance',...   \n",
       "\n",
       "                         title  \\\n",
       "0  Do schools kill creativity?   \n",
       "\n",
       "                                                 url     views  \n",
       "0  https://www.ted.com/talks/ken_robinson_says_sc...  47227110  "
      ]
     },
     "execution_count": 6,
     "metadata": {},
     "output_type": "execute_result"
    }
   ],
   "source": [
    "ted_df.head(1)"
   ]
  },
  {
   "cell_type": "markdown",
   "id": "bfd48dfc",
   "metadata": {},
   "source": [
    "### Count the number of values in each year"
   ]
  },
  {
   "cell_type": "markdown",
   "id": "cf9fc8ba",
   "metadata": {},
   "source": [
    "We are interested in the number of talks that took place each year. Consequently, this requires us to obtain the \"year\" from `film_date`. So, let's see what functions are available to \"read\" the year from `datetime64[ns]`.\n",
    "\n",
    "As can be seen in the documentation, Pandas' Series provides a large variety of methods to process dates. For example, the year of a datetime object can be accessed via the `.dt.year` attribute."
   ]
  },
  {
   "cell_type": "code",
   "execution_count": 7,
   "id": "9da2382e",
   "metadata": {},
   "outputs": [
    {
     "data": {
      "text/plain": [
       "0       2006\n",
       "1       2006\n",
       "2       2006\n",
       "3       2006\n",
       "4       2006\n",
       "        ... \n",
       "2545    2017\n",
       "2546    2017\n",
       "2547    2017\n",
       "2548    2017\n",
       "2549    2017\n",
       "Name: film_date, Length: 2550, dtype: int32"
      ]
     },
     "execution_count": 7,
     "metadata": {},
     "output_type": "execute_result"
    }
   ],
   "source": [
    "ted_df.film_date.dt.year"
   ]
  },
  {
   "cell_type": "markdown",
   "id": "0cbb2e38",
   "metadata": {},
   "source": [
    "Nice, this is exactly what we are looking for."
   ]
  },
  {
   "cell_type": "code",
   "execution_count": 8,
   "id": "54019da8",
   "metadata": {},
   "outputs": [
    {
     "data": {
      "text/plain": [
       "film_date\n",
       "2013    270\n",
       "2011    270\n",
       "2010    267\n",
       "2012    267\n",
       "2016    246\n",
       "2015    239\n",
       "2014    237\n",
       "2009    232\n",
       "2007    114\n",
       "2017     98\n",
       "2008     84\n",
       "2005     66\n",
       "2006     50\n",
       "2004     33\n",
       "2003     33\n",
       "2002     27\n",
       "1998      6\n",
       "2001      5\n",
       "1983      1\n",
       "1972      1\n",
       "1990      1\n",
       "1994      1\n",
       "1984      1\n",
       "1991      1\n",
       "Name: count, dtype: int64"
      ]
     },
     "execution_count": 8,
     "metadata": {},
     "output_type": "execute_result"
    }
   ],
   "source": [
    "ted_df.film_date.dt.year.value_counts()"
   ]
  },
  {
   "cell_type": "markdown",
   "id": "ee859c1e",
   "metadata": {},
   "source": [
    "### Prepare the plot"
   ]
  },
  {
   "cell_type": "markdown",
   "id": "a9defc00",
   "metadata": {},
   "source": [
    "Note that the labels appear in random order. In order to properly visualize the sequence, we need to sort the labels in ascending order."
   ]
  },
  {
   "cell_type": "code",
   "execution_count": 9,
   "id": "f0b9409e",
   "metadata": {},
   "outputs": [
    {
     "data": {
      "text/plain": [
       "film_date\n",
       "1972      1\n",
       "1983      1\n",
       "1984      1\n",
       "1990      1\n",
       "1991      1\n",
       "1994      1\n",
       "1998      6\n",
       "2001      5\n",
       "2002     27\n",
       "2003     33\n",
       "2004     33\n",
       "2005     66\n",
       "2006     50\n",
       "2007    114\n",
       "2008     84\n",
       "2009    232\n",
       "2010    267\n",
       "2011    270\n",
       "2012    267\n",
       "2013    270\n",
       "2014    237\n",
       "2015    239\n",
       "2016    246\n",
       "2017     98\n",
       "Name: count, dtype: int64"
      ]
     },
     "execution_count": 9,
     "metadata": {},
     "output_type": "execute_result"
    }
   ],
   "source": [
    "ted_df.film_date.dt.year.value_counts().sort_index()"
   ]
  },
  {
   "cell_type": "markdown",
   "id": "c8a0fbe2",
   "metadata": {},
   "source": [
    "Now we can give it a try and create our first plot."
   ]
  },
  {
   "cell_type": "code",
   "execution_count": 10,
   "id": "344da341",
   "metadata": {},
   "outputs": [
    {
     "data": {
      "text/plain": [
       "<Axes: xlabel='film_date'>"
      ]
     },
     "execution_count": 10,
     "metadata": {},
     "output_type": "execute_result"
    },
    {
     "data": {
      "image/png": "[encoded data removed]",
      "text/plain": [
       "<Figure size 640x480 with 1 Axes>"
      ]
     },
     "metadata": {},
     "output_type": "display_data"
    }
   ],
   "source": [
    "ted_df.film_date.dt.year.value_counts().sort_index().plot()"
   ]
  },
  {
   "cell_type": "markdown",
   "id": "138838ae",
   "metadata": {},
   "source": [
    "Ok, that looks nice so far. However, there is one strange thing. For some reason, in the last year, there is a visible drop in the number of events that took place. <br/>\n",
    "The reason for this is simple. The year hasn't ended since the dataset was uploaded. So naturally, we are missing some talks."
   ]
  },
  {
   "cell_type": "code",
   "execution_count": 11,
   "id": "404f8479",
   "metadata": {},
   "outputs": [
    {
     "data": {
      "text/plain": [
       "Timestamp('2017-08-27 00:00:00')"
      ]
     },
     "execution_count": 11,
     "metadata": {},
     "output_type": "execute_result"
    }
   ],
   "source": [
    "# According to our dataset the last TED talk took place on 27th Oct 2017 \n",
    "ted_df.film_date.max()"
   ]
  },
  {
   "cell_type": "markdown",
   "id": "29c6e917",
   "metadata": {},
   "source": [
    "So, let's ignore 2017 to avoid any confusion."
   ]
  },
  {
   "cell_type": "code",
   "execution_count": 12,
   "id": "2e0b4c4d",
   "metadata": {},
   "outputs": [
    {
     "data": {
      "text/plain": [
       "<Axes: xlabel='film_date'>"
      ]
     },
     "execution_count": 12,
     "metadata": {},
     "output_type": "execute_result"
    },
    {
     "data": {
      "image/png": "[encoded data removed]",
      "text/plain": [
       "<Figure size 640x480 with 1 Axes>"
      ]
     },
     "metadata": {},
     "output_type": "display_data"
    }
   ],
   "source": [
    "ted_df.film_date.dt.year.value_counts().sort_index().iloc[:-1].plot()"
   ]
  }
 ],
 "metadata": {
  "kernelspec": {
   "display_name": "Python 3 (ipykernel)",
   "language": "python",
   "name": "python3"
  },
  "language_info": {
   "codemirror_mode": {
    "name": "ipython",
    "version": 3
   },
   "file_extension": ".py",
   "mimetype": "text/x-python",
   "name": "python",
   "nbconvert_exporter": "python",
   "pygments_lexer": "ipython3",
   "version": "3.11.5"
  }
 },
 "nbformat": 4,
 "nbformat_minor": 5
}
