{
 "cells": [
  {
   "cell_type": "markdown",
   "id": "a639035f",
   "metadata": {},
   "source": [
    "# Pandas: The basics"
   ]
  },
  {
   "cell_type": "code",
   "execution_count": 1,
   "id": "04fd4074",
   "metadata": {},
   "outputs": [],
   "source": [
    "import pandas as pd"
   ]
  },
  {
   "cell_type": "markdown",
   "id": "3180684e",
   "metadata": {},
   "source": [
    "## Introduction to Pandas Objects\n",
    "At the very basic level, Pandas objects can be thought of as enhanced versions of NumPy structured arrays in which the rows and columns are identified with labels rather than simple integer indices. There are three basic data structures in Pandas: **Series**, **DataFrame**, and **Index**."
   ]
  },
  {
   "cell_type": "markdown",
   "id": "2e7a44e4",
   "metadata": {},
   "source": [
    "### Pandas Series\n",
    "\n",
    "A Pandas Series is a one-dimensional array of indexed data. In its simplest form, it can be created from a list or array as follows:"
   ]
  },
  {
   "cell_type": "code",
   "execution_count": 2,
   "id": "09d45ef2",
   "metadata": {},
   "outputs": [],
   "source": [
    "series = pd.Series([1,2,3,4])"
   ]
  },
  {
   "cell_type": "code",
   "execution_count": 3,
   "id": "64e4dca0",
   "metadata": {},
   "outputs": [
    {
     "name": "stdout",
     "output_type": "stream",
     "text": [
      "0    1\n",
      "1    2\n",
      "2    3\n",
      "3    4\n",
      "dtype: int64\n"
     ]
    }
   ],
   "source": [
    "print(series)"
   ]
  },
  {
   "cell_type": "code",
   "execution_count": 4,
   "id": "9fe91966",
   "metadata": {},
   "outputs": [
    {
     "name": "stdout",
     "output_type": "stream",
     "text": [
      "<class 'numpy.ndarray'>\n"
     ]
    }
   ],
   "source": [
    "print(type(series.values))"
   ]
  },
  {
   "cell_type": "markdown",
   "id": "5f121a37",
   "metadata": {},
   "source": [
    "As we see in the preceding output, the Series wraps both a sequence of values and a sequence of indices. We can access the values directly with the `values` attribute. The values are stored as a numpy array."
   ]
  },
  {
   "cell_type": "code",
   "execution_count": 5,
   "id": "9398c980",
   "metadata": {},
   "outputs": [
    {
     "data": {
      "text/plain": [
       "array([1, 2, 3, 4])"
      ]
     },
     "execution_count": 5,
     "metadata": {},
     "output_type": "execute_result"
    }
   ],
   "source": [
    "series.values"
   ]
  },
  {
   "cell_type": "markdown",
   "id": "ee77b54f",
   "metadata": {},
   "source": [
    "The index of the series can be accessed with the `index` attribute. Its type is a `pd.Series`."
   ]
  },
  {
   "cell_type": "code",
   "execution_count": 6,
   "id": "366edd3d",
   "metadata": {},
   "outputs": [
    {
     "name": "stdout",
     "output_type": "stream",
     "text": [
      "RangeIndex(start=0, stop=4, step=1)\n"
     ]
    }
   ],
   "source": [
    "print(series.index)"
   ]
  },
  {
   "cell_type": "code",
   "execution_count": 7,
   "id": "6c5a617c",
   "metadata": {},
   "outputs": [
    {
     "name": "stdout",
     "output_type": "stream",
     "text": [
      "<class 'pandas.core.series.Series'>\n"
     ]
    }
   ],
   "source": [
    "print(type(series))"
   ]
  },
  {
   "cell_type": "markdown",
   "id": "97aad180",
   "metadata": {},
   "source": [
    "Like with a NumPy array, data can be accessed by the **associated index** via the familiar Python **square-bracket notation**:"
   ]
  },
  {
   "cell_type": "code",
   "execution_count": 8,
   "id": "29ff9cce",
   "metadata": {},
   "outputs": [
    {
     "data": {
      "text/plain": [
       "2"
      ]
     },
     "execution_count": 8,
     "metadata": {},
     "output_type": "execute_result"
    }
   ],
   "source": [
    "# Get the second element in the series\n",
    "series[1]"
   ]
  },
  {
   "cell_type": "code",
   "execution_count": 9,
   "id": "611df8ea",
   "metadata": {},
   "outputs": [
    {
     "data": {
      "text/plain": [
       "1    2\n",
       "2    3\n",
       "dtype: int64"
      ]
     },
     "execution_count": 9,
     "metadata": {},
     "output_type": "execute_result"
    }
   ],
   "source": [
    "# Get element two and three in the series\n",
    "series[1:3]"
   ]
  },
  {
   "cell_type": "markdown",
   "id": "64155c37",
   "metadata": {},
   "source": [
    "**Series as a generalized NumPy array:** <br/>\n",
    "From what we've seen so far, it may look like the Series object is basically interchangeable with a one-dimensional NumPy array. The essential difference is the presence of the index: while the NumPy array has an *implicitly defined integer index* used\n",
    "to access the values, the Pandas Series has an *explicitly defined index* associated with\n",
    "the values. This explicit index definition gives the Series object additional capabilities. For\n",
    "example, the index does not have to be an integer, but can consist of values of any type.\n",
    "\n",
    "Let's see how this works ..."
   ]
  },
  {
   "cell_type": "code",
   "execution_count": 10,
   "id": "be9ba972",
   "metadata": {},
   "outputs": [],
   "source": [
    "# Creates a pandas series with some given values that should be used for the index\n",
    "series = pd.Series([1,2,3,4], \n",
    "                   index=['a', 'b', 'c', 'd'])"
   ]
  },
  {
   "cell_type": "code",
   "execution_count": 11,
   "id": "ab334403",
   "metadata": {},
   "outputs": [
    {
     "name": "stdout",
     "output_type": "stream",
     "text": [
      "a    1\n",
      "b    2\n",
      "c    3\n",
      "d    4\n",
      "dtype: int64\n"
     ]
    }
   ],
   "source": [
    "print(series)"
   ]
  },
  {
   "cell_type": "markdown",
   "id": "6a039907",
   "metadata": {},
   "source": [
    "We can now access the dataframe based on the index values."
   ]
  },
  {
   "cell_type": "code",
   "execution_count": 12,
   "id": "d356cf50",
   "metadata": {},
   "outputs": [
    {
     "data": {
      "text/plain": [
       "2"
      ]
     },
     "execution_count": 12,
     "metadata": {},
     "output_type": "execute_result"
    }
   ],
   "source": [
    "# Retrieve the item with the index value = b\n",
    "series['b']"
   ]
  },
  {
   "cell_type": "code",
   "execution_count": 13,
   "id": "04c4f65d",
   "metadata": {},
   "outputs": [
    {
     "data": {
      "text/plain": [
       "b    2\n",
       "c    3\n",
       "dtype: int64"
      ]
     },
     "execution_count": 13,
     "metadata": {},
     "output_type": "execute_result"
    }
   ],
   "source": [
    "# We can even fetch multiply items by passing a list of index values\n",
    "series[['b', 'c']]"
   ]
  },
  {
   "cell_type": "markdown",
   "id": "2eb97b2c",
   "metadata": {},
   "source": [
    "Alternatively, since individual indices uniquely map to individual values, we can define a Pandas series with a dictionary."
   ]
  },
  {
   "cell_type": "code",
   "execution_count": 14,
   "id": "930d5a5c",
   "metadata": {},
   "outputs": [],
   "source": [
    "series = pd.Series({\n",
    "    'a': 1,\n",
    "    'b': 2,\n",
    "    'c': 3,\n",
    "    'd': 4\n",
    "})"
   ]
  },
  {
   "cell_type": "code",
   "execution_count": 15,
   "id": "0980dac7",
   "metadata": {},
   "outputs": [
    {
     "name": "stdout",
     "output_type": "stream",
     "text": [
      "a    1\n",
      "b    2\n",
      "c    3\n",
      "d    4\n",
      "dtype: int64\n"
     ]
    }
   ],
   "source": [
    "print(series)"
   ]
  },
  {
   "cell_type": "markdown",
   "id": "be489100",
   "metadata": {},
   "source": [
    "### Pandas DataFrame\n",
    "If a Series is an analog of a one-dimensional array with flexible indices, a DataFrame is an analog of a two-dimensional array with both flexible row indices and flexible column names. Just as you might think of a two-dimensional array as an ordered sequence of aligned one-dimensional columns, you can think of a DataFrame as a\n",
    "sequence of aligned Series objects. By \"aligned\" we mean that they share the same index."
   ]
  },
  {
   "cell_type": "markdown",
   "id": "d4a1293d",
   "metadata": {},
   "source": [
    "Let's construct our first dataframe by explicitly specifying the values in the columns."
   ]
  },
  {
   "cell_type": "code",
   "execution_count": 16,
   "id": "abeebae9",
   "metadata": {},
   "outputs": [],
   "source": [
    "df = pd.DataFrame(\n",
    "    {\n",
    "        'column_1': [0, 1, 2],\n",
    "        'column_2': ['xasdf', 'asdf', 'asdf'],\n",
    "    },\n",
    "    index = ['row_1', 'row_2', 'row_3'] # Optional: Set the index\n",
    ")"
   ]
  },
  {
   "cell_type": "markdown",
   "id": "fdf0aa60",
   "metadata": {},
   "source": [
    "Alternatively, we can specify and create the same dataframe as follows:"
   ]
  },
  {
   "cell_type": "code",
   "execution_count": 17,
   "id": "a8108f60",
   "metadata": {},
   "outputs": [],
   "source": [
    "df = pd.DataFrame([\n",
    "        {'column_1': 0, 'column_2': 'xasdf'},\n",
    "        {'column_1': 1, 'column_2': 'xasdf'},\n",
    "        {'column_1': 2, 'column_2': 'xasdf'},\n",
    "    ], \n",
    "    index = ['row_1', 'row_2', 'row_3']\n",
    ")"
   ]
  },
  {
   "cell_type": "code",
   "execution_count": 18,
   "id": "51ae2f0a",
   "metadata": {},
   "outputs": [
    {
     "name": "stdout",
     "output_type": "stream",
     "text": [
      "       column_1 column_2\n",
      "row_1         0    xasdf\n",
      "row_2         1    xasdf\n",
      "row_3         2    xasdf\n"
     ]
    }
   ],
   "source": [
    "print(df)"
   ]
  },
  {
   "cell_type": "markdown",
   "id": "17215c39",
   "metadata": {},
   "source": [
    "Like Series, DataFrames have an `index` and `values` attribute. Furthermore, a 'columns' attribute is provided to access the column labels."
   ]
  },
  {
   "cell_type": "code",
   "execution_count": 19,
   "id": "64a4df51",
   "metadata": {},
   "outputs": [
    {
     "name": "stdout",
     "output_type": "stream",
     "text": [
      "Index(['row_1', 'row_2', 'row_3'], dtype='object')\n"
     ]
    }
   ],
   "source": [
    "print(df.index)"
   ]
  },
  {
   "cell_type": "code",
   "execution_count": 20,
   "id": "234da2cc",
   "metadata": {},
   "outputs": [
    {
     "data": {
      "text/plain": [
       "array([[0, 'xasdf'],\n",
       "       [1, 'xasdf'],\n",
       "       [2, 'xasdf']], dtype=object)"
      ]
     },
     "execution_count": 20,
     "metadata": {},
     "output_type": "execute_result"
    }
   ],
   "source": [
    "df.values"
   ]
  },
  {
   "cell_type": "code",
   "execution_count": 21,
   "id": "e806b0b5",
   "metadata": {},
   "outputs": [
    {
     "data": {
      "text/plain": [
       "Index(['column_1', 'column_2'], dtype='object')"
      ]
     },
     "execution_count": 21,
     "metadata": {},
     "output_type": "execute_result"
    }
   ],
   "source": [
    "df.columns"
   ]
  },
  {
   "cell_type": "markdown",
   "id": "4a0627ca",
   "metadata": {},
   "source": [
    "Similarly, we can also think of a DataFrame as a specialization of a dictionary. Where a dictionary maps a key to a value, a DataFrame maps a column name to a Series of column data."
   ]
  },
  {
   "cell_type": "code",
   "execution_count": 22,
   "id": "cf1c78e1",
   "metadata": {},
   "outputs": [
    {
     "name": "stdout",
     "output_type": "stream",
     "text": [
      "<class 'pandas.core.series.Series'>\n"
     ]
    }
   ],
   "source": [
    "print(type(df.loc['row_2']))"
   ]
  },
  {
   "cell_type": "markdown",
   "id": "68d6e703",
   "metadata": {},
   "source": [
    "We can fetch a particular row of a dataframe via the `.loc[<index_value>]` attribute. Note that if we specify the `.loc` attribute and instead access the dataframe with `df[<something>]`, we obtain the column `<something>` rather than a row."
   ]
  },
  {
   "cell_type": "code",
   "execution_count": 23,
   "id": "9033265d",
   "metadata": {},
   "outputs": [
    {
     "name": "stdout",
     "output_type": "stream",
     "text": [
      "column_1        1\n",
      "column_2    xasdf\n",
      "Name: row_2, dtype: object\n"
     ]
    }
   ],
   "source": [
    "print(df.loc['row_2'])"
   ]
  },
  {
   "cell_type": "code",
   "execution_count": 24,
   "id": "0c24da4f",
   "metadata": {},
   "outputs": [
    {
     "name": "stdout",
     "output_type": "stream",
     "text": [
      "       column_1 column_2\n",
      "row_1         0    xasdf\n",
      "row_2         1    xasdf\n"
     ]
    }
   ],
   "source": [
    "print(df.loc[['row_1', 'row_2']])"
   ]
  },
  {
   "cell_type": "markdown",
   "id": "3aa59965",
   "metadata": {},
   "source": [
    "## Data Selection"
   ]
  },
  {
   "cell_type": "markdown",
   "id": "c5e5ac3d",
   "metadata": {},
   "source": [
    "We will look in detail at methods and tools to access values in Pandas dataframes."
   ]
  },
  {
   "cell_type": "markdown",
   "id": "2d23c854",
   "metadata": {},
   "source": [
    "### Data Selection in Series"
   ]
  },
  {
   "cell_type": "markdown",
   "id": "93d46cb1",
   "metadata": {},
   "source": [
    "The slicing and indexing conventions above can be a source of confusion. For example, if your series has an explicit integer index, an indexing operation such as `df[1]` will use the **explicit indices**, while a slicing operation such as `df[1:3]` will use the **implicit Python-style index**."
   ]
  },
  {
   "cell_type": "code",
   "execution_count": 25,
   "id": "159b433d",
   "metadata": {},
   "outputs": [],
   "source": [
    "# Create a dataframe with an explicitely defined index\n",
    "series = pd.Series([10,11,12,13], \n",
    "                   index=[3,2,1,0])"
   ]
  },
  {
   "cell_type": "code",
   "execution_count": 26,
   "id": "0eec597d",
   "metadata": {},
   "outputs": [
    {
     "name": "stdout",
     "output_type": "stream",
     "text": [
      "13\n"
     ]
    }
   ],
   "source": [
    "# Access the element with index value = 0\n",
    "print(series[0])"
   ]
  },
  {
   "cell_type": "code",
   "execution_count": 27,
   "id": "026c79af",
   "metadata": {},
   "outputs": [
    {
     "name": "stdout",
     "output_type": "stream",
     "text": [
      "0    13\n",
      "1    12\n",
      "dtype: int64\n"
     ]
    }
   ],
   "source": [
    "# Access the elements with index value = 0 and 1\n",
    "print(series[[0,1]])"
   ]
  },
  {
   "cell_type": "markdown",
   "id": "508c9551",
   "metadata": {},
   "source": [
    "However, if we use slicing ..."
   ]
  },
  {
   "cell_type": "code",
   "execution_count": 28,
   "id": "93c506df",
   "metadata": {},
   "outputs": [
    {
     "name": "stdout",
     "output_type": "stream",
     "text": [
      "3    10\n",
      "dtype: int64\n"
     ]
    }
   ],
   "source": [
    "# We use slicing to acces the index.\n",
    "# Question: Which value will be returned ?\n",
    "print(series[:1])"
   ]
  },
  {
   "cell_type": "markdown",
   "id": "d292b693",
   "metadata": {},
   "source": [
    "**Pandas does not look at the explicitly defined index! Instead, it looks at the implicit index! (the order of rows)**"
   ]
  },
  {
   "cell_type": "markdown",
   "id": "31066a9d",
   "metadata": {},
   "source": [
    "Because of this potential confusion in the case of integer indexes, Pandas provides some special indexer attributes which explicitly access certain indexing schemes. "
   ]
  },
  {
   "cell_type": "markdown",
   "id": "4c3c0ee8",
   "metadata": {},
   "source": [
    "#### Accessing Pandas Series using attributes"
   ]
  },
  {
   "cell_type": "markdown",
   "id": "9a29bd94",
   "metadata": {},
   "source": [
    "The `.loc` attribute allows indexing and slicing which **always references the explicit index**. We refer to the values in this index as **labels**."
   ]
  },
  {
   "cell_type": "code",
   "execution_count": 29,
   "id": "4ae133c4",
   "metadata": {},
   "outputs": [
    {
     "name": "stdout",
     "output_type": "stream",
     "text": [
      "13\n"
     ]
    }
   ],
   "source": [
    "# Access the index by label 0\n",
    "print(series.loc[0])"
   ]
  },
  {
   "cell_type": "code",
   "execution_count": 30,
   "id": "637f20d5",
   "metadata": {},
   "outputs": [
    {
     "name": "stdout",
     "output_type": "stream",
     "text": [
      "0    13\n",
      "1    12\n",
      "dtype: int64\n"
     ]
    }
   ],
   "source": [
    "# Get the element with label 0 and 1\n",
    "print(series.loc[[0,1]])"
   ]
  },
  {
   "cell_type": "code",
   "execution_count": 40,
   "id": "b3adf10c",
   "metadata": {},
   "outputs": [
    {
     "name": "stdout",
     "output_type": "stream",
     "text": [
      "3    10\n",
      "2    11\n",
      "1    12\n",
      "dtype: int64\n"
     ]
    }
   ],
   "source": [
    "# .loc with list slicing uses the explicit index\n",
    "# The index with value = 1 is the third value in the list. Hence, we obtain three values.\n",
    "print(series.loc[:1])"
   ]
  },
  {
   "cell_type": "markdown",
   "id": "6579289a",
   "metadata": {},
   "source": [
    "**Note that in contrast to conventional Python slicing, both the start and the stop are included when present in the index!**"
   ]
  },
  {
   "cell_type": "markdown",
   "id": "e8caf249",
   "metadata": {},
   "source": [
    "The implicit index can be explicitely access with the `.iloc` attribute."
   ]
  },
  {
   "cell_type": "code",
   "execution_count": 32,
   "id": "210e4d66",
   "metadata": {},
   "outputs": [
    {
     "name": "stdout",
     "output_type": "stream",
     "text": [
      "10\n"
     ]
    }
   ],
   "source": [
    "print(series.iloc[0])"
   ]
  },
  {
   "cell_type": "code",
   "execution_count": 33,
   "id": "e11799ae",
   "metadata": {},
   "outputs": [
    {
     "name": "stdout",
     "output_type": "stream",
     "text": [
      "3    10\n",
      "2    11\n",
      "dtype: int64\n"
     ]
    }
   ],
   "source": [
    "print(series.iloc[[0,1]])"
   ]
  },
  {
   "cell_type": "code",
   "execution_count": 34,
   "id": "07934f76",
   "metadata": {},
   "outputs": [
    {
     "name": "stdout",
     "output_type": "stream",
     "text": [
      "3    10\n",
      "dtype: int64\n"
     ]
    }
   ],
   "source": [
    "print(series.iloc[:1])"
   ]
  },
  {
   "cell_type": "markdown",
   "id": "46a276e2",
   "metadata": {},
   "source": [
    "## Data Selection in DataFrames"
   ]
  },
  {
   "cell_type": "code",
   "execution_count": 35,
   "id": "bb6b5e88",
   "metadata": {},
   "outputs": [],
   "source": [
    "df = pd.DataFrame([\n",
    "        {'column_1': 0, 'column_2': 'xasdf'},\n",
    "        {'column_1': 1, 'column_2': 'xasdf'},\n",
    "        {'column_1': 2, 'column_2': 'xasdf'},\n",
    "    ]\n",
    ")"
   ]
  },
  {
   "cell_type": "markdown",
   "id": "f4a636bc",
   "metadata": {},
   "source": [
    "Unlike the case for series, the `[]` operator indexes the columns of a dataframe. It allows us to select certain columns based on their names."
   ]
  },
  {
   "cell_type": "code",
   "execution_count": 36,
   "id": "6099c9ce",
   "metadata": {},
   "outputs": [
    {
     "name": "stdout",
     "output_type": "stream",
     "text": [
      "0    0\n",
      "1    1\n",
      "2    2\n",
      "Name: column_1, dtype: int64\n"
     ]
    }
   ],
   "source": [
    "print(df['column_1'])"
   ]
  },
  {
   "cell_type": "code",
   "execution_count": 37,
   "id": "ef064cfd",
   "metadata": {},
   "outputs": [
    {
     "name": "stdout",
     "output_type": "stream",
     "text": [
      "   column_1 column_2\n",
      "0         0    xasdf\n",
      "1         1    xasdf\n",
      "2         2    xasdf\n"
     ]
    }
   ],
   "source": [
    "print(df[['column_1', 'column_2']])"
   ]
  },
  {
   "cell_type": "markdown",
   "id": "163fd16c",
   "metadata": {},
   "source": [
    "But again, if we start slicing, the `[]` operator will slice the implicit index."
   ]
  },
  {
   "cell_type": "code",
   "execution_count": 38,
   "id": "c82eef11",
   "metadata": {},
   "outputs": [
    {
     "data": {
      "text/html": [
       "<div>\n",
       "<style scoped>\n",
       "    .dataframe tbody tr th:only-of-type {\n",
       "        vertical-align: middle;\n",
       "    }\n",
       "\n",
       "    .dataframe tbody tr th {\n",
       "        vertical-align: top;\n",
       "    }\n",
       "\n",
       "    .dataframe thead th {\n",
       "        text-align: right;\n",
       "    }\n",
       "</style>\n",
       "<table border=\"1\" class=\"dataframe\">\n",
       "  <thead>\n",
       "    <tr style=\"text-align: right;\">\n",
       "      <th></th>\n",
       "      <th>column_1</th>\n",
       "      <th>column_2</th>\n",
       "    </tr>\n",
       "  </thead>\n",
       "  <tbody>\n",
       "    <tr>\n",
       "      <th>0</th>\n",
       "      <td>0</td>\n",
       "      <td>xasdf</td>\n",
       "    </tr>\n",
       "  </tbody>\n",
       "</table>\n",
       "</div>"
      ],
      "text/plain": [
       "   column_1 column_2\n",
       "0         0    xasdf"
      ]
     },
     "execution_count": 38,
     "metadata": {},
     "output_type": "execute_result"
    }
   ],
   "source": [
    "# Returns the first row\n",
    "df[:1]"
   ]
  },
  {
   "cell_type": "markdown",
   "id": "16b4f415",
   "metadata": {},
   "source": [
    "However, note that training to access a specific row by writing `df[<row_idx>]` will throw an error. <br/>\n",
    "This happens because the provided value is not a slice. Hence, Pandas start to look for a column named `<row_idx>`."
   ]
  },
  {
   "cell_type": "code",
   "execution_count": 39,
   "id": "fc8982ca",
   "metadata": {},
   "outputs": [
    {
     "ename": "KeyError",
     "evalue": "0",
     "output_type": "error",
     "traceback": [
      "\u001b[0;31m---------------------------------------------------------------------------\u001b[0m",
      "\u001b[0;31mKeyError\u001b[0m                                  Traceback (most recent call last)",
      "File \u001b[0;32m~/.anaconda3/lib/python3.11/site-packages/pandas/core/indexes/base.py:3653\u001b[0m, in \u001b[0;36mIndex.get_loc\u001b[0;34m(self, key)\u001b[0m\n\u001b[1;32m   3652\u001b[0m \u001b[38;5;28;01mtry\u001b[39;00m:\n\u001b[0;32m-> 3653\u001b[0m     \u001b[38;5;28;01mreturn\u001b[39;00m \u001b[38;5;28mself\u001b[39m\u001b[38;5;241m.\u001b[39m_engine\u001b[38;5;241m.\u001b[39mget_loc(casted_key)\n\u001b[1;32m   3654\u001b[0m \u001b[38;5;28;01mexcept\u001b[39;00m \u001b[38;5;167;01mKeyError\u001b[39;00m \u001b[38;5;28;01mas\u001b[39;00m err:\n",
      "File \u001b[0;32m~/.anaconda3/lib/python3.11/site-packages/pandas/_libs/index.pyx:147\u001b[0m, in \u001b[0;36mpandas._libs.index.IndexEngine.get_loc\u001b[0;34m()\u001b[0m\n",
      "File \u001b[0;32m~/.anaconda3/lib/python3.11/site-packages/pandas/_libs/index.pyx:176\u001b[0m, in \u001b[0;36mpandas._libs.index.IndexEngine.get_loc\u001b[0;34m()\u001b[0m\n",
      "File \u001b[0;32mpandas/_libs/hashtable_class_helper.pxi:7080\u001b[0m, in \u001b[0;36mpandas._libs.hashtable.PyObjectHashTable.get_item\u001b[0;34m()\u001b[0m\n",
      "File \u001b[0;32mpandas/_libs/hashtable_class_helper.pxi:7088\u001b[0m, in \u001b[0;36mpandas._libs.hashtable.PyObjectHashTable.get_item\u001b[0;34m()\u001b[0m\n",
      "\u001b[0;31mKeyError\u001b[0m: 0",
      "\nThe above exception was the direct cause of the following exception:\n",
      "\u001b[0;31mKeyError\u001b[0m                                  Traceback (most recent call last)",
      "Cell \u001b[0;32mIn[39], line 1\u001b[0m\n\u001b[0;32m----> 1\u001b[0m df[\u001b[38;5;241m0\u001b[39m]\n",
      "File \u001b[0;32m~/.anaconda3/lib/python3.11/site-packages/pandas/core/frame.py:3761\u001b[0m, in \u001b[0;36mDataFrame.__getitem__\u001b[0;34m(self, key)\u001b[0m\n\u001b[1;32m   3759\u001b[0m \u001b[38;5;28;01mif\u001b[39;00m \u001b[38;5;28mself\u001b[39m\u001b[38;5;241m.\u001b[39mcolumns\u001b[38;5;241m.\u001b[39mnlevels \u001b[38;5;241m>\u001b[39m \u001b[38;5;241m1\u001b[39m:\n\u001b[1;32m   3760\u001b[0m     \u001b[38;5;28;01mreturn\u001b[39;00m \u001b[38;5;28mself\u001b[39m\u001b[38;5;241m.\u001b[39m_getitem_multilevel(key)\n\u001b[0;32m-> 3761\u001b[0m indexer \u001b[38;5;241m=\u001b[39m \u001b[38;5;28mself\u001b[39m\u001b[38;5;241m.\u001b[39mcolumns\u001b[38;5;241m.\u001b[39mget_loc(key)\n\u001b[1;32m   3762\u001b[0m \u001b[38;5;28;01mif\u001b[39;00m is_integer(indexer):\n\u001b[1;32m   3763\u001b[0m     indexer \u001b[38;5;241m=\u001b[39m [indexer]\n",
      "File \u001b[0;32m~/.anaconda3/lib/python3.11/site-packages/pandas/core/indexes/base.py:3655\u001b[0m, in \u001b[0;36mIndex.get_loc\u001b[0;34m(self, key)\u001b[0m\n\u001b[1;32m   3653\u001b[0m     \u001b[38;5;28;01mreturn\u001b[39;00m \u001b[38;5;28mself\u001b[39m\u001b[38;5;241m.\u001b[39m_engine\u001b[38;5;241m.\u001b[39mget_loc(casted_key)\n\u001b[1;32m   3654\u001b[0m \u001b[38;5;28;01mexcept\u001b[39;00m \u001b[38;5;167;01mKeyError\u001b[39;00m \u001b[38;5;28;01mas\u001b[39;00m err:\n\u001b[0;32m-> 3655\u001b[0m     \u001b[38;5;28;01mraise\u001b[39;00m \u001b[38;5;167;01mKeyError\u001b[39;00m(key) \u001b[38;5;28;01mfrom\u001b[39;00m \u001b[38;5;21;01merr\u001b[39;00m\n\u001b[1;32m   3656\u001b[0m \u001b[38;5;28;01mexcept\u001b[39;00m \u001b[38;5;167;01mTypeError\u001b[39;00m:\n\u001b[1;32m   3657\u001b[0m     \u001b[38;5;66;03m# If we have a listlike key, _check_indexing_error will raise\u001b[39;00m\n\u001b[1;32m   3658\u001b[0m     \u001b[38;5;66;03m#  InvalidIndexError. Otherwise we fall through and re-raise\u001b[39;00m\n\u001b[1;32m   3659\u001b[0m     \u001b[38;5;66;03m#  the TypeError.\u001b[39;00m\n\u001b[1;32m   3660\u001b[0m     \u001b[38;5;28mself\u001b[39m\u001b[38;5;241m.\u001b[39m_check_indexing_error(key)\n",
      "\u001b[0;31mKeyError\u001b[0m: 0"
     ]
    }
   ],
   "source": [
    "df[0]"
   ]
  },
  {
   "cell_type": "markdown",
   "id": "3c4a3b39",
   "metadata": {},
   "source": [
    "#### Accessing Pandas DataFrames using attributes"
   ]
  },
  {
   "cell_type": "markdown",
   "id": "a6726405",
   "metadata": {},
   "source": [
    "Again, to avoid any confusion, Pandas provides the `.iloc`, `.loc` attributes for dataframes."
   ]
  },
  {
   "cell_type": "code",
   "execution_count": null,
   "id": "ad427fd2",
   "metadata": {},
   "outputs": [],
   "source": [
    "df = pd.DataFrame([\n",
    "        {'column_1': 0, 'column_2': 'xasdf'},\n",
    "        {'column_1': 1, 'column_2': 'xasdf'},\n",
    "        {'column_1': 2, 'column_2': 'xasdf'},\n",
    "    ],\n",
    "    index = ['row_1', 'row_2', 'row_3']\n",
    ")"
   ]
  },
  {
   "cell_type": "markdown",
   "id": "c9c1bfac",
   "metadata": {},
   "source": [
    "Again, the implicit index can be accessed with `.iloc`."
   ]
  },
  {
   "cell_type": "code",
   "execution_count": null,
   "id": "6925660e",
   "metadata": {},
   "outputs": [],
   "source": [
    "# Returns the first row\n",
    "df.iloc[0]"
   ]
  },
  {
   "cell_type": "code",
   "execution_count": null,
   "id": "18627815",
   "metadata": {},
   "outputs": [],
   "source": [
    "# Returns the first two rows\n",
    "df.iloc[:2]"
   ]
  },
  {
   "cell_type": "markdown",
   "id": "0723c85e",
   "metadata": {},
   "source": [
    "However, there is also the possibility of accessing particular **cells** based on their position."
   ]
  },
  {
   "cell_type": "code",
   "execution_count": null,
   "id": "5ac8a6a5",
   "metadata": {},
   "outputs": [],
   "source": [
    "# Obtain the value at position row_idx=2 and column_1\n",
    "df.iloc[2,0]"
   ]
  },
  {
   "cell_type": "markdown",
   "id": "f16830b0",
   "metadata": {},
   "source": [
    "The `.loc` attribute can be used to access the explicitly defined index. We refer to the values in this index as **labels**."
   ]
  },
  {
   "cell_type": "code",
   "execution_count": null,
   "id": "f8205a57",
   "metadata": {},
   "outputs": [],
   "source": [
    "# Get row with label \"row_1\"\n",
    "print(df.loc['row_1'])"
   ]
  },
  {
   "cell_type": "markdown",
   "id": "3f56f6b1",
   "metadata": {},
   "source": [
    "Similarly, we can also access a particular cell based on the row label and the column label."
   ]
  },
  {
   "cell_type": "code",
   "execution_count": null,
   "id": "4531a859",
   "metadata": {},
   "outputs": [],
   "source": [
    "# Access the value at row label \"row_2\" and column label \"column_2\"\n",
    "df.loc['row_2'].loc['column_2']"
   ]
  },
  {
   "cell_type": "markdown",
   "id": "ae1b7f95",
   "metadata": {},
   "source": [
    "Alternatively, we can use a slightly more compact notation ..."
   ]
  },
  {
   "cell_type": "code",
   "execution_count": null,
   "id": "a56f7f9e",
   "metadata": {},
   "outputs": [],
   "source": [
    "df.loc['row_2', 'column_2']"
   ]
  },
  {
   "cell_type": "markdown",
   "id": "cf720fa3",
   "metadata": {},
   "source": [
    "Note that `.loc` can also handle binary masks ..."
   ]
  },
  {
   "cell_type": "code",
   "execution_count": null,
   "id": "54a6c871",
   "metadata": {},
   "outputs": [],
   "source": [
    "df.loc[[False, True, False]]"
   ]
  },
  {
   "cell_type": "markdown",
   "id": "6c7d8b8e",
   "metadata": {},
   "source": [
    "## Modifying a DataFrame\n",
    "\n",
    "Since we now understand how specific rows, columns, or cells can be selected in a Pandas dataframe, we now look at how to modify them."
   ]
  },
  {
   "cell_type": "code",
   "execution_count": null,
   "id": "a5ee07ac",
   "metadata": {},
   "outputs": [],
   "source": [
    "df = pd.DataFrame([\n",
    "        {'column_1': 0, 'column_2': 'xasdf'},\n",
    "        {'column_1': 1, 'column_2': 'xasdf'},\n",
    "        {'column_1': 2, 'column_2': 'xasdf'},\n",
    "    ],\n",
    "    index = ['row_1', 'row_2', 'row_3']\n",
    ")"
   ]
  },
  {
   "cell_type": "code",
   "execution_count": null,
   "id": "470433d0",
   "metadata": {},
   "outputs": [],
   "source": [
    "print(df)"
   ]
  },
  {
   "cell_type": "markdown",
   "id": "d730c724",
   "metadata": {},
   "source": [
    "### Set the value of a cell by its row and column label"
   ]
  },
  {
   "cell_type": "code",
   "execution_count": null,
   "id": "f53673bd",
   "metadata": {},
   "outputs": [],
   "source": [
    "df.loc['row_3', 'column_2'] = 'new'"
   ]
  },
  {
   "cell_type": "code",
   "execution_count": null,
   "id": "9be9341c",
   "metadata": {},
   "outputs": [],
   "source": [
    "print(df)"
   ]
  },
  {
   "cell_type": "markdown",
   "id": "d4f90e74",
   "metadata": {},
   "source": [
    "### Set cells with the value \"xasdf\" in column \"column_2\" to 4"
   ]
  },
  {
   "cell_type": "code",
   "execution_count": null,
   "id": "dc36795b",
   "metadata": {},
   "outputs": [],
   "source": [
    "df[df['column_2'] == 'xasdf'] = 4"
   ]
  },
  {
   "cell_type": "code",
   "execution_count": null,
   "id": "5f19c76e",
   "metadata": {},
   "outputs": [],
   "source": [
    "print(df)"
   ]
  },
  {
   "cell_type": "markdown",
   "id": "cb8388f5",
   "metadata": {},
   "source": [
    "### Set the row labeled \"row_3\" to ['a', 'b']"
   ]
  },
  {
   "cell_type": "code",
   "execution_count": null,
   "id": "4a2634d2",
   "metadata": {},
   "outputs": [],
   "source": [
    "# The order in which define the values in the list needs to be the same as the order of the rows in the dataframe.\n",
    "df.loc['row_3'] = ['a', 'b']"
   ]
  },
  {
   "cell_type": "code",
   "execution_count": null,
   "id": "f118a423",
   "metadata": {},
   "outputs": [],
   "source": [
    "print(df)"
   ]
  },
  {
   "cell_type": "code",
   "execution_count": null,
   "id": "79a58d5f",
   "metadata": {},
   "outputs": [],
   "source": [
    "# Alternatively, we can pass a dictionary where the keys represent column labels.\n",
    "df.loc['row_3'] = {'column_1': 'x', 'column_2':'y'}"
   ]
  },
  {
   "cell_type": "code",
   "execution_count": null,
   "id": "30cac5fe",
   "metadata": {},
   "outputs": [],
   "source": [
    "print(df)"
   ]
  },
  {
   "cell_type": "markdown",
   "id": "b2771924",
   "metadata": {},
   "source": [
    "### Set all rows where column_2 is equal to \"x\" to \"y\" "
   ]
  },
  {
   "cell_type": "code",
   "execution_count": null,
   "id": "d5e52354",
   "metadata": {},
   "outputs": [],
   "source": [
    "df = pd.DataFrame([\n",
    "        {'column_1': 0, 'column_2': 'xasdf'},\n",
    "        {'column_1': 1, 'column_2': 'xasdf'},\n",
    "        {'column_1': 2, 'column_2': 'x'},\n",
    "    ],\n",
    "    index = ['row_1', 'row_2', 'row_3']\n",
    ")"
   ]
  },
  {
   "cell_type": "code",
   "execution_count": null,
   "id": "aa42d89d",
   "metadata": {},
   "outputs": [],
   "source": [
    "df.loc[df['column_2'] == 'x'] = 'y'"
   ]
  },
  {
   "cell_type": "code",
   "execution_count": null,
   "id": "9b9f0dec",
   "metadata": {},
   "outputs": [],
   "source": [
    "print(df)"
   ]
  },
  {
   "cell_type": "markdown",
   "id": "4146abf2",
   "metadata": {},
   "source": [
    "### Add a new row with label row_4"
   ]
  },
  {
   "cell_type": "code",
   "execution_count": null,
   "id": "572d9308",
   "metadata": {},
   "outputs": [],
   "source": [
    "df.loc['row_4'] = [1, 2]"
   ]
  },
  {
   "cell_type": "code",
   "execution_count": null,
   "id": "57cfd480",
   "metadata": {},
   "outputs": [],
   "source": [
    "print(df)"
   ]
  }
 ],
 "metadata": {
  "kernelspec": {
   "display_name": "Python 3 (ipykernel)",
   "language": "python",
   "name": "python3"
  },
  "language_info": {
   "codemirror_mode": {
    "name": "ipython",
    "version": 3
   },
   "file_extension": ".py",
   "mimetype": "text/x-python",
   "name": "python",
   "nbconvert_exporter": "python",
   "pygments_lexer": "ipython3",
   "version": "3.11.5"
  }
 },
 "nbformat": 4,
 "nbformat_minor": 5
}
