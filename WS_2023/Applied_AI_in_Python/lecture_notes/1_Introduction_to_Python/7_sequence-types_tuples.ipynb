{
 "cells": [
  {
   "cell_type": "markdown",
   "id": "5db2700e",
   "metadata": {},
   "source": [
    "# Sequence Types"
   ]
  },
  {
   "cell_type": "markdown",
   "id": "20d07fc5",
   "metadata": {},
   "source": [
    "Sequences allow you to store multiple values in an organized and efficient fashion. <br />\n",
    "There are three basic sequence types: `list`, `tuple`, and `range` objects. However, strictly speaking, strings aslo fall in the category of sequence types.\n",
    "\n",
    "As such, lists, strings, and the other sequence types in Python all share a common interface for allowing users to inspect, retrieve, and summarize their contents.\n",
    "\n",
    "In this notebook we will take a closer look at tuples."
   ]
  },
  {
   "cell_type": "markdown",
   "id": "4e2443d7",
   "metadata": {},
   "source": [
    "## Tuples\n",
    "\n",
    "Tuples are very similar to lists. They can store a sequence of arbitrary objects (a mix of numbers, strings, lists, other tuples, etc.). <br />\n",
    "Like lists, tuples are **ordered** and **allow duplicate values**. However, unlike lists, tuples are **immutable**.\n",
    "\n",
    "In general, tuples consume less memory than do lists, since it is known that a tuple will not change in size (at least this applies in CPython). Furthermore, tuples come in handy when you want to ensure that a sequence of data cannot be changed by subsequent code."
   ]
  },
  {
   "cell_type": "markdown",
   "id": "5124fe18",
   "metadata": {},
   "source": [
    "### Creating tuples"
   ]
  },
  {
   "cell_type": "markdown",
   "id": "a83c223b",
   "metadata": {},
   "source": [
    "Tuples are created as follows:"
   ]
  },
  {
   "cell_type": "code",
   "execution_count": 1,
   "id": "124fda78",
   "metadata": {},
   "outputs": [],
   "source": [
    "t = (1, 2, 'three')"
   ]
  },
  {
   "cell_type": "markdown",
   "id": "bcefd800",
   "metadata": {},
   "source": [
    "Note that technically the parentheses are redundant. In other words, we can also create the tuple as follows:"
   ]
  },
  {
   "cell_type": "code",
   "execution_count": 2,
   "id": "18ef630e",
   "metadata": {},
   "outputs": [],
   "source": [
    "# This also creates a tuple.\n",
    "# Note that the parentheses are missing.\n",
    "t = 1, 2, 'three'"
   ]
  },
  {
   "cell_type": "markdown",
   "id": "3edd12ba",
   "metadata": {},
   "source": [
    "#### How can we create a tuple composed of a single element?"
   ]
  },
  {
   "cell_type": "markdown",
   "id": "1bbcdcfa",
   "metadata": {},
   "source": [
    "Let's assume we want to create a tuple that is only composed of a single element using the syntax we used previously."
   ]
  },
  {
   "cell_type": "code",
   "execution_count": 3,
   "id": "7358bca3",
   "metadata": {},
   "outputs": [
    {
     "name": "stdout",
     "output_type": "stream",
     "text": [
      "<class 'int'>\n"
     ]
    }
   ],
   "source": [
    "t_with_single_element = (3)\n",
    "\n",
    "# This does NOT create a tuple!\n",
    "print(type(t_with_single_element))"
   ]
  },
  {
   "cell_type": "markdown",
   "id": "d80dd9a6",
   "metadata": {},
   "source": [
    "So, apparently, the syntax we used previously fails to create a tuple and returns an integer instead."
   ]
  },
  {
   "cell_type": "markdown",
   "id": "cda83910",
   "metadata": {},
   "source": [
    "However, if we add the trailing comma ..."
   ]
  },
  {
   "cell_type": "code",
   "execution_count": 4,
   "id": "ccfdeb6a",
   "metadata": {},
   "outputs": [
    {
     "name": "stdout",
     "output_type": "stream",
     "text": [
      "<class 'tuple'>\n"
     ]
    }
   ],
   "source": [
    "t_with_single_element = (3,)\n",
    "\n",
    "# Now we created the tuple correctly!\n",
    "print(type(t_with_single_element))"
   ]
  },
  {
   "cell_type": "markdown",
   "id": "c4021cb1",
   "metadata": {},
   "source": [
    "**Trailing commas are usually optional, except they are mandatory when making a tuple of one element.**"
   ]
  },
  {
   "cell_type": "markdown",
   "id": "0529de04",
   "metadata": {},
   "source": [
    "## List indexing and slicing"
   ]
  },
  {
   "cell_type": "markdown",
   "id": "337ef035",
   "metadata": {},
   "source": [
    "Since tuples fall into the category of sequence types, they can be indexed and sliced similar to lists."
   ]
  },
  {
   "cell_type": "code",
   "execution_count": 5,
   "id": "b9a000d0",
   "metadata": {},
   "outputs": [],
   "source": [
    "# Create tuple composed of numbers from 1 to 10\n",
    "t = (1, 2, 3, 4, 5, 6, 7, 8, 9, 10)"
   ]
  },
  {
   "cell_type": "code",
   "execution_count": 6,
   "id": "5fab7393",
   "metadata": {},
   "outputs": [
    {
     "name": "stdout",
     "output_type": "stream",
     "text": [
      "5\n"
     ]
    }
   ],
   "source": [
    "# Access the element at position 4 (fifth element in the list) in the tuple\n",
    "print(t[4])"
   ]
  },
  {
   "cell_type": "code",
   "execution_count": 7,
   "id": "583f9d8b",
   "metadata": {},
   "outputs": [
    {
     "name": "stdout",
     "output_type": "stream",
     "text": [
      "(5, 6, 7, 8)\n"
     ]
    }
   ],
   "source": [
    "# Slice the list. Get the elements at position 4 until (excl.) 8\n",
    "print(t[4:8])"
   ]
  },
  {
   "cell_type": "code",
   "execution_count": 8,
   "id": "4348dc61",
   "metadata": {},
   "outputs": [
    {
     "name": "stdout",
     "output_type": "stream",
     "text": [
      "(10, 10, 10, 10)\n"
     ]
    }
   ],
   "source": [
    "# Create a tuple composed of ten ones\n",
    "# Note the trailing comma (!)\n",
    "t = (10,) * 4\n",
    "print(t)"
   ]
  },
  {
   "cell_type": "markdown",
   "id": "602c9a48",
   "metadata": {},
   "source": [
    "#### Tuples are immutable\n",
    "\n",
    "Unlike lists, tuples are immutable. This means that we cannot update a tuple after creating."
   ]
  },
  {
   "cell_type": "code",
   "execution_count": 9,
   "id": "0a5071fe",
   "metadata": {},
   "outputs": [
    {
     "ename": "TypeError",
     "evalue": "'tuple' object does not support item assignment",
     "output_type": "error",
     "traceback": [
      "\u001b[0;31m---------------------------------------------------------------------------\u001b[0m",
      "\u001b[0;31mTypeError\u001b[0m                                 Traceback (most recent call last)",
      "Cell \u001b[0;32mIn[9], line 2\u001b[0m\n\u001b[1;32m      1\u001b[0m \u001b[38;5;66;03m# This operation throws an error\u001b[39;00m\n\u001b[0;32m----> 2\u001b[0m t[\u001b[38;5;241m0\u001b[39m] \u001b[38;5;241m=\u001b[39m \u001b[38;5;241m11\u001b[39m\n",
      "\u001b[0;31mTypeError\u001b[0m: 'tuple' object does not support item assignment"
     ]
    }
   ],
   "source": [
    "# This operation throws an error\n",
    "t[0] = 11"
   ]
  },
  {
   "cell_type": "markdown",
   "id": "4e6e383f",
   "metadata": {},
   "source": [
    "## Sequence methods"
   ]
  },
  {
   "cell_type": "markdown",
   "id": "6df06449",
   "metadata": {},
   "source": [
    "Since tuples cannot be altered, most methods that are available for lists, are not available for tuples (as they would require to alter the tuple). For instance, operations such as `remove`, `pop` or `insert`."
   ]
  },
  {
   "cell_type": "markdown",
   "id": "287726b1",
   "metadata": {},
   "source": [
    "However, tuples support all operations that do not require to alter the tuple"
   ]
  },
  {
   "cell_type": "markdown",
   "id": "75d362f7",
   "metadata": {},
   "source": [
    "##### Count how often a certain elements appears in the tuple with `count()`"
   ]
  },
  {
   "cell_type": "code",
   "execution_count": null,
   "id": "7170dd67",
   "metadata": {},
   "outputs": [],
   "source": [
    "t = (1, 1, 2, 3)\n",
    "\n",
    "print(t.count(1))"
   ]
  },
  {
   "cell_type": "markdown",
   "id": "d17c0f76",
   "metadata": {},
   "source": [
    "**Get the index of the first occurrence of a given element in the tuple**"
   ]
  },
  {
   "cell_type": "code",
   "execution_count": null,
   "id": "c8fa7e59",
   "metadata": {},
   "outputs": [],
   "source": [
    "t = (1, 1, 2, 3)\n",
    "\n",
    "print('Index of the first element being equal to 1:', t.index(1))\n",
    "print('Index of the first element being equal to 2:', t.index(2))"
   ]
  },
  {
   "cell_type": "markdown",
   "id": "e7711683",
   "metadata": {},
   "source": [
    "## Membership checking\n",
    "\n",
    "Membership checks can be performed similarly to lists. In other words, we can also use `in` and `not in` statements to check whether a certain element is in a tuple."
   ]
  },
  {
   "cell_type": "code",
   "execution_count": null,
   "id": "ee3d9bc8",
   "metadata": {},
   "outputs": [],
   "source": [
    "t = (1, 2, 3, 4, 5)"
   ]
  },
  {
   "cell_type": "code",
   "execution_count": null,
   "id": "7b4542bf",
   "metadata": {},
   "outputs": [],
   "source": [
    "# Check whether the value 3 appears in the tuple\n",
    "print(3 in t)"
   ]
  },
  {
   "cell_type": "code",
   "execution_count": null,
   "id": "d00cca9e",
   "metadata": {},
   "outputs": [],
   "source": [
    "# Check whether the value 6 appears in the tuple\n",
    "print(6 in t)"
   ]
  },
  {
   "cell_type": "code",
   "execution_count": null,
   "id": "413bc980",
   "metadata": {},
   "outputs": [],
   "source": []
  }
 ],
 "metadata": {
  "kernelspec": {
   "display_name": "Python 3 (ipykernel)",
   "language": "python",
   "name": "python3"
  },
  "language_info": {
   "codemirror_mode": {
    "name": "ipython",
    "version": 3
   },
   "file_extension": ".py",
   "mimetype": "text/x-python",
   "name": "python",
   "nbconvert_exporter": "python",
   "pygments_lexer": "ipython3",
   "version": "3.11.5"
  }
 },
 "nbformat": 4,
 "nbformat_minor": 5
}
