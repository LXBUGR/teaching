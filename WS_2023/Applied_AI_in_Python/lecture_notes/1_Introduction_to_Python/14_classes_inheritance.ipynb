{
 "cells": [
  {
   "cell_type": "markdown",
   "id": "68c0bb9c",
   "metadata": {},
   "source": [
    "# Classes: Inheritance"
   ]
  },
  {
   "cell_type": "markdown",
   "id": "5dbd125e",
   "metadata": {},
   "source": [
    "Last but not least, we will learn how inheritance can be implemented in Python. \n",
    "\n",
    "Python supports single inheritance as well as multiple inheritance (one class can have multiple parents); that is, the inheritance model is closer to C++ than Java. With multiple inheritance, there's always the question of how methods are resolved when declared at multiple places in the class hierarchy. In Python, the method resolution order is in general, depth-first."
   ]
  },
  {
   "cell_type": "markdown",
   "id": "8fbf4fe8",
   "metadata": {},
   "source": [
    "## Example: Single inheritance\n",
    "Let's copy `class Person` from the previous tutorial. We want to define a new class `Student` that inherits from class `Person` as any student instance should behave like a person."
   ]
  },
  {
   "cell_type": "markdown",
   "id": "6781477a",
   "metadata": {},
   "source": [
    "First, we simply `class Person` from the previous tutorial ..."
   ]
  },
  {
   "cell_type": "code",
   "execution_count": 36,
   "id": "a9974339",
   "metadata": {},
   "outputs": [],
   "source": [
    "class Person:\n",
    "\n",
    "    def __init__(self, first_name, last_name, svn):\n",
    "\n",
    "        self.first_name = first_name\n",
    "        self.last_name = last_name\n",
    "        self._svn = svn\n",
    "        \n",
    "\n",
    "    @property\n",
    "    def svn(self):\n",
    "        return self._svn\n",
    "    \n",
    "    @property\n",
    "    def full_name(self):\n",
    "        return f'{self.first_name} {self.last_name}' \n",
    "    \n",
    "    # Implement a setter for full_name\n",
    "    @full_name.setter\n",
    "    def full_name(self, full_name):\n",
    "        self.first_name = full_name.split(' ')[0]\n",
    "        self.last_name = full_name.split(' ')[1]\n",
    "           \n",
    "    def __str__(self):\n",
    "        return f'{self.first_name} {self.last_name}' \n",
    "    \n",
    "    def __repr__(self):\n",
    "        return f'Person(first_name=\"{self.first_name}\", last_name=\"{self.last_name}\")' "
   ]
  },
  {
   "cell_type": "markdown",
   "id": "4e210160",
   "metadata": {},
   "source": [
    "Next, we implement `class Student` ..."
   ]
  },
  {
   "cell_type": "code",
   "execution_count": 56,
   "id": "5aad121b",
   "metadata": {},
   "outputs": [],
   "source": [
    "# Class Student should inherit from class Person. \n",
    "# In order to tell Python about the inheritance relationship, we have to add the parent class Person\n",
    "# inside the brackets\n",
    "class Student(Person):\n",
    "\n",
    "    # In order to properly initialize student instances, we require all properties of \"class Person\"\n",
    "    # and a new property Matrikelnummer (mat_nr). This properties should be set upon creation.\n",
    "    # Hence, we pass them to the constructor\n",
    "    def __init__(self, first_name, last_name, svn, mat_nr):\n",
    "        \n",
    "        # Call the constructor of the parent class\n",
    "        # This is important otherwise the attributes of the parent class won't be set\n",
    "        super().__init__(first_name, last_name, svn)\n",
    "\n",
    "        self.mat_nr = mat_nr \n",
    "        \n",
    "    # Wait, <mat_nr> won't get printed if we call __repr__() from the parent class.\n",
    "    # Therefore, we need to override the __repr__() method and at the missing attribute.\n",
    "    def __repr__(self):\n",
    "        return f'Student(first_name=\"{self.first_name}\", last_name=\"{self.last_name}\", mat_nr=\"{self.mat_nr}\")' \n",
    "        "
   ]
  },
  {
   "cell_type": "markdown",
   "id": "abc0ca3f",
   "metadata": {},
   "source": [
    "As mentioned in the comment, it's important not to forget to call the constructor of the parent class. In order to do that, we need access to the parent class object. This access can be obtained with the `super()` method. Technically, `super()` returns a proxy object (temporary object of the superclass) that allows us to access methods of the base class. Via this proxy object, we can then access the constructor `__init__()` of the base class."
   ]
  },
  {
   "cell_type": "markdown",
   "id": "bca26019",
   "metadata": {},
   "source": [
    "Let's see whether our code works correctly by creating a student instance."
   ]
  },
  {
   "cell_type": "code",
   "execution_count": 48,
   "id": "cffafd3d",
   "metadata": {},
   "outputs": [],
   "source": [
    "s = Student('John', 'Dow', '20130305', '13058354')"
   ]
  },
  {
   "cell_type": "markdown",
   "id": "e695808e",
   "metadata": {},
   "source": [
    "As can be seen, we now have access to all attributes and methods defined by `class Person` als well as `class Student`."
   ]
  },
  {
   "cell_type": "code",
   "execution_count": 49,
   "id": "7375cffa",
   "metadata": {},
   "outputs": [
    {
     "name": "stdout",
     "output_type": "stream",
     "text": [
      "Full name: John Dow\n",
      "Mat Nr: 13058354\n",
      "John Dow\n",
      "Student(first_name=\"John\", last_name=\"Dow\", mat_nr=\"13058354\")\n"
     ]
    }
   ],
   "source": [
    "print('Full name:', s.full_name)\n",
    "print('Mat Nr:', s.mat_nr)\n",
    "print(s)\n",
    "print(repr(s))"
   ]
  },
  {
   "cell_type": "markdown",
   "id": "cd3de760",
   "metadata": {},
   "source": [
    "## Example: Multiple inheritance"
   ]
  },
  {
   "cell_type": "markdown",
   "id": "980a99f1",
   "metadata": {},
   "source": [
    "We have already mentioned that Python not only support single inheritance but also multiple inheritance. This simply means that a Python class can have multiple parent classes."
   ]
  },
  {
   "cell_type": "markdown",
   "id": "cedcfcdf",
   "metadata": {},
   "source": [
    "Let's take a look at the following example to see how multiple inheritance works in practice."
   ]
  },
  {
   "cell_type": "code",
   "execution_count": 134,
   "id": "90a70004",
   "metadata": {},
   "outputs": [],
   "source": [
    "class A:\n",
    "    def __init__(self):\n",
    "        print('A')\n",
    "        super().__init__()\n",
    "    \n",
    "class B:\n",
    "    def __init__(self):\n",
    "        print('B')\n",
    "        super().__init__()\n",
    "\n",
    "class C(A, B):\n",
    "    def __init__(self):\n",
    "        print('C')\n",
    "        super().__init__()\n"
   ]
  },
  {
   "cell_type": "markdown",
   "id": "fe8f8b5a",
   "metadata": {},
   "source": [
    "Now we can in which order the different constructors are executed ..."
   ]
  },
  {
   "cell_type": "code",
   "execution_count": 136,
   "id": "c5d53be0",
   "metadata": {},
   "outputs": [
    {
     "name": "stdout",
     "output_type": "stream",
     "text": [
      "C\n",
      "A\n",
      "B\n"
     ]
    },
    {
     "data": {
      "text/plain": [
       "<__main__.C at 0x7fd6b7bb4ad0>"
      ]
     },
     "execution_count": 136,
     "metadata": {},
     "output_type": "execute_result"
    }
   ],
   "source": [
    "C()"
   ]
  },
  {
   "cell_type": "markdown",
   "id": "c8e10628",
   "metadata": {},
   "source": [
    "The order in which the different methods are executed is determined by the **MRO (Multi Resolution Order)**. <br/>\n",
    "Generally, we can say that Python searches from bottom to top and left to right. This means that, first, the method is searched in the class of the object. If it’s not found, it is searched in the immediate super class. In the case of multiple super classes, it is searched left to right, in the order by which was declared by the developer."
   ]
  },
  {
   "cell_type": "markdown",
   "id": "abed3fee",
   "metadata": {},
   "source": [
    "Let's take a look class hierarchy that is slightly more advanced ..."
   ]
  },
  {
   "cell_type": "code",
   "execution_count": 142,
   "id": "00d57ec6",
   "metadata": {},
   "outputs": [],
   "source": [
    "class A:\n",
    "    def __init__(self):\n",
    "        print('A')\n",
    "        super().__init__()\n",
    "\n",
    "class B:\n",
    "    def __init__(self):\n",
    "        print('B')\n",
    "        super().__init__()\n",
    "\n",
    "class C(A, B):\n",
    "    def __init__(self):\n",
    "        print('C')\n",
    "        super().__init__()\n",
    "\n",
    "class D(C, B):\n",
    "    def __init__(self):\n",
    "        print('D')\n",
    "        super().__init__()"
   ]
  },
  {
   "cell_type": "code",
   "execution_count": 140,
   "id": "4618afe3",
   "metadata": {},
   "outputs": [
    {
     "name": "stdout",
     "output_type": "stream",
     "text": [
      "D\n",
      "C\n",
      "A\n",
      "B\n"
     ]
    },
    {
     "data": {
      "text/plain": [
       "<__main__.D at 0x7fd6b7ba4850>"
      ]
     },
     "execution_count": 140,
     "metadata": {},
     "output_type": "execute_result"
    }
   ],
   "source": [
    "D()"
   ]
  },
  {
   "cell_type": "markdown",
   "id": "29e22114",
   "metadata": {},
   "source": [
    "Easy, right? Well, unfortunately it is not. <br/>\n",
    "The MRO can be a little bit tricky if class hierarchies become more complex as we can see in the following example ..."
   ]
  },
  {
   "cell_type": "code",
   "execution_count": 149,
   "id": "57b17a6e",
   "metadata": {},
   "outputs": [],
   "source": [
    "class A:\n",
    "    def __init__(self):\n",
    "        print('A')\n",
    "        super().__init__()\n",
    "\n",
    "class B:\n",
    "    def __init__(self):\n",
    "        print('B')\n",
    "        super().__init__()\n",
    "\n",
    "class C(A):\n",
    "    def __init__(self):\n",
    "        print('C')\n",
    "        super().__init__()\n",
    "\n",
    "class D(B):\n",
    "    def __init__(self):\n",
    "        print('D')\n",
    "        super().__init__()\n",
    "        \n",
    "class E(B):\n",
    "    def __init__(self):\n",
    "        print('E')\n",
    "        super().__init__()\n",
    "        \n",
    "class F(C, D, E):\n",
    "    def __init__(self):\n",
    "        print('F')\n",
    "        super().__init__()"
   ]
  },
  {
   "cell_type": "code",
   "execution_count": 150,
   "id": "7d203dc3",
   "metadata": {},
   "outputs": [
    {
     "name": "stdout",
     "output_type": "stream",
     "text": [
      "F\n",
      "C\n",
      "A\n",
      "D\n",
      "E\n",
      "B\n"
     ]
    },
    {
     "data": {
      "text/plain": [
       "<__main__.F at 0x7fd6b7badc90>"
      ]
     },
     "execution_count": 150,
     "metadata": {},
     "output_type": "execute_result"
    }
   ],
   "source": [
    "F()"
   ]
  },
  {
   "cell_type": "markdown",
   "id": "5c67a469",
   "metadata": {},
   "source": [
    "Note that E is printed before B. The reason for this is the [L3 linarization algorithm](https://en.wikipedia.org/wiki/C3_linearization)."
   ]
  },
  {
   "cell_type": "markdown",
   "id": "1ba2ac5c",
   "metadata": {},
   "source": [
    "### Wait, but what if our algorithm requires sub-classes for construction?"
   ]
  },
  {
   "cell_type": "markdown",
   "id": "678f8c02",
   "metadata": {},
   "source": [
    "**Answer:** We need to pass them as named arguments and all parent classes need to support named arguments"
   ]
  },
  {
   "cell_type": "code",
   "execution_count": 168,
   "id": "22b44367",
   "metadata": {},
   "outputs": [],
   "source": [
    "class A:\n",
    "    def __init__(self, arg_a, **kwargs):\n",
    "        print('A', arg_a)\n",
    "        super().__init__(**kwargs)\n",
    "\n",
    "class B:\n",
    "    def __init__(self, arg_b, **kwargs):\n",
    "        print('B', arg_b)\n",
    "        super().__init__(**kwargs)\n",
    "\n",
    "class C(A, B):\n",
    "    def __init__(self, arg_a, arg_b):\n",
    "        print('C')\n",
    "        super().__init__(arg_a=arg_a, arg_b=arg_b)"
   ]
  },
  {
   "cell_type": "code",
   "execution_count": 169,
   "id": "b8a3ce7f",
   "metadata": {},
   "outputs": [
    {
     "name": "stdout",
     "output_type": "stream",
     "text": [
      "C\n",
      "A a\n",
      "B b\n"
     ]
    },
    {
     "data": {
      "text/plain": [
       "<__main__.C at 0x7fd6b799b5d0>"
      ]
     },
     "execution_count": 169,
     "metadata": {},
     "output_type": "execute_result"
    }
   ],
   "source": [
    "C('a', 'b')"
   ]
  }
 ],
 "metadata": {
  "kernelspec": {
   "display_name": "Python 3 (ipykernel)",
   "language": "python",
   "name": "python3"
  },
  "language_info": {
   "codemirror_mode": {
    "name": "ipython",
    "version": 3
   },
   "file_extension": ".py",
   "mimetype": "text/x-python",
   "name": "python",
   "nbconvert_exporter": "python",
   "pygments_lexer": "ipython3",
   "version": "3.11.3"
  }
 },
 "nbformat": 4,
 "nbformat_minor": 5
}
