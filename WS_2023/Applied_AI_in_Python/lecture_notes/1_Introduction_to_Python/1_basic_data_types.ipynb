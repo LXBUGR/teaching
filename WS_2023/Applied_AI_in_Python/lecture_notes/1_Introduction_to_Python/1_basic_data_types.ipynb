{
 "cells": [
  {
   "cell_type": "markdown",
   "id": "1be50908",
   "metadata": {},
   "source": [
    "# Basic Data Types in Python"
   ]
  },
  {
   "cell_type": "markdown",
   "id": "a6eca5cb",
   "metadata": {},
   "source": [
    "### Integer"
   ]
  },
  {
   "cell_type": "markdown",
   "id": "72f634dc",
   "metadata": {},
   "source": [
    "By default, any number without a decimal point becomes an integer. <br/>\n",
    "We can obtain the type of a variable with the `type()` method."
   ]
  },
  {
   "cell_type": "code",
   "execution_count": 12,
   "id": "936c94b9",
   "metadata": {},
   "outputs": [
    {
     "name": "stdout",
     "output_type": "stream",
     "text": [
      "<class 'int'>\n",
      "<class 'int'>\n"
     ]
    }
   ],
   "source": [
    "print(type(-123))\n",
    "print(type(123))"
   ]
  },
  {
   "cell_type": "markdown",
   "id": "37bc2d21",
   "metadata": {},
   "source": [
    "Note the term \"class\" in the printed lines. In Python, everything, even the primitive types, are objects. <br/>\n",
    "All integer values are objects of the class `ìnt`."
   ]
  },
  {
   "cell_type": "markdown",
   "id": "1d5c7f8d",
   "metadata": {},
   "source": [
    "Unlike in Java, in Python3 integer values do not have a max limit. We can handle values as large as the available memory allows.\n",
    "\n",
    "**Caution:** This only applies to Python3. In Python2, things were different. There were two types: `int` (limited length) and `long` (unlimited length)."
   ]
  },
  {
   "cell_type": "code",
   "execution_count": 32,
   "id": "2de9356c",
   "metadata": {},
   "outputs": [
    {
     "name": "stdout",
     "output_type": "stream",
     "text": [
      "10000000000000000000000000000000000000000000000000000000000000000000000000000000000000000000000000000000000000000000000000000000000000000000000000000000000000000000000000000000000000000000000000000000000000000000000000000000000000000000000000000000000000000000000000000000000000000000000000000000000000000000000000000000000000000000000000000000000000000000000000000000000000000000000000000000000000000000000000000000000000000000000000000000000000000000000000000000000000000000000000000000000000000000000000000000000000000000000000000000000000000000000000000000000000000000000000000000000000000000000000000000000000000000000000000000000000000000000000000000000000000000000000000000000000000000000000000000000000000000000000000000000000000000000000000000000000000000000000000000000000000000000000000000000000000000000000000000000000000000000000000000000000000000000000000000000000000000000000000000000000000000000000000000000000000000000000000000000000000000000000000000000000000000000000000000000000000\n"
     ]
    }
   ],
   "source": [
    "print(10**1000)"
   ]
  },
  {
   "cell_type": "markdown",
   "id": "70b027c2",
   "metadata": {},
   "source": [
    "### Float"
   ]
  },
  {
   "cell_type": "markdown",
   "id": "f56327c1",
   "metadata": {},
   "source": [
    "Everything with digits only becomes a `float`."
   ]
  },
  {
   "cell_type": "code",
   "execution_count": 37,
   "id": "f3443fb4",
   "metadata": {},
   "outputs": [
    {
     "name": "stdout",
     "output_type": "stream",
     "text": [
      "<class 'float'>\n",
      "<class 'float'>\n"
     ]
    }
   ],
   "source": [
    "print(type(3423.4))\n",
    "print(type(-3423.4))"
   ]
  },
  {
   "cell_type": "markdown",
   "id": "1c28bb67",
   "metadata": {},
   "source": [
    "Floats are represented as 64-bit double-precision (type double in c) values. <br/> \n",
    "Floating point numbers can be in the range of -1.7976931348623157e+308 and 1.7976931348623157e+308."
   ]
  },
  {
   "cell_type": "markdown",
   "id": "c08abb8f",
   "metadata": {},
   "source": [
    "We can verify this using the `sys` module."
   ]
  },
  {
   "cell_type": "code",
   "execution_count": 50,
   "id": "4d4177bf",
   "metadata": {},
   "outputs": [
    {
     "name": "stdout",
     "output_type": "stream",
     "text": [
      "1.7976931348623157e+308\n",
      "2.2250738585072014e-308\n"
     ]
    }
   ],
   "source": [
    "import sys\n",
    "print(sys.float_info.max)\n",
    "print(sys.float_info.min)"
   ]
  },
  {
   "cell_type": "code",
   "execution_count": 52,
   "id": "23102ef6",
   "metadata": {},
   "outputs": [
    {
     "name": "stdout",
     "output_type": "stream",
     "text": [
      "1.7976931348623157e+308\n",
      "-1.7976931348623157e+308\n"
     ]
    }
   ],
   "source": [
    "print(1.7976931348623157e+308)\n",
    "print(-1.7976931348623157e+308)"
   ]
  },
  {
   "cell_type": "markdown",
   "id": "b5733777",
   "metadata": {},
   "source": [
    "If we further increase the number, it becomes infinity."
   ]
  },
  {
   "cell_type": "code",
   "execution_count": 54,
   "id": "eca645cd",
   "metadata": {},
   "outputs": [
    {
     "name": "stdout",
     "output_type": "stream",
     "text": [
      "inf\n"
     ]
    }
   ],
   "source": [
    "print(1.7976931348623159e+308)"
   ]
  },
  {
   "cell_type": "markdown",
   "id": "2e5ffe9c",
   "metadata": {},
   "source": [
    "### Boolean"
   ]
  },
  {
   "cell_type": "markdown",
   "id": "875b7dbd",
   "metadata": {},
   "source": [
    "Boolean values can be defined using the constants `True` or `False`."
   ]
  },
  {
   "cell_type": "code",
   "execution_count": 56,
   "id": "69ae7d19",
   "metadata": {},
   "outputs": [
    {
     "name": "stdout",
     "output_type": "stream",
     "text": [
      "True\n",
      "False\n"
     ]
    }
   ],
   "source": [
    "print(True)\n",
    "print(False)"
   ]
  },
  {
   "cell_type": "code",
   "execution_count": 57,
   "id": "b8369b65",
   "metadata": {},
   "outputs": [
    {
     "name": "stdout",
     "output_type": "stream",
     "text": [
      "<class 'bool'>\n",
      "<class 'bool'>\n"
     ]
    }
   ],
   "source": [
    "print(type(True))\n",
    "print(type(False))"
   ]
  },
  {
   "cell_type": "markdown",
   "id": "ac7c8a35",
   "metadata": {},
   "source": [
    "Note that unlike in Java, the first letter is capitalized."
   ]
  },
  {
   "cell_type": "code",
   "execution_count": 58,
   "id": "c0779021",
   "metadata": {},
   "outputs": [
    {
     "ename": "NameError",
     "evalue": "name 'true' is not defined",
     "output_type": "error",
     "traceback": [
      "\u001b[0;31m---------------------------------------------------------------------------\u001b[0m",
      "\u001b[0;31mNameError\u001b[0m                                 Traceback (most recent call last)",
      "Cell \u001b[0;32mIn[58], line 1\u001b[0m\n\u001b[0;32m----> 1\u001b[0m \u001b[38;5;28mprint\u001b[39m(true)\n",
      "\u001b[0;31mNameError\u001b[0m: name 'true' is not defined"
     ]
    }
   ],
   "source": [
    "print(true)"
   ]
  },
  {
   "cell_type": "markdown",
   "id": "5c41d074",
   "metadata": {},
   "source": [
    "### Strings"
   ]
  },
  {
   "cell_type": "markdown",
   "id": "927dc618",
   "metadata": {},
   "source": [
    "Python does not have a specific data type to represent characters like Java. <br/>\n",
    "Instead, it has built-in support for strings."
   ]
  },
  {
   "cell_type": "markdown",
   "id": "49fbef52",
   "metadata": {},
   "source": [
    "Single-line strings can be defined either using single or double quotes."
   ]
  },
  {
   "cell_type": "code",
   "execution_count": 63,
   "id": "82e745fa",
   "metadata": {},
   "outputs": [
    {
     "name": "stdout",
     "output_type": "stream",
     "text": [
      "Hello\n",
      "Hello\n"
     ]
    }
   ],
   "source": [
    "print(\"Hello\")\n",
    "print('Hello')"
   ]
  },
  {
   "cell_type": "markdown",
   "id": "aa36a460",
   "metadata": {},
   "source": [
    "Or with three single (''') or double quotes (\"\"\") if we want to define a multi-line string."
   ]
  },
  {
   "cell_type": "code",
   "execution_count": 4,
   "id": "f06283bc",
   "metadata": {},
   "outputs": [
    {
     "name": "stdout",
     "output_type": "stream",
     "text": [
      "Line 1\n",
      "Line 2\n",
      "Line 1\n",
      "Line 2\n"
     ]
    }
   ],
   "source": [
    "s1 = \"\"\"Line 1\n",
    "Line 2\"\"\"\n",
    "\n",
    "s2 = \"\"\"Line 1\n",
    "Line 2\"\"\"\n",
    "\n",
    "print(s1)\n",
    "print(s2)"
   ]
  },
  {
   "cell_type": "markdown",
   "id": "40c147e8",
   "metadata": {},
   "source": [
    "Note that, unlike in Python2, in Python3 all strings are **unicode** strings by default. <br />\n",
    "Hence, we can write text that contains characters such as \"ü\" or \"ä\" out-of-the-box."
   ]
  },
  {
   "cell_type": "code",
   "execution_count": 69,
   "id": "879457f4",
   "metadata": {},
   "outputs": [
    {
     "name": "stdout",
     "output_type": "stream",
     "text": [
      "Hüllo\n",
      "à\n"
     ]
    }
   ],
   "source": [
    "print('Hüllo')\n",
    "print('à')"
   ]
  },
  {
   "cell_type": "markdown",
   "id": "9a1b6b53",
   "metadata": {},
   "source": [
    "If we explicitly a binary string for some task, we can explicity enforce this format by adding a \"b\" upfront. <br/>\n",
    "Only ASCII characters are supported."
   ]
  },
  {
   "cell_type": "code",
   "execution_count": 73,
   "id": "072a7221",
   "metadata": {},
   "outputs": [
    {
     "name": "stdout",
     "output_type": "stream",
     "text": [
      "b'This is a binary string'\n"
     ]
    }
   ],
   "source": [
    "print(b'This is a binary string')"
   ]
  },
  {
   "cell_type": "code",
   "execution_count": 74,
   "id": "6022f098",
   "metadata": {},
   "outputs": [
    {
     "ename": "SyntaxError",
     "evalue": "bytes can only contain ASCII literal characters (3005850532.py, line 1)",
     "output_type": "error",
     "traceback": [
      "\u001b[0;36m  Cell \u001b[0;32mIn[74], line 1\u001b[0;36m\u001b[0m\n\u001b[0;31m    print(b'This is a binary string with ä')\u001b[0m\n\u001b[0m                                           ^\u001b[0m\n\u001b[0;31mSyntaxError\u001b[0m\u001b[0;31m:\u001b[0m bytes can only contain ASCII literal characters\n"
     ]
    }
   ],
   "source": [
    "print(b'This is a binary string with ä')"
   ]
  },
  {
   "cell_type": "markdown",
   "id": "a7b9f0f9",
   "metadata": {},
   "source": [
    "### Further data types\n",
    "\n",
    "We have now learned how Java's primitive data types map to Python data types. However, it's important to note that there are many more **built-in** data types available in Python such as, e.g., `dict`, `tuple`, `complex` pr `list`.\n",
    "\n",
    "See: https://docs.python.org/3/library/stdtypes.html#"
   ]
  },
  {
   "cell_type": "code",
   "execution_count": 3,
   "id": "a2e743fb",
   "metadata": {},
   "outputs": [
    {
     "name": "stdout",
     "output_type": "stream",
     "text": [
      "(3+4j)\n",
      "<class 'complex'>\n"
     ]
    }
   ],
   "source": [
    "# Example: Complex number\n",
    "x = 3+4j\n",
    "print(x)\n",
    "print(type(x))"
   ]
  },
  {
   "cell_type": "code",
   "execution_count": 5,
   "id": "305b6198",
   "metadata": {},
   "outputs": [
    {
     "name": "stdout",
     "output_type": "stream",
     "text": [
      "[1, 2, 3]\n",
      "<class 'list'>\n"
     ]
    }
   ],
   "source": [
    "# Example: List\n",
    "x = [1,2, 3]\n",
    "print(x)\n",
    "print(type(x))"
   ]
  },
  {
   "cell_type": "code",
   "execution_count": 6,
   "id": "6e4ebcbb",
   "metadata": {},
   "outputs": [
    {
     "name": "stdout",
     "output_type": "stream",
     "text": [
      "(1, 2, 3)\n",
      "<class 'tuple'>\n"
     ]
    }
   ],
   "source": [
    "# Example: Tuple\n",
    "x = (1,2, 3)\n",
    "print(x)\n",
    "print(type(x))"
   ]
  },
  {
   "cell_type": "code",
   "execution_count": 1,
   "id": "8f036dfc",
   "metadata": {},
   "outputs": [
    {
     "name": "stdout",
     "output_type": "stream",
     "text": [
      "{'a': 1, 'b': 5}\n",
      "<class 'dict'>\n"
     ]
    }
   ],
   "source": [
    "# Example: Dictionary\n",
    "x = {'a': 1, 'b': 5}\n",
    "print(x)\n",
    "print(type(x))"
   ]
  },
  {
   "cell_type": "markdown",
   "id": "01cfff6e",
   "metadata": {},
   "source": [
    "We will discuss these types in detail at a later stage!"
   ]
  }
 ],
 "metadata": {
  "kernelspec": {
   "display_name": "Python 3 (ipykernel)",
   "language": "python",
   "name": "python3"
  },
  "language_info": {
   "codemirror_mode": {
    "name": "ipython",
    "version": 3
   },
   "file_extension": ".py",
   "mimetype": "text/x-python",
   "name": "python",
   "nbconvert_exporter": "python",
   "pygments_lexer": "ipython3",
   "version": "3.11.5"
  }
 },
 "nbformat": 4,
 "nbformat_minor": 5
}
