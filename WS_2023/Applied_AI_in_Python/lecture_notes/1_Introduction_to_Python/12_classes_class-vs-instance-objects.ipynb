{
 "cells": [
  {
   "cell_type": "markdown",
   "id": "68c0bb9c",
   "metadata": {},
   "source": [
    "# Classes: Class Objects vs. Instance Objects"
   ]
  },
  {
   "cell_type": "markdown",
   "id": "0abd3611",
   "metadata": {},
   "source": [
    "In the previous tutorial, we have learned how to define a custom class and create multiple instances from this class.\n",
    "In this tutorial, we will look at the difference between so-called class objects and instance objects."
   ]
  },
  {
   "cell_type": "markdown",
   "id": "5dbd125e",
   "metadata": {},
   "source": [
    "Let's take a second at the `Person` class from the previous tutorial."
   ]
  },
  {
   "cell_type": "code",
   "execution_count": 178,
   "id": "782c767e",
   "metadata": {},
   "outputs": [],
   "source": [
    "class Person:\n",
    "\n",
    "    def __init__(self, first_name, last_name):\n",
    "        self.first_name = first_name\n",
    "        self.last_name = last_name\n",
    "        \n",
    "        \n",
    "    def full_name(self):\n",
    "        return f'{self.first_name} {self.last_name}'\n",
    "    \n",
    "    def __str__(self):\n",
    "        return f'{self.first_name} {self.last_name}' \n",
    "    \n",
    "    def __repr__(self):\n",
    "        return f'Person(first_name=\"{self.first_name}\", last_name=\"{self.last_name}\")' "
   ]
  },
  {
   "cell_type": "markdown",
   "id": "ded0666d",
   "metadata": {},
   "source": [
    "As can be seen all method definitions have `self` as the first argument, and we use this variable in the method body to access different attributes. When we call one of these methods, the object itself is automatically passed in as first argument. This access the object's properties from inside the object's methods.\n",
    "\n",
    "In some languages this parameter is implicit (it is not visible in the function signature ). In Python it is explicitly exposed by the `self` parameter.."
   ]
  },
  {
   "cell_type": "markdown",
   "id": "4ac2c910",
   "metadata": {},
   "source": [
    "**What happens internally when the Python interpreter encounters a new class definition (such as the one below)? How many objects related to the class `Person` exist once we executed the cell?**"
   ]
  },
  {
   "cell_type": "code",
   "execution_count": 90,
   "id": "489156a5",
   "metadata": {},
   "outputs": [],
   "source": [
    "class Person:\n",
    "    \n",
    "    pass"
   ]
  },
  {
   "cell_type": "markdown",
   "id": "47da8b8a",
   "metadata": {},
   "source": [
    "You might be tempted say that no objects were created at this point since no object were instantiated from class `Person` (we call it's default constructor). <br/>\n",
    "However, this is not true. In fact, when the Python Interpreter finds the class definition, it automatically created as an object for this class --- a **class object**.\n",
    "                                                                                                                    "
   ]
  },
  {
   "cell_type": "markdown",
   "id": "445d8ca2",
   "metadata": {},
   "source": [
    "We can access the class object simply by it's class name. For example, we can print the class object."
   ]
  },
  {
   "cell_type": "code",
   "execution_count": 91,
   "id": "06215adf",
   "metadata": {},
   "outputs": [
    {
     "name": "stdout",
     "output_type": "stream",
     "text": [
      "<class '__main__.Person'>\n"
     ]
    }
   ],
   "source": [
    "# A new class object called \"Person\" was created in the previous cell.\n",
    "# We access the class by the class name.\n",
    "print(Person)"
   ]
  },
  {
   "cell_type": "markdown",
   "id": "d2666103",
   "metadata": {},
   "source": [
    "**Class objects support two kinds of operations: attribute references and instantiation**"
   ]
  },
  {
   "cell_type": "markdown",
   "id": "01c7611e",
   "metadata": {},
   "source": [
    "Well, that's an interesting observation. Next, let's take a closer look on what happens when we create a new instance of class `Person`. <br/>\n",
    "In other words, what happens if we run the following line of code ..."
   ]
  },
  {
   "cell_type": "code",
   "execution_count": 92,
   "id": "362d252b",
   "metadata": {},
   "outputs": [],
   "source": [
    "p = Person()"
   ]
  },
  {
   "cell_type": "markdown",
   "id": "4211cc75",
   "metadata": {},
   "source": [
    "`Person` represents the class object. By definition, when the `()` operator is called on a class object, first a new empty object (referred to as an instance object) is created (*) and passed to the init method `__init__()` of the class object. The init method receives the instance object as the first argument which allowes setting attributes of the instance object. Finally, the instance object is returned by the instance method and assigned to the local variable (which in our case is called `p`).\n",
    "\n",
    "(*) Internally, the `__new__()` method is called which creates a new empty object."
   ]
  },
  {
   "cell_type": "markdown",
   "id": "d18271bf",
   "metadata": {},
   "source": [
    "## Class Attributes"
   ]
  },
  {
   "cell_type": "markdown",
   "id": "a59cc6fa",
   "metadata": {},
   "source": [
    "Since you now know that there is a difference between instance objects and class objects, you might wonder whether class objects can have attributes. Yes, this is indeed possible."
   ]
  },
  {
   "cell_type": "markdown",
   "id": "fde2dcb7",
   "metadata": {},
   "source": [
    "In the following, the class `Person` (and so the `Person` class object) is extended with an additional class attribute called `TITLES`."
   ]
  },
  {
   "cell_type": "code",
   "execution_count": 152,
   "id": "7f20a07f",
   "metadata": {},
   "outputs": [],
   "source": [
    "class Person:\n",
    "    \n",
    "    TITLES = ('Mr', 'Ms', 'Mrs')\n",
    "\n",
    "    def __init__(self, first_name, last_name):\n",
    "        self.first_name = first_name\n",
    "        self.last_name = last_name\n",
    "        \n",
    "        \n",
    "    def full_name(self):\n",
    "        return f'{self.first_name} {self.last_name}'\n",
    "    \n",
    "    def __str__(self):\n",
    "        return f'{self.first_name} {self.last_name}' \n",
    "    \n",
    "    def __repr__(self):\n",
    "        return f'Person(first_name=\"{self.first_name}\", last_name=\"{self.last_name}\")' \n",
    "    "
   ]
  },
  {
   "cell_type": "markdown",
   "id": "74d6dfc1",
   "metadata": {},
   "source": [
    "Class attributes are often used to define constants which are closely associated with a particular class. Class attributes can either be accessed via a class instance, or via the class directly which does not require to create a new instance."
   ]
  },
  {
   "cell_type": "code",
   "execution_count": 153,
   "id": "1c3f6fb5",
   "metadata": {},
   "outputs": [],
   "source": [
    "p = Person('Mike', 'Tyson')"
   ]
  },
  {
   "cell_type": "code",
   "execution_count": 154,
   "id": "2c1eb013",
   "metadata": {},
   "outputs": [
    {
     "name": "stdout",
     "output_type": "stream",
     "text": [
      "('Mr', 'Ms', 'Mrs')\n",
      "('Mr', 'Ms', 'Mrs')\n"
     ]
    }
   ],
   "source": [
    "# We can access a class attribute via an instance\n",
    "print(p.TITLES)\n",
    "\n",
    "# but we can also access via the object class\n",
    "print(Person.TITLES)"
   ]
  },
  {
   "cell_type": "markdown",
   "id": "54540791",
   "metadata": {},
   "source": [
    "Next, let's continue with a small experiment. Let' create two instances of the class `Person` but alter the attribute of the class object in between."
   ]
  },
  {
   "cell_type": "code",
   "execution_count": 157,
   "id": "ca56f355",
   "metadata": {},
   "outputs": [
    {
     "name": "stdout",
     "output_type": "stream",
     "text": [
      "Class object ('Mr', 'Ms', 'Mrs')\n",
      "Person 1 ('Mr', 'Ms', 'Mrs')\n",
      "=================\n",
      "Class object ('Mr', 'Ms', 'Mrs')\n",
      "Person 1 ('Mr', 'Ms', 'Mrs')\n",
      "Person 2 ('Mr', 'Ms', 'Mrs')\n"
     ]
    }
   ],
   "source": [
    "print('Class object', Person.TITLES)\n",
    "p1 = Person('Person', '1')\n",
    "print(p1, p1.TITLES)\n",
    "print('=================')\n",
    "\n",
    "# Let's alter the class attribute of the class object Person\n",
    "p.TITLES = ['Mr', 'Ms', 'Mrs', '-']\n",
    "p2 = Person('Person', '2')\n",
    "\n",
    "print('Class object', Person.TITLES)\n",
    "print(p1, p1.TITLES)\n",
    "print(p2, p2.TITLES)"
   ]
  },
  {
   "cell_type": "markdown",
   "id": "cff17b0e",
   "metadata": {},
   "source": [
    "Oh interesting, appearently when we change `TITLES` attribute of the class object at runtime, we also change the `TITLES` attribute of ALL instances.\n",
    "<br/>\n",
    "So, it seems that class attributes are shared among all instances of a class."
   ]
  },
  {
   "cell_type": "markdown",
   "id": "4c7a83f4",
   "metadata": {},
   "source": [
    "Consequently, if class attributes are shared, we should also be able to modify the class attribute via a specific instance. \n",
    "\n",
    "Well, let's try ..."
   ]
  },
  {
   "cell_type": "code",
   "execution_count": 163,
   "id": "51ab8515",
   "metadata": {},
   "outputs": [
    {
     "name": "stdout",
     "output_type": "stream",
     "text": [
      "Class object ('Mr', 'Ms', 'Mrs')\n",
      "Mike Tyson ('Mr', 'Ms', 'Mrs')\n",
      "=================\n",
      "Mike Tyson ('Mr', 'Ms', 'Mrs', '-')\n",
      "Class object: ('Mr', 'Ms', 'Mrs')\n"
     ]
    }
   ],
   "source": [
    "# Reset class attribute\n",
    "p.TITLES = ('Mr', 'Ms', 'Mrs')\n",
    "\n",
    "# Create a new person\n",
    "p = Person('Mike', 'Tyson')\n",
    "\n",
    "# Access the class attribute via the instance p and the object class\n",
    "# Both should be ('Mr', 'Ms', 'Mrs') at this point\n",
    "print('Class object', Person.TITLES)\n",
    "print(p, p.TITLES)\n",
    "print('=================')\n",
    "\n",
    "# Let's try to change the class attribute via the instance p\n",
    "p.TITLES = ('Mr', 'Ms', 'Mrs', '-')\n",
    "\n",
    "# The value of the class attribute should now be ()'Mr', 'Ms', 'Mrs', '-')\n",
    "print(p, p.TITLES)\n",
    "\n",
    "# The value of Person.TITLES ... Oh, it's still ('Mr', 'Ms', 'Mrs')\n",
    "print('Class object:', Person.TITLES)"
   ]
  },
  {
   "cell_type": "markdown",
   "id": "b995f23c",
   "metadata": {},
   "source": [
    "Ok, that was unexpected. Apparently, modifying `TITLES` via an instance does not alter the class object. Well, but then this indicates that class attributes are NOT shared, doesn't it?"
   ]
  },
  {
   "cell_type": "markdown",
   "id": "59f109da",
   "metadata": {},
   "source": [
    "### The ICPO Lookup\n",
    "\n",
    "The answer to the question what's going on here is provided by what's called ICPO (Instance - Class - Parent - Object) lookup by Reuven M. Lerner (Python book author). In fact, class attributes are NOT shared (*) but the ICPO can easily result in the impression that they are. Python executes the following search in order to retrieve the value of an attribute:\n",
    "\n",
    "1. **Instance**: Instance level check. We ask whether the instance *p* has an attribute `TITLES`. If so, then `TITLES` is retrieved from the instance *p* and the search ends.\n",
    "2. **Class**: If Python doesn’t find `TITLES` on the instance, then it looks for `type(p).TITLES` which is the class object. If it finds the attribute here, then it returns the value, and the search ends.\n",
    "3. **Parents**: If Python would not have found `TITLES` on `type(p)`, then it had look on the parents of `type(p)`:\n",
    "If the class inherits directly from \"object\" (which is the case for `class Person`), then there are't really any parents from which to inherit, and this phase is skipped. If the class inherits from one class, then we check there — and on its parents, and its parents, etc.\n",
    "4. **Object:** All classes in Python inherit, directly or indirectly, from \"object\", the top of our class hierarchy. As a result, searching for an attribute, if not first found elsewhere always concludes on “object”. If we cannot find an attribute on “object”, and it wasn’t found elsewhere previously, then Python raises an `AttributeError` exception.\n",
    "\n",
    "(*) Which would mean that there is one unique memory location re-used by all instances.\n",
    "\n",
    "**Remark:** I can definitely recommand watching the following presentation: https://www.youtube.com/watch?v=Tn1wLsj7Bys"
   ]
  },
  {
   "cell_type": "markdown",
   "id": "05c53aed",
   "metadata": {},
   "source": [
    "It's important to note that when we run a code like the following, no ICPO lookup is triggered. The only things what happens is that a NEW class attribute is added to the instance.\n",
    "Consequently, this new instance attribute \"shadows\" the class attribute when we perform the ICPO lookup."
   ]
  },
  {
   "cell_type": "code",
   "execution_count": null,
   "id": "545e41b7",
   "metadata": {},
   "outputs": [],
   "source": [
    "p = Person('Mike', 'Tyson')\n",
    "\n",
    "# This line does not require an ICPO lookup. Instead, we simply add the attribute TITLES to the instance.\n",
    "p.TITLES = 'asdf'"
   ]
  },
  {
   "cell_type": "markdown",
   "id": "985eca6f",
   "metadata": {},
   "source": [
    "### Quiz"
   ]
  },
  {
   "cell_type": "code",
   "execution_count": 175,
   "id": "ae042d11",
   "metadata": {},
   "outputs": [],
   "source": [
    "class Person:\n",
    "    \n",
    "    # Titles is now a list!\n",
    "    TITLES = ['Mr', 'Ms', 'Mrs']\n",
    "\n",
    "    def __init__(self, first_name, last_name):\n",
    "        self.first_name = first_name\n",
    "        self.last_name = last_name\n",
    "        \n",
    "        \n",
    "    def full_name(self):\n",
    "        return f'{self.first_name} {self.last_name}'\n",
    "    \n",
    "    def __str__(self):\n",
    "        return f'{self.first_name} {self.last_name}' \n",
    "    \n",
    "    def __repr__(self):\n",
    "        return f'Person(first_name=\"{self.first_name}\", last_name=\"{self.last_name}\")' \n",
    "    "
   ]
  },
  {
   "cell_type": "code",
   "execution_count": 176,
   "id": "9e5d2b71",
   "metadata": {},
   "outputs": [],
   "source": [
    "p1 = Person('P', '1')\n",
    "\n",
    "p1.TITLES.extend('-')\n",
    "\n",
    "p2 = Person('P', '2')"
   ]
  },
  {
   "cell_type": "markdown",
   "id": "60b0dc42",
   "metadata": {},
   "source": [
    "**Question:** What values do the `TITLES` attributes of p1 and p2 have? Explain why."
   ]
  },
  {
   "cell_type": "code",
   "execution_count": 177,
   "id": "03678eb6",
   "metadata": {},
   "outputs": [
    {
     "name": "stdout",
     "output_type": "stream",
     "text": [
      "['Mr', 'Ms', 'Mrs', '-']\n",
      "['Mr', 'Ms', 'Mrs', '-']\n"
     ]
    }
   ],
   "source": [
    "print(p1.TITLES)\n",
    "print(p2.TITLES)"
   ]
  }
 ],
 "metadata": {
  "kernelspec": {
   "display_name": "Python 3 (ipykernel)",
   "language": "python",
   "name": "python3"
  },
  "language_info": {
   "codemirror_mode": {
    "name": "ipython",
    "version": 3
   },
   "file_extension": ".py",
   "mimetype": "text/x-python",
   "name": "python",
   "nbconvert_exporter": "python",
   "pygments_lexer": "ipython3",
   "version": "3.11.3"
  }
 },
 "nbformat": 4,
 "nbformat_minor": 5
}
