{
 "cells": [
  {
   "cell_type": "markdown",
   "id": "01c7bc1e",
   "metadata": {},
   "source": [
    "# Comprehension (dt. \"Abstraktionen\")"
   ]
  },
  {
   "cell_type": "markdown",
   "id": "9babde2b",
   "metadata": {},
   "source": [
    "Many programming tasks require us to store and process data in the form of lists. <br/>\n",
    "Very often, this requires iterating over a list (e.g., by means of a for-loop) and calling functions on individual list items."
   ]
  },
  {
   "cell_type": "markdown",
   "id": "12c4b69d",
   "metadata": {},
   "source": [
    "**Introductory example:**\n",
    "\n",
    "Let's assume that we want to create a list of integers numbers from zero to nine."
   ]
  },
  {
   "cell_type": "markdown",
   "id": "cc07dc2f",
   "metadata": {},
   "source": [
    "The \"conventional\" way to accomplish this is by writing code that somehow looks like this:"
   ]
  },
  {
   "cell_type": "code",
   "execution_count": 1,
   "id": "14003d9e",
   "metadata": {},
   "outputs": [],
   "source": [
    "squares = []\n",
    "for x in range(10):\n",
    "    squares.append(x**2)"
   ]
  },
  {
   "cell_type": "code",
   "execution_count": 16,
   "id": "4c0312f8",
   "metadata": {},
   "outputs": [
    {
     "name": "stdout",
     "output_type": "stream",
     "text": [
      "[0, 1, 4, 9, 16, 25, 36, 49, 64, 81]\n"
     ]
    }
   ],
   "source": [
    "print(squares)"
   ]
  },
  {
   "cell_type": "markdown",
   "id": "757dec03",
   "metadata": {},
   "source": [
    "Works nicely... However, that's pretty much code for such a simple task. <br/>\n",
    "Luckily, Python provides a more compact and faster way to this task. This is done using so-called **list comprehension**."
   ]
  },
  {
   "cell_type": "code",
   "execution_count": 17,
   "id": "90226a84",
   "metadata": {},
   "outputs": [],
   "source": [
    "# This code does exactly the same but uses list comprehension\n",
    "squares = [x**2 for x in range(10)]"
   ]
  },
  {
   "cell_type": "code",
   "execution_count": 18,
   "id": "ecb7b625",
   "metadata": {},
   "outputs": [
    {
     "name": "stdout",
     "output_type": "stream",
     "text": [
      "[0, 1, 4, 9, 16, 25, 36, 49, 64, 81]\n"
     ]
    }
   ],
   "source": [
    "print(squares)"
   ]
  },
  {
   "cell_type": "markdown",
   "id": "f3e4000d",
   "metadata": {},
   "source": [
    "Nice, this single line of code does exactly the same as code before! However, it's more compact and way nicer to read."
   ]
  },
  {
   "cell_type": "markdown",
   "id": "ebb4bb01",
   "metadata": {},
   "source": [
    "## List Comprehension\n",
    "\n",
    "We can think of list comprehension in Python as a for-loops over a collection but in a more compact syntax. Essentially it is a little shortcut for frequently used functionality that makes our lives as Python programmers easier."
   ]
  },
  {
   "cell_type": "markdown",
   "id": "1b3b776b",
   "metadata": {},
   "source": [
    "```python\n",
    "values = [expression for item in collection]\n",
    "```"
   ]
  },
  {
   "cell_type": "markdown",
   "id": "1aa3782f",
   "metadata": {},
   "source": [
    "The above list comprehension “template” is equivalent to the following plain for-loop:"
   ]
  },
  {
   "cell_type": "markdown",
   "id": "1b3a25b4",
   "metadata": {},
   "source": [
    "```python\n",
    "values = []\n",
    "for item in collection:\n",
    "    values.append(expression)\n",
    "```"
   ]
  },
  {
   "cell_type": "markdown",
   "id": "a1f38711",
   "metadata": {},
   "source": [
    "### Filtering elements with list comprehension"
   ]
  },
  {
   "cell_type": "markdown",
   "id": "fb1001bd",
   "metadata": {},
   "source": [
    "A cool thing is that list comprehensions can filter values based on some arbitrary condition that decides whether or not the resulting value becomes a part of the output list."
   ]
  },
  {
   "cell_type": "markdown",
   "id": "27b14356",
   "metadata": {},
   "source": [
    "Here's an example:"
   ]
  },
  {
   "cell_type": "code",
   "execution_count": 23,
   "id": "e01f39e3",
   "metadata": {},
   "outputs": [],
   "source": [
    "even_squares = [x**2 for x in range(10) if x % 2 == 0]"
   ]
  },
  {
   "cell_type": "code",
   "execution_count": 24,
   "id": "5bc66a35",
   "metadata": {},
   "outputs": [
    {
     "name": "stdout",
     "output_type": "stream",
     "text": [
      "[0, 4, 16, 36, 64]\n"
     ]
    }
   ],
   "source": [
    "print(even_squares)"
   ]
  },
  {
   "cell_type": "markdown",
   "id": "4665cb42",
   "metadata": {},
   "source": [
    "This list comprehension will compute a list of the squares of all even integers from zero to nine. The modulo (%) operator used here returns the remainder after division of one number by another number."
   ]
  },
  {
   "cell_type": "markdown",
   "id": "d2ac952b",
   "metadata": {},
   "source": [
    "Similar to the first example, this new list comprehension can be transformed into an equivalent for-loop:"
   ]
  },
  {
   "cell_type": "code",
   "execution_count": 2,
   "id": "d80a792b",
   "metadata": {},
   "outputs": [],
   "source": [
    "even_squares = []\n",
    "for x in range(10):\n",
    "    if x % 2 == 0:\n",
    "        even_squares.append(x**2)"
   ]
  },
  {
   "cell_type": "code",
   "execution_count": 3,
   "id": "5e813e73",
   "metadata": {},
   "outputs": [
    {
     "name": "stdout",
     "output_type": "stream",
     "text": [
      "[0, 4, 16, 36, 64]\n"
     ]
    }
   ],
   "source": [
    "print(even_squares)"
   ]
  },
  {
   "cell_type": "markdown",
   "id": "ed2076df",
   "metadata": {},
   "source": [
    "### Nested list comprehensions"
   ]
  },
  {
   "cell_type": "markdown",
   "id": "9390ef36",
   "metadata": {},
   "source": [
    "List comprehensions can also be nested. \n",
    "\n",
    "For example, let's assume that we want to create a 4 x 5 matrix of 0s that should be represented by nested lists."
   ]
  },
  {
   "cell_type": "markdown",
   "id": "713e29ff",
   "metadata": {},
   "source": [
    "So instead of writing ..."
   ]
  },
  {
   "cell_type": "code",
   "execution_count": 76,
   "id": "1c4cbea9",
   "metadata": {},
   "outputs": [],
   "source": [
    "m = []\n",
    "for row in range(4):\n",
    "    col = [0 for _ in range(5)]\n",
    "    m.append(col)"
   ]
  },
  {
   "cell_type": "code",
   "execution_count": 77,
   "id": "70860efc",
   "metadata": {},
   "outputs": [
    {
     "name": "stdout",
     "output_type": "stream",
     "text": [
      "[[0, 0, 0, 0, 0], [0, 0, 0, 0, 0], [0, 0, 0, 0, 0], [0, 0, 0, 0, 0]]\n"
     ]
    }
   ],
   "source": [
    "print(m)"
   ]
  },
  {
   "cell_type": "markdown",
   "id": "c0c2a853",
   "metadata": {},
   "source": [
    "We can also use a nested list comprehension and instead write ..."
   ]
  },
  {
   "cell_type": "code",
   "execution_count": 74,
   "id": "a964ea27",
   "metadata": {},
   "outputs": [],
   "source": [
    "# Creation of a 4 x 5 matrix using nested list comprehension\n",
    "m = [[0 for _ in range(5)] for _ in range(4)]"
   ]
  },
  {
   "cell_type": "code",
   "execution_count": 75,
   "id": "21675b0e",
   "metadata": {},
   "outputs": [
    {
     "name": "stdout",
     "output_type": "stream",
     "text": [
      "[[0, 0, 0, 0, 0], [0, 0, 0, 0, 0], [0, 0, 0, 0, 0], [0, 0, 0, 0, 0]]\n"
     ]
    }
   ],
   "source": [
    "print(m)"
   ]
  },
  {
   "cell_type": "markdown",
   "id": "e0e5e086",
   "metadata": {},
   "source": [
    "As can be seen, the inner list comprehension is evaluated in the context of the `for` that follows it."
   ]
  },
  {
   "cell_type": "markdown",
   "id": "1591db51",
   "metadata": {},
   "source": [
    "**Question:** What happens if we remove the squared brackets?"
   ]
  },
  {
   "cell_type": "markdown",
   "id": "70fcf005",
   "metadata": {},
   "source": [
    "Well, let's take a look ..."
   ]
  },
  {
   "cell_type": "code",
   "execution_count": 81,
   "id": "994d0122",
   "metadata": {},
   "outputs": [],
   "source": [
    "m = [0 for _ in range(5) for _ in range(4)]"
   ]
  },
  {
   "cell_type": "code",
   "execution_count": 82,
   "id": "72544f5a",
   "metadata": {},
   "outputs": [
    {
     "name": "stdout",
     "output_type": "stream",
     "text": [
      "[0, 0, 0, 0, 0, 0, 0, 0, 0, 0, 0, 0, 0, 0, 0, 0, 0, 0, 0, 0]\n"
     ]
    }
   ],
   "source": [
    "print(m)"
   ]
  },
  {
   "cell_type": "markdown",
   "id": "c382c8dd",
   "metadata": {},
   "source": [
    "The output is a flat 1D list and no nested list! So, don't forget to add the square brackets."
   ]
  },
  {
   "cell_type": "markdown",
   "id": "60b2a29f",
   "metadata": {},
   "source": [
    "Of course, there are also scenarios where we don't want to have two nested lists as our result.\n",
    "\n",
    "For example, let's assume that we want to obtain a list of all possible pairs of strings in a list."
   ]
  },
  {
   "cell_type": "code",
   "execution_count": 85,
   "id": "2f85d63f",
   "metadata": {},
   "outputs": [],
   "source": [
    "m = ['a', 'b', 'c']\n"
   ]
  },
  {
   "cell_type": "code",
   "execution_count": null,
   "id": "bee48671",
   "metadata": {},
   "outputs": [],
   "source": [
    "comb_m = [s1 + ':' +s2 for s1 in m for s2 in m]"
   ]
  },
  {
   "cell_type": "code",
   "execution_count": 89,
   "id": "d45f94be",
   "metadata": {},
   "outputs": [
    {
     "name": "stdout",
     "output_type": "stream",
     "text": [
      "All possible string pairs: ['a:a', 'a:b', 'a:c', 'b:a', 'b:b', 'b:c', 'c:a', 'c:b', 'c:c']\n"
     ]
    }
   ],
   "source": [
    "print('All possible string pairs:', comb_m)"
   ]
  },
  {
   "cell_type": "markdown",
   "id": "e21152d6",
   "metadata": {},
   "source": [
    "#### A few words about the readability"
   ]
  },
  {
   "cell_type": "markdown",
   "id": "3cfd1d21",
   "metadata": {},
   "source": [
    "There's one caveat to Python's comprehensions though — as you get more proficient at using them, it becomes easier and easier to write code that’s difficult to read. If you're not careful, you might have to deal with monstrous list, set, and dict comprehensions soon. Remember, too much of a good thing is usually a bad thing.\n",
    "\n",
    "In my experience, it's best to stop nesting list comprehension at one level. Otherwise, they become pretty hard to read."
   ]
  },
  {
   "cell_type": "markdown",
   "id": "21115be0",
   "metadata": {},
   "source": [
    "## Tuple and Dictionary Comprehension"
   ]
  },
  {
   "cell_type": "markdown",
   "id": "44c78d53",
   "metadata": {},
   "source": [
    "Comprehension does not only support lists but also tuples and dictionaries.\n",
    "\n",
    "In other words, we can also write expressions such as ..."
   ]
  },
  {
   "cell_type": "code",
   "execution_count": 92,
   "id": "461217c8",
   "metadata": {},
   "outputs": [],
   "source": [
    "d = {i: str(i) for i in range(10)}"
   ]
  },
  {
   "cell_type": "code",
   "execution_count": 93,
   "id": "f2f25a2e",
   "metadata": {},
   "outputs": [
    {
     "name": "stdout",
     "output_type": "stream",
     "text": [
      "{0: '0', 1: '1', 2: '2', 3: '3', 4: '4', 5: '5', 6: '6', 7: '7', 8: '8', 9: '9'}\n"
     ]
    }
   ],
   "source": [
    "print(d)"
   ]
  },
  {
   "cell_type": "code",
   "execution_count": 98,
   "id": "ecf81ba9",
   "metadata": {},
   "outputs": [],
   "source": [
    "t = tuple(str(i) for i in range(10))"
   ]
  },
  {
   "cell_type": "code",
   "execution_count": 99,
   "id": "f5c38bdc",
   "metadata": {},
   "outputs": [
    {
     "name": "stdout",
     "output_type": "stream",
     "text": [
      "('0', '1', '2', '3', '4', '5', '6', '7', '8', '9')\n"
     ]
    }
   ],
   "source": [
    "print(t)"
   ]
  },
  {
   "cell_type": "markdown",
   "id": "0cc6c58f",
   "metadata": {},
   "source": [
    "### Performance\n",
    "\n",
    "Almost always, we prefer to use comprehension in Python rather than conventional for loops because it will be easier to see what we are doing (at least if we don't get crazy with nesting). However, list comprehension is usually preferred from a performance point of view.\n",
    "\n",
    "Let's take a look at the following example:"
   ]
  },
  {
   "cell_type": "code",
   "execution_count": 166,
   "id": "20820b14",
   "metadata": {},
   "outputs": [],
   "source": [
    "def squares_without_comprehension():\n",
    "    even_squares = []\n",
    "    for x in range(100000):\n",
    "        even_squares.append(x**2)"
   ]
  },
  {
   "cell_type": "code",
   "execution_count": 167,
   "id": "9e95357c",
   "metadata": {},
   "outputs": [],
   "source": [
    "def squares_with_comprehension():\n",
    "    squares = [x**2 for x in range(100000)]"
   ]
  },
  {
   "cell_type": "code",
   "execution_count": 163,
   "id": "81c26d88",
   "metadata": {},
   "outputs": [
    {
     "name": "stdout",
     "output_type": "stream",
     "text": [
      "2.88 ms ± 49 µs per loop (mean ± std. dev. of 7 runs, 100 loops each)\n"
     ]
    }
   ],
   "source": [
    "%timeit squares_without_comprehension()"
   ]
  },
  {
   "cell_type": "code",
   "execution_count": 164,
   "id": "c7b86bf2",
   "metadata": {},
   "outputs": [
    {
     "name": "stdout",
     "output_type": "stream",
     "text": [
      "2.8 ms ± 68 µs per loop (mean ± std. dev. of 7 runs, 100 loops each)\n"
     ]
    }
   ],
   "source": [
    "%timeit squares_with_comprehension()"
   ]
  },
  {
   "cell_type": "markdown",
   "id": "0368e21a",
   "metadata": {},
   "source": [
    "**List comprehension is faster than vanilla for-loops**."
   ]
  }
 ],
 "metadata": {
  "kernelspec": {
   "display_name": "Python 3 (ipykernel)",
   "language": "python",
   "name": "python3"
  },
  "language_info": {
   "codemirror_mode": {
    "name": "ipython",
    "version": 3
   },
   "file_extension": ".py",
   "mimetype": "text/x-python",
   "name": "python",
   "nbconvert_exporter": "python",
   "pygments_lexer": "ipython3",
   "version": "3.11.5"
  }
 },
 "nbformat": 4,
 "nbformat_minor": 5
}
