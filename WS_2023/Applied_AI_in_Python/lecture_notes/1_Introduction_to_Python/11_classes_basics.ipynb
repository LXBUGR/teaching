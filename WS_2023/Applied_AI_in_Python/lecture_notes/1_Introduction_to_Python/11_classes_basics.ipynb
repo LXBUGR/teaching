{
 "cells": [
  {
   "cell_type": "markdown",
   "id": "fbe2a46a",
   "metadata": {},
   "source": [
    "# Classes: Basics"
   ]
  },
  {
   "cell_type": "markdown",
   "id": "bb491b53",
   "metadata": {},
   "source": [
    "As we have seen, anything in Python is technically a object --- functions, variables, even \"primitive\" types such as integers or floats. What we have not discussed so far is how we can create our own classes and create objects from them. \n",
    "\n",
    "In this tutorial, we will learn how to create our own classes."
   ]
  },
  {
   "cell_type": "markdown",
   "id": "62db08f0",
   "metadata": {},
   "source": [
    "Let's create our first classes called `Person`. This is done using the `class` statement."
   ]
  },
  {
   "cell_type": "code",
   "execution_count": 4,
   "id": "dca73bfb",
   "metadata": {},
   "outputs": [],
   "source": [
    "class Person:\n",
    "    \n",
    "    # Empty block\n",
    "    pass"
   ]
  },
  {
   "cell_type": "markdown",
   "id": "c66a6c12",
   "metadata": {},
   "source": [
    "We can now create an instance object from this class simply by calling ..."
   ]
  },
  {
   "cell_type": "code",
   "execution_count": 5,
   "id": "9e0a5b37",
   "metadata": {},
   "outputs": [],
   "source": [
    "# This line creates a new person object\n",
    "p = Person()"
   ]
  },
  {
   "cell_type": "code",
   "execution_count": 7,
   "id": "6d6ff716",
   "metadata": {},
   "outputs": [
    {
     "name": "stdout",
     "output_type": "stream",
     "text": [
      "<__main__.Person object at 0x7fb6fd422310>\n"
     ]
    }
   ],
   "source": [
    "# We can also print the person object, however the output is not really meaningful at this point\n",
    "print(p)"
   ]
  },
  {
   "cell_type": "markdown",
   "id": "6f830602",
   "metadata": {},
   "source": [
    "Obviously, our class is rather useless, as it neither contains data nor provides any methods we can work with. <br/>\n",
    "So let's add some basic functionality to the class."
   ]
  },
  {
   "cell_type": "code",
   "execution_count": 36,
   "id": "6f9a884d",
   "metadata": {},
   "outputs": [],
   "source": [
    "class Person:\n",
    "\n",
    "    # Implement the constructur\n",
    "    def __init__(self, first_name, last_name):\n",
    "        # Set the required attributes\n",
    "        self.first_name = first_name\n",
    "        self.last_name = last_name\n",
    "        "
   ]
  },
  {
   "cell_type": "markdown",
   "id": "bd3014a4",
   "metadata": {},
   "source": [
    "The `__init__` method is the initializer method and is analogous to the Java class constructor. As can be seen, our constructor has two parameters: `firstname` and `lastname` (along with a reference to the instance itself called `self`).\n",
    "\n",
    "Inside the constructor all attributes are initialized. Note that we did not have to pre-declare all the attributes in the class as this is the case in Java!"
   ]
  },
  {
   "cell_type": "markdown",
   "id": "9e8afc85",
   "metadata": {},
   "source": [
    "We can now create an instance which has a name ..."
   ]
  },
  {
   "cell_type": "code",
   "execution_count": 37,
   "id": "ab90953c",
   "metadata": {},
   "outputs": [],
   "source": [
    "p = Person('Mike', 'Tyson')"
   ]
  },
  {
   "cell_type": "markdown",
   "id": "9c891ae2",
   "metadata": {},
   "source": [
    "Still, printing the object doesn't provide any valueable information ..."
   ]
  },
  {
   "cell_type": "code",
   "execution_count": 38,
   "id": "a8836efb",
   "metadata": {},
   "outputs": [
    {
     "name": "stdout",
     "output_type": "stream",
     "text": [
      "<__main__.Person object at 0x7fb6f4677e90>\n"
     ]
    }
   ],
   "source": [
    "print(p)"
   ]
  },
  {
   "cell_type": "markdown",
   "id": "d9e0816a",
   "metadata": {},
   "source": [
    " But we can now at least access the **instance's attributes**: `firstname` and `lastname`"
   ]
  },
  {
   "cell_type": "code",
   "execution_count": 39,
   "id": "17328f32",
   "metadata": {},
   "outputs": [
    {
     "name": "stdout",
     "output_type": "stream",
     "text": [
      "Mike Tyson\n"
     ]
    }
   ],
   "source": [
    "print(p.first_name, p.last_name)"
   ]
  },
  {
   "cell_type": "markdown",
   "id": "9a39514e",
   "metadata": {},
   "source": [
    "### Adding instance methods"
   ]
  },
  {
   "cell_type": "markdown",
   "id": "ad5edcef",
   "metadata": {},
   "source": [
    "Let's now add the first **instance method** to our `Person` class. Maybe it would be helpful to have a method that returns a person's fullname ..."
   ]
  },
  {
   "cell_type": "code",
   "execution_count": 40,
   "id": "70719038",
   "metadata": {},
   "outputs": [],
   "source": [
    "class Person:\n",
    "\n",
    "    def __init__(self, first_name, last_name):\n",
    "        self.first_name = first_name\n",
    "        self.last_name = last_name\n",
    "        \n",
    "        \n",
    "    def full_name(self):\n",
    "        return f'{self.first_name} {self.last_name}'"
   ]
  },
  {
   "cell_type": "code",
   "execution_count": 41,
   "id": "bc8052c5",
   "metadata": {},
   "outputs": [],
   "source": [
    "p = Person('Mike', 'Tyson')"
   ]
  },
  {
   "cell_type": "code",
   "execution_count": 42,
   "id": "e35fdf02",
   "metadata": {},
   "outputs": [
    {
     "name": "stdout",
     "output_type": "stream",
     "text": [
      "Mike Tyson\n"
     ]
    }
   ],
   "source": [
    "# Yes, that works nicely.\n",
    "print(p.full_name())"
   ]
  },
  {
   "cell_type": "markdown",
   "id": "638bc651",
   "metadata": {},
   "source": [
    "Note that both `__init__` and `full_name` receive an argument called `self` as their first argument. <br/>\n",
    "The first argument, `self`, does tell Python that the method should be an **instance method** where `self` represents the object instance of the class that is being created. Python will automatically pass the appropriate object for `self` to the method (there is no need to do this manually).\n",
    "\n"
   ]
  },
  {
   "cell_type": "markdown",
   "id": "0231c59f",
   "metadata": {},
   "source": [
    "### Making an object printable"
   ]
  },
  {
   "cell_type": "code",
   "execution_count": 44,
   "id": "b3073d73",
   "metadata": {},
   "outputs": [
    {
     "name": "stdout",
     "output_type": "stream",
     "text": [
      "<__main__.Person object at 0x7fb6ded2cf90>\n"
     ]
    }
   ],
   "source": [
    "print(p)"
   ]
  },
  {
   "cell_type": "markdown",
   "id": "fb62e8f2",
   "metadata": {},
   "source": [
    "Unfortunately, the output of `print` when passed the object still doesn't look nice. Luckily, there is an easy way to make the output look nice."
   ]
  },
  {
   "cell_type": "code",
   "execution_count": 80,
   "id": "8e6def5f",
   "metadata": {},
   "outputs": [],
   "source": [
    "class Person:\n",
    "\n",
    "    def __init__(self, first_name, last_name):\n",
    "        self.first_name = first_name\n",
    "        self.last_name = last_name\n",
    "        \n",
    "        \n",
    "    def full_name(self):\n",
    "        return f'{self.first_name} {self.last_name}'\n",
    "    \n",
    "    # The __str__() function is what's called by print()\n",
    "    def __str__(self):\n",
    "        return f'{self.first_name} {self.last_name}' "
   ]
  },
  {
   "cell_type": "code",
   "execution_count": 81,
   "id": "6447d408",
   "metadata": {},
   "outputs": [],
   "source": [
    "p = Person('Mike', 'Tyson')"
   ]
  },
  {
   "cell_type": "code",
   "execution_count": 82,
   "id": "98ce755e",
   "metadata": {},
   "outputs": [
    {
     "name": "stdout",
     "output_type": "stream",
     "text": [
      "Mike Tyson\n"
     ]
    }
   ],
   "source": [
    "# Yes, this looks way better :-)\n",
    "print(p)"
   ]
  },
  {
   "cell_type": "markdown",
   "id": "4d767e9e",
   "metadata": {},
   "source": [
    "Notice that we have implemented the `__str__` method. It's a special method expected to return a human-readable, or informal, string representation of an object.\n",
    "This method is called by the built-in `print`, `str` and `format` functions."
   ]
  },
  {
   "cell_type": "markdown",
   "id": "3168dec5",
   "metadata": {},
   "source": [
    "Alternatively, we could have also implemented the `__repr__` function where *repr* stands for representation. <br/>\n",
    "If you don’t define a `__str__` method for a class, then the built-in object implementation calls the `_repr__` method instead."
   ]
  },
  {
   "cell_type": "markdown",
   "id": "b05309d0",
   "metadata": {},
   "source": [
    "However, note that the `__repr__` method is expected to return a more information-rich, or official, string representation of an object. If possible, the string returned should be a valid Python expression that can be used to recreate the object. In all cases, the string should be informative and unambiguous. The `__repr` method is internally called by the built-in `repr` function."
   ]
  },
  {
   "cell_type": "markdown",
   "id": "0163c24d",
   "metadata": {},
   "source": [
    "For example, in our case a meaningful `_repr_` function might look as follows:"
   ]
  },
  {
   "cell_type": "code",
   "execution_count": 83,
   "id": "4924ddec",
   "metadata": {},
   "outputs": [],
   "source": [
    "class Person:\n",
    "\n",
    "    def __init__(self, first_name, last_name):\n",
    "        self.first_name = first_name\n",
    "        self.last_name = last_name\n",
    "        \n",
    "        \n",
    "    def full_name(self):\n",
    "        return f'{self.first_name} {self.last_name}'\n",
    "    \n",
    "    def __str__(self):\n",
    "        return f'{self.first_name} {self.last_name}' \n",
    "    \n",
    "    def __repr__(self):\n",
    "        return f'Person(first_name=\"{self.first_name}\", last_name=\"{self.last_name}\")' "
   ]
  },
  {
   "cell_type": "code",
   "execution_count": 84,
   "id": "7523694b",
   "metadata": {},
   "outputs": [],
   "source": [
    "p = Person('Mike', 'Tyson')"
   ]
  },
  {
   "cell_type": "code",
   "execution_count": 85,
   "id": "9244827c",
   "metadata": {},
   "outputs": [
    {
     "name": "stdout",
     "output_type": "stream",
     "text": [
      "Mike Tyson\n"
     ]
    }
   ],
   "source": [
    "# Print calls __str__()\n",
    "print(p)"
   ]
  },
  {
   "cell_type": "code",
   "execution_count": 86,
   "id": "aaf8744a",
   "metadata": {},
   "outputs": [
    {
     "name": "stdout",
     "output_type": "stream",
     "text": [
      "Person(first_name=\"Mike\", last_name=\"Tyson\")\n"
     ]
    }
   ],
   "source": [
    "# repr() calls __repr__()\n",
    "print(repr(p))"
   ]
  },
  {
   "cell_type": "markdown",
   "id": "f7cccd5a",
   "metadata": {},
   "source": [
    "### Special methods: \"Dunder methods\""
   ]
  },
  {
   "cell_type": "markdown",
   "id": "eb1735de",
   "metadata": {},
   "source": [
    "In our example, we already came across some special methods such as `__init__`, `__repr__` or `__str__`. In general, the names of special methods take the form `__<name>__`, where the two underscores preceed and succeed the name. Accordingly, special methods can also be referred to as **\"dunder\" (double-underscore) methods** or **magic methods**.\n",
    "\n",
    "There exist a wide range of these special method. A nice overview can be found [here](https://www.geeksforgeeks.org/dunder-magic-methods-python/). These methods give us complete control over the various high-level interfaces that we use to interact with objects. Dunder methods also allow us to implement operator overloading in Python.\n"
   ]
  },
  {
   "cell_type": "markdown",
   "id": "6b06d0e5",
   "metadata": {},
   "source": [
    "Let's play around with these dunder-methods in order to get a better under of how powerful they are. <br/>\n",
    "Therefore, let's implement a new class `SchoolClass`. `SchoolClass` should maintain a list of `Person` objects."
   ]
  },
  {
   "cell_type": "code",
   "execution_count": 152,
   "id": "61a79baa",
   "metadata": {},
   "outputs": [],
   "source": [
    "class Person:\n",
    "\n",
    "    def __init__(self, first_name, last_name):\n",
    "        self.first_name = first_name\n",
    "        self.last_name = last_name\n",
    "        \n",
    "        \n",
    "    def full_name(self):\n",
    "        return f'{self.first_name} {self.last_name}'\n",
    "    \n",
    "    def __str__(self):\n",
    "        return f'{self.first_name} {self.last_name}' \n",
    "    \n",
    "    def __repr__(self):\n",
    "        return f'Person(first_name=\"{self.first_name}\", last_name=\"{self.last_name}\")' "
   ]
  },
  {
   "cell_type": "code",
   "execution_count": 169,
   "id": "28bf101c",
   "metadata": {},
   "outputs": [],
   "source": [
    "class SchoolClass:\n",
    "    \n",
    "    def __init__(self):\n",
    "        self.students = []\n",
    "        \n",
    "    def add_student(self, student):\n",
    "        self.students.append(student)\n",
    "        \n",
    "    def __getitem__(self, idx):\n",
    "        return self.students[idx]\n",
    "    \n",
    "    def __len__(self):\n",
    "        return len(self.students)\n",
    "    \n",
    "    def __iadd__(self, student):\n",
    "        self.students.append(student)\n",
    "        return self\n",
    "    \n",
    "    def __repr__(self):\n",
    "        return f'SchoolClass(students={self.students})' "
   ]
  },
  {
   "cell_type": "code",
   "execution_count": 170,
   "id": "206c3431",
   "metadata": {},
   "outputs": [],
   "source": [
    "school_class = SchoolClass()\n",
    "\n",
    "school_class.add_student(Person('Lisa', 'Berger'))\n",
    "school_class.add_student(Person('Franz', 'Sepperdinger'))\n",
    "school_class.add_student(Person('Mike', 'Strasser'))"
   ]
  },
  {
   "cell_type": "code",
   "execution_count": 171,
   "id": "effd10b3",
   "metadata": {},
   "outputs": [
    {
     "name": "stdout",
     "output_type": "stream",
     "text": [
      "SchoolClass(students=[Person(first_name=\"Lisa\", last_name=\"Berger\"), Person(first_name=\"Franz\", last_name=\"Sepperdinger\"), Person(first_name=\"Mike\", last_name=\"Strasser\")])\n"
     ]
    }
   ],
   "source": [
    "# Since __str__() has not been implemented, print() calls the __repr__() method as fallback.\n",
    "print(school_class)"
   ]
  },
  {
   "cell_type": "code",
   "execution_count": 172,
   "id": "6c16c9bc",
   "metadata": {},
   "outputs": [
    {
     "name": "stdout",
     "output_type": "stream",
     "text": [
      "There are 3 students in the class.\n"
     ]
    }
   ],
   "source": [
    "# The len() function calls the __len__() method. __len__() should return the number of students.\n",
    "print(f'There are {len(school_class)} students in the class.')"
   ]
  },
  {
   "cell_type": "code",
   "execution_count": 173,
   "id": "56076d19",
   "metadata": {},
   "outputs": [
    {
     "name": "stdout",
     "output_type": "stream",
     "text": [
      "The first student in the class is Lisa Berger.\n"
     ]
    }
   ],
   "source": [
    "# The index operator calls the __getitem__() method. The chosen index is passed to __getitem__().\n",
    "# __getitem__() returns the i-th person in the school class\n",
    "print(f'The first student in the class is {school_class[0]}.')"
   ]
  },
  {
   "cell_type": "code",
   "execution_count": 174,
   "id": "18eb67f0",
   "metadata": {},
   "outputs": [
    {
     "name": "stdout",
     "output_type": "stream",
     "text": [
      "SchoolClass(students=[Person(first_name=\"Lisa\", last_name=\"Berger\"), Person(first_name=\"Franz\", last_name=\"Sepperdinger\"), Person(first_name=\"Mike\", last_name=\"Strasser\"), Person(first_name=\"Michael\", last_name=\"Ohm\")])\n"
     ]
    }
   ],
   "source": [
    "# The += operator calls the __iadd__() method. __iadd__() should add the given student to the school class.\n",
    "school_class += Person('Michael', 'Ohm')\n",
    "\n",
    "print(school_class)"
   ]
  },
  {
   "cell_type": "markdown",
   "id": "a3af5852",
   "metadata": {},
   "source": [
    "Our **SchoolClass** instance is now iterable!\n",
    "\n",
    "Notice that our `school_class` object is iterable. In other words, we can use a `for` loop to iterate over the object and get a list of students.\n",
    "\n",
    "This is because we have implemented `__getitem__`. Once you implement the `__getitem__` method, an object automatically becomes iterable. Pretty cool!"
   ]
  },
  {
   "cell_type": "code",
   "execution_count": 179,
   "id": "ce4b3eca",
   "metadata": {},
   "outputs": [
    {
     "name": "stdout",
     "output_type": "stream",
     "text": [
      "Lisa Berger\n",
      "Franz Sepperdinger\n",
      "Mike Strasser\n",
      "Michael Ohm\n"
     ]
    }
   ],
   "source": [
    "for student in school_class:\n",
    "    print(student)"
   ]
  }
 ],
 "metadata": {
  "kernelspec": {
   "display_name": "Python 3 (ipykernel)",
   "language": "python",
   "name": "python3"
  },
  "language_info": {
   "codemirror_mode": {
    "name": "ipython",
    "version": 3
   },
   "file_extension": ".py",
   "mimetype": "text/x-python",
   "name": "python",
   "nbconvert_exporter": "python",
   "pygments_lexer": "ipython3",
   "version": "3.11.3"
  }
 },
 "nbformat": 4,
 "nbformat_minor": 5
}
