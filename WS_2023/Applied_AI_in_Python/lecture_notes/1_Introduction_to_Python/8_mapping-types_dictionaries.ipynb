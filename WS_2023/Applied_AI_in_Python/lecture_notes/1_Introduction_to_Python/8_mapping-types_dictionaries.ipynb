{
 "cells": [
  {
   "cell_type": "markdown",
   "id": "b371c299",
   "metadata": {},
   "source": [
    "# Mapping types"
   ]
  },
  {
   "cell_type": "markdown",
   "id": "274a8d0e",
   "metadata": {},
   "source": [
    "A mapping object maps hashable values to arbitrary objects. Mappings are mutable objects. <br />\n",
    "Currently there is only one standard mapping type in Python: the dictionary"
   ]
  },
  {
   "cell_type": "markdown",
   "id": "8dfc9bff",
   "metadata": {},
   "source": [
    "## Dictionaries"
   ]
  },
  {
   "cell_type": "markdown",
   "id": "ce7fb9f7",
   "metadata": {},
   "source": [
    "Dictionaries store data in key:value pairs. A dictionary is a **mutable** data type which means that new items can be added/removed after creation. <br/>\n",
    "However, note that the chosen **key** needs to be **immutable** and **hashable**."
   ]
  },
  {
   "cell_type": "markdown",
   "id": "2594f0ae",
   "metadata": {},
   "source": [
    "An empty dictionary can be created using curly braces."
   ]
  },
  {
   "cell_type": "code",
   "execution_count": 3,
   "id": "143a5e8c",
   "metadata": {},
   "outputs": [
    {
     "name": "stdout",
     "output_type": "stream",
     "text": [
      "<class 'dict'>\n"
     ]
    }
   ],
   "source": [
    "d = {}\n",
    "print(type(d))"
   ]
  },
  {
   "cell_type": "markdown",
   "id": "f53838d8",
   "metadata": {},
   "source": [
    "Or simply by writing ..."
   ]
  },
  {
   "cell_type": "code",
   "execution_count": 4,
   "id": "351b9e74",
   "metadata": {},
   "outputs": [
    {
     "name": "stdout",
     "output_type": "stream",
     "text": [
      "<class 'dict'>\n"
     ]
    }
   ],
   "source": [
    "d = dict()\n",
    "print(type(d))"
   ]
  },
  {
   "cell_type": "markdown",
   "id": "a5ccd9e3",
   "metadata": {},
   "source": [
    "If we already have some elements that should be part of the dictionary, we can also directly create a dict that contains these values. <br />\n",
    "This is done as follows:"
   ]
  },
  {
   "cell_type": "code",
   "execution_count": 8,
   "id": "a693b50b",
   "metadata": {},
   "outputs": [
    {
     "name": "stdout",
     "output_type": "stream",
     "text": [
      "{'one': 1, 'two': 2}\n"
     ]
    }
   ],
   "source": [
    "d = {\n",
    "    # <key>: <value>\n",
    "    'one': 1,\n",
    "    'two': 2\n",
    "}\n",
    "\n",
    "print(d)"
   ]
  },
  {
   "cell_type": "markdown",
   "id": "34d80254",
   "metadata": {},
   "source": [
    "Note that technically the key can be of any type as long as the key is hashable. Keys added to a dictionary can also have different types."
   ]
  },
  {
   "cell_type": "code",
   "execution_count": 10,
   "id": "5a692ed9",
   "metadata": {},
   "outputs": [
    {
     "name": "stdout",
     "output_type": "stream",
     "text": [
      "{'one': 1, 1: 'one'}\n"
     ]
    }
   ],
   "source": [
    "d = {\n",
    "    'one': 1,\n",
    "    1: 'one'\n",
    "}\n",
    "\n",
    "print(d)"
   ]
  },
  {
   "cell_type": "markdown",
   "id": "5ecbc809",
   "metadata": {},
   "source": [
    "Since tuples are hashable, we could even use a tuple as our key ..."
   ]
  },
  {
   "cell_type": "code",
   "execution_count": 12,
   "id": "531e7acc",
   "metadata": {},
   "outputs": [
    {
     "name": "stdout",
     "output_type": "stream",
     "text": [
      "{(1,): 'one', (2,): 'two'}\n"
     ]
    }
   ],
   "source": [
    "d = {\n",
    "    (1,): 'one',\n",
    "    (2,): 'two'\n",
    "}\n",
    "\n",
    "print(d)"
   ]
  },
  {
   "cell_type": "markdown",
   "id": "b2118768",
   "metadata": {},
   "source": [
    "However, we can not use elements such as `list` or `set` as keys since they are not hashable."
   ]
  },
  {
   "cell_type": "code",
   "execution_count": 13,
   "id": "aa2a1ec7",
   "metadata": {},
   "outputs": [
    {
     "ename": "TypeError",
     "evalue": "unhashable type: 'list'",
     "output_type": "error",
     "traceback": [
      "\u001b[0;31m---------------------------------------------------------------------------\u001b[0m",
      "\u001b[0;31mTypeError\u001b[0m                                 Traceback (most recent call last)",
      "Cell \u001b[0;32mIn[13], line 1\u001b[0m\n\u001b[0;32m----> 1\u001b[0m d \u001b[38;5;241m=\u001b[39m {\n\u001b[1;32m      2\u001b[0m     [\u001b[38;5;241m1\u001b[39m]: \u001b[38;5;124m'\u001b[39m\u001b[38;5;124mone\u001b[39m\u001b[38;5;124m'\u001b[39m,\n\u001b[1;32m      3\u001b[0m     [\u001b[38;5;241m2\u001b[39m]: \u001b[38;5;124m'\u001b[39m\u001b[38;5;124mtwo\u001b[39m\u001b[38;5;124m'\u001b[39m\n\u001b[1;32m      4\u001b[0m }\n",
      "\u001b[0;31mTypeError\u001b[0m: unhashable type: 'list'"
     ]
    }
   ],
   "source": [
    "d = {\n",
    "    [1]: 'one',\n",
    "    [2]: 'two'\n",
    "}\n"
   ]
  },
  {
   "cell_type": "markdown",
   "id": "8731c8b4",
   "metadata": {},
   "source": [
    "### Working with dictionaries"
   ]
  },
  {
   "cell_type": "markdown",
   "id": "4ac6b26e",
   "metadata": {},
   "source": [
    "#### Fetching values from a dictionary"
   ]
  },
  {
   "cell_type": "markdown",
   "id": "ccc805d5",
   "metadata": {},
   "source": [
    "We can fetch a value from the dictionary based on its key."
   ]
  },
  {
   "cell_type": "markdown",
   "id": "aa3add6f",
   "metadata": {},
   "source": [
    "For example, let's assume that we have the following dictionary:"
   ]
  },
  {
   "cell_type": "code",
   "execution_count": 59,
   "id": "eef3e94e",
   "metadata": {},
   "outputs": [],
   "source": [
    "d = {\n",
    "    1: 'one',\n",
    "    2: 'two',\n",
    "    3: 'three',\n",
    "}"
   ]
  },
  {
   "cell_type": "markdown",
   "id": "26ccb411",
   "metadata": {},
   "source": [
    "We retrieve the element with the key `2` simply by writing ..."
   ]
  },
  {
   "cell_type": "code",
   "execution_count": 20,
   "id": "a178a3c2",
   "metadata": {},
   "outputs": [],
   "source": [
    "v = d[2]"
   ]
  },
  {
   "cell_type": "code",
   "execution_count": 21,
   "id": "4f4b0e04",
   "metadata": {},
   "outputs": [
    {
     "name": "stdout",
     "output_type": "stream",
     "text": [
      "two\n"
     ]
    }
   ],
   "source": [
    "print(v)"
   ]
  },
  {
   "cell_type": "markdown",
   "id": "9d432c65",
   "metadata": {},
   "source": [
    "A `KeyError` will be raised if the key does not exists."
   ]
  },
  {
   "cell_type": "code",
   "execution_count": 66,
   "id": "e80efdea",
   "metadata": {},
   "outputs": [
    {
     "ename": "KeyError",
     "evalue": "10",
     "output_type": "error",
     "traceback": [
      "\u001b[0;31m---------------------------------------------------------------------------\u001b[0m",
      "\u001b[0;31mKeyError\u001b[0m                                  Traceback (most recent call last)",
      "Cell \u001b[0;32mIn[66], line 1\u001b[0m\n\u001b[0;32m----> 1\u001b[0m d[\u001b[38;5;241m10\u001b[39m]\n",
      "\u001b[0;31mKeyError\u001b[0m: 10"
     ]
    }
   ],
   "source": [
    "d[10]"
   ]
  },
  {
   "cell_type": "markdown",
   "id": "e63b5c58",
   "metadata": {},
   "source": [
    "#### How to check whether a certain key exists"
   ]
  },
  {
   "cell_type": "markdown",
   "id": "063f5a05",
   "metadata": {},
   "source": [
    "In practice, we sometimes run into situations in which we cannot be sure that a certain key is contained in a dictionary. <br/>\n",
    "In such a situation, we might want to check whether this is the case."
   ]
  },
  {
   "cell_type": "markdown",
   "id": "315b32d1",
   "metadata": {},
   "source": [
    "We can check whether a certain key exists in the list simply by writing:"
   ]
  },
  {
   "cell_type": "code",
   "execution_count": 31,
   "id": "5a82af9c",
   "metadata": {},
   "outputs": [
    {
     "name": "stdout",
     "output_type": "stream",
     "text": [
      "True\n",
      "True\n"
     ]
    }
   ],
   "source": [
    "# Check whether the key 2 is in the dictionary\n",
    "print(2 in d)\n",
    "\n",
    "# Check whether the key 4 is in the dictionary\n",
    "print(4 in d)"
   ]
  },
  {
   "cell_type": "markdown",
   "id": "0522a20a",
   "metadata": {},
   "source": [
    "#### Adding values to a dictionary"
   ]
  },
  {
   "cell_type": "markdown",
   "id": "1aacf772",
   "metadata": {},
   "source": [
    "Indexing can be used not only to retrieve values from a dictionary but also to add new items."
   ]
  },
  {
   "cell_type": "code",
   "execution_count": 32,
   "id": "259bfa16",
   "metadata": {},
   "outputs": [],
   "source": [
    "d = {\n",
    "    1: 'one',\n",
    "    2: 'two',\n",
    "    3: 'three',\n",
    "}"
   ]
  },
  {
   "cell_type": "code",
   "execution_count": 33,
   "id": "9fa9b174",
   "metadata": {},
   "outputs": [],
   "source": [
    "# Adds a new key:value pair to the dictionary\n",
    "d[4] = 'four'"
   ]
  },
  {
   "cell_type": "code",
   "execution_count": 34,
   "id": "9f498453",
   "metadata": {},
   "outputs": [
    {
     "name": "stdout",
     "output_type": "stream",
     "text": [
      "{1: 'one', 2: 'two', 3: 'three', 4: 'four'}\n"
     ]
    }
   ],
   "source": [
    "print(d)"
   ]
  },
  {
   "cell_type": "markdown",
   "id": "bdfef5a3",
   "metadata": {},
   "source": [
    "Note that if the key already exists, it will simply be overwritten."
   ]
  },
  {
   "cell_type": "code",
   "execution_count": 35,
   "id": "87c7f4ae",
   "metadata": {},
   "outputs": [],
   "source": [
    "d[4] = 'five'"
   ]
  },
  {
   "cell_type": "code",
   "execution_count": 36,
   "id": "d64863a7",
   "metadata": {},
   "outputs": [
    {
     "name": "stdout",
     "output_type": "stream",
     "text": [
      "{1: 'one', 2: 'two', 3: 'three', 4: 'five'}\n"
     ]
    }
   ],
   "source": [
    "print(d)"
   ]
  },
  {
   "cell_type": "markdown",
   "id": "44d5983c",
   "metadata": {},
   "source": [
    "#### Remove a key:value pair from a dictionary"
   ]
  },
  {
   "cell_type": "markdown",
   "id": "8cadf232",
   "metadata": {},
   "source": [
    "There are two ways to remove a key from a dictionary.\n",
    "\n",
    "One option would be to use the `del` statement."
   ]
  },
  {
   "cell_type": "code",
   "execution_count": 38,
   "id": "86d737f9",
   "metadata": {},
   "outputs": [],
   "source": [
    "d = {\n",
    "    1: 'one',\n",
    "    2: 'two',\n",
    "    3: 'three',\n",
    "}"
   ]
  },
  {
   "cell_type": "code",
   "execution_count": 39,
   "id": "35c175aa",
   "metadata": {},
   "outputs": [],
   "source": [
    "# Delete key 1 from the dictionary\n",
    "del d[1]"
   ]
  },
  {
   "cell_type": "code",
   "execution_count": 40,
   "id": "e2976c96",
   "metadata": {},
   "outputs": [
    {
     "name": "stdout",
     "output_type": "stream",
     "text": [
      "{2: 'two', 3: 'three'}\n"
     ]
    }
   ],
   "source": [
    "print(d)"
   ]
  },
  {
   "cell_type": "markdown",
   "id": "4ed4d5cb",
   "metadata": {},
   "source": [
    "Alternatively, we can also use the `pop()` method which removes the key and returns its value"
   ]
  },
  {
   "cell_type": "code",
   "execution_count": 48,
   "id": "d8d5162a",
   "metadata": {},
   "outputs": [],
   "source": [
    "v = d.pop(3)"
   ]
  },
  {
   "cell_type": "code",
   "execution_count": 43,
   "id": "ef10528d",
   "metadata": {},
   "outputs": [
    {
     "name": "stdout",
     "output_type": "stream",
     "text": [
      "three\n",
      "{2: 'two'}\n"
     ]
    }
   ],
   "source": [
    "print(v)\n",
    "print(d)"
   ]
  },
  {
   "cell_type": "markdown",
   "id": "e7b541e6",
   "metadata": {},
   "source": [
    "#### Obtaining all keys or values from a dictionary"
   ]
  },
  {
   "cell_type": "code",
   "execution_count": 44,
   "id": "de86d67c",
   "metadata": {},
   "outputs": [],
   "source": [
    "d = {\n",
    "    1: 'one',\n",
    "    2: 'two',\n",
    "    3: 'three',\n",
    "}"
   ]
  },
  {
   "cell_type": "markdown",
   "id": "2ecd31ce",
   "metadata": {},
   "source": [
    "We can obtain the keys contained in a dictionary simply by calling a dictionary's `keys()` method."
   ]
  },
  {
   "cell_type": "code",
   "execution_count": 45,
   "id": "d65c554c",
   "metadata": {},
   "outputs": [],
   "source": [
    "keys = d.keys()"
   ]
  },
  {
   "cell_type": "code",
   "execution_count": 46,
   "id": "bd610a3d",
   "metadata": {},
   "outputs": [
    {
     "name": "stdout",
     "output_type": "stream",
     "text": [
      "dict_keys([1, 2, 3])\n"
     ]
    }
   ],
   "source": [
    "# The keys() returns an object of type <dict_keys>. This object is iterable.\n",
    "print(keys)"
   ]
  },
  {
   "cell_type": "code",
   "execution_count": 47,
   "id": "5ac07259",
   "metadata": {},
   "outputs": [],
   "source": [
    "# If necessary, we can convert the <dict_keys> object into a list\n",
    "keys = list(d.keys())"
   ]
  },
  {
   "cell_type": "code",
   "execution_count": 49,
   "id": "37cf26e0",
   "metadata": {},
   "outputs": [
    {
     "name": "stdout",
     "output_type": "stream",
     "text": [
      "[1, 2, 3]\n"
     ]
    }
   ],
   "source": [
    "print(keys)"
   ]
  },
  {
   "cell_type": "markdown",
   "id": "6ae88dc9",
   "metadata": {},
   "source": [
    "Of course, we can also obtain the values contained in a list. This can be achieved by calling the `values` method."
   ]
  },
  {
   "cell_type": "code",
   "execution_count": 50,
   "id": "d71c25dc",
   "metadata": {},
   "outputs": [],
   "source": [
    "values = d.values()"
   ]
  },
  {
   "cell_type": "code",
   "execution_count": 51,
   "id": "06ceacfa",
   "metadata": {},
   "outputs": [
    {
     "name": "stdout",
     "output_type": "stream",
     "text": [
      "dict_values(['one', 'two'])\n"
     ]
    }
   ],
   "source": [
    "print(values)"
   ]
  },
  {
   "cell_type": "markdown",
   "id": "07e4df19",
   "metadata": {},
   "source": [
    "In some situations, we also might want to have both --- a list/iterable of key + value pairs\n",
    "\n",
    "If this is the case, the `items` method comes in handy."
   ]
  },
  {
   "cell_type": "code",
   "execution_count": 52,
   "id": "95a64f91",
   "metadata": {},
   "outputs": [],
   "source": [
    "# Iterable object which provides key:value pairs\n",
    "key_value_pairs = d.items()"
   ]
  },
  {
   "cell_type": "code",
   "execution_count": 53,
   "id": "b967e89a",
   "metadata": {},
   "outputs": [
    {
     "name": "stdout",
     "output_type": "stream",
     "text": [
      "dict_items([(1, 'one'), (2, 'two')])\n"
     ]
    }
   ],
   "source": [
    "print(key_value_pairs)"
   ]
  },
  {
   "cell_type": "code",
   "execution_count": 56,
   "id": "b7d115bc",
   "metadata": {},
   "outputs": [],
   "source": [
    "# Create a list of key:value pairs. Key:value pairs are wrapped inside a tuple.\n",
    "key_value_pairs = list(d.items())"
   ]
  },
  {
   "cell_type": "code",
   "execution_count": 57,
   "id": "3d19d14b",
   "metadata": {},
   "outputs": [
    {
     "name": "stdout",
     "output_type": "stream",
     "text": [
      "[(1, 'one'), (2, 'two')]\n"
     ]
    }
   ],
   "source": [
    "print(key_value_pairs)"
   ]
  },
  {
   "cell_type": "markdown",
   "id": "bb74e456",
   "metadata": {},
   "source": [
    "#### Merging two dictionaries"
   ]
  },
  {
   "cell_type": "markdown",
   "id": "7d11441b",
   "metadata": {},
   "source": [
    "Sometimes we encounter situations where we have two dictionaries and are required to merge these dictionaries.\n",
    "\n",
    "There are multiple ways to accomplish this."
   ]
  },
  {
   "cell_type": "markdown",
   "id": "ead2453c",
   "metadata": {},
   "source": [
    "##### Merging two dictionaries using `update` (Inplace)"
   ]
  },
  {
   "cell_type": "markdown",
   "id": "f6fbb58b",
   "metadata": {},
   "source": [
    "The `update()` function can be used to add multiple key-value pairs at once. This function can be passed to another dictionary or an iterable of key-value sequences."
   ]
  },
  {
   "cell_type": "code",
   "execution_count": 73,
   "id": "6d330783",
   "metadata": {},
   "outputs": [],
   "source": [
    "d = {\n",
    "    1: 'one',\n",
    "    2: 'two',\n",
    "    3: 'three',\n",
    "}"
   ]
  },
  {
   "cell_type": "code",
   "execution_count": 74,
   "id": "47c67fd8",
   "metadata": {},
   "outputs": [
    {
     "name": "stdout",
     "output_type": "stream",
     "text": [
      "{1: 'one', 2: 'two', 3: 'three'}\n"
     ]
    }
   ],
   "source": [
    "print(d)"
   ]
  },
  {
   "cell_type": "code",
   "execution_count": 79,
   "id": "70505d6c",
   "metadata": {},
   "outputs": [
    {
     "name": "stdout",
     "output_type": "stream",
     "text": [
      "140269404877696\n"
     ]
    }
   ],
   "source": [
    "print(id(d))"
   ]
  },
  {
   "cell_type": "code",
   "execution_count": 80,
   "id": "8dae99fd",
   "metadata": {},
   "outputs": [],
   "source": [
    "d.update({\n",
    "    4: 'four',\n",
    "    5: 'five',\n",
    "    3: 'overwritten'\n",
    "})"
   ]
  },
  {
   "cell_type": "code",
   "execution_count": 81,
   "id": "fdde718d",
   "metadata": {},
   "outputs": [
    {
     "name": "stdout",
     "output_type": "stream",
     "text": [
      "{1: 'one', 2: 'two', 3: 'overwritten', 4: 'four', 5: 'five'}\n"
     ]
    }
   ],
   "source": [
    "print(d)"
   ]
  },
  {
   "cell_type": "code",
   "execution_count": 82,
   "id": "57a4249a",
   "metadata": {},
   "outputs": [
    {
     "name": "stdout",
     "output_type": "stream",
     "text": [
      "140269404877696\n"
     ]
    }
   ],
   "source": [
    "print(id(d))"
   ]
  },
  {
   "cell_type": "markdown",
   "id": "fa751a5a",
   "metadata": {},
   "source": [
    "As can be seen, the `update` method merges the given dictionary with the `d`. Keys that are already in the dictionary are overwritten."
   ]
  },
  {
   "cell_type": "markdown",
   "id": "ef32a2d1",
   "metadata": {},
   "source": [
    "##### Merging two dictionaries using `|=` (Inplace)"
   ]
  },
  {
   "cell_type": "markdown",
   "id": "92ca0a7b",
   "metadata": {},
   "source": [
    "In Python 3.9, to possibility to merge two dictionaries using the `|=` was introduced. It behaves similarly to the `update()` method."
   ]
  },
  {
   "cell_type": "code",
   "execution_count": null,
   "id": "599f5bfd",
   "metadata": {},
   "outputs": [],
   "source": [
    "d = {\n",
    "    1: 'one',\n",
    "    2: 'two',\n",
    "    3: 'three',\n",
    "}"
   ]
  },
  {
   "cell_type": "code",
   "execution_count": 84,
   "id": "cea2058d",
   "metadata": {},
   "outputs": [],
   "source": [
    "# Perform an inplace merge of both dictionaries\n",
    "d |= {\n",
    "    4: 'four',\n",
    "    5: 'five',\n",
    "    3: 'overwritten'\n",
    "}"
   ]
  },
  {
   "cell_type": "code",
   "execution_count": 85,
   "id": "d1983a72",
   "metadata": {},
   "outputs": [
    {
     "name": "stdout",
     "output_type": "stream",
     "text": [
      "{1: 'one', 2: 'two', 3: 'overwritten', 4: 'four', 5: 'five'}\n"
     ]
    }
   ],
   "source": [
    "print(d)"
   ]
  },
  {
   "cell_type": "markdown",
   "id": "c69dd184",
   "metadata": {},
   "source": [
    "##### Merging two dictionaries using `|` (NOT inplace)"
   ]
  },
  {
   "cell_type": "code",
   "execution_count": 86,
   "id": "8d2dcd1f",
   "metadata": {},
   "outputs": [],
   "source": [
    "d = {\n",
    "    1: 'one',\n",
    "    2: 'two',\n",
    "    3: 'three',\n",
    "}"
   ]
  },
  {
   "cell_type": "code",
   "execution_count": 89,
   "id": "81351550",
   "metadata": {},
   "outputs": [],
   "source": [
    "# Merge both dicts and create a new one\n",
    "d_new = d | {\n",
    "    4: 'four',\n",
    "    5: 'five',\n",
    "    3: 'overwritten'\n",
    "}"
   ]
  },
  {
   "cell_type": "code",
   "execution_count": 88,
   "id": "e57d1850",
   "metadata": {},
   "outputs": [
    {
     "name": "stdout",
     "output_type": "stream",
     "text": [
      "{1: 'one', 2: 'two', 3: 'overwritten', 4: 'four', 5: 'five'}\n"
     ]
    }
   ],
   "source": [
    "print(d_new)"
   ]
  },
  {
   "cell_type": "markdown",
   "id": "b657c385",
   "metadata": {},
   "source": [
    "### Trick: Dictionary Default Values\n",
    "\n",
    "From the book: *Python Tricks: A Buffet of Awesome Python Features*"
   ]
  },
  {
   "cell_type": "markdown",
   "id": "d12552fa",
   "metadata": {},
   "source": [
    "Python’s dictionaries have a `get()` method for looking up a key while providing a fallback value. This can be handy in many situations."
   ]
  },
  {
   "cell_type": "markdown",
   "id": "edfaf88e",
   "metadata": {},
   "source": [
    "For example, imagine we have the following data structure that's mapping user IDs to user names:"
   ]
  },
  {
   "cell_type": "code",
   "execution_count": 91,
   "id": "5df83e71",
   "metadata": {},
   "outputs": [],
   "source": [
    "name_for_userid = {\n",
    "    382: 'Alice',\n",
    "    950: 'Bob',\n",
    "    590: 'Dilbert',\n",
    "}"
   ]
  },
  {
   "cell_type": "markdown",
   "id": "5a188f6e",
   "metadata": {},
   "source": [
    "Now we'd like to use this data structure to write a function `greeting()` that will return a greeting for a user based on their user ID. Our first implementation might look something like this:"
   ]
  },
  {
   "cell_type": "code",
   "execution_count": 92,
   "id": "79e31115",
   "metadata": {},
   "outputs": [],
   "source": [
    "def greeting(userid):\n",
    "    return 'Hi %s!' % name_for_userid[userid]"
   ]
  },
  {
   "cell_type": "markdown",
   "id": "bcb849b9",
   "metadata": {},
   "source": [
    "It’s a straightforward dictionary lookup. This first implementation technically works, but only if the user ID is a valid key in the name_for_userid dictionary."
   ]
  },
  {
   "cell_type": "code",
   "execution_count": 93,
   "id": "51c8c908",
   "metadata": {},
   "outputs": [
    {
     "name": "stdout",
     "output_type": "stream",
     "text": [
      "Hi Alice!\n"
     ]
    }
   ],
   "source": [
    "print(greeting(382))"
   ]
  },
  {
   "cell_type": "markdown",
   "id": "1095cb2f",
   "metadata": {},
   "source": [
    "If we pass an invalid user ID to our greeting function it throws an exception:"
   ]
  },
  {
   "cell_type": "code",
   "execution_count": 95,
   "id": "0cb0cb76",
   "metadata": {},
   "outputs": [
    {
     "ename": "KeyError",
     "evalue": "111",
     "output_type": "error",
     "traceback": [
      "\u001b[0;31m---------------------------------------------------------------------------\u001b[0m",
      "\u001b[0;31mKeyError\u001b[0m                                  Traceback (most recent call last)",
      "Cell \u001b[0;32mIn[95], line 1\u001b[0m\n\u001b[0;32m----> 1\u001b[0m \u001b[38;5;28mprint\u001b[39m(greeting(\u001b[38;5;241m111\u001b[39m))\n",
      "Cell \u001b[0;32mIn[92], line 2\u001b[0m, in \u001b[0;36mgreeting\u001b[0;34m(userid)\u001b[0m\n\u001b[1;32m      1\u001b[0m \u001b[38;5;28;01mdef\u001b[39;00m \u001b[38;5;21mgreeting\u001b[39m(userid):\n\u001b[0;32m----> 2\u001b[0m     \u001b[38;5;28;01mreturn\u001b[39;00m \u001b[38;5;124m'\u001b[39m\u001b[38;5;124mHi \u001b[39m\u001b[38;5;132;01m%s\u001b[39;00m\u001b[38;5;124m!\u001b[39m\u001b[38;5;124m'\u001b[39m \u001b[38;5;241m%\u001b[39m name_for_userid[userid]\n",
      "\u001b[0;31mKeyError\u001b[0m: 111"
     ]
    }
   ],
   "source": [
    "# This should return an error since the key 111 does not exist.\n",
    "print(greeting(111))"
   ]
  },
  {
   "cell_type": "markdown",
   "id": "e50ec606",
   "metadata": {},
   "source": [
    "A `KeyError` exception isn’t really the result we’d like to see. It would be much nicer if the function returned a generic greeting as a fallback\n",
    "if the user ID can't be found."
   ]
  },
  {
   "cell_type": "markdown",
   "id": "7abb325c",
   "metadata": {},
   "source": [
    "Our first approach might be to simply do a key in dict membership check and to return a default greeting if the\n",
    "user ID is unknown:"
   ]
  },
  {
   "cell_type": "code",
   "execution_count": 97,
   "id": "860cf91b",
   "metadata": {},
   "outputs": [],
   "source": [
    "def greeting(userid):\n",
    "    if userid in name_for_userid:\n",
    "        return 'Hi %s!' % name_for_userid[userid]\n",
    "    else:\n",
    "        return 'Hi there!'"
   ]
  },
  {
   "cell_type": "code",
   "execution_count": 98,
   "id": "218e21d9",
   "metadata": {},
   "outputs": [
    {
     "name": "stdout",
     "output_type": "stream",
     "text": [
      "Hi Alice!\n"
     ]
    }
   ],
   "source": [
    "print(greeting(382))"
   ]
  },
  {
   "cell_type": "code",
   "execution_count": 99,
   "id": "118cd7ed",
   "metadata": {},
   "outputs": [
    {
     "name": "stdout",
     "output_type": "stream",
     "text": [
      "Hi there!\n"
     ]
    }
   ],
   "source": [
    "print(greeting(111))"
   ]
  },
  {
   "cell_type": "markdown",
   "id": "de4cf6b9",
   "metadata": {},
   "source": [
    "But there's still room for improvement. While this new implementation gives us the expected results and seems small and clean enough, it can still be improved."
   ]
  },
  {
   "cell_type": "markdown",
   "id": "c683141b",
   "metadata": {},
   "source": [
    "Python's dictionaries have a `get()` method on them which supports a \"default\" parameter that can be used as a fallback value:"
   ]
  },
  {
   "cell_type": "code",
   "execution_count": 101,
   "id": "03985b41",
   "metadata": {},
   "outputs": [],
   "source": [
    "def greeting(userid):\n",
    "    return 'Hi %s!' % name_for_userid.get(userid, 'there')"
   ]
  },
  {
   "cell_type": "markdown",
   "id": "9fe03413",
   "metadata": {},
   "source": [
    "When `get()` is called, it checks if the given key exists in the dictionary.\n",
    "If it does, the value for the key is returned. If it does not exist, then the value of the default parameter is returned instead. As you can see,\n",
    "this implementation of greeting still works as intended:"
   ]
  },
  {
   "cell_type": "code",
   "execution_count": 103,
   "id": "57d0ea54",
   "metadata": {},
   "outputs": [
    {
     "name": "stdout",
     "output_type": "stream",
     "text": [
      "Hi Alice!\n"
     ]
    }
   ],
   "source": [
    "print(greeting(382))"
   ]
  },
  {
   "cell_type": "code",
   "execution_count": 104,
   "id": "d2b13be0",
   "metadata": {},
   "outputs": [
    {
     "name": "stdout",
     "output_type": "stream",
     "text": [
      "Hi there!\n"
     ]
    }
   ],
   "source": [
    "print(greeting(111))"
   ]
  }
 ],
 "metadata": {
  "kernelspec": {
   "display_name": "Python 3 (ipykernel)",
   "language": "python",
   "name": "python3"
  },
  "language_info": {
   "codemirror_mode": {
    "name": "ipython",
    "version": 3
   },
   "file_extension": ".py",
   "mimetype": "text/x-python",
   "name": "python",
   "nbconvert_exporter": "python",
   "pygments_lexer": "ipython3",
   "version": "3.11.5"
  }
 },
 "nbformat": 4,
 "nbformat_minor": 5
}
