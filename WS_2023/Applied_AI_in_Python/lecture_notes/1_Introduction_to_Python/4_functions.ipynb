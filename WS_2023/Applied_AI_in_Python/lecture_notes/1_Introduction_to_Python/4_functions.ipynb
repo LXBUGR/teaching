{
 "cells": [
  {
   "cell_type": "markdown",
   "id": "776f9d3b",
   "metadata": {},
   "source": [
    "# Writing functions in Python"
   ]
  },
  {
   "cell_type": "markdown",
   "id": "fa1945a0",
   "metadata": {},
   "source": [
    "Functions in Python begin with the `def` keyword followed by the parameter list inside parentheses."
   ]
  },
  {
   "cell_type": "code",
   "execution_count": 1,
   "id": "77c95dbf",
   "metadata": {},
   "outputs": [],
   "source": [
    "def a_print_function(param1, param2):\n",
    "    print(param1)\n",
    "    print(param2)"
   ]
  },
  {
   "cell_type": "code",
   "execution_count": 2,
   "id": "9c3c5636",
   "metadata": {},
   "outputs": [
    {
     "name": "stdout",
     "output_type": "stream",
     "text": [
      "Line1\n",
      "Line2\n"
     ]
    }
   ],
   "source": [
    "a_print_function('Line1', 'Line2')"
   ]
  },
  {
   "cell_type": "markdown",
   "id": "02687da4",
   "metadata": {},
   "source": [
    "Again, recall that according to the **PEP8** guideline, variables and function names should not be camel-cased (at least if there is no good reason for it). <br/>\n",
    "Underscores should be used instead."
   ]
  },
  {
   "cell_type": "markdown",
   "id": "13ae6f4b",
   "metadata": {},
   "source": [
    "Of course, we can also return values from a function. This can be done using the `return` statement."
   ]
  },
  {
   "cell_type": "code",
   "execution_count": 3,
   "id": "fbd8f67f",
   "metadata": {},
   "outputs": [],
   "source": [
    "def multiply_two_values(val1, val2):\n",
    "    return val1 * val2"
   ]
  },
  {
   "cell_type": "code",
   "execution_count": 4,
   "id": "c4151856",
   "metadata": {},
   "outputs": [
    {
     "name": "stdout",
     "output_type": "stream",
     "text": [
      "9.799999999999999\n"
     ]
    }
   ],
   "source": [
    "result = multiply_two_values(3.5, 2.8)\n",
    "print(result)"
   ]
  },
  {
   "cell_type": "markdown",
   "id": "8fd7417a",
   "metadata": {},
   "source": [
    "### Support for multiple return values"
   ]
  },
  {
   "cell_type": "markdown",
   "id": "8ac006ea",
   "metadata": {},
   "source": [
    "A pretty cool thing about Python functions is that they provide support for **multiple return values**."
   ]
  },
  {
   "cell_type": "code",
   "execution_count": 5,
   "id": "0efa05ea",
   "metadata": {},
   "outputs": [],
   "source": [
    "def multi_return_values():\n",
    "    return 10, 20, 'thirty'"
   ]
  },
  {
   "cell_type": "code",
   "execution_count": 6,
   "id": "09d3678f",
   "metadata": {},
   "outputs": [
    {
     "name": "stdout",
     "output_type": "stream",
     "text": [
      "(10, 20, 'thirty')\n"
     ]
    }
   ],
   "source": [
    "values = multi_return_values()\n",
    "print(values)"
   ]
  },
  {
   "cell_type": "markdown",
   "id": "bab84f04",
   "metadata": {},
   "source": [
    "Note that the method returns a value of type `tuple`."
   ]
  },
  {
   "cell_type": "code",
   "execution_count": 7,
   "id": "e536078a",
   "metadata": {},
   "outputs": [
    {
     "name": "stdout",
     "output_type": "stream",
     "text": [
      "<class 'tuple'>\n"
     ]
    }
   ],
   "source": [
    "print(type(values))"
   ]
  },
  {
   "cell_type": "markdown",
   "id": "0db5766d",
   "metadata": {},
   "source": [
    "**What exactly is a `tuple`?** <br/>\n",
    "A tuple is an **ordered collection** of elements. Unlike lists, tuples are immutable, meaning their elements cannot be changed after creation. Tuples are **useful when you want to store a sequence of values that should not be modified**."
   ]
  },
  {
   "cell_type": "markdown",
   "id": "c8ae7b15",
   "metadata": {},
   "source": [
    "When a function returns multiple comma-separated values, Python automatically wraps them up into a **tuple data structure** and returns that\n",
    "tuple to the caller. This is a feature called **automatic tuple packing**."
   ]
  },
  {
   "cell_type": "markdown",
   "id": "bd358efe",
   "metadata": {},
   "source": [
    "Let's see how exactly **automatic tuple (un-)packing** works in practice:"
   ]
  },
  {
   "cell_type": "markdown",
   "id": "9269c03a",
   "metadata": {},
   "source": [
    "First, let's define a tuple to unpack."
   ]
  },
  {
   "cell_type": "markdown",
   "id": "14419aa1",
   "metadata": {},
   "source": [
    "A tuple is usually defined as follows:"
   ]
  },
  {
   "cell_type": "code",
   "execution_count": 8,
   "id": "df2f45f5",
   "metadata": {},
   "outputs": [],
   "source": [
    "numbers = (1, 2, 3)"
   ]
  },
  {
   "cell_type": "code",
   "execution_count": 9,
   "id": "291b003c",
   "metadata": {},
   "outputs": [
    {
     "name": "stdout",
     "output_type": "stream",
     "text": [
      "<class 'tuple'>\n"
     ]
    }
   ],
   "source": [
    "print(type(numbers))"
   ]
  },
  {
   "cell_type": "markdown",
   "id": "04b0cab6",
   "metadata": {},
   "source": [
    "Let's now see how **automatic tuple unpacking** works in practice.\n",
    "\n",
    "We simply write ..."
   ]
  },
  {
   "cell_type": "code",
   "execution_count": 10,
   "id": "5d9a4e85",
   "metadata": {},
   "outputs": [],
   "source": [
    "# The tuple on the right automatically gets unpacked into the three variables on the left\n",
    "a, b, c = numbers"
   ]
  },
  {
   "cell_type": "code",
   "execution_count": 11,
   "id": "0f28295a",
   "metadata": {},
   "outputs": [
    {
     "name": "stdout",
     "output_type": "stream",
     "text": [
      "1\n",
      "2\n",
      "3\n"
     ]
    }
   ],
   "source": [
    "print(a)\n",
    "print(b)\n",
    "print(c)"
   ]
  },
  {
   "cell_type": "markdown",
   "id": "7fa82340",
   "metadata": {},
   "source": [
    "Very often, we see automatic tuple unpacking being used to unpack the return values of functions. This works because once Python encounters multiple values separated by a comma, it automatically packs them into a tuple."
   ]
  },
  {
   "cell_type": "code",
   "execution_count": 12,
   "id": "19bb991b",
   "metadata": {},
   "outputs": [
    {
     "name": "stdout",
     "output_type": "stream",
     "text": [
      "(1, 2, 3)\n"
     ]
    }
   ],
   "source": [
    "# The parentheses are optional. Even without parentheses, <t> becomes a tuple\n",
    "t = 1, 2, 3\n",
    "\n",
    "print(t)"
   ]
  },
  {
   "cell_type": "markdown",
   "id": "0dabbcfe",
   "metadata": {},
   "source": [
    "So if we write ..."
   ]
  },
  {
   "cell_type": "code",
   "execution_count": 13,
   "id": "2f26b8ea",
   "metadata": {},
   "outputs": [],
   "source": [
    "def multi_return_values():\n",
    "    # Python sees a list of values separated by a comma and packs it into a tuple (10, 20, 'thirty').\n",
    "    # This is the same as writing \"return (10, 20, 'thirty')\"\n",
    "    return 10, 20, 'thirty'"
   ]
  },
  {
   "cell_type": "markdown",
   "id": "8534e934",
   "metadata": {},
   "source": [
    "We can now use **automatic tuple unpacking** to unpack the tuple and again obtain each specific value."
   ]
  },
  {
   "cell_type": "code",
   "execution_count": 14,
   "id": "1cf6686d",
   "metadata": {},
   "outputs": [
    {
     "name": "stdout",
     "output_type": "stream",
     "text": [
      "10\n",
      "20\n",
      "thirty\n"
     ]
    }
   ],
   "source": [
    "a, b, c = multi_return_values()\n",
    "print(a)\n",
    "print(b)\n",
    "print(c)"
   ]
  },
  {
   "cell_type": "markdown",
   "id": "9d8d9a21",
   "metadata": {},
   "source": [
    "So from a technical point of view, Python functions only have a SINGLE value. However, automatic tuple (un-packing) provides a \"workaround\" to allow multiple return features."
   ]
  },
  {
   "cell_type": "markdown",
   "id": "6b635191",
   "metadata": {},
   "source": [
    "### Support with keyword (a.k.a named) arguments"
   ]
  },
  {
   "cell_type": "markdown",
   "id": "55fbeac6",
   "metadata": {},
   "source": [
    "So far, we have used the `print()` function to write objects to STDOUT without thinking much about it. <br/>\n",
    "Let's now briefly take a closer look at its signature which can be found at https://docs.python.org/3/library/functions.html.\n",
    "\n",
    "**Signature:** <br/>\n",
    "print(*objects, sep=' ', end='\\n', file=None, flush=False)\n",
    " \n",
    "As can be seen, according to the signature, the `print()` function can take multiple arguments (not just the string we would like to print). These additional arguments are `sep`,`end`,`file` and `flush`, and all of them have a default value. Therefore these arguments are **optional**."
   ]
  },
  {
   "cell_type": "markdown",
   "id": "5af75685",
   "metadata": {},
   "source": [
    "We can equip Python functions with optional arguments by adding so-called **keyword (a.k.a. named) arguments**."
   ]
  },
  {
   "cell_type": "markdown",
   "id": "9b9f787f",
   "metadata": {},
   "source": [
    "To see how this works in practice, let's say that we want to define a new custom function that automatically adds a separating line between printable objects."
   ]
  },
  {
   "cell_type": "markdown",
   "id": "1926ebb4",
   "metadata": {},
   "source": [
    "Something that looks like ..."
   ]
  },
  {
   "cell_type": "code",
   "execution_count": 15,
   "id": "f8994e09",
   "metadata": {},
   "outputs": [
    {
     "name": "stdout",
     "output_type": "stream",
     "text": [
      "asdf\n",
      "======\n",
      "asdf\n",
      "======\n",
      "asdf\n"
     ]
    }
   ],
   "source": [
    "print('asdf', 'asdf', 'asdf', sep='\\n======\\n')"
   ]
  },
  {
   "cell_type": "markdown",
   "id": "4a198924",
   "metadata": {},
   "source": [
    "Therefore, we define a custom print function. For simplicity, we just call it `custom_print()`. <br/>\n",
    "This function should have a named argument called `sep` (like the original `print()` function). However, it's default value is supposed to be different from the original `print()` function."
   ]
  },
  {
   "cell_type": "code",
   "execution_count": 16,
   "id": "3a758979",
   "metadata": {},
   "outputs": [],
   "source": [
    "def custom_print(*obj, sep='\\n======\\n'):\n",
    "    print(*obj, sep=sep)"
   ]
  },
  {
   "cell_type": "markdown",
   "id": "7f37fdfd",
   "metadata": {},
   "source": [
    "If we now call our custom print function, all objects are printed separated by \"======\" characters by default."
   ]
  },
  {
   "cell_type": "code",
   "execution_count": 17,
   "id": "ced1fc2f",
   "metadata": {},
   "outputs": [
    {
     "name": "stdout",
     "output_type": "stream",
     "text": [
      "test\n",
      "======\n",
      "asdf\n",
      "======\n",
      "asdf\n"
     ]
    }
   ],
   "source": [
    "custom_print('test', 'asdf', 'asdf')"
   ]
  },
  {
   "cell_type": "markdown",
   "id": "9a60d8d9",
   "metadata": {},
   "source": [
    "However, we can still change the separating line if needed when we call the function."
   ]
  },
  {
   "cell_type": "code",
   "execution_count": 18,
   "id": "7482b194",
   "metadata": {},
   "outputs": [
    {
     "name": "stdout",
     "output_type": "stream",
     "text": [
      "test\n",
      "#######\n",
      "asdf\n",
      "#######\n",
      "asdf\n"
     ]
    }
   ],
   "source": [
    "custom_print('test', 'asdf', 'asdf', sep='\\n#######\\n')"
   ]
  },
  {
   "cell_type": "markdown",
   "id": "5fdfb8a3",
   "metadata": {},
   "source": [
    "### Passing a variable number of arguments to a function"
   ]
  },
  {
   "cell_type": "markdown",
   "id": "80b3f623",
   "metadata": {},
   "source": [
    "Let's again take a look the `print()` function for illustrative purposes only. <br/> \n",
    "As we have seen, the `print()` function is able to receive an arbitary number of values (arguments) and print all of them. So obviously, there is a way Python functions can deal with a variable number of arguments."
   ]
  },
  {
   "cell_type": "code",
   "execution_count": 19,
   "id": "efec0725",
   "metadata": {},
   "outputs": [
    {
     "name": "stdout",
     "output_type": "stream",
     "text": [
      "a b\n",
      "a b c\n"
     ]
    }
   ],
   "source": [
    "print('a', 'b')\n",
    "print('a', 'b', 'c')"
   ]
  },
  {
   "cell_type": "markdown",
   "id": "1e8eccc2",
   "metadata": {},
   "source": [
    "In order to \"tell\" Python that the number of arguments passed to a function varies, we need the **packing operator** (*) in front of the argument."
   ]
  },
  {
   "cell_type": "markdown",
   "id": "ead6b1ce",
   "metadata": {},
   "source": [
    "Suppose we want to write a function `multiply_all` that receives a variable number of arguments and returns the product of these arguments. <br/>\n",
    "\n",
    "The resulting function might look as follows:"
   ]
  },
  {
   "cell_type": "code",
   "execution_count": 20,
   "id": "3b5ee64b",
   "metadata": {},
   "outputs": [],
   "source": [
    "# Note the * operator (packing operator) in front of factors\n",
    "def multiply_all(*factors):\n",
    "    product = 1.\n",
    "    for factor in factors:\n",
    "        product *= factor\n",
    "        \n",
    "    return product"
   ]
  },
  {
   "cell_type": "code",
   "execution_count": 21,
   "id": "d2bd5aae",
   "metadata": {},
   "outputs": [
    {
     "data": {
      "text/plain": [
       "6.0"
      ]
     },
     "execution_count": 21,
     "metadata": {},
     "output_type": "execute_result"
    }
   ],
   "source": [
    "multiply_all(1, 2, 3)"
   ]
  },
  {
   "cell_type": "markdown",
   "id": "567bc4c1",
   "metadata": {},
   "source": [
    "The packing operator tells Python that there is a variable number of arguments passed to `multiply_all` and that these passed arguments should be \"packed\" into a tuple called `factors`."
   ]
  },
  {
   "cell_type": "code",
   "execution_count": 22,
   "id": "5611bab5",
   "metadata": {},
   "outputs": [],
   "source": [
    "def multiply_all(*factors):\n",
    "    print(factors)\n",
    "    print(type(factors))"
   ]
  },
  {
   "cell_type": "code",
   "execution_count": 23,
   "id": "ce732d66",
   "metadata": {},
   "outputs": [
    {
     "name": "stdout",
     "output_type": "stream",
     "text": [
      "(1, 2, 3)\n",
      "<class 'tuple'>\n"
     ]
    }
   ],
   "source": [
    "multiply_all(1, 2, 3)"
   ]
  },
  {
   "cell_type": "markdown",
   "id": "1fb992eb",
   "metadata": {},
   "source": [
    "<b> Using the *-operator for list or tuple unpacking</b> <br/>\n",
    "The previous example illustrated how the *-operator can be used to convert a variable number of arguments into a tuple (a.k.a. tuple packing). However, the *-operator can also be used for the opposite direction, which is then referred to as tuple unpacking."
   ]
  },
  {
   "cell_type": "markdown",
   "id": "c4d0619e",
   "metadata": {},
   "source": [
    "Let's assume we are given a list (or tuple) that has two values. We now want to pass the list to a function that takes the two list values as two separate arguments."
   ]
  },
  {
   "cell_type": "code",
   "execution_count": 24,
   "id": "9e2f734e",
   "metadata": {},
   "outputs": [],
   "source": [
    "def multiply_two_numbers(a, b):\n",
    "    return a * b"
   ]
  },
  {
   "cell_type": "code",
   "execution_count": 25,
   "id": "17cb7414",
   "metadata": {},
   "outputs": [
    {
     "data": {
      "text/plain": [
       "2"
      ]
     },
     "execution_count": 25,
     "metadata": {},
     "output_type": "execute_result"
    }
   ],
   "source": [
    "two_value_list = [1, 2]\n",
    "\n",
    "# The unpacking operator ensures that list values are passed as separate arguments\n",
    "multiply_two_numbers(*two_value_list)"
   ]
  },
  {
   "cell_type": "markdown",
   "id": "da10427c",
   "metadata": {},
   "source": [
    "**(Un-)Packing for variable-length keyword arguments**"
   ]
  },
  {
   "cell_type": "markdown",
   "id": "525c62dd",
   "metadata": {},
   "source": [
    "Python does not only support variable-length positional arguments but also variable-length keyword arguments.\n",
    "\n",
    "However, if we want to (un-)pack keyword arguments, we instead have to use the \\**-operator. This way, we tell Python that we are dealing with keyword arguments."
   ]
  },
  {
   "cell_type": "code",
   "execution_count": 26,
   "id": "98c531b8",
   "metadata": {},
   "outputs": [],
   "source": [
    "# This function expects a variable numbers of keyword arguments\n",
    "def example_func_with_variable_kwargs(**kwargs):\n",
    "    print(kwargs)\n",
    "    print(type(kwargs))"
   ]
  },
  {
   "cell_type": "code",
   "execution_count": 27,
   "id": "a5ec910a",
   "metadata": {},
   "outputs": [
    {
     "name": "stdout",
     "output_type": "stream",
     "text": [
      "{'kw1': '1', 'kw2': '2'}\n",
      "<class 'dict'>\n"
     ]
    }
   ],
   "source": [
    "example_func_with_variable_kwargs(kw1='1', kw2='2')"
   ]
  },
  {
   "cell_type": "markdown",
   "id": "0e116250",
   "metadata": {},
   "source": [
    "As can be seen, the \\**-operator packs all named arguments into a single object (called ``kwargs` in our example). However, in contrast to positional arguments, the resulting object is a **dictionary** rather than a tuple. "
   ]
  },
  {
   "cell_type": "markdown",
   "id": "fa71b860",
   "metadata": {},
   "source": [
    "**Dictionary:** <br/>\n",
    "A dictionary `dict` is a built-in Python data type. Dictionaries are used to store data values in key:value pairs. Dictionaries are mutable and do not allow duplicates."
   ]
  },
  {
   "cell_type": "markdown",
   "id": "c3bd3994",
   "metadata": {},
   "source": [
    "A dictionary is defined as follows:"
   ]
  },
  {
   "cell_type": "code",
   "execution_count": 28,
   "id": "a444a11b",
   "metadata": {},
   "outputs": [
    {
     "name": "stdout",
     "output_type": "stream",
     "text": [
      "{'key1': 'a', 'key2': 3}\n"
     ]
    }
   ],
   "source": [
    "sample_dict = {\n",
    "    'key1': 'a',\n",
    "    'key2': 3\n",
    "}\n",
    "print(sample_dict)"
   ]
  },
  {
   "cell_type": "markdown",
   "id": "c7c1f328",
   "metadata": {},
   "source": [
    "Like we did with positional arguments, we can also unpack a dict and pass it as keyword arguments."
   ]
  },
  {
   "cell_type": "code",
   "execution_count": 29,
   "id": "0dbedb85",
   "metadata": {},
   "outputs": [],
   "source": [
    "def function_with_two_kwargs(kwarg1='', kwarg2=''):\n",
    "    print('Value of kwarg1:', kwarg1)\n",
    "    print('Value of kwarg2:', kwarg2)"
   ]
  },
  {
   "cell_type": "code",
   "execution_count": 30,
   "id": "598a9754",
   "metadata": {},
   "outputs": [
    {
     "name": "stdout",
     "output_type": "stream",
     "text": [
      "Value of kwarg1: a\n",
      "Value of kwarg2: b\n"
     ]
    }
   ],
   "source": [
    "function_with_two_kwargs(**{'kwarg1': 'a', 'kwarg2': 'b'})"
   ]
  },
  {
   "cell_type": "markdown",
   "id": "9e8bb600",
   "metadata": {},
   "source": [
    "### All functions are objects\n",
    "\n",
    "As mentioned previously, anything in Python is an object --- even functions!"
   ]
  },
  {
   "cell_type": "code",
   "execution_count": 31,
   "id": "dbbae89c",
   "metadata": {},
   "outputs": [],
   "source": [
    "def demo_func():\n",
    "    print('demo')"
   ]
  },
  {
   "cell_type": "code",
   "execution_count": 32,
   "id": "6cdd351a",
   "metadata": {},
   "outputs": [
    {
     "name": "stdout",
     "output_type": "stream",
     "text": [
      "<class 'function'>\n"
     ]
    }
   ],
   "source": [
    "print(type(demo_func))"
   ]
  },
  {
   "cell_type": "markdown",
   "id": "85a70403",
   "metadata": {},
   "source": [
    "Note that this has some nice implications. <br/>\n",
    "For instance, we can store functions in a variable or pass a function as an argument to another function."
   ]
  },
  {
   "cell_type": "code",
   "execution_count": 33,
   "id": "2cd6b253",
   "metadata": {},
   "outputs": [],
   "source": [
    "def func_that_calls_func(func_to_call):\n",
    "    # Let's call the function which we received as an argument\n",
    "    func_to_call()"
   ]
  },
  {
   "cell_type": "code",
   "execution_count": 34,
   "id": "f25f195e",
   "metadata": {},
   "outputs": [
    {
     "name": "stdout",
     "output_type": "stream",
     "text": [
      "demo\n"
     ]
    }
   ],
   "source": [
    "func_that_calls_func(demo_func)"
   ]
  },
  {
   "cell_type": "markdown",
   "id": "6c3020e0",
   "metadata": {},
   "source": [
    "### The LEGB rule\n",
    "\n",
    "Usually, we expect variables accessed inside a function to be defined inside the function. But what if this is not the case and we want to access a variable that's defined outside the function? Well, let's try ..."
   ]
  },
  {
   "cell_type": "code",
   "execution_count": 35,
   "id": "a0734370",
   "metadata": {},
   "outputs": [
    {
     "name": "stdout",
     "output_type": "stream",
     "text": [
      "3\n"
     ]
    }
   ],
   "source": [
    "x = 3\n",
    "\n",
    "def f():\n",
    "    print(x)\n",
    "    \n",
    "f()"
   ]
  },
  {
   "cell_type": "markdown",
   "id": "9153ccaa",
   "metadata": {},
   "source": [
    "As can be seen, Python functions are not limited to the scope of the function. We can also access variables that are defined outside the function."
   ]
  },
  {
   "cell_type": "markdown",
   "id": "8d25c7dd",
   "metadata": {},
   "source": [
    "Next, let's try to change the variable from inside the function ..."
   ]
  },
  {
   "cell_type": "code",
   "execution_count": 36,
   "id": "86ea3b76",
   "metadata": {},
   "outputs": [
    {
     "name": "stdout",
     "output_type": "stream",
     "text": [
      "Local: 4\n",
      "Global: 3\n"
     ]
    }
   ],
   "source": [
    "x = 3\n",
    "\n",
    "def f():\n",
    "    x = 4\n",
    "    print('Local:', x)\n",
    "    \n",
    "f()\n",
    "print('Global:', x)"
   ]
  },
  {
   "cell_type": "markdown",
   "id": "59a6bfab",
   "metadata": {},
   "source": [
    "Well, this doesn't seem to work. Apparently our change is only visible inside the function. So, what's going on here ?"
   ]
  },
  {
   "cell_type": "markdown",
   "id": "98e1fbbf",
   "metadata": {},
   "source": [
    "The answer to this question is provided by the so-called **LEGB (Local - Enclosing - Global - Built-In) rule**. \n",
    "\n",
    "Python resolves the scope for the names using this rule.\n",
    "\n",
    "1. **Local:** Local (or function) scope is the code block or body of any Python function or lambda expression. This Python scope contains the names that you define inside the function. These names will only be visible from the code of the function. It’s created at function call, not at function definition, so you’ll have as many different local scopes as function calls. This is true even if you call the same function multiple times, or recursively. Each call will result in a new local scope being created.\n",
    "\n",
    "2. **Enclosing:** Enclosing (or nonlocal) scope is a special scope that only exists for nested functions. If the local scope is an inner or nested function, then the enclosing scope is the scope of the outer or enclosing function. This scope contains the names that you define in the enclosing function. The names in the enclosing scope are visible from the code of the inner and enclosing functions.\n",
    "\n",
    "3. **Global:** Global (or module) scope is the top-most scope in a Python program, script, or module. This Python scope contains all of the names that you define at the top level of a program or a module. Names in this Python scope are visible from everywhere in your code.\n",
    "\n",
    "4. **Built-in:** Built-in scope is a special Python scope that’s created or loaded whenever you run a script or open an interactive session. This scope contains names such as keywords, functions, exceptions, and other attributes that are built into Python. Names in this Python scope are also available from everywhere in your code. It’s automatically loaded by Python when you run a program or script."
   ]
  },
  {
   "cell_type": "markdown",
   "id": "c3d16d13",
   "metadata": {},
   "source": [
    "Once we define a variable inside a function. This variable is added to the local function scope. Consequently, the local variable shadows all equally-named variables that are defined outside the scope. Since the scope gets destroyed once we leave the function, the local variable disappears once we exit the function."
   ]
  },
  {
   "cell_type": "markdown",
   "id": "6f0e8c9a",
   "metadata": {},
   "source": [
    "**What if we want to CHANGE a variable outside a function?**\n",
    "\n",
    "In order to change a variable that is defined outside a function, we need to tell Python that we directly want to change the global variable with the keyword `global`."
   ]
  },
  {
   "cell_type": "code",
   "execution_count": 37,
   "id": "edbf19dd",
   "metadata": {},
   "outputs": [
    {
     "name": "stdout",
     "output_type": "stream",
     "text": [
      "x before func call: 3\n",
      "x after func call: 5\n"
     ]
    }
   ],
   "source": [
    "x = 3\n",
    "\n",
    "def f():\n",
    "    # Tell Python that x directly refers to the global variable\n",
    "    global x\n",
    "    x = 5\n",
    "\n",
    "print('x before func call:', x)\n",
    "f()\n",
    "print('x after func call:', x)"
   ]
  },
  {
   "cell_type": "markdown",
   "id": "d21f707d",
   "metadata": {},
   "source": [
    "### Anonymous functions"
   ]
  },
  {
   "cell_type": "markdown",
   "id": "f5de0c54",
   "metadata": {},
   "source": [
    "Anonymous functions are functions that don't have a name. The `lambda` keyword in Python provides a shortcut for declaring\n",
    "small anonymous functions. Lambda functions behave just like regular functions declared with the `def` keyword. They can be used\n",
    "whenever function objects are required."
   ]
  },
  {
   "cell_type": "markdown",
   "id": "ac9ca8cf",
   "metadata": {},
   "source": [
    "For example, this is how you’d define a simple lambda function carrying out an addition:"
   ]
  },
  {
   "cell_type": "code",
   "execution_count": 38,
   "id": "f66ac47f",
   "metadata": {},
   "outputs": [],
   "source": [
    "add = lambda x, y: x + y"
   ]
  },
  {
   "cell_type": "code",
   "execution_count": 39,
   "id": "b7862a8b",
   "metadata": {},
   "outputs": [
    {
     "name": "stdout",
     "output_type": "stream",
     "text": [
      "3\n"
     ]
    }
   ],
   "source": [
    "print(add(1, 2))"
   ]
  },
  {
   "cell_type": "markdown",
   "id": "62784f71",
   "metadata": {},
   "source": [
    "Conceptually, the lambda expression `lambda x, y: x + y` is the same as declaring a function with`def`, but just written inline. The key difference here is that I didn’t have to bind the function object to a name before I used it."
   ]
  },
  {
   "cell_type": "markdown",
   "id": "08f5903e",
   "metadata": {},
   "source": [
    "There's another syntactic difference between lambdas and regular function definitions. Lambda functions are restricted to a single expression. This means a lambda function can’t use statements or annotations—not even a return statement.\n",
    "\n",
    "**How do you return values from lambdas then?** Executing a lambda function evaluates its expression and then automatically returns the expression’s result, so there’s always an implicit return statement."
   ]
  },
  {
   "cell_type": "markdown",
   "id": "14f9fc68",
   "metadata": {},
   "source": [
    "#### When should we use them?\n",
    "\n",
    "Lambda functions can provide a handy and \"unbureaucratic\" shortcut to defining a function in Python. My most frequent use case for lambdas is writing short and concise key funcs for sorting iterables by an alternate key ..."
   ]
  },
  {
   "cell_type": "code",
   "execution_count": 40,
   "id": "dc56d31c",
   "metadata": {},
   "outputs": [],
   "source": [
    "tuples = [(1, 'd'), (2, 'b'), (4, 'a'), (3, 'c')]"
   ]
  },
  {
   "cell_type": "code",
   "execution_count": 41,
   "id": "bc94b450",
   "metadata": {},
   "outputs": [
    {
     "data": {
      "text/plain": [
       "[(4, 'a'), (2, 'b'), (3, 'c'), (1, 'd')]"
      ]
     },
     "execution_count": 41,
     "metadata": {},
     "output_type": "execute_result"
    }
   ],
   "source": [
    "sorted(tuples, key=lambda x: x[1])"
   ]
  },
  {
   "cell_type": "markdown",
   "id": "18d30b37",
   "metadata": {},
   "source": [
    "### Documenting functions"
   ]
  },
  {
   "cell_type": "markdown",
   "id": "4c1de4ce",
   "metadata": {},
   "source": [
    "When you look at libraries such as Numpy, you will see that most functions start with a so-called docstring that contains a detailed description of the function. <br/>\n",
    "Docstrings are started/ended with `\"\"\"` or `'''` and typically appear after the definition of a function, method, class, or module.\n",
    "\n",
    "\n",
    "See for example https://github.com/numpy/numpy/blob/main/numpy/linalg/linalg.py"
   ]
  },
  {
   "cell_type": "markdown",
   "id": "122eb945",
   "metadata": {},
   "source": [
    "Although docstrings might look like regular comments at the first glance, it's important to note that this is not the case. <br/>\n",
    "Unlike regular comments (which will be completely ignored by the compiler), docstrings will become part of the Python Bytecode. We can access the docstring at runtime with the `__doc__` attribute."
   ]
  },
  {
   "cell_type": "markdown",
   "id": "0d44b0e0",
   "metadata": {},
   "source": [
    "Let's try to define our own function with a basic docstring documentation."
   ]
  },
  {
   "cell_type": "code",
   "execution_count": 42,
   "id": "d454aba2",
   "metadata": {},
   "outputs": [],
   "source": [
    "def func_with_docu(x):\n",
    "    \"\"\"\n",
    "    This functions demonstrates how docstrings work.\n",
    "\n",
    "    Parameters\n",
    "    ----------\n",
    "    a : An object of any type\n",
    "\n",
    "    Returns\n",
    "    -------\n",
    "    x : The object passed by the user\n",
    "    \"\"\""
   ]
  },
  {
   "cell_type": "code",
   "execution_count": 43,
   "id": "b168bc75",
   "metadata": {},
   "outputs": [
    {
     "name": "stdout",
     "output_type": "stream",
     "text": [
      "\n",
      "    This functions demonstrates how docstrings work.\n",
      "\n",
      "    Parameters\n",
      "    ----------\n",
      "    a : An object of any type\n",
      "\n",
      "    Returns\n",
      "    -------\n",
      "    x : The object passed by the user\n",
      "    \n"
     ]
    }
   ],
   "source": [
    "print(func_with_docu.__doc__)"
   ]
  },
  {
   "cell_type": "markdown",
   "id": "7e9dbfbe",
   "metadata": {},
   "source": [
    "Note that the `help()` function also takes it's information from the docstring."
   ]
  },
  {
   "cell_type": "code",
   "execution_count": 45,
   "id": "19eb5068",
   "metadata": {},
   "outputs": [
    {
     "name": "stdout",
     "output_type": "stream",
     "text": [
      "Help on function func_with_docu in module __main__:\n",
      "\n",
      "func_with_docu(x)\n",
      "    This functions demonstrates how docstrings work.\n",
      "    \n",
      "    Parameters\n",
      "    ----------\n",
      "    a : An object of any type\n",
      "    \n",
      "    Returns\n",
      "    -------\n",
      "    x : The object passed by the user\n",
      "\n"
     ]
    }
   ],
   "source": [
    "help(func_with_docu)"
   ]
  }
 ],
 "metadata": {
  "kernelspec": {
   "display_name": "Python 3 (ipykernel)",
   "language": "python",
   "name": "python3"
  },
  "language_info": {
   "codemirror_mode": {
    "name": "ipython",
    "version": 3
   },
   "file_extension": ".py",
   "mimetype": "text/x-python",
   "name": "python",
   "nbconvert_exporter": "python",
   "pygments_lexer": "ipython3",
   "version": "3.11.5"
  }
 },
 "nbformat": 4,
 "nbformat_minor": 5
}
