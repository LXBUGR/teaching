{
 "cells": [
  {
   "cell_type": "markdown",
   "id": "68c0bb9c",
   "metadata": {},
   "source": [
    "# Classes: Private Variables"
   ]
  },
  {
   "cell_type": "markdown",
   "id": "5dbd125e",
   "metadata": {},
   "source": [
    "When looking at the last two tutorials, will notice that we did not declare any of the attributes as private or public. We just accessed them as if they are all public. The reason for this is simple. **\"Private\" instance variables** that cannot be accessed except from inside an object don't exist in Python.\n",
    "\n",
    "However, there is a convention that is followed by most Python code: a name prefixed with a **single underscore** should be treated as a non-public part of the API (whether it is a function, a method or a data member). It should be considered an implementation detail and subject to change without notice."
   ]
  },
  {
   "cell_type": "markdown",
   "id": "ca1f3678",
   "metadata": {},
   "source": [
    "## Example\n",
    "Let's extend `class Person` with a new attribute `svn` (\"Sozialversicherungsnummer\"). As we all know, the social security number is unique and must not change. Therefore, it make sense to mark the svn as a private in order to signal other programmers that the attribute must not be changed. Furthermore, we add a getter method to provide access to the variable."
   ]
  },
  {
   "cell_type": "code",
   "execution_count": 1,
   "id": "1964777c",
   "metadata": {},
   "outputs": [],
   "source": [
    "class Person:\n",
    "\n",
    "    def __init__(self, first_name, last_name, svn):\n",
    "\n",
    "        self.first_name = first_name\n",
    "        self.last_name = last_name\n",
    "        \n",
    "        # The social security number must not be changed.\n",
    "        # Hence, we mark the property as private by adding an \"_\"\n",
    "        self._svn = svn\n",
    "        \n",
    "    def full_name(self):\n",
    "        return f'{self.first_name} {self.last_name}' \n",
    "        \n",
    "    def get_svn(self):\n",
    "        return self._svn\n",
    "           \n",
    "    def __str__(self):\n",
    "        return f'{self.first_name} {self.last_name}' \n",
    "    \n",
    "    def __repr__(self):\n",
    "        return f'Person(first_name=\"{self.first_name}\", last_name=\"{self.last_name}\")' "
   ]
  },
  {
   "cell_type": "code",
   "execution_count": 2,
   "id": "7debc42d",
   "metadata": {},
   "outputs": [
    {
     "name": "stdout",
     "output_type": "stream",
     "text": [
      "SVN: 24930112\n"
     ]
    }
   ],
   "source": [
    "p = Person('Mike', 'Tyson', '24930112')\n",
    "\n",
    "print('SVN:', p.get_svn())"
   ]
  },
  {
   "cell_type": "markdown",
   "id": "e655ceeb",
   "metadata": {},
   "source": [
    "However, note that we can still access `_svn` attribute if we wanted to. Python does not prevent us from doing so! The underscore prefix is purely a convention to signal the user that he should not touch the attribute."
   ]
  },
  {
   "cell_type": "code",
   "execution_count": 3,
   "id": "2bacace2",
   "metadata": {},
   "outputs": [
    {
     "name": "stdout",
     "output_type": "stream",
     "text": [
      "24930112\n"
     ]
    }
   ],
   "source": [
    "print(p._svn)"
   ]
  },
  {
   "cell_type": "markdown",
   "id": "3f29bffe",
   "metadata": {},
   "source": [
    "### Using Properties Instead of Getters and Setters\n",
    "\n",
    "Even though the getter and setter pattern is quite common in other programming languages, that's not the case in Python.\n",
    "\n",
    "Adding getter and setter methods to your classes can considerably increase the number of lines in your code. Furthermore, getters and setters also follow a repetitive and boring pattern that'll require extra time to complete. This pattern can be error-prone and tedious. That's why getters and setters are consider NOT pythonic.\n",
    "\n",
    "The pythonic way to attach behavior to an attribute is to turn the attribute itself into a **property**. Properties pack together methods for getting, setting, deleting, and documenting the underlying data. Therefore, properties are special attributes with additional behavior."
   ]
  },
  {
   "cell_type": "code",
   "execution_count": 4,
   "id": "f1e63bea",
   "metadata": {},
   "outputs": [],
   "source": [
    "class Person:\n",
    "\n",
    "    def __init__(self, first_name, last_name, svn):\n",
    "\n",
    "        self.first_name = first_name\n",
    "        self.last_name = last_name\n",
    "        \n",
    "        # The social security number must not be changed.\n",
    "        # Hence, we mark the property as private by adding an \"_\"\n",
    "        self._svn = svn\n",
    "      \n",
    "    def full_name(self):\n",
    "        return f'{self.first_name} {self.last_name}' \n",
    "        \n",
    "    # The property decorator declares the method svn() as property svn.\n",
    "    # svn() should behave like a getter method and return _svn\n",
    "    @property\n",
    "    def svn(self):\n",
    "        return self._svn\n",
    "           \n",
    "    def __str__(self):\n",
    "        return f'{self.first_name} {self.last_name}' \n",
    "    \n",
    "    def __repr__(self):\n",
    "        return f'Person(first_name=\"{self.first_name}\", last_name=\"{self.last_name}\")' "
   ]
  },
  {
   "cell_type": "code",
   "execution_count": 5,
   "id": "e3c8049b",
   "metadata": {},
   "outputs": [
    {
     "name": "stdout",
     "output_type": "stream",
     "text": [
      "SVN: 24930112\n"
     ]
    }
   ],
   "source": [
    "p = Person('Mike', 'Tyson', '24930112')\n",
    "\n",
    "# Now p.svn appears like a conventional attribute. However, accessing p.svn calls the p.svn() method\n",
    "print('SVN:', p.svn)"
   ]
  },
  {
   "cell_type": "code",
   "execution_count": 6,
   "id": "4d68ac23",
   "metadata": {},
   "outputs": [
    {
     "ename": "AttributeError",
     "evalue": "property 'svn' of 'Person' object has no setter",
     "output_type": "error",
     "traceback": [
      "\u001b[0;31m---------------------------------------------------------------------------\u001b[0m",
      "\u001b[0;31mAttributeError\u001b[0m                            Traceback (most recent call last)",
      "Cell \u001b[0;32mIn[6], line 3\u001b[0m\n\u001b[1;32m      1\u001b[0m \u001b[38;5;66;03m# Note that the @property decorator is used to declare the getter.\u001b[39;00m\n\u001b[1;32m      2\u001b[0m \u001b[38;5;66;03m# Trying to set the attribute will raise an error. That's exactly what we want!\u001b[39;00m\n\u001b[0;32m----> 3\u001b[0m p\u001b[38;5;241m.\u001b[39msvn \u001b[38;5;241m=\u001b[39m \u001b[38;5;124m'\u001b[39m\u001b[38;5;124m123\u001b[39m\u001b[38;5;124m'\u001b[39m\n",
      "\u001b[0;31mAttributeError\u001b[0m: property 'svn' of 'Person' object has no setter"
     ]
    }
   ],
   "source": [
    "# Note that the @property decorator is used to declare the getter.\n",
    "# Trying to set the attribute will raise an error. That's exactly what we want!\n",
    "p.svn = '123'"
   ]
  },
  {
   "cell_type": "markdown",
   "id": "62ad9f6a",
   "metadata": {},
   "source": [
    "#### But what if we want would like to change (set) a variable?"
   ]
  },
  {
   "cell_type": "markdown",
   "id": "4a4901aa",
   "metadata": {},
   "source": [
    "With the `@property` decorator in our toolbox, we can modify `full_name()` such that it can be accessed like an attribute. But what if we want to be able to change `first_name` and `last_name` by changing a persons `full_name`.\n",
    "This can be achieved by implementing a setter for the full_name `property`."
   ]
  },
  {
   "cell_type": "code",
   "execution_count": 7,
   "id": "fd815050",
   "metadata": {},
   "outputs": [],
   "source": [
    "class Person:\n",
    "\n",
    "    def __init__(self, first_name, last_name, svn):\n",
    "\n",
    "        self.first_name = first_name\n",
    "        self.last_name = last_name\n",
    "        self._svn = svn\n",
    "        \n",
    "\n",
    "    @property\n",
    "    def svn(self):\n",
    "        return self._svn\n",
    "    \n",
    "    @property\n",
    "    def full_name(self):\n",
    "        return f'{self.first_name} {self.last_name}' \n",
    "    \n",
    "    # Implement a setter for full_name\n",
    "    @full_name.setter\n",
    "    def full_name(self, full_name):\n",
    "        # Split the given full_name in two parts: First_name and last_name.\n",
    "        # We can set the instance's attributes\n",
    "        self.first_name = full_name.split(' ')[0]\n",
    "        self.last_name = full_name.split(' ')[1]\n",
    "           \n",
    "    def __str__(self):\n",
    "        return f'{self.first_name} {self.last_name}' \n",
    "    \n",
    "    def __repr__(self):\n",
    "        return f'Person(first_name=\"{self.first_name}\", last_name=\"{self.last_name}\")' "
   ]
  },
  {
   "cell_type": "code",
   "execution_count": 8,
   "id": "b10d3c4f",
   "metadata": {},
   "outputs": [
    {
     "name": "stdout",
     "output_type": "stream",
     "text": [
      "Full name: Mike Tyson\n",
      "Full name: First Last\n"
     ]
    }
   ],
   "source": [
    "p = Person('Mike', 'Tyson', '24930112')\n",
    "\n",
    "print('Full name:', p.full_name)\n",
    "\n",
    "p.full_name = 'First Last'\n",
    "\n",
    "print('Full name:', p.full_name)"
   ]
  },
  {
   "cell_type": "code",
   "execution_count": null,
   "id": "a9974339",
   "metadata": {},
   "outputs": [],
   "source": []
  }
 ],
 "metadata": {
  "kernelspec": {
   "display_name": "Python 3 (ipykernel)",
   "language": "python",
   "name": "python3"
  },
  "language_info": {
   "codemirror_mode": {
    "name": "ipython",
    "version": 3
   },
   "file_extension": ".py",
   "mimetype": "text/x-python",
   "name": "python",
   "nbconvert_exporter": "python",
   "pygments_lexer": "ipython3",
   "version": "3.11.3"
  }
 },
 "nbformat": 4,
 "nbformat_minor": 5
}
