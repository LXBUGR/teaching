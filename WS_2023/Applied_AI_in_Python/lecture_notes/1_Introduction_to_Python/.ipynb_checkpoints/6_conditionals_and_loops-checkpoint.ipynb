{
 "cells": [
  {
   "cell_type": "markdown",
   "id": "6d671a5e",
   "metadata": {},
   "source": [
    "# Conditionals and Loops"
   ]
  },
  {
   "cell_type": "markdown",
   "id": "9378cadf",
   "metadata": {},
   "source": [
    "## Conditionals"
   ]
  },
  {
   "cell_type": "markdown",
   "id": "31c519fe",
   "metadata": {},
   "source": [
    "As we all know, most programming languages (e.g., Java, C) provide if-else and switch statements to control the program flow.\n",
    "\n",
    "Surprisingly, Python did not provide support for switch statements for a very long time and developers therefore had to instead rely on if-else statements. <br/>\n",
    "However, lately in Python 3.10 (note that latest version is 3.11), support for switch statements has been implemented."
   ]
  },
  {
   "cell_type": "markdown",
   "id": "8d60fee0",
   "metadata": {},
   "source": [
    "As a result we can know control the program flow either using if-else ..."
   ]
  },
  {
   "cell_type": "code",
   "execution_count": 2,
   "id": "edd41e58",
   "metadata": {},
   "outputs": [
    {
     "name": "stdout",
     "output_type": "stream",
     "text": [
      "Value inside range\n"
     ]
    }
   ],
   "source": [
    "lower_bound = 3\n",
    "upper_bound = 10\n",
    "x = 7\n",
    "\n",
    "if x >= lower_bound and x < upper_bound:\n",
    "    print('Value inside range')\n",
    "else:\n",
    "    print('Value outside range')"
   ]
  },
  {
   "cell_type": "code",
   "execution_count": 5,
   "id": "6f458082",
   "metadata": {},
   "outputs": [
    {
     "name": "stdout",
     "output_type": "stream",
     "text": [
      "Condition A\n"
     ]
    }
   ],
   "source": [
    "# And if we require further conditions ...\n",
    "m = 'Hello'\n",
    "if m == 'Hello':\n",
    "    print('Condition A')\n",
    "elif m == 'Hallo':\n",
    "    print('Condition B')\n",
    "else:\n",
    "    print('Condition C')"
   ]
  },
  {
   "cell_type": "markdown",
   "id": "1e6ff258",
   "metadata": {},
   "source": [
    "If we want to use Python's new switch statement, we instead have to write ..."
   ]
  },
  {
   "cell_type": "code",
   "execution_count": 9,
   "id": "48b3761d",
   "metadata": {},
   "outputs": [
    {
     "name": "stdout",
     "output_type": "stream",
     "text": [
      "Case A\n"
     ]
    }
   ],
   "source": [
    "m = 'Hello'\n",
    "\n",
    "# The switch statement is called \"match\" in Python!\n",
    "match m:\n",
    "    case 'Hello':\n",
    "        print('Case A')\n",
    "    case 'Hallo':\n",
    "        print('Case B')\n",
    "    case _:\n",
    "        print('Case C: Default')"
   ]
  },
  {
   "cell_type": "markdown",
   "id": "0ee5295e",
   "metadata": {},
   "source": [
    "**Keep im mind that in terms of backward compatibility, it's better to rely on if-else statements as they are supported by any Python version**!"
   ]
  },
  {
   "cell_type": "markdown",
   "id": "e4858cb3",
   "metadata": {},
   "source": [
    "### Inline If-else\n",
    "Another thing you will very often encounter when reading Python code are **inline statements**.\n",
    "\n",
    "Instead of writing ..."
   ]
  },
  {
   "cell_type": "code",
   "execution_count": 10,
   "id": "2408ac18",
   "metadata": {},
   "outputs": [],
   "source": [
    "i = 5"
   ]
  },
  {
   "cell_type": "code",
   "execution_count": 11,
   "id": "e845c13c",
   "metadata": {},
   "outputs": [
    {
     "name": "stdout",
     "output_type": "stream",
     "text": [
      "False\n"
     ]
    }
   ],
   "source": [
    "is_even = False\n",
    "if i % 2 == 0:\n",
    "    is_even = True"
   ]
  },
  {
   "cell_type": "code",
   "execution_count": 14,
   "id": "05ee30c9",
   "metadata": {},
   "outputs": [
    {
     "name": "stdout",
     "output_type": "stream",
     "text": [
      "False\n"
     ]
    }
   ],
   "source": [
    "print(is_even)"
   ]
  },
  {
   "cell_type": "markdown",
   "id": "a139955c",
   "metadata": {},
   "source": [
    "We can simply write ..."
   ]
  },
  {
   "cell_type": "code",
   "execution_count": 13,
   "id": "a5407621",
   "metadata": {},
   "outputs": [
    {
     "name": "stdout",
     "output_type": "stream",
     "text": [
      "False\n"
     ]
    }
   ],
   "source": [
    "is_even = True if i % 2 == 0 else False"
   ]
  },
  {
   "cell_type": "code",
   "execution_count": 15,
   "id": "4ff84217",
   "metadata": {},
   "outputs": [
    {
     "name": "stdout",
     "output_type": "stream",
     "text": [
      "False\n"
     ]
    }
   ],
   "source": [
    "print(is_even)"
   ]
  },
  {
   "cell_type": "markdown",
   "id": "f00ddc2f",
   "metadata": {},
   "source": [
    "As can be seen the resulting expression becomes really concise. <br/>\n",
    "That's why Python programmers love them :-)"
   ]
  },
  {
   "cell_type": "markdown",
   "id": "f158a25a",
   "metadata": {},
   "source": [
    "## Loops"
   ]
  },
  {
   "cell_type": "markdown",
   "id": "2d76cf54",
   "metadata": {},
   "source": [
    "There are two different types of loops available in Python: `while` and `for`\n",
    "\n",
    "A `do-while` as available in Java / C is not available."
   ]
  },
  {
   "cell_type": "markdown",
   "id": "7227ae38",
   "metadata": {},
   "source": [
    "### For Loops"
   ]
  },
  {
   "cell_type": "markdown",
   "id": "32c31136",
   "metadata": {},
   "source": [
    "Let's assume we want print all numbers within a certain range using a for low. <br />\n",
    "\n",
    "Recall that in Java we would write something like ...\n",
    "\n",
    "```\n",
    "for(int i = 0; i <= 10; i = i + 2) {\n",
    "    \n",
    "}\n",
    "```\n",
    "\n",
    "In Python we instead need the `range` function."
   ]
  },
  {
   "cell_type": "code",
   "execution_count": 24,
   "id": "47b451d0",
   "metadata": {},
   "outputs": [
    {
     "name": "stdout",
     "output_type": "stream",
     "text": [
      "5\n",
      "6\n",
      "7\n",
      "8\n",
      "9\n"
     ]
    }
   ],
   "source": [
    "for item in range(5, 10, 1):\n",
    "    print(item)"
   ]
  },
  {
   "cell_type": "markdown",
   "id": "02e648a0",
   "metadata": {},
   "source": [
    "Signature of the `range` function:\n",
    "`range(<start>, <stop>, <step_size>)`\n",
    "\n",
    "Somehow this is quite similar to Java, isn't it? Note that we can also ignore the step_size parameter if the desired step size is 1 (the default step size is 1)."
   ]
  },
  {
   "cell_type": "code",
   "execution_count": 28,
   "id": "883eb41c",
   "metadata": {},
   "outputs": [
    {
     "name": "stdout",
     "output_type": "stream",
     "text": [
      "5\n",
      "6\n",
      "7\n",
      "8\n",
      "9\n"
     ]
    }
   ],
   "source": [
    "for item in range(5, 10):\n",
    "    print(item)"
   ]
  },
  {
   "cell_type": "code",
   "execution_count": 38,
   "id": "9067868e",
   "metadata": {},
   "outputs": [
    {
     "name": "stdout",
     "output_type": "stream",
     "text": [
      "10\n",
      "9\n",
      "8\n",
      "7\n",
      "6\n"
     ]
    }
   ],
   "source": [
    "# And what if we want to count backwards?\n",
    "for item in range(10, 5, -1):\n",
    "    print(item)"
   ]
  },
  {
   "cell_type": "markdown",
   "id": "06800f71",
   "metadata": {},
   "source": [
    "Bdw ... Let's briefly take a look at the return type of the range function."
   ]
  },
  {
   "cell_type": "code",
   "execution_count": 35,
   "id": "0cbd5c9a",
   "metadata": {},
   "outputs": [
    {
     "name": "stdout",
     "output_type": "stream",
     "text": [
      "<class 'range'>\n"
     ]
    }
   ],
   "source": [
    "print(type(range(10, 5, -1)))"
   ]
  },
  {
   "cell_type": "markdown",
   "id": "cae0d702",
   "metadata": {},
   "source": [
    "As can be seen range() returns an object of type \"range\". And apparently this object is iterable."
   ]
  },
  {
   "cell_type": "markdown",
   "id": "14521860",
   "metadata": {},
   "source": [
    "In the same way we can also iterate over strings objects ..."
   ]
  },
  {
   "cell_type": "code",
   "execution_count": 29,
   "id": "4ceb8166",
   "metadata": {},
   "outputs": [
    {
     "name": "stdout",
     "output_type": "stream",
     "text": [
      "H\n",
      "e\n",
      "l\n",
      "l\n",
      "o\n"
     ]
    }
   ],
   "source": [
    "for item in 'Hello':\n",
    "    print(item)"
   ]
  },
  {
   "cell_type": "markdown",
   "id": "ce908e2b",
   "metadata": {},
   "source": [
    "And list objects ..."
   ]
  },
  {
   "cell_type": "code",
   "execution_count": 30,
   "id": "ed90ebaf",
   "metadata": {},
   "outputs": [
    {
     "name": "stdout",
     "output_type": "stream",
     "text": [
      "3\n",
      "234\n",
      "1\n",
      "45\n"
     ]
    }
   ],
   "source": [
    "for item in [3, 234, 1,45]:\n",
    "    print(item)"
   ]
  },
  {
   "cell_type": "markdown",
   "id": "cdd10e53",
   "metadata": {},
   "source": [
    "Looks like every object in Python in Python, right?\n",
    "\n",
    "Well, not necessarily. Obviously, and int-object is not iterable. But at least making an object iterable is straightforward. We will take a closer look on how this is done when looking at objects / classes in Python."
   ]
  },
  {
   "cell_type": "markdown",
   "id": "2c0d064b",
   "metadata": {},
   "source": [
    "**But what if we also require the index when iterating over on object?**\n",
    "\n",
    "Simply by passing the element to the `enumerate` function which again returns an object that is iterable."
   ]
  },
  {
   "cell_type": "code",
   "execution_count": 40,
   "id": "a20505d3",
   "metadata": {},
   "outputs": [
    {
     "name": "stdout",
     "output_type": "stream",
     "text": [
      "Character H occurs at position 0.\n",
      "Character e occurs at position 1.\n",
      "Character l occurs at position 2.\n",
      "Character l occurs at position 3.\n",
      "Character o occurs at position 4.\n"
     ]
    }
   ],
   "source": [
    "for idx, item in enumerate('Hello'):\n",
    "    print(f'Character {item} occurs at position {idx}.')"
   ]
  }
 ],
 "metadata": {
  "kernelspec": {
   "display_name": "Python 3 (ipykernel)",
   "language": "python",
   "name": "python3"
  },
  "language_info": {
   "codemirror_mode": {
    "name": "ipython",
    "version": 3
   },
   "file_extension": ".py",
   "mimetype": "text/x-python",
   "name": "python",
   "nbconvert_exporter": "python",
   "pygments_lexer": "ipython3",
   "version": "3.11.5"
  }
 },
 "nbformat": 4,
 "nbformat_minor": 5
}
