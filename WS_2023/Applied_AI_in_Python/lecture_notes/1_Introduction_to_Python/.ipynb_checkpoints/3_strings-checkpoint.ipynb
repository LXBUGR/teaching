{
 "cells": [
  {
   "cell_type": "markdown",
   "id": "6b551e64",
   "metadata": {},
   "source": [
    "# Working with strings"
   ]
  },
  {
   "cell_type": "markdown",
   "id": "23382c81",
   "metadata": {},
   "source": [
    "When we looked at the basic data types, we noticed that Python does not have a dedicated data type for characters. <br/>\n",
    "However, it has out-of-the-box support for strings."
   ]
  },
  {
   "cell_type": "markdown",
   "id": "b949e5b1",
   "metadata": {},
   "source": [
    "As we mentioned, strings are typically defined using either single or double quotes."
   ]
  },
  {
   "cell_type": "code",
   "execution_count": 1,
   "id": "7f3b59dc",
   "metadata": {},
   "outputs": [],
   "source": [
    "m = \"Hello World\"\n",
    "m = 'Hello World'"
   ]
  },
  {
   "cell_type": "markdown",
   "id": "bb61f016",
   "metadata": {},
   "source": [
    "Alternatively, we can define multi-line strings using triple quotes."
   ]
  },
  {
   "cell_type": "code",
   "execution_count": 2,
   "id": "f4d84fc8",
   "metadata": {},
   "outputs": [],
   "source": [
    "m = \"\"\"Hello \n",
    "World\"\"\"\n",
    "m = '''Hello \n",
    "World'''"
   ]
  },
  {
   "cell_type": "markdown",
   "id": "ec1c8a63",
   "metadata": {},
   "source": [
    "Note that the Python string class provides many nice features that come in handy in practice."
   ]
  },
  {
   "cell_type": "markdown",
   "id": "6c9e0521",
   "metadata": {},
   "source": [
    "### String basic operations"
   ]
  },
  {
   "cell_type": "code",
   "execution_count": 3,
   "id": "69b28611",
   "metadata": {},
   "outputs": [
    {
     "name": "stdout",
     "output_type": "stream",
     "text": [
      "HELLO WORLD\n"
     ]
    }
   ],
   "source": [
    "# Convert all letters to upper case\n",
    "m = \"Hello World\".upper()\n",
    "print(m)"
   ]
  },
  {
   "cell_type": "code",
   "execution_count": 4,
   "id": "8bf2d180",
   "metadata": {},
   "outputs": [
    {
     "name": "stdout",
     "output_type": "stream",
     "text": [
      "hello world\n"
     ]
    }
   ],
   "source": [
    "# Convert all letters to lower case\n",
    "m = \"Hello World\".lower()\n",
    "print(m)"
   ]
  },
  {
   "cell_type": "code",
   "execution_count": 5,
   "id": "0dffd251",
   "metadata": {},
   "outputs": [
    {
     "name": "stdout",
     "output_type": "stream",
     "text": [
      "Hello world\n"
     ]
    }
   ],
   "source": [
    "# Capitalize the first character only\n",
    "m = \"hello world\".capitalize()\n",
    "print(m)"
   ]
  },
  {
   "cell_type": "code",
   "execution_count": 6,
   "id": "f2e29894",
   "metadata": {},
   "outputs": [
    {
     "name": "stdout",
     "output_type": "stream",
     "text": [
      "True\n",
      "False\n",
      "False\n",
      "True\n"
     ]
    }
   ],
   "source": [
    "# Check whether all letters are lower or upper case\n",
    "print('hello world'.islower())\n",
    "print('hello World'.islower())\n",
    "print('hello world'.isupper())\n",
    "print('HELLO WORLD'.isupper())"
   ]
  },
  {
   "cell_type": "code",
   "execution_count": 7,
   "id": "b5e3d8bf",
   "metadata": {},
   "outputs": [
    {
     "name": "stdout",
     "output_type": "stream",
     "text": [
      "True\n",
      "False\n"
     ]
    }
   ],
   "source": [
    "# Sometimes, we are given a number as a string and want to convert the number to a float or int.\n",
    "# However, before doing so, we might first want to check whether the number only contains valid digits.\n",
    "print('123'.isdigit())\n",
    "print('A123'.isdigit())"
   ]
  },
  {
   "cell_type": "code",
   "execution_count": 8,
   "id": "71f6feb8",
   "metadata": {},
   "outputs": [
    {
     "name": "stdout",
     "output_type": "stream",
     "text": [
      "True\n",
      "False\n"
     ]
    }
   ],
   "source": [
    "# Likewise, we can also check whether the string contains only alphabetical characters\n",
    "print('ABC'.isalpha())\n",
    "print('ABC234'.isalpha())"
   ]
  },
  {
   "cell_type": "code",
   "execution_count": 9,
   "id": "ff779a9a",
   "metadata": {},
   "outputs": [
    {
     "name": "stdout",
     "output_type": "stream",
     "text": [
      "True\n",
      "False\n"
     ]
    }
   ],
   "source": [
    "# Another functionality we often need in practice is a way to check whether a string starts with a certain substring.\n",
    "\n",
    "# Check if a string starts with \"ABC\"\n",
    "print('ABCHello World'.startswith('ABC'))\n",
    "print('ABCHello World'.endswith('ABC'))"
   ]
  },
  {
   "cell_type": "code",
   "execution_count": 10,
   "id": "745ce69d",
   "metadata": {},
   "outputs": [
    {
     "name": "stdout",
     "output_type": "stream",
     "text": [
      "True\n",
      "True\n",
      "False\n",
      "False\n"
     ]
    }
   ],
   "source": [
    "# We can also check whether a certain substring appears somewhere in the string.\n",
    "# Python has a dedicated operator (a.k.a. membership operator) for this\n",
    "print('orld' in 'Hello World')\n",
    "print('orld' in 'Hello World')\n",
    "\n",
    "# We can also do the opposite and check whether a substring is not contained in a string\n",
    "print('orld' not in 'Hello World')\n",
    "print('orld' not in 'Hello World')"
   ]
  },
  {
   "cell_type": "code",
   "execution_count": 11,
   "id": "acb4dc83",
   "metadata": {},
   "outputs": [
    {
     "name": "stdout",
     "output_type": "stream",
     "text": [
      "1\n",
      "-1\n"
     ]
    }
   ],
   "source": [
    "# But what if we want to know where exactly a substring appears in a string?\n",
    "print('Hello World'.find('ello')) # Starts at pos 1\n",
    "print('Hello World'.find('allo')) # Does not contain the substring"
   ]
  },
  {
   "cell_type": "code",
   "execution_count": 12,
   "id": "833d86df",
   "metadata": {},
   "outputs": [
    {
     "name": "stdout",
     "output_type": "stream",
     "text": [
      "False\n",
      "False\n",
      "True\n"
     ]
    }
   ],
   "source": [
    "# How do we compare two strings character-wise? ==> With the == operator\n",
    "print('Hello' == 'World')\n",
    "print('Hello' == 'Hell')\n",
    "print('Hello' == 'Hello')"
   ]
  },
  {
   "cell_type": "code",
   "execution_count": 13,
   "id": "305c520c",
   "metadata": {},
   "outputs": [
    {
     "name": "stdout",
     "output_type": "stream",
     "text": [
      "True\n",
      "False\n"
     ]
    }
   ],
   "source": [
    "# We can also check whether two strings are not equal\n",
    "print('Hello' != 'World')\n",
    "print('Hello' != 'Hello')"
   ]
  },
  {
   "cell_type": "code",
   "execution_count": 14,
   "id": "4e3b221b",
   "metadata": {},
   "outputs": [
    {
     "name": "stdout",
     "output_type": "stream",
     "text": [
      "The fourth element in the string is:  o\n",
      "ell\n"
     ]
    }
   ],
   "source": [
    "# If necessary, we can also access certain elements/characters in a string using s[<pos>]\n",
    "m = \"Hello World\"\n",
    "print('The fourth element in the string is: ', m[4])\n",
    "\n",
    "# Similarly, we can also get an entire substring simply by specifying a range s[<start>:<end>]\n",
    "print(m[1:4])"
   ]
  },
  {
   "cell_type": "code",
   "execution_count": 15,
   "id": "33104dfa",
   "metadata": {},
   "outputs": [
    {
     "name": "stdout",
     "output_type": "stream",
     "text": [
      "Hell\n",
      "o World\n"
     ]
    }
   ],
   "source": [
    "m = \"Hello World\"\n",
    "# We can also easily get the first n-characters ...\n",
    "print(m[:4]) # Gets the first 4 characters\n",
    "\n",
    "# Or all characters that after (incl.) the 4-th character\n",
    "print(m[4:])"
   ]
  },
  {
   "cell_type": "markdown",
   "id": "9ecdf915",
   "metadata": {},
   "source": [
    "### Format conversion"
   ]
  },
  {
   "cell_type": "markdown",
   "id": "a6664add",
   "metadata": {},
   "source": [
    "Format conversion from str to another type (and vice versa) is very easy to achieve. For example, ..."
   ]
  },
  {
   "cell_type": "markdown",
   "id": "cd081040",
   "metadata": {},
   "source": [
    "#### String to boolean and vice versa"
   ]
  },
  {
   "cell_type": "code",
   "execution_count": 16,
   "id": "fc562963",
   "metadata": {},
   "outputs": [
    {
     "name": "stdout",
     "output_type": "stream",
     "text": [
      "True False\n"
     ]
    }
   ],
   "source": [
    "# Convert booleans to string\n",
    "print(str(True), str(False))"
   ]
  },
  {
   "cell_type": "code",
   "execution_count": 17,
   "id": "6a9d7591",
   "metadata": {},
   "outputs": [
    {
     "name": "stdout",
     "output_type": "stream",
     "text": [
      "True\n"
     ]
    }
   ],
   "source": [
    "# And from string to boolean\n",
    "print(bool('True'))"
   ]
  },
  {
   "cell_type": "code",
   "execution_count": 18,
   "id": "71f51f13",
   "metadata": {},
   "outputs": [
    {
     "name": "stdout",
     "output_type": "stream",
     "text": [
      "True\n"
     ]
    }
   ],
   "source": [
    "print(bool('true'))"
   ]
  },
  {
   "cell_type": "code",
   "execution_count": 19,
   "id": "e27abfb1",
   "metadata": {},
   "outputs": [
    {
     "name": "stdout",
     "output_type": "stream",
     "text": [
      "True\n"
     ]
    }
   ],
   "source": [
    "# Ups, apparently this does not work as intended. Why?\n",
    "print(bool('False'))"
   ]
  },
  {
   "cell_type": "code",
   "execution_count": 20,
   "id": "e9b228f3",
   "metadata": {},
   "outputs": [
    {
     "name": "stdout",
     "output_type": "stream",
     "text": [
      "False\n"
     ]
    }
   ],
   "source": [
    "# Remember what we said when we looked at the basic operators.\n",
    "# Any non-zero value evaluates to True. As string false \"False\" is a non-zero number in memory. Hence, it evaluates to true.\n",
    "# However, if we check ...\n",
    "print(bool(''))\n",
    "\n",
    "# '' => NULL character = 0 in the ASCII code"
   ]
  },
  {
   "cell_type": "code",
   "execution_count": 21,
   "id": "eb238256",
   "metadata": {},
   "outputs": [
    {
     "name": "stdout",
     "output_type": "stream",
     "text": [
      "True\n",
      "False\n"
     ]
    }
   ],
   "source": [
    "# To do this conversion correctl what we can do is ...\n",
    "s_true = 'True'\n",
    "s_false = 'False'\n",
    "\n",
    "print(s_true == 'True')\n",
    "print(s_false == 'True')"
   ]
  },
  {
   "cell_type": "markdown",
   "id": "93ba2173",
   "metadata": {},
   "source": [
    "#### String to Int/float and vice versa"
   ]
  },
  {
   "cell_type": "code",
   "execution_count": 22,
   "id": "c7da9233",
   "metadata": {},
   "outputs": [
    {
     "name": "stdout",
     "output_type": "stream",
     "text": [
      "123\n",
      "123.5\n"
     ]
    }
   ],
   "source": [
    "# Converting strings to integer/float is pretty straightforward\n",
    "print(int(\"123\"))\n",
    "print(float(\"123.5\"))"
   ]
  },
  {
   "cell_type": "code",
   "execution_count": 23,
   "id": "f1c46c68",
   "metadata": {},
   "outputs": [
    {
     "ename": "ValueError",
     "evalue": "invalid literal for int() with base 10: '123.5434'",
     "output_type": "error",
     "traceback": [
      "\u001b[0;31m---------------------------------------------------------------------------\u001b[0m",
      "\u001b[0;31mValueError\u001b[0m                                Traceback (most recent call last)",
      "Cell \u001b[0;32mIn[23], line 2\u001b[0m\n\u001b[1;32m      1\u001b[0m \u001b[38;5;66;03m# Results in an error\u001b[39;00m\n\u001b[0;32m----> 2\u001b[0m \u001b[38;5;28mprint\u001b[39m(\u001b[38;5;28mint\u001b[39m(\u001b[38;5;124m\"\u001b[39m\u001b[38;5;124m123.5434\u001b[39m\u001b[38;5;124m\"\u001b[39m))\n",
      "\u001b[0;31mValueError\u001b[0m: invalid literal for int() with base 10: '123.5434'"
     ]
    }
   ],
   "source": [
    "# Results in an error\n",
    "print(int(\"123.5434\"))"
   ]
  },
  {
   "cell_type": "code",
   "execution_count": null,
   "id": "83723ee1",
   "metadata": {},
   "outputs": [],
   "source": [
    "# To cut off the digits after the decimal point we could do ...\n",
    "print(int(float(\"123.5434\")))"
   ]
  },
  {
   "cell_type": "code",
   "execution_count": null,
   "id": "777c96cc",
   "metadata": {},
   "outputs": [],
   "source": [
    "# What's nice is that int() can also handle, e.g., hexadecimal numbers. We only have to specify the right base\n",
    "print(int('123ab', 16))\n",
    "\n",
    "# Let's verify if it works correctly\n",
    "print(int('a', 16)) # => 10\n",
    "print(int('1a', 16)) # => 16+10 = 26"
   ]
  },
  {
   "cell_type": "code",
   "execution_count": null,
   "id": "47f90f7b",
   "metadata": {},
   "outputs": [],
   "source": [
    "# Convert float/int to string\n",
    "print(str(123))\n",
    "print(str(123.123))"
   ]
  },
  {
   "cell_type": "markdown",
   "id": "a974f923",
   "metadata": {},
   "source": [
    "### Strings are immutable"
   ]
  },
  {
   "cell_type": "markdown",
   "id": "53654a09",
   "metadata": {},
   "source": [
    "As previously mentioned, we can access characters in a string using `[pos]`. <br/>\n",
    "But what if we want to modify certain characters in a string? For example, by writing ..."
   ]
  },
  {
   "cell_type": "code",
   "execution_count": null,
   "id": "3b789591",
   "metadata": {},
   "outputs": [],
   "source": [
    "m = \"Hello\"\n",
    "m[1] = 'a'"
   ]
  },
  {
   "cell_type": "markdown",
   "id": "63924ff4",
   "metadata": {},
   "source": [
    "This is because strings are IMMUTABLE. In other words, an existing string cannot be modified. However, we can always build a new, modified string."
   ]
  },
  {
   "cell_type": "code",
   "execution_count": 24,
   "id": "1cf1e4ec",
   "metadata": {},
   "outputs": [
    {
     "name": "stdout",
     "output_type": "stream",
     "text": [
      "Hallo\n"
     ]
    }
   ],
   "source": [
    "m = 'Hello'\n",
    "m_new = m[:1] + 'a' + m[2:]\n",
    "print(m_new)"
   ]
  },
  {
   "cell_type": "code",
   "execution_count": 25,
   "id": "233c12a6",
   "metadata": {},
   "outputs": [
    {
     "name": "stdout",
     "output_type": "stream",
     "text": [
      "False\n"
     ]
    }
   ],
   "source": [
    "# Both strings will have different locations in memory. But let's check ...\n",
    "print(id(m) == id(m_new))"
   ]
  },
  {
   "cell_type": "code",
   "execution_count": 26,
   "id": "f8bf5b02",
   "metadata": {},
   "outputs": [
    {
     "name": "stdout",
     "output_type": "stream",
     "text": [
      "False\n"
     ]
    }
   ],
   "source": [
    "# Note that even functions such as upper() do not modify the existing string and instead return a new one.\n",
    "print(id('Hello') == id('Hello'.upper()))"
   ]
  },
  {
   "cell_type": "markdown",
   "id": "3f5f41a3",
   "metadata": {},
   "source": [
    "**Important:** <br/>\n",
    "Never use the `is` operator to compare the quality of strings. Always use the `==` operator to check whether two strings are equal.\n",
    "\n",
    "In fact, the result that you might get when comparing strings with `is` is kind of unpredictable due to features such as **string interning**. String interning is a method of storing only one copy of each distinct string value, which must be immutable. Interning strings makes some string processing tasks more time- or space-efficient."
   ]
  },
  {
   "cell_type": "markdown",
   "id": "5bc8e002",
   "metadata": {},
   "source": [
    "This can be illustrated with the following example:"
   ]
  },
  {
   "cell_type": "code",
   "execution_count": 37,
   "id": "4011ef70",
   "metadata": {},
   "outputs": [
    {
     "name": "stdout",
     "output_type": "stream",
     "text": [
      "True\n",
      "False\n",
      "False\n"
     ]
    }
   ],
   "source": [
    "m1 = 'Hello'\n",
    "m2 = 'Hello'\n",
    "\n",
    "# m1 and m2 share the same memory location due to string interning\n",
    "print(m1 is m2)\n",
    "\n",
    "m1 = 'Hello$'\n",
    "m2 = 'Hello$'\n",
    "\n",
    "# In C-Python, strings that contain special characters not \"interned\" by default\n",
    "print(m1 is m2)\n",
    "\n",
    "m1 = 'Hello'\n",
    "m2 = 'H' + m[1:]\n",
    "\n",
    "# This also creates a new string object\n",
    "print(m1 is m2)"
   ]
  },
  {
   "cell_type": "markdown",
   "id": "dc4b18cc",
   "metadata": {},
   "source": [
    "## Formatted strings\n",
    "\n",
    "No matter whether a program simply has to interact with a user or simply write results to a text file, almost any program will have to compose a string out of multiple variables at some point."
   ]
  },
  {
   "cell_type": "markdown",
   "id": "466fb909",
   "metadata": {},
   "source": [
    "An obvious way to do this is simply by converting each variable to a string and then concatenating these strings. "
   ]
  },
  {
   "cell_type": "code",
   "execution_count": null,
   "id": "484a172c",
   "metadata": {},
   "outputs": [],
   "source": [
    "m = \"Let's print a string with two variables \" + str(3) + ' and ' + str(3.4)\n",
    "print(m)"
   ]
  },
  {
   "cell_type": "markdown",
   "id": "fcf8f1b4",
   "metadata": {},
   "source": [
    "Unfortunately, this is not very convenient if there are many variables. In particular, since we can easily miss whitespaces, etc."
   ]
  },
  {
   "cell_type": "markdown",
   "id": "38716c39",
   "metadata": {},
   "source": [
    "#### Formatting strings using c-style formatting"
   ]
  },
  {
   "cell_type": "markdown",
   "id": "1b6a3567",
   "metadata": {},
   "source": [
    "Another option to create nicely formatted strings is by using **c-style string formatting**. <br/>\n",
    "This formatting is also similar to the formatting used in Java."
   ]
  },
  {
   "cell_type": "code",
   "execution_count": null,
   "id": "348ec834",
   "metadata": {},
   "outputs": [],
   "source": [
    "m = 'A string formatted using c-style formatting --- Values %i and %f' % (3, 3.4)\n",
    "print(m)"
   ]
  },
  {
   "cell_type": "code",
   "execution_count": null,
   "id": "7aaa13ce",
   "metadata": {},
   "outputs": [],
   "source": [
    "# Like in C, we can control the number of digits after the decimal point, etc.\n",
    "# See: https://docs.python.org/3/library/stdtypes.html#printf-style-string-formatting\n",
    "m = 'A string formatted using c-style formatting. Values %3i and %.3f' % (3, 3.4)\n",
    "print(m)"
   ]
  },
  {
   "cell_type": "markdown",
   "id": "ebb4f269",
   "metadata": {},
   "source": [
    "However, this way of formatting strings is rather inconvenient. <br />\n",
    "Let's assume that we want the text or the order or variables in the text. In this case, we also need to change the order of the elements that appear in the tuple."
   ]
  },
  {
   "cell_type": "markdown",
   "id": "d70e5fab",
   "metadata": {},
   "source": [
    "Luckily, Python provides a way to specify the variable name."
   ]
  },
  {
   "cell_type": "code",
   "execution_count": null,
   "id": "c70403be",
   "metadata": {},
   "outputs": [],
   "source": [
    "m = 'A string formatted using c-style formatting. Values %(x)i and %(y).3f' % {'x': 3, 'y': 3.4}\n",
    "print(m)"
   ]
  },
  {
   "cell_type": "markdown",
   "id": "36bf7c84",
   "metadata": {},
   "source": [
    "#### Formatting strings using `format`"
   ]
  },
  {
   "cell_type": "markdown",
   "id": "c33cc4be",
   "metadata": {},
   "source": [
    "Nevertheless, c-style formatting isn't pythonic ... <br/>\n",
    "That's why the `format` method was added to the string class in Python 3 (and later ported back to Python 2.7)"
   ]
  },
  {
   "cell_type": "code",
   "execution_count": null,
   "id": "24f46780",
   "metadata": {},
   "outputs": [],
   "source": [
    "m = 'This is a string formatted using the format method. Values {x} and {y}'.format(x=3, y=3.4)\n",
    "print(m)"
   ]
  },
  {
   "cell_type": "code",
   "execution_count": null,
   "id": "91cc5200",
   "metadata": {},
   "outputs": [],
   "source": [
    "# Modifying strings now becomes straightforward. The format() function simply takes values as named arguments.\n",
    "m = 'This is a string formatted using the format method. Values {y} and {x}'.format(x=3, y=3.4)\n",
    "print(m)"
   ]
  },
  {
   "cell_type": "code",
   "execution_count": null,
   "id": "085ac6e2",
   "metadata": {},
   "outputs": [],
   "source": [
    "# We can also format the string if required\n",
    "# See: https://docs.python.org/3/library/string.html#formatstrings\n",
    "m = 'This is a string formatted using the format method. Values {x:03d} and {y:.4f}'.format(x=3, y=3.4)\n",
    "print(m)"
   ]
  },
  {
   "cell_type": "markdown",
   "id": "ce78e443",
   "metadata": {},
   "source": [
    "#### Formatting strings using f-strings"
   ]
  },
  {
   "cell_type": "markdown",
   "id": "9c44df30",
   "metadata": {},
   "source": [
    "However, since Python 3.6 there exists an even simpler to format strings using so-called **f-strings**."
   ]
  },
  {
   "cell_type": "code",
   "execution_count": null,
   "id": "86c52fb3",
   "metadata": {},
   "outputs": [],
   "source": [
    "x = 3\n",
    "y = 3.4\n",
    "m = f'This is an f-string which is easy to use.\\nWe simply name our variable and tadaa ... Values {x} and {y}'\n",
    "print(m)"
   ]
  },
  {
   "cell_type": "code",
   "execution_count": null,
   "id": "f02bebd7",
   "metadata": {},
   "outputs": [],
   "source": [
    "m = f'With formatting ... Values {x:.3f} and {y}'\n",
    "print(m)"
   ]
  },
  {
   "cell_type": "code",
   "execution_count": null,
   "id": "ce3fbec1",
   "metadata": {},
   "outputs": [],
   "source": [
    "m = f'We can even to calculations ... Values {x+y}'\n",
    "print(m)"
   ]
  },
  {
   "cell_type": "code",
   "execution_count": null,
   "id": "9fdb5cab",
   "metadata": {},
   "outputs": [],
   "source": []
  }
 ],
 "metadata": {
  "kernelspec": {
   "display_name": "Python 3 (ipykernel)",
   "language": "python",
   "name": "python3"
  },
  "language_info": {
   "codemirror_mode": {
    "name": "ipython",
    "version": 3
   },
   "file_extension": ".py",
   "mimetype": "text/x-python",
   "name": "python",
   "nbconvert_exporter": "python",
   "pygments_lexer": "ipython3",
   "version": "3.11.5"
  }
 },
 "nbformat": 4,
 "nbformat_minor": 5
}
