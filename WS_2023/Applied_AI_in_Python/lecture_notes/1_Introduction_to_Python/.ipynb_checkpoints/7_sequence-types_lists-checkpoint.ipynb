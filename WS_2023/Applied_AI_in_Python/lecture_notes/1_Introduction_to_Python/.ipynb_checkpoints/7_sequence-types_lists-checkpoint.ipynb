{
 "cells": [
  {
   "cell_type": "markdown",
   "id": "5db2700e",
   "metadata": {},
   "source": [
    "# Sequence Types"
   ]
  },
  {
   "cell_type": "markdown",
   "id": "20d07fc5",
   "metadata": {},
   "source": [
    "Sequences allow you to store multiple values in an organized and efficient fashion. <br />\n",
    "There are three basic sequence types: `list`, `tuple`, and `range` objects. However, strictly speaking, also strings fall in the category of sequence types.\n",
    "\n",
    "As such, lists, strings, and the other sequence types in Python all share a common interface for allowing users to inspect, retrieve, and summarize their contents.\n",
    "\n",
    "In this notebook we will take a closer look at lists."
   ]
  },
  {
   "cell_type": "markdown",
   "id": "ab3930c4",
   "metadata": {},
   "source": [
    "#### Common Sequence type operations\n",
    "\n",
    "The following list provides an overview of the operations which are supported by all sequence types (no matter whether it is a list, tuple, etc.).\n",
    "\n",
    "In the following, we will take a closer look at most of these operations.\n",
    "\n",
    "\n",
    "| Operation | Result |\n",
    "| -------- | ------- |\n",
    "| `x in s` | True if an item of s is equal to x, else False |\n",
    "| `x not in s` | False if an item of s is equal to x, else True |\n",
    "| `s + t` | the concatenation of s and t | \n",
    "| `s * n or n * s` | equivalent to adding s to itself n times |\n",
    "| `s[i]` | ith item of s, origin 0 |\n",
    "| `s[i:j` | slice of s from i to j |\n",
    "| `s[i:j:k]` | slice of s from i to j with step k |\n",
    "| `len(s)` | length of s |\t\n",
    "| `min(s)` | smallest item of s |\n",
    "| `max(s)` | largest item of s |\n",
    "| `s.index(x[, i[, j]])` | index of the first occurrence of x in s (at or after index i and before index j) |\n",
    "| `s.count(x)` | total number of occurrences of x in s |"
   ]
  },
  {
   "cell_type": "markdown",
   "id": "a5218ae9",
   "metadata": {},
   "source": [
    "## Lists\n",
    "\n",
    "We can think of lists as dynamically-sized arrays. Lists are **mutable**, **ordered** and **allow duplicate values**."
   ]
  },
  {
   "cell_type": "markdown",
   "id": "c8500c0f",
   "metadata": {},
   "source": [
    "An empty list can be created as follows:"
   ]
  },
  {
   "cell_type": "code",
   "execution_count": 130,
   "id": "7c85c7ba",
   "metadata": {},
   "outputs": [],
   "source": [
    "# Create an empty list\n",
    "l = list()\n",
    "\n",
    "# OR alternatively\n",
    "l = []"
   ]
  },
  {
   "cell_type": "markdown",
   "id": "98794f2d",
   "metadata": {},
   "source": [
    "Of course, we can also directly create a list composed of some given values"
   ]
  },
  {
   "cell_type": "code",
   "execution_count": 131,
   "id": "b312c559",
   "metadata": {},
   "outputs": [],
   "source": [
    "l = [1, 2, 4]"
   ]
  },
  {
   "cell_type": "markdown",
   "id": "89d2dbc0",
   "metadata": {},
   "source": [
    "Furthermore, it's also easy to create which contain a given element n times."
   ]
  },
  {
   "cell_type": "code",
   "execution_count": 5,
   "id": "dbb6e3e3",
   "metadata": {},
   "outputs": [
    {
     "name": "stdout",
     "output_type": "stream",
     "text": [
      "[5, 5, 5]\n"
     ]
    }
   ],
   "source": [
    "l = [5] * 3\n",
    "\n",
    "print(l)"
   ]
  },
  {
   "cell_type": "markdown",
   "id": "a1393921",
   "metadata": {},
   "source": [
    "Sequences are supported too ..."
   ]
  },
  {
   "cell_type": "code",
   "execution_count": 6,
   "id": "303395fa",
   "metadata": {},
   "outputs": [
    {
     "name": "stdout",
     "output_type": "stream",
     "text": [
      "[1, 2, 3, 1, 2, 3, 1, 2, 3]\n"
     ]
    }
   ],
   "source": [
    "l = [1, 2, 3] * 3\n",
    "\n",
    "print(l)"
   ]
  },
  {
   "cell_type": "markdown",
   "id": "ee6603f7",
   "metadata": {},
   "source": [
    "Note that unlike in Java, list values can have different types."
   ]
  },
  {
   "cell_type": "code",
   "execution_count": 132,
   "id": "f68f49e6",
   "metadata": {},
   "outputs": [],
   "source": [
    "l = [1, 2, 'three']"
   ]
  },
  {
   "cell_type": "markdown",
   "id": "ff061abd",
   "metadata": {},
   "source": [
    "### List indexing and slicing"
   ]
  },
  {
   "cell_type": "markdown",
   "id": "5aa72798",
   "metadata": {},
   "source": [
    "##### List indexing\n",
    "\n",
    "List indexing allows us to access specific elements in a list based on their position.\n",
    "\n",
    "The time complexity for this operation in a list is O(1)."
   ]
  },
  {
   "cell_type": "code",
   "execution_count": 114,
   "id": "4579ea6b",
   "metadata": {},
   "outputs": [
    {
     "name": "stdout",
     "output_type": "stream",
     "text": [
      "2\n"
     ]
    }
   ],
   "source": [
    "l = [1, 2, 3]\n",
    "\n",
    "print(l[1])"
   ]
  },
  {
   "cell_type": "markdown",
   "id": "1fdd9f5f",
   "metadata": {},
   "source": [
    "If a negative index is specified, we start to count from behind. Hence, the element at position -1 corresponds to the last element in the lit."
   ]
  },
  {
   "cell_type": "code",
   "execution_count": 14,
   "id": "2fb40ce9",
   "metadata": {},
   "outputs": [
    {
     "name": "stdout",
     "output_type": "stream",
     "text": [
      "3\n"
     ]
    }
   ],
   "source": [
    "l = [1, 2, 3]\n",
    "\n",
    "print(l[-1])"
   ]
  },
  {
   "cell_type": "markdown",
   "id": "9f15cd76",
   "metadata": {},
   "source": [
    "We can also use indexing to modify an element in a list"
   ]
  },
  {
   "cell_type": "code",
   "execution_count": 29,
   "id": "3daba947",
   "metadata": {},
   "outputs": [
    {
     "name": "stdout",
     "output_type": "stream",
     "text": [
      "[1, 2, 3]\n",
      "[1, 4, 3]\n"
     ]
    }
   ],
   "source": [
    "l = [1, 2, 3]\n",
    "\n",
    "print(l)\n",
    "\n",
    "# The element at position 1 should be turned in to a 4\n",
    "l[1] = 4\n",
    "\n",
    "print(l)"
   ]
  },
  {
   "cell_type": "markdown",
   "id": "63c3c032",
   "metadata": {},
   "source": [
    "#### List slicing\n",
    "\n",
    "Slicing is commonly used to access ranges of elements within a sequence.. For example, you can slice up a large list object into several smaller sublists with it. Slicing uses the familiar \"[]\" indexing syntax with\n",
    "the following `[start:stop:step]` pattern:"
   ]
  },
  {
   "cell_type": "code",
   "execution_count": 17,
   "id": "bb045c28",
   "metadata": {},
   "outputs": [
    {
     "name": "stdout",
     "output_type": "stream",
     "text": [
      "[2, 3, 4]\n",
      "[2, 4, 6, 8]\n"
     ]
    }
   ],
   "source": [
    "l = [1, 2, 3, 4, 5, 6, 7, 8, 9, 10]\n",
    "\n",
    "# Obtain a list of elements that starts at position 1 and goes until (excl.) position 4\n",
    "print(l[1:4])\n",
    "\n",
    "# Obtain a list of elements that starts at position 1 and goes until (excl.) position 8, but only take \n",
    "# every second element\n",
    "print(l[1:8:2])"
   ]
  },
  {
   "cell_type": "code",
   "execution_count": 18,
   "id": "7fe59661",
   "metadata": {},
   "outputs": [
    {
     "name": "stdout",
     "output_type": "stream",
     "text": [
      "[1, 4, 7, 10]\n"
     ]
    }
   ],
   "source": [
    "l = [1, 2, 3, 4, 5, 6, 7, 8, 9, 10]\n",
    "\n",
    "# Copy the list but only take every third element\n",
    "print(l[::3])"
   ]
  },
  {
   "cell_type": "markdown",
   "id": "70669fb7",
   "metadata": {},
   "source": [
    "However, there is even more. We can also ask Python for `[::-1]` slice, and will get a copy of the original list, but in the reverse order:"
   ]
  },
  {
   "cell_type": "code",
   "execution_count": 19,
   "id": "d184eb3e",
   "metadata": {},
   "outputs": [
    {
     "name": "stdout",
     "output_type": "stream",
     "text": [
      "[10, 9, 8, 7, 6, 5, 4, 3, 2, 1]\n"
     ]
    }
   ],
   "source": [
    "l = [1, 2, 3, 4, 5, 6, 7, 8, 9, 10]\n",
    "\n",
    "# Copy the list but in reverse order\n",
    "print(l[::-1])"
   ]
  },
  {
   "cell_type": "markdown",
   "id": "ce6f833a",
   "metadata": {},
   "source": [
    "### List methods"
   ]
  },
  {
   "cell_type": "markdown",
   "id": "fd2b0cec",
   "metadata": {},
   "source": [
    "##### Adding a single element to the end of a list with `append`"
   ]
  },
  {
   "cell_type": "code",
   "execution_count": 13,
   "id": "f5203838",
   "metadata": {},
   "outputs": [
    {
     "name": "stdout",
     "output_type": "stream",
     "text": [
      "[1, 2, 3]\n"
     ]
    }
   ],
   "source": [
    "l = [1, 2, 3]\n",
    "print(l)"
   ]
  },
  {
   "cell_type": "code",
   "execution_count": 14,
   "id": "2cf3b4fb",
   "metadata": {},
   "outputs": [],
   "source": [
    "# Append is an in-place operation. It modifies (appends) the existing list\n",
    "l.append(4)"
   ]
  },
  {
   "cell_type": "code",
   "execution_count": 15,
   "id": "75009344",
   "metadata": {},
   "outputs": [
    {
     "name": "stdout",
     "output_type": "stream",
     "text": [
      "[1, 2, 3, 4]\n"
     ]
    }
   ],
   "source": [
    "print(l)"
   ]
  },
  {
   "cell_type": "markdown",
   "id": "322d3d9e",
   "metadata": {},
   "source": [
    "##### Adding sequence of elements to the end of a list with `extend`"
   ]
  },
  {
   "cell_type": "code",
   "execution_count": 16,
   "id": "eff637b4",
   "metadata": {},
   "outputs": [
    {
     "name": "stdout",
     "output_type": "stream",
     "text": [
      "[1, 2, 3]\n"
     ]
    }
   ],
   "source": [
    "l = [1, 2, 3]\n",
    "print(l)"
   ]
  },
  {
   "cell_type": "code",
   "execution_count": 17,
   "id": "c62d24bc",
   "metadata": {},
   "outputs": [],
   "source": [
    "l.extend([4, 5, 6])"
   ]
  },
  {
   "cell_type": "code",
   "execution_count": 18,
   "id": "678f2cfd",
   "metadata": {},
   "outputs": [
    {
     "name": "stdout",
     "output_type": "stream",
     "text": [
      "[1, 2, 3, 4, 5, 6]\n"
     ]
    }
   ],
   "source": [
    "print(l)"
   ]
  },
  {
   "cell_type": "markdown",
   "id": "98703e30",
   "metadata": {},
   "source": [
    "Alternatively, we can also use the `+=` operator to merge two lists."
   ]
  },
  {
   "cell_type": "code",
   "execution_count": 33,
   "id": "e5345620",
   "metadata": {},
   "outputs": [
    {
     "name": "stdout",
     "output_type": "stream",
     "text": [
      "ID: 140008602460288\n",
      "ID: 140008602460288\n",
      "[1, 2, 3, 4, 5, 6]\n"
     ]
    }
   ],
   "source": [
    "l = [1, 2, 3]\n",
    "print('ID:', id(l))\n",
    "l += [4, 5, 6]\n",
    "print('ID:', id(l))\n",
    "print(l)"
   ]
  },
  {
   "cell_type": "markdown",
   "id": "6dbb594f",
   "metadata": {},
   "source": [
    "As can be seen, the `l` refers to the same object after concatenating both lists. Hence, it does the same as the `extend` method which also applies an in-place operation."
   ]
  },
  {
   "cell_type": "markdown",
   "id": "81f08135",
   "metadata": {},
   "source": [
    "**Remark:** <br/>\n",
    "Note that `l = l + [1, 2, 3]` is NOT the same as `l += [1, 2, 3]`. Although, the result looks similar at the first glance.\n",
    "\n",
    "`l = l + [1, 2, 3]` creates a NEW list composed of elements of both lists."
   ]
  },
  {
   "cell_type": "code",
   "execution_count": 34,
   "id": "2a60000a",
   "metadata": {},
   "outputs": [
    {
     "name": "stdout",
     "output_type": "stream",
     "text": [
      "ID: 140008602667072\n",
      "ID: 140008602460288\n",
      "[1, 2, 3, 4, 5, 6]\n"
     ]
    }
   ],
   "source": [
    "l = [1, 2, 3]\n",
    "print('ID:', id(l))\n",
    "l = l + [4, 5, 6]\n",
    "print('ID:', id(l))\n",
    "print(l)"
   ]
  },
  {
   "cell_type": "markdown",
   "id": "89cb22d5",
   "metadata": {},
   "source": [
    "##### Inserting an element at a specific position in the list with `insert`"
   ]
  },
  {
   "cell_type": "code",
   "execution_count": 36,
   "id": "4f97c089",
   "metadata": {},
   "outputs": [
    {
     "name": "stdout",
     "output_type": "stream",
     "text": [
      "[1, 2, 3]\n"
     ]
    }
   ],
   "source": [
    "l = [1, 2, 3]\n",
    "print(l)"
   ]
  },
  {
   "cell_type": "code",
   "execution_count": 37,
   "id": "046f1c03",
   "metadata": {},
   "outputs": [],
   "source": [
    "l.insert(1, 'x')"
   ]
  },
  {
   "cell_type": "code",
   "execution_count": 38,
   "id": "7de57b55",
   "metadata": {},
   "outputs": [
    {
     "name": "stdout",
     "output_type": "stream",
     "text": [
      "[1, 'x', 2, 3]\n"
     ]
    }
   ],
   "source": [
    "print(l)"
   ]
  },
  {
   "cell_type": "markdown",
   "id": "0f5bb629",
   "metadata": {},
   "source": [
    "##### Removing an element at a specific position in the list with `pop`"
   ]
  },
  {
   "cell_type": "code",
   "execution_count": 69,
   "id": "ac66ba0a",
   "metadata": {},
   "outputs": [],
   "source": [
    "l = [1, 2, 3]"
   ]
  },
  {
   "cell_type": "code",
   "execution_count": 70,
   "id": "590b522b",
   "metadata": {},
   "outputs": [
    {
     "data": {
      "text/plain": [
       "2"
      ]
     },
     "execution_count": 70,
     "metadata": {},
     "output_type": "execute_result"
    }
   ],
   "source": [
    "# Pop(<index>) removes and returns the element at position <index> from the list\n",
    "l.pop(1)"
   ]
  },
  {
   "cell_type": "code",
   "execution_count": 71,
   "id": "78362929",
   "metadata": {},
   "outputs": [
    {
     "name": "stdout",
     "output_type": "stream",
     "text": [
      "[1, 3]\n"
     ]
    }
   ],
   "source": [
    "print(l)"
   ]
  },
  {
   "cell_type": "markdown",
   "id": "d5239ed9",
   "metadata": {},
   "source": [
    "##### Remove the first elements that has a given value with `remove`"
   ]
  },
  {
   "cell_type": "code",
   "execution_count": 58,
   "id": "fb05685f",
   "metadata": {},
   "outputs": [
    {
     "name": "stdout",
     "output_type": "stream",
     "text": [
      "[1, 2, 3, 2]\n"
     ]
    }
   ],
   "source": [
    "l = [1, 2, 3, 2]\n",
    "print(l)"
   ]
  },
  {
   "cell_type": "code",
   "execution_count": 59,
   "id": "4f4d267c",
   "metadata": {},
   "outputs": [],
   "source": [
    "l.remove(2)"
   ]
  },
  {
   "cell_type": "code",
   "execution_count": 60,
   "id": "68eb81c8",
   "metadata": {},
   "outputs": [
    {
     "name": "stdout",
     "output_type": "stream",
     "text": [
      "[1, 3, 2]\n"
     ]
    }
   ],
   "source": [
    "print(l)"
   ]
  },
  {
   "cell_type": "markdown",
   "id": "283c38db",
   "metadata": {},
   "source": [
    "##### Count how often a certain elements appears in the list with `count`"
   ]
  },
  {
   "cell_type": "code",
   "execution_count": 64,
   "id": "81255833",
   "metadata": {},
   "outputs": [
    {
     "name": "stdout",
     "output_type": "stream",
     "text": [
      "[1, 2, 3, 2]\n"
     ]
    }
   ],
   "source": [
    "l = [1, 2, 3, 2]\n",
    "print(l)"
   ]
  },
  {
   "cell_type": "code",
   "execution_count": 65,
   "id": "9adcf339",
   "metadata": {},
   "outputs": [
    {
     "name": "stdout",
     "output_type": "stream",
     "text": [
      "2\n"
     ]
    }
   ],
   "source": [
    "print(l.count(2))"
   ]
  },
  {
   "cell_type": "markdown",
   "id": "0ac32d55",
   "metadata": {},
   "source": [
    "##### Sort the list with sorted `count`"
   ]
  },
  {
   "cell_type": "code",
   "execution_count": 75,
   "id": "84a7da40",
   "metadata": {},
   "outputs": [
    {
     "name": "stdout",
     "output_type": "stream",
     "text": [
      "[3, 2, 1]\n",
      "[1, 2, 3]\n"
     ]
    }
   ],
   "source": [
    "# Sort list in ascending order\n",
    "l = [3, 2, 1]\n",
    "print(l)\n",
    "l.sort()\n",
    "print(l)"
   ]
  },
  {
   "cell_type": "code",
   "execution_count": 73,
   "id": "25610e4e",
   "metadata": {},
   "outputs": [
    {
     "name": "stdout",
     "output_type": "stream",
     "text": [
      "[1, 2, 3]\n",
      "[3, 2, 1]\n"
     ]
    }
   ],
   "source": [
    "# Sort list in descending order\n",
    "l = [1, 2, 3]\n",
    "print(l)\n",
    "l.sort(reverse=True)\n",
    "print(l)"
   ]
  },
  {
   "cell_type": "markdown",
   "id": "8a34186c",
   "metadata": {},
   "source": [
    "### Membership checking"
   ]
  },
  {
   "cell_type": "markdown",
   "id": "c15ee373",
   "metadata": {},
   "source": [
    "`list` does not provide a function whether a certain values is in a list. However, we can use the `in` statement for membership checking."
   ]
  },
  {
   "cell_type": "code",
   "execution_count": 98,
   "id": "e6ff93b1",
   "metadata": {},
   "outputs": [
    {
     "name": "stdout",
     "output_type": "stream",
     "text": [
      "True\n",
      "False\n"
     ]
    }
   ],
   "source": [
    "s = [1, 2, 3]\n",
    "\n",
    "# Check if 3 is in the list\n",
    "three_in_s = 3 in s\n",
    "\n",
    "# Check if 4 is in the list\n",
    "four_in_s = 4 in s\n",
    "\n",
    "print(three_in_s)\n",
    "print(four_in_s)"
   ]
  },
  {
   "cell_type": "markdown",
   "id": "46d7aecb",
   "metadata": {},
   "source": [
    "Of course, we can also check whether an element is not in the list using `not in`."
   ]
  },
  {
   "cell_type": "code",
   "execution_count": 99,
   "id": "ed505f01",
   "metadata": {},
   "outputs": [
    {
     "name": "stdout",
     "output_type": "stream",
     "text": [
      "False\n"
     ]
    }
   ],
   "source": [
    "s = [1, 2, 3]\n",
    "\n",
    "# Check if 3 is not in the list\n",
    "three_not_in_s = 3 not in s\n",
    "\n",
    "print(three_not_in_s)"
   ]
  },
  {
   "cell_type": "markdown",
   "id": "0ef72f60",
   "metadata": {},
   "source": [
    "**Note that the checking whether an element exists in a list has an average time complexity of O(n)!**"
   ]
  },
  {
   "cell_type": "markdown",
   "id": "1f3862bb",
   "metadata": {},
   "source": [
    "**Caution:** <br />\n",
    "Note that we cannot test for sub-sequence membership in other list (sequence)."
   ]
  },
  {
   "cell_type": "code",
   "execution_count": 27,
   "id": "4b000e90",
   "metadata": {},
   "outputs": [
    {
     "name": "stdout",
     "output_type": "stream",
     "text": [
      "False\n"
     ]
    }
   ],
   "source": [
    "# This does NOT work!\n",
    "print([1, 2] in [1, 2, 3])"
   ]
  },
  {
   "cell_type": "markdown",
   "id": "adb8c1a4",
   "metadata": {},
   "source": [
    "### How can we check whether two lists are equal?\n",
    "\n",
    "We sometimes want to know whether two given lists are equal. If the order of the elements should be taken into account such check can be easily performed using the `==` operator."
   ]
  },
  {
   "cell_type": "code",
   "execution_count": 104,
   "id": "d7f068eb",
   "metadata": {},
   "outputs": [
    {
     "name": "stdout",
     "output_type": "stream",
     "text": [
      "True\n",
      "False\n",
      "False\n",
      "False\n"
     ]
    }
   ],
   "source": [
    "l = [1, 2]\n",
    "\n",
    "# The following lists should be equal\n",
    "print(l == [1, 2])\n",
    "\n",
    "# The following lists should not be equal\n",
    "print(l == [1, 2, 3])\n",
    "\n",
    "# The following lists should not be equal\n",
    "print(l == [3, 1])\n",
    "\n",
    "# The following lists should not be equal\n",
    "print(l == [1])"
   ]
  },
  {
   "cell_type": "markdown",
   "id": "ec576998",
   "metadata": {},
   "source": [
    "But what if the order should not play a role in our check? <br />\n",
    "Typically, we see the following two solutions being used in practice."
   ]
  },
  {
   "cell_type": "markdown",
   "id": "f456bb6e",
   "metadata": {},
   "source": [
    "##### Method 1 [Safe]"
   ]
  },
  {
   "cell_type": "code",
   "execution_count": 107,
   "id": "99048152",
   "metadata": {},
   "outputs": [
    {
     "name": "stdout",
     "output_type": "stream",
     "text": [
      "True\n"
     ]
    }
   ],
   "source": [
    "# Sort both lists and check whether they are equal\n",
    "l1 = [1, 2]\n",
    "l2 = [2, 1]\n",
    "\n",
    "l1.sort()\n",
    "l2.sort()\n",
    "\n",
    "print(l1 == l2)"
   ]
  },
  {
   "cell_type": "markdown",
   "id": "96751972",
   "metadata": {},
   "source": [
    "##### Method 2      [Be careful, this method only works if there are no duplicate elements]"
   ]
  },
  {
   "cell_type": "code",
   "execution_count": 111,
   "id": "87abdec2",
   "metadata": {},
   "outputs": [
    {
     "name": "stdout",
     "output_type": "stream",
     "text": [
      "True\n"
     ]
    }
   ],
   "source": [
    "# Convert both lists into sets (unordered!) first and then compare both sets\n",
    "l1 = [1, 2]\n",
    "l2 = [2, 1]\n",
    "\n",
    "print(set(l1) == set(l2))"
   ]
  },
  {
   "cell_type": "markdown",
   "id": "0cf3e27a",
   "metadata": {},
   "source": [
    "However, there one important thing that should be aware of when using the second method.\n",
    "\n",
    "Let's look at the following example:"
   ]
  },
  {
   "cell_type": "code",
   "execution_count": 109,
   "id": "8271a59f",
   "metadata": {},
   "outputs": [
    {
     "name": "stdout",
     "output_type": "stream",
     "text": [
      "True\n"
     ]
    }
   ],
   "source": [
    "# Convert both lists into sets (unordered!) first and then compare both sets\n",
    "l1 = [1, 2]\n",
    "l2 = [2, 1, 2]\n",
    "\n",
    "print(set(l1) == set(l2))"
   ]
  },
  {
   "cell_type": "markdown",
   "id": "0d91c8ec",
   "metadata": {},
   "source": [
    "Both lists appear to be equal although they are not. This happens because **sets cannot contain duplicates**!"
   ]
  },
  {
   "cell_type": "markdown",
   "id": "0b08d20a",
   "metadata": {},
   "source": [
    "## List unpacking\n",
    "\n",
    "When we looked at Python functions, we learned about the **automatic unpacking** of tuples.\n",
    "\n",
    "However, unpacking works not only with tuples but also with lists."
   ]
  },
  {
   "cell_type": "code",
   "execution_count": 39,
   "id": "c375e5b1",
   "metadata": {},
   "outputs": [
    {
     "name": "stdout",
     "output_type": "stream",
     "text": [
      "1\n",
      "2\n",
      "3\n"
     ]
    }
   ],
   "source": [
    "l = [1, 2, 3]\n",
    "\n",
    "# Unpack the list into three variables\n",
    "x, y, z = l\n",
    "\n",
    "print(x)\n",
    "print(y)\n",
    "print(z)"
   ]
  },
  {
   "cell_type": "code",
   "execution_count": null,
   "id": "bd06d894",
   "metadata": {},
   "outputs": [],
   "source": []
  }
 ],
 "metadata": {
  "kernelspec": {
   "display_name": "Python 3 (ipykernel)",
   "language": "python",
   "name": "python3"
  },
  "language_info": {
   "codemirror_mode": {
    "name": "ipython",
    "version": 3
   },
   "file_extension": ".py",
   "mimetype": "text/x-python",
   "name": "python",
   "nbconvert_exporter": "python",
   "pygments_lexer": "ipython3",
   "version": "3.11.5"
  }
 },
 "nbformat": 4,
 "nbformat_minor": 5
}
