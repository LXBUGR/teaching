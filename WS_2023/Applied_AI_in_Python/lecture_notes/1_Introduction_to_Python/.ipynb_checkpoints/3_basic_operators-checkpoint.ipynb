{
 "cells": [
  {
   "cell_type": "markdown",
   "id": "b97169b9",
   "metadata": {},
   "source": [
    "# Operators and Function"
   ]
  },
  {
   "cell_type": "markdown",
   "id": "72d12593",
   "metadata": {},
   "source": [
    "Since python is a dynamic language, there is no need to explicity specify the type of a variable. <b/>\n",
    "Instead, the type is inferred based on the value assigned to the variable."
   ]
  },
  {
   "cell_type": "code",
   "execution_count": 3,
   "id": "6ff65e04",
   "metadata": {},
   "outputs": [],
   "source": [
    "x = 10\n",
    "y = 20"
   ]
  },
  {
   "cell_type": "code",
   "execution_count": 5,
   "id": "13d9352d",
   "metadata": {},
   "outputs": [
    {
     "name": "stdout",
     "output_type": "stream",
     "text": [
      "<class 'int'>\n"
     ]
    }
   ],
   "source": [
    "print(type(x))"
   ]
  },
  {
   "cell_type": "markdown",
   "id": "07647f49",
   "metadata": {},
   "source": [
    "## Arithmetic operators and their influence on the variable type\n",
    "Let's first look at the ones we are most familiar with `+`, `-`, `*`. `/`"
   ]
  },
  {
   "cell_type": "code",
   "execution_count": 7,
   "id": "1ddbf16d",
   "metadata": {},
   "outputs": [
    {
     "name": "stdout",
     "output_type": "stream",
     "text": [
      "<class 'int'>\n"
     ]
    }
   ],
   "source": [
    "x = 10\n",
    "y = 20"
   ]
  },
  {
   "cell_type": "code",
   "execution_count": 15,
   "id": "854f64a1",
   "metadata": {},
   "outputs": [
    {
     "name": "stdout",
     "output_type": "stream",
     "text": [
      "30\n",
      "<class 'int'>\n"
     ]
    }
   ],
   "source": [
    "# Addition => Int + Int = Int\n",
    "print(x+y)\n",
    "print(type(x+y))"
   ]
  },
  {
   "cell_type": "code",
   "execution_count": 16,
   "id": "37ffcf4e",
   "metadata": {},
   "outputs": [
    {
     "name": "stdout",
     "output_type": "stream",
     "text": [
      "-10\n",
      "<class 'int'>\n"
     ]
    }
   ],
   "source": [
    "# Subtraction => Int - Int = Int\n",
    "print(x-y)\n",
    "print(type(x-y))"
   ]
  },
  {
   "cell_type": "code",
   "execution_count": 17,
   "id": "f24598be",
   "metadata": {},
   "outputs": [
    {
     "name": "stdout",
     "output_type": "stream",
     "text": [
      "200\n",
      "<class 'int'>\n"
     ]
    }
   ],
   "source": [
    "# Multiplication => Int * Int = Int\n",
    "print(x*y)\n",
    "print(type(x*y))"
   ]
  },
  {
   "cell_type": "code",
   "execution_count": 18,
   "id": "036dab01",
   "metadata": {},
   "outputs": [
    {
     "name": "stdout",
     "output_type": "stream",
     "text": [
      "0.5\n",
      "<class 'float'>\n",
      "2.0\n",
      "<class 'float'>\n"
     ]
    }
   ],
   "source": [
    "# Division => Int / Int = Float\n",
    "print(x/y)\n",
    "print(type(x/y))\n",
    "\n",
    "print(y/x)\n",
    "print(type(y/x))"
   ]
  },
  {
   "cell_type": "markdown",
   "id": "d1a95606",
   "metadata": {},
   "source": [
    "**Important**: <br/>\n",
    "The division of two integer values allows results in a floating point number. <br/>\n",
    "Even if the numbers can be divided without remainder."
   ]
  },
  {
   "cell_type": "markdown",
   "id": "883831cf",
   "metadata": {},
   "source": [
    "#### But what if want to do an integer division since the result should be an integer?\n",
    "\n",
    "One way to enforce an integer division (a.k.a. floor division) is by using the `//` operator."
   ]
  },
  {
   "cell_type": "code",
   "execution_count": 20,
   "id": "0fe8374c",
   "metadata": {},
   "outputs": [],
   "source": [
    "x = 10\n",
    "y = 20"
   ]
  },
  {
   "cell_type": "code",
   "execution_count": 21,
   "id": "3908301a",
   "metadata": {},
   "outputs": [
    {
     "name": "stdout",
     "output_type": "stream",
     "text": [
      "0\n",
      "2\n"
     ]
    }
   ],
   "source": [
    "print(x // y)\n",
    "print(y // x)"
   ]
  },
  {
   "cell_type": "markdown",
   "id": "e4ab4df7",
   "metadata": {},
   "source": [
    "As can be seen, Python simply truncates the values after the decimal point (no rounding)"
   ]
  },
  {
   "cell_type": "markdown",
   "id": "f3906747",
   "metadata": {},
   "source": [
    "Alternatively, we can also do a floating point division and then force the variable to be an integer (a.k.a. type casting)."
   ]
  },
  {
   "cell_type": "code",
   "execution_count": 25,
   "id": "665381da",
   "metadata": {},
   "outputs": [
    {
     "name": "stdout",
     "output_type": "stream",
     "text": [
      "0\n",
      "2\n"
     ]
    }
   ],
   "source": [
    "print(int(x/y))\n",
    "print(int(y/x))"
   ]
  },
  {
   "cell_type": "markdown",
   "id": "76f8a97d",
   "metadata": {},
   "source": [
    "Alternatively, we can round the number to the nearest integer using the `round` function. <br/>\n",
    "But watch out, the rounding behavior of `round` might be different from what you expect!"
   ]
  },
  {
   "cell_type": "code",
   "execution_count": 34,
   "id": "0b5184ce",
   "metadata": {},
   "outputs": [
    {
     "name": "stdout",
     "output_type": "stream",
     "text": [
      "0.5 0\n",
      "1.5 2\n",
      "2.5 2\n"
     ]
    }
   ],
   "source": [
    "print(0.5, round(0.5))\n",
    "print(1.5, round(1.5))\n",
    "print(2.5, round(2.5))"
   ]
  },
  {
   "cell_type": "markdown",
   "id": "67aa51e6",
   "metadata": {},
   "source": [
    "`round` applies scientific rounding. Numbers are rounded towards the **nearest even** number. <br/>\n",
    "This different from what we call \"Kaufmännisches Runden\"."
   ]
  },
  {
   "cell_type": "code",
   "execution_count": 50,
   "id": "13f44dfd",
   "metadata": {},
   "outputs": [
    {
     "name": "stdout",
     "output_type": "stream",
     "text": [
      "1\n",
      "2\n",
      "3\n",
      "0\n",
      "1\n",
      "2\n"
     ]
    }
   ],
   "source": [
    "# Example: \"Kaufmännisches Runden\"\n",
    "r_const = 0.5\n",
    "print(int(0.5+r_const))\n",
    "print(int(1.5+r_const))\n",
    "print(int(2.5+r_const))\n",
    "print(int(0.4+r_const))\n",
    "print(int(1.4+r_const))\n",
    "print(int(2.4+r_const))"
   ]
  },
  {
   "cell_type": "markdown",
   "id": "bdbcd44b",
   "metadata": {},
   "source": [
    "## Further arithmetic operators"
   ]
  },
  {
   "cell_type": "markdown",
   "id": "6ed06d0c",
   "metadata": {},
   "source": [
    "### Modulus Operator\n",
    "\n",
    "Like in Java, modulo operations can be done with `%`."
   ]
  },
  {
   "cell_type": "code",
   "execution_count": 56,
   "id": "602ffdde",
   "metadata": {},
   "outputs": [
    {
     "name": "stdout",
     "output_type": "stream",
     "text": [
      "10\n",
      "0\n"
     ]
    }
   ],
   "source": [
    "x = 10\n",
    "y = 20\n",
    "print(x%y)\n",
    "print(y%x)"
   ]
  },
  {
   "cell_type": "markdown",
   "id": "f67c57ec",
   "metadata": {},
   "source": [
    "### Exponentiation Operator\n",
    "\n",
    "Power-of Operator `**`"
   ]
  },
  {
   "cell_type": "code",
   "execution_count": 58,
   "id": "29c60ebd",
   "metadata": {},
   "outputs": [
    {
     "name": "stdout",
     "output_type": "stream",
     "text": [
      "Five to the power 3 125\n"
     ]
    }
   ],
   "source": [
    "print('Five to the power 3', 5**3)"
   ]
  },
  {
   "cell_type": "markdown",
   "id": "d3693057",
   "metadata": {},
   "source": [
    "## Pre-Increment and Post-Increment operators"
   ]
  },
  {
   "cell_type": "markdown",
   "id": "72a89589",
   "metadata": {},
   "source": [
    "Note that unlike Java, Python does NOT support pre-increment (`--x`) -and post-increment (`x++`) operators."
   ]
  },
  {
   "cell_type": "code",
   "execution_count": 59,
   "id": "1d821b2d",
   "metadata": {},
   "outputs": [],
   "source": [
    "x = 5"
   ]
  },
  {
   "cell_type": "code",
   "execution_count": 60,
   "id": "7f4c5b54",
   "metadata": {},
   "outputs": [
    {
     "ename": "SyntaxError",
     "evalue": "invalid syntax (1015499630.py, line 1)",
     "output_type": "error",
     "traceback": [
      "\u001b[0;36m  Cell \u001b[0;32mIn[60], line 1\u001b[0;36m\u001b[0m\n\u001b[0;31m    x++\u001b[0m\n\u001b[0m       ^\u001b[0m\n\u001b[0;31mSyntaxError\u001b[0m\u001b[0;31m:\u001b[0m invalid syntax\n"
     ]
    }
   ],
   "source": [
    "x++"
   ]
  },
  {
   "cell_type": "markdown",
   "id": "eede8112",
   "metadata": {},
   "source": [
    "To increment a number, we can either do it in the conventional way ..."
   ]
  },
  {
   "cell_type": "code",
   "execution_count": 65,
   "id": "229d1cdf",
   "metadata": {},
   "outputs": [],
   "source": [
    "x = x + 1"
   ]
  },
  {
   "cell_type": "markdown",
   "id": "4bcf10e1",
   "metadata": {},
   "source": [
    "or by with **Assignment Operators**"
   ]
  },
  {
   "cell_type": "code",
   "execution_count": 67,
   "id": "f142d30e",
   "metadata": {},
   "outputs": [],
   "source": [
    "x += 1"
   ]
  },
  {
   "cell_type": "code",
   "execution_count": 68,
   "id": "7487fd48",
   "metadata": {},
   "outputs": [],
   "source": [
    "x -= 1"
   ]
  },
  {
   "cell_type": "markdown",
   "id": "7c33aa4f",
   "metadata": {},
   "source": [
    "## Logical operators"
   ]
  },
  {
   "cell_type": "markdown",
   "id": "69c5c155",
   "metadata": {},
   "source": [
    "Logical operators are typically used to combine conditional statements. <br/>\n",
    "The following logical operators are available: `and`, `or`, `not`\n",
    "\n",
    "**Note that this operators are equivalent to the `&&`, `||` and `!` operator in Java**."
   ]
  },
  {
   "cell_type": "code",
   "execution_count": 72,
   "id": "1343507f",
   "metadata": {},
   "outputs": [
    {
     "name": "stdout",
     "output_type": "stream",
     "text": [
      "True\n",
      "False\n",
      "True\n"
     ]
    }
   ],
   "source": [
    "print(True and True)\n",
    "print(True and not True)\n",
    "print(True or not True)"
   ]
  },
  {
   "cell_type": "markdown",
   "id": "82f6d74c",
   "metadata": {},
   "source": [
    "Note the operator precedence (order in which the operators are evaluated). <br/>\n",
    "`not` >>> `and` >>> `or`"
   ]
  },
  {
   "cell_type": "markdown",
   "id": "e7657b18",
   "metadata": {},
   "source": [
    "Not that expression such as ..."
   ]
  },
  {
   "cell_type": "code",
   "execution_count": 73,
   "id": "0ba1d4d0",
   "metadata": {},
   "outputs": [
    {
     "name": "stdout",
     "output_type": "stream",
     "text": [
      "False\n"
     ]
    }
   ],
   "source": [
    "x = 8\n",
    "print(x>45)"
   ]
  },
  {
   "cell_type": "markdown",
   "id": "c2b26758",
   "metadata": {},
   "source": [
    "return a boolean value. Hence, we can use logical operators to form statements such as ..."
   ]
  },
  {
   "cell_type": "code",
   "execution_count": 74,
   "id": "f9a046ab",
   "metadata": {},
   "outputs": [],
   "source": [
    "x = 10\n",
    "y = 15\n",
    "z = (x>10) and (y>3)"
   ]
  },
  {
   "cell_type": "code",
   "execution_count": 75,
   "id": "11b24782",
   "metadata": {},
   "outputs": [
    {
     "name": "stdout",
     "output_type": "stream",
     "text": [
      "False\n"
     ]
    }
   ],
   "source": [
    "print(z)"
   ]
  },
  {
   "cell_type": "markdown",
   "id": "857c0a38",
   "metadata": {},
   "source": [
    "## Bitwise operators"
   ]
  },
  {
   "cell_type": "markdown",
   "id": "5947c82b",
   "metadata": {},
   "source": [
    "Bitwise operators can be used to perform bitwise comparison of two values. <br/>\n",
    "The following bitwise operations are available: `&`, `|`, `~`, `^`, `>>`, `<<`"
   ]
  },
  {
   "cell_type": "code",
   "execution_count": 86,
   "id": "dd42cd29",
   "metadata": {},
   "outputs": [
    {
     "name": "stdout",
     "output_type": "stream",
     "text": [
      "2\n",
      "4\n"
     ]
    }
   ],
   "source": [
    "# Left shift\n",
    "# x = 0000 0001\n",
    "x = 1 \n",
    "# Left shift by 1. Should become 2\n",
    "print(x << 1)\n",
    "# Left shift by 2. Should become 4\n",
    "print(x << 2)"
   ]
  },
  {
   "cell_type": "code",
   "execution_count": 87,
   "id": "39257cc6",
   "metadata": {},
   "outputs": [
    {
     "name": "stdout",
     "output_type": "stream",
     "text": [
      "-1\n"
     ]
    }
   ],
   "source": [
    "# Bitwise NOT. ~ Operators. Changes every 0 to 1, and every 1 to 0\n",
    "x = 0\n",
    "\n",
    "print(~x)"
   ]
  },
  {
   "cell_type": "markdown",
   "id": "ecb2f0c2",
   "metadata": {},
   "source": [
    "**Why do we get -1 if we invert 0?** <br/>\n",
    "Python assumes that the numbers is represented using two's complement. See: https://en.wikipedia.org/wiki/Two%27s_complement"
   ]
  },
  {
   "cell_type": "markdown",
   "id": "8ee59ce7",
   "metadata": {},
   "source": [
    "Assuming that 0 is represented as 8-bit numbers (0000 0000), we get 1111 1111 after inverting the bits.<br/>\n",
    "In two's complement the first (left) bit is assumed to have a negative sign. Hence we get: <br/>\n",
    "-2^8 + (2^8-1) =-1"
   ]
  },
  {
   "cell_type": "code",
   "execution_count": 90,
   "id": "ad7d1361",
   "metadata": {},
   "outputs": [],
   "source": [
    "# Values can be bitwise combined using the &, |, ~ and ^ (XOR) operator.\n",
    "x = 1\n",
    "y = 2"
   ]
  },
  {
   "cell_type": "code",
   "execution_count": 91,
   "id": "98dd3b00",
   "metadata": {},
   "outputs": [
    {
     "name": "stdout",
     "output_type": "stream",
     "text": [
      "0\n"
     ]
    }
   ],
   "source": [
    "# AND: Should yield 0\n",
    "print(x & y)"
   ]
  },
  {
   "cell_type": "code",
   "execution_count": 93,
   "id": "07c6958c",
   "metadata": {},
   "outputs": [
    {
     "name": "stdout",
     "output_type": "stream",
     "text": [
      "3\n"
     ]
    }
   ],
   "source": [
    "# OR: Should yield 3\n",
    "print(x | y)"
   ]
  },
  {
   "cell_type": "code",
   "execution_count": 95,
   "id": "9319cbb1",
   "metadata": {},
   "outputs": [
    {
     "name": "stdout",
     "output_type": "stream",
     "text": [
      "3\n"
     ]
    }
   ],
   "source": [
    "# XOR (Evaluates to 1 if values are different)\n",
    "# 001 ^ 010 = 011 ==> 3\n",
    "print(x ^ y)"
   ]
  },
  {
   "cell_type": "markdown",
   "id": "0cd3e9d0",
   "metadata": {},
   "source": [
    "In practice, we sometimes find bitwise operators being used with binary numbers. "
   ]
  },
  {
   "cell_type": "code",
   "execution_count": 98,
   "id": "db55f4d6",
   "metadata": {},
   "outputs": [
    {
     "name": "stdout",
     "output_type": "stream",
     "text": [
      "True\n",
      "False\n",
      "True\n"
     ]
    }
   ],
   "source": [
    "print(True & True)\n",
    "print(True & False)\n",
    "print(True | False)"
   ]
  },
  {
   "cell_type": "markdown",
   "id": "b3d4456b",
   "metadata": {},
   "source": [
    "This works all non-zero numbers are consider `True`. On the contrary, `0` evalutes to `False`. <br/>\n",
    "Hence, bitwise operations lead to the same result."
   ]
  },
  {
   "cell_type": "code",
   "execution_count": 102,
   "id": "37a2c5f2",
   "metadata": {},
   "outputs": [
    {
     "name": "stdout",
     "output_type": "stream",
     "text": [
      "1\n",
      "0\n"
     ]
    }
   ],
   "source": [
    "# We can verify this ourself by casting the values to int.\n",
    "print(int(True))\n",
    "print(int(False))"
   ]
  },
  {
   "cell_type": "code",
   "execution_count": 104,
   "id": "dbde4601",
   "metadata": {},
   "outputs": [
    {
     "name": "stdout",
     "output_type": "stream",
     "text": [
      "True\n",
      "False\n"
     ]
    }
   ],
   "source": [
    "print(bool(2))\n",
    "print(bool(0))"
   ]
  },
  {
   "cell_type": "markdown",
   "id": "8ff38173",
   "metadata": {},
   "source": [
    "**Why is it still better to use logical operators if we want to evaluate conditional expressions?**"
   ]
  },
  {
   "cell_type": "markdown",
   "id": "c345cfca",
   "metadata": {},
   "source": [
    "Because logical operators are **short-circuit operators** which are faster to evaluate."
   ]
  },
  {
   "cell_type": "markdown",
   "id": "1a91c864",
   "metadata": {},
   "source": [
    "**Example:** <br/>\n",
    "Let's assume that we have to following expression.\n",
    "False & [Expr] ==> There is no need to evaluate the entire expression once we have noticed that the first term is already false. \n",
    "\n",
    "If we use bitwise operations, short-circuit evaluation is impossible. The entire expression needs to be evaluated."
   ]
  },
  {
   "cell_type": "markdown",
   "id": "deb2421d",
   "metadata": {},
   "source": [
    "## Identity Operators\n",
    "\n",
    "Identity operators are used to compare the objects, not if they are equal, but if they are actually the same object with the same memory location.\n",
    "\n",
    "Operators: `is`, `is not`\n"
   ]
  },
  {
   "cell_type": "code",
   "execution_count": 118,
   "id": "c66e7f59",
   "metadata": {},
   "outputs": [
    {
     "name": "stdout",
     "output_type": "stream",
     "text": [
      "True\n",
      "False\n"
     ]
    }
   ],
   "source": [
    "x = 3\n",
    "y = 4\n",
    "print(x is x)\n",
    "print(x is y)"
   ]
  },
  {
   "cell_type": "code",
   "execution_count": 119,
   "id": "151ef5db",
   "metadata": {},
   "outputs": [
    {
     "name": "stdout",
     "output_type": "stream",
     "text": [
      "8885064\n",
      "8885096\n"
     ]
    }
   ],
   "source": [
    "# We can get the memory location of a variable using id()\n",
    "print(id(x))\n",
    "print(id(y))"
   ]
  },
  {
   "cell_type": "markdown",
   "id": "b163ca6b",
   "metadata": {},
   "source": [
    "Interestingly, the following code evalutes to `True`. Why?"
   ]
  },
  {
   "cell_type": "code",
   "execution_count": 121,
   "id": "f3392ac0",
   "metadata": {},
   "outputs": [
    {
     "name": "stdout",
     "output_type": "stream",
     "text": [
      "True\n"
     ]
    }
   ],
   "source": [
    "x = 3\n",
    "y = 3\n",
    "print(x is y)"
   ]
  },
  {
   "cell_type": "code",
   "execution_count": 122,
   "id": "15e32c21",
   "metadata": {},
   "outputs": [
    {
     "name": "stdout",
     "output_type": "stream",
     "text": [
      "8885064\n",
      "8885064\n"
     ]
    }
   ],
   "source": [
    "# Let's look at the memory location\n",
    "print(id(x))\n",
    "print(id(y))"
   ]
  },
  {
   "cell_type": "markdown",
   "id": "ab338d09",
   "metadata": {},
   "source": [
    "Apparently, both 3s refer to the same object (recall, that in python any variable is an object)! <br/>\n",
    "In fact, x and y names (a.k.a references) that refer to the same object."
   ]
  },
  {
   "cell_type": "markdown",
   "id": "205feff0",
   "metadata": {},
   "source": [
    "If you are interested in the memory managment in Python consider watching this talk: <br/>\n",
    "https://www.youtube.com/watch?v=F6u5rhUQ6dU"
   ]
  },
  {
   "cell_type": "markdown",
   "id": "e2ef9d25",
   "metadata": {},
   "source": [
    "## Operator Precedence"
   ]
  },
  {
   "cell_type": "markdown",
   "id": "84ba60dd",
   "metadata": {},
   "source": [
    "Finally, let's take a brief look at the operator predence which defines the order in which expression are evaluated.\n",
    "\n",
    "See: https://www.w3schools.com/python/python_operators.asp"
   ]
  },
  {
   "cell_type": "markdown",
   "id": "33031922",
   "metadata": {},
   "source": [
    "As can be seen arithmetic operators rank higher than logical and bitwise operators. Hence, it it can be concluded that we can ommit the bracket in expressions such as ..."
   ]
  },
  {
   "cell_type": "code",
   "execution_count": 2,
   "id": "3fb1b141",
   "metadata": {},
   "outputs": [
    {
     "name": "stdout",
     "output_type": "stream",
     "text": [
      "True\n",
      "True\n"
     ]
    }
   ],
   "source": [
    "print((5 > 3) and (5 < 6))\n",
    "print(5 > 3 and 5 < 6)"
   ]
  }
 ],
 "metadata": {
  "kernelspec": {
   "display_name": "Python 3 (ipykernel)",
   "language": "python",
   "name": "python3"
  },
  "language_info": {
   "codemirror_mode": {
    "name": "ipython",
    "version": 3
   },
   "file_extension": ".py",
   "mimetype": "text/x-python",
   "name": "python",
   "nbconvert_exporter": "python",
   "pygments_lexer": "ipython3",
   "version": "3.11.5"
  }
 },
 "nbformat": 4,
 "nbformat_minor": 5
}
