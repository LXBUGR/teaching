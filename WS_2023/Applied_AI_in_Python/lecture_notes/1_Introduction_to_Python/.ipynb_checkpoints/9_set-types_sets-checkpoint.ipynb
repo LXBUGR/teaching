{
 "cells": [
  {
   "cell_type": "markdown",
   "id": "5db2700e",
   "metadata": {},
   "source": [
    "# Set types"
   ]
  },
  {
   "cell_type": "markdown",
   "id": "4e2443d7",
   "metadata": {},
   "source": [
    "## Sets\n",
    "\n",
    "Sets are **unordered** collections of elements. Sets are **mutable** and but **do not support duplicate elements** (unlike lists). \n",
    "\n",
    "The major advantage of using a set, as opposed to a list, is that it has a optimized method for checking whether a specific element is contained in the set. Therefore, the elements are stored in a **hash table**.\n",
    "\n",
    "Consequently, sets **can only contain elements that are hashable**. Hence, sets cannot contain elements such as dicts, lists or sets as they are not hashable. (*)\n",
    "\n",
    "(*) Note that sets can contain tuples since tuples are hashable (assuming that tuple only contains hashable elements)"
   ]
  },
  {
   "cell_type": "markdown",
   "id": "a83c223b",
   "metadata": {},
   "source": [
    "An empty set can be created as follows:"
   ]
  },
  {
   "cell_type": "code",
   "execution_count": 77,
   "id": "124fda78",
   "metadata": {},
   "outputs": [],
   "source": [
    "s = set()"
   ]
  },
  {
   "cell_type": "markdown",
   "id": "bcefd800",
   "metadata": {},
   "source": [
    "If we want to create a set with some given values, we simply run"
   ]
  },
  {
   "cell_type": "code",
   "execution_count": 81,
   "id": "7358bca3",
   "metadata": {},
   "outputs": [],
   "source": [
    "s = {1, 2, 3}"
   ]
  },
  {
   "cell_type": "markdown",
   "id": "8acb7983",
   "metadata": {},
   "source": [
    "**Caution:** Do not use `{}` to create an EMPTY set as the returned value will be an empty dict."
   ]
  },
  {
   "cell_type": "code",
   "execution_count": 1,
   "id": "eb100f64",
   "metadata": {},
   "outputs": [
    {
     "name": "stdout",
     "output_type": "stream",
     "text": [
      "<class 'dict'>\n"
     ]
    }
   ],
   "source": [
    "# This is NOT how we create an empty set\n",
    "s = {}\n",
    "print(type(s))"
   ]
  },
  {
   "cell_type": "markdown",
   "id": "6d0839d4",
   "metadata": {},
   "source": [
    "Sets do NOT support duplicate elements. Be aware that no error is raised if we tried to create a set with duplicate elements."
   ]
  },
  {
   "cell_type": "code",
   "execution_count": 90,
   "id": "5c027f3f",
   "metadata": {},
   "outputs": [
    {
     "name": "stdout",
     "output_type": "stream",
     "text": [
      "{1, 2, 3}\n"
     ]
    }
   ],
   "source": [
    "s = {1, 2, 3, 3}\n",
    "print(s)"
   ]
  },
  {
   "cell_type": "markdown",
   "id": "748e3bb6",
   "metadata": {},
   "source": [
    "### Set Methods"
   ]
  },
  {
   "cell_type": "markdown",
   "id": "82de8b6a",
   "metadata": {},
   "source": [
    "##### Accessing a specific element at a certain position in the set\n",
    "\n",
    "Since sets are unordered we can NOT access a specific element in a set."
   ]
  },
  {
   "cell_type": "markdown",
   "id": "ab5b71dc",
   "metadata": {},
   "source": [
    "#### Adding a new element to an existing set with `add()`"
   ]
  },
  {
   "cell_type": "code",
   "execution_count": 115,
   "id": "1d6a41f9",
   "metadata": {},
   "outputs": [
    {
     "name": "stdout",
     "output_type": "stream",
     "text": [
      "{1, 2, 3, 4}\n"
     ]
    }
   ],
   "source": [
    "s = {1, 2, 3}\n",
    "\n",
    "s.add(4)\n",
    "print(s)"
   ]
  },
  {
   "cell_type": "markdown",
   "id": "96f6249a",
   "metadata": {},
   "source": [
    "#### Adding elements from a set to an existing set with `update()`"
   ]
  },
  {
   "cell_type": "code",
   "execution_count": 124,
   "id": "9ec4e179",
   "metadata": {},
   "outputs": [
    {
     "name": "stdout",
     "output_type": "stream",
     "text": [
      "{1, 2, 3, 4, 5}\n"
     ]
    }
   ],
   "source": [
    "s = {1, 2, 3}\n",
    "\n",
    "s.update({3, 4, 5})\n",
    "print(s)"
   ]
  },
  {
   "cell_type": "markdown",
   "id": "c1515a74",
   "metadata": {},
   "source": [
    "Alternatively, we can use the `|=` operator."
   ]
  },
  {
   "cell_type": "code",
   "execution_count": 125,
   "id": "a37c3744",
   "metadata": {},
   "outputs": [
    {
     "name": "stdout",
     "output_type": "stream",
     "text": [
      "{1, 2, 3, 4, 5}\n"
     ]
    }
   ],
   "source": [
    "s = {1, 2, 3}\n",
    "\n",
    "s |= {3, 4, 5}\n",
    "print(s)"
   ]
  },
  {
   "cell_type": "markdown",
   "id": "4e9f74e9",
   "metadata": {},
   "source": [
    "#### Remove an element from a set with `remove()`"
   ]
  },
  {
   "cell_type": "code",
   "execution_count": 129,
   "id": "804a21a3",
   "metadata": {},
   "outputs": [
    {
     "name": "stdout",
     "output_type": "stream",
     "text": [
      "{2, 3}\n"
     ]
    }
   ],
   "source": [
    "s = {1, 2, 3}\n",
    "\n",
    "s.remove(1)\n",
    "print(s)"
   ]
  },
  {
   "cell_type": "markdown",
   "id": "557295fe",
   "metadata": {},
   "source": [
    "### Membership checking"
   ]
  },
  {
   "cell_type": "markdown",
   "id": "29eb6de5",
   "metadata": {},
   "source": [
    "Similar to a `list`, membership checks can be performed using `in` and `not in`. <br />\n",
    "Note that thanks to the hash table, all membership checks can be performed in O(1)."
   ]
  },
  {
   "cell_type": "code",
   "execution_count": 135,
   "id": "e07b7f04",
   "metadata": {},
   "outputs": [
    {
     "name": "stdout",
     "output_type": "stream",
     "text": [
      "True\n",
      "False\n"
     ]
    }
   ],
   "source": [
    "l = [1, 2, 3]\n",
    "\n",
    "print(1 in l)\n",
    "print(1 not in l)"
   ]
  },
  {
   "cell_type": "markdown",
   "id": "1c7545a3",
   "metadata": {},
   "source": [
    "### Set operations"
   ]
  },
  {
   "cell_type": "markdown",
   "id": "70c7abac",
   "metadata": {},
   "source": [
    "Finally, we will take a look at the operations that are characteristic of sets such as union, intersection or difference."
   ]
  },
  {
   "cell_type": "markdown",
   "id": "2d2004c7",
   "metadata": {},
   "source": [
    "#### Compute the union of two sets with `union`\n",
    "\n",
    "Note that `union` does return a NEW set composed of elements from the given sets."
   ]
  },
  {
   "cell_type": "code",
   "execution_count": 137,
   "id": "5f48bfc7",
   "metadata": {},
   "outputs": [
    {
     "name": "stdout",
     "output_type": "stream",
     "text": [
      "{1, 2, 3, 4, 5}\n"
     ]
    }
   ],
   "source": [
    "s1 = {1, 2, 3}\n",
    "s2 = {3, 4, 5}\n",
    "\n",
    "s_union = s1.union(s2)\n",
    "\n",
    "print(s_union)"
   ]
  },
  {
   "cell_type": "markdown",
   "id": "3be8e972",
   "metadata": {},
   "source": [
    "Alternatively, we can compute the union using the `|` operator."
   ]
  },
  {
   "cell_type": "code",
   "execution_count": 139,
   "id": "907195f1",
   "metadata": {},
   "outputs": [
    {
     "name": "stdout",
     "output_type": "stream",
     "text": [
      "{1, 2, 3, 4, 5}\n"
     ]
    }
   ],
   "source": [
    "s1 = {1, 2, 3}\n",
    "s2 = {3, 4, 5}\n",
    "\n",
    "s_union = s1 | s2\n",
    "\n",
    "print(s_union)"
   ]
  },
  {
   "cell_type": "markdown",
   "id": "c90b2a14",
   "metadata": {},
   "source": [
    "#### Compute the intersection between sets with `intersection`"
   ]
  },
  {
   "cell_type": "code",
   "execution_count": 142,
   "id": "97fa9ca3",
   "metadata": {},
   "outputs": [
    {
     "name": "stdout",
     "output_type": "stream",
     "text": [
      "{3}\n"
     ]
    }
   ],
   "source": [
    "s1 = {1, 2, 3}\n",
    "s2 = {3, 4, 5}\n",
    "\n",
    "s_intersect = s1.intersection(s2)\n",
    "\n",
    "print(s_intersect)"
   ]
  },
  {
   "cell_type": "markdown",
   "id": "4ed2e362",
   "metadata": {},
   "source": [
    "Alternatively, we can compute the union using the `&` operator."
   ]
  },
  {
   "cell_type": "code",
   "execution_count": 144,
   "id": "50024ed7",
   "metadata": {},
   "outputs": [
    {
     "name": "stdout",
     "output_type": "stream",
     "text": [
      "{3}\n"
     ]
    }
   ],
   "source": [
    "s1 = {1, 2, 3}\n",
    "s2 = {3, 4, 5}\n",
    "\n",
    "s_intersect = s1 & s2\n",
    "\n",
    "print(s_intersect)"
   ]
  },
  {
   "cell_type": "markdown",
   "id": "04065428",
   "metadata": {},
   "source": [
    "#### Compute the difference between two sets"
   ]
  },
  {
   "cell_type": "code",
   "execution_count": 147,
   "id": "081201d9",
   "metadata": {},
   "outputs": [
    {
     "name": "stdout",
     "output_type": "stream",
     "text": [
      "{1, 2, 5}\n"
     ]
    }
   ],
   "source": [
    "s1 = {1, 2, 3, 5}\n",
    "s2 = {3, 4}\n",
    "\n",
    "s_diff = s1 - s2\n",
    "\n",
    "print(s_diff)"
   ]
  },
  {
   "cell_type": "markdown",
   "id": "9254c1ae",
   "metadata": {},
   "source": [
    "#### Check if Set 1 is a superset or subset of Set 2"
   ]
  },
  {
   "cell_type": "code",
   "execution_count": 155,
   "id": "4e408061",
   "metadata": {},
   "outputs": [
    {
     "name": "stdout",
     "output_type": "stream",
     "text": [
      "S1 is a superset of S2 True\n",
      "S1 is a superset of S1 True\n",
      "S1 is a subset of S1 False\n"
     ]
    }
   ],
   "source": [
    "s1 = {1, 2, 3, 4}\n",
    "s2 = {3, 4}\n",
    "\n",
    "print('S1 is a superset of S2', s1 >= s2)\n",
    "print('S1 is a superset of S1', s1 >= s1)\n",
    "print('S1 is a subset of S1', s1 > s1)"
   ]
  },
  {
   "cell_type": "markdown",
   "id": "c14fba17",
   "metadata": {},
   "source": [
    "#### Check if two sets are equivalent with `==`"
   ]
  },
  {
   "cell_type": "code",
   "execution_count": 157,
   "id": "ac2cd7c6",
   "metadata": {},
   "outputs": [
    {
     "name": "stdout",
     "output_type": "stream",
     "text": [
      "False\n"
     ]
    }
   ],
   "source": [
    "s1 = {1, 2, 3, 4}\n",
    "s2 = {3, 4}\n",
    "\n",
    "print(s1 == s2)"
   ]
  }
 ],
 "metadata": {
  "kernelspec": {
   "display_name": "Python 3 (ipykernel)",
   "language": "python",
   "name": "python3"
  },
  "language_info": {
   "codemirror_mode": {
    "name": "ipython",
    "version": 3
   },
   "file_extension": ".py",
   "mimetype": "text/x-python",
   "name": "python",
   "nbconvert_exporter": "python",
   "pygments_lexer": "ipython3",
   "version": "3.11.5"
  }
 },
 "nbformat": 4,
 "nbformat_minor": 5
}
