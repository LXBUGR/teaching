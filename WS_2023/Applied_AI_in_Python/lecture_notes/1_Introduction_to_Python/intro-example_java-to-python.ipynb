{
 "cells": [
  {
   "cell_type": "code",
   "execution_count": 7,
   "id": "5b2560c3",
   "metadata": {},
   "outputs": [],
   "source": [
    "import numpy as np"
   ]
  },
  {
   "cell_type": "code",
   "execution_count": 8,
   "id": "ecb03eb9",
   "metadata": {},
   "outputs": [],
   "source": [
    "def create_multiplication_chart(size=10):\n",
    "    \n",
    "    \"\"\" \n",
    "    Returns a multiplication chart for numbers in the range 1 to <size>\n",
    "    \"\"\"\n",
    "    \n",
    "    # Created a 2d numpy array with numbers from 1 to <size>\n",
    "    factors = np.arange(size)[np.newaxis, :]\n",
    "    \n",
    "    # Use a matrix multiplication to generate the multiplication matrix.\n",
    "    # Note: factors.T => Transpose of <factors>\n",
    "    mult_matrix = factors * factors.T\n",
    "    \n",
    "    return mult_matrix\n",
    "\n",
    "\n",
    "def print_multiplication_chart(multi_chart):\n",
    "    \n",
    "    \"\"\" \n",
    "    Takes a two-dimensional array (i.e., multiplication chart) as input and writes \n",
    "    it to STDOUT (nicely formatted).\n",
    "    \"\"\"\n",
    "    \n",
    "    for row in multi_chart:\n",
    "        print('\\t'.join(map(str, row)))"
   ]
  },
  {
   "cell_type": "code",
   "execution_count": 9,
   "id": "ebf01f7e",
   "metadata": {},
   "outputs": [
    {
     "name": "stdout",
     "output_type": "stream",
     "text": [
      "0\t0\t0\t0\t0\t0\t0\t0\t0\t0\n",
      "0\t1\t2\t3\t4\t5\t6\t7\t8\t9\n",
      "0\t2\t4\t6\t8\t10\t12\t14\t16\t18\n",
      "0\t3\t6\t9\t12\t15\t18\t21\t24\t27\n",
      "0\t4\t8\t12\t16\t20\t24\t28\t32\t36\n",
      "0\t5\t10\t15\t20\t25\t30\t35\t40\t45\n",
      "0\t6\t12\t18\t24\t30\t36\t42\t48\t54\n",
      "0\t7\t14\t21\t28\t35\t42\t49\t56\t63\n",
      "0\t8\t16\t24\t32\t40\t48\t56\t64\t72\n",
      "0\t9\t18\t27\t36\t45\t54\t63\t72\t81\n"
     ]
    }
   ],
   "source": [
    "multi_chart = create_multiplication_chart()\n",
    "print_multiplication_chart(multi_chart)"
   ]
  },
  {
   "cell_type": "code",
   "execution_count": null,
   "id": "92b85fd6",
   "metadata": {},
   "outputs": [],
   "source": []
  }
 ],
 "metadata": {
  "kernelspec": {
   "display_name": "Python 3 (ipykernel)",
   "language": "python",
   "name": "python3"
  },
  "language_info": {
   "codemirror_mode": {
    "name": "ipython",
    "version": 3
   },
   "file_extension": ".py",
   "mimetype": "text/x-python",
   "name": "python",
   "nbconvert_exporter": "python",
   "pygments_lexer": "ipython3",
   "version": "3.11.5"
  }
 },
 "nbformat": 4,
 "nbformat_minor": 5
}
