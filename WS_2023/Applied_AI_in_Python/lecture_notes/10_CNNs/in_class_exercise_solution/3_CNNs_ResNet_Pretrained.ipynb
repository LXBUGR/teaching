{
  "nbformat": 4,
  "nbformat_minor": 0,
  "metadata": {
    "colab": {
      "provenance": [],
      "gpuType": "T4"
    },
    "kernelspec": {
      "name": "python3",
      "display_name": "Python 3"
    },
    "language_info": {
      "name": "python"
    },
    "accelerator": "GPU"
  },
  "cells": [
    {
      "cell_type": "code",
      "execution_count": 21,
      "metadata": {
        "id": "uVMmGMr45hfW"
      },
      "outputs": [],
      "source": [
        "import torchvision\n",
        "import matplotlib.pyplot as plt\n",
        "import numpy as np\n",
        "import torch\n",
        "import torch.utils.data as data\n",
        "import torch.nn as nn\n",
        "import torch.optim as optim\n",
        "from tqdm import tqdm, trange\n",
        "import torchvision.transforms as transforms\n",
        "import time"
      ]
    },
    {
      "cell_type": "code",
      "source": [
        "!pip install pytorch-ignite"
      ],
      "metadata": {
        "colab": {
          "base_uri": "https://localhost:8080/"
        },
        "id": "Y2GgMlnnAPji",
        "outputId": "1bab1b0b-f2e5-4dc1-e4fb-0630633f1578"
      },
      "execution_count": 22,
      "outputs": [
        {
          "output_type": "stream",
          "name": "stdout",
          "text": [
            "Requirement already satisfied: pytorch-ignite in /usr/local/lib/python3.10/dist-packages (0.4.13)\n",
            "Requirement already satisfied: torch<3,>=1.3 in /usr/local/lib/python3.10/dist-packages (from pytorch-ignite) (2.1.0+cu121)\n",
            "Requirement already satisfied: packaging in /usr/local/lib/python3.10/dist-packages (from pytorch-ignite) (23.2)\n",
            "Requirement already satisfied: filelock in /usr/local/lib/python3.10/dist-packages (from torch<3,>=1.3->pytorch-ignite) (3.13.1)\n",
            "Requirement already satisfied: typing-extensions in /usr/local/lib/python3.10/dist-packages (from torch<3,>=1.3->pytorch-ignite) (4.5.0)\n",
            "Requirement already satisfied: sympy in /usr/local/lib/python3.10/dist-packages (from torch<3,>=1.3->pytorch-ignite) (1.12)\n",
            "Requirement already satisfied: networkx in /usr/local/lib/python3.10/dist-packages (from torch<3,>=1.3->pytorch-ignite) (3.2.1)\n",
            "Requirement already satisfied: jinja2 in /usr/local/lib/python3.10/dist-packages (from torch<3,>=1.3->pytorch-ignite) (3.1.2)\n",
            "Requirement already satisfied: fsspec in /usr/local/lib/python3.10/dist-packages (from torch<3,>=1.3->pytorch-ignite) (2023.6.0)\n",
            "Requirement already satisfied: triton==2.1.0 in /usr/local/lib/python3.10/dist-packages (from torch<3,>=1.3->pytorch-ignite) (2.1.0)\n",
            "Requirement already satisfied: MarkupSafe>=2.0 in /usr/local/lib/python3.10/dist-packages (from jinja2->torch<3,>=1.3->pytorch-ignite) (2.1.3)\n",
            "Requirement already satisfied: mpmath>=0.19 in /usr/local/lib/python3.10/dist-packages (from sympy->torch<3,>=1.3->pytorch-ignite) (1.3.0)\n"
          ]
        }
      ]
    },
    {
      "cell_type": "code",
      "source": [
        "from ignite.handlers import FastaiLRFinder\n",
        "from ignite.engine import create_supervised_trainer"
      ],
      "metadata": {
        "id": "mSPZJSVEAQfm"
      },
      "execution_count": 23,
      "outputs": []
    },
    {
      "cell_type": "code",
      "source": [
        "DEVICE = 'cuda'\n",
        "BATCH_SIZE = 64"
      ],
      "metadata": {
        "id": "AMqcfTE5NKh7"
      },
      "execution_count": 24,
      "outputs": []
    },
    {
      "cell_type": "markdown",
      "source": [
        "### Helper functions"
      ],
      "metadata": {
        "id": "2qkAkS2pTVIb"
      }
    },
    {
      "cell_type": "code",
      "source": [
        "def plot_accuracy(stats, title=None):\n",
        "\n",
        "  epochs = [item['epoch'] for item in stats]\n",
        "  train_accs = [item['train_acc'] for item in stats]\n",
        "  val_accs = [item['val_acc'] for item in stats]\n",
        "\n",
        "  plt.plot(epochs, train_accs, label='Train Acc')\n",
        "  plt.plot(epochs, val_accs, label=f'Val Acc [Best: {max(val_accs):.2f}%]')\n",
        "  plt.legend()\n",
        "\n",
        "  if title:\n",
        "    plt.title(title)"
      ],
      "metadata": {
        "id": "tC9-HvBw__ym"
      },
      "execution_count": 25,
      "outputs": []
    },
    {
      "cell_type": "code",
      "source": [
        "def eval_accuracy(model, loader):\n",
        "\n",
        "    epoch_acc = 0\n",
        "\n",
        "    model.eval()\n",
        "\n",
        "    num_corr_pred = 0\n",
        "    num_total_pred = 0\n",
        "\n",
        "    with torch.no_grad():\n",
        "\n",
        "        for x, y in loader:\n",
        "\n",
        "            x = x.to(DEVICE)\n",
        "            y = y.to(DEVICE)\n",
        "\n",
        "            y_pred = model(x)\n",
        "\n",
        "            top_pred = y_pred.argmax(1)\n",
        "            num_corr_pred += (top_pred == y).sum()\n",
        "            num_total_pred += len(y)\n",
        "\n",
        "    acc = num_corr_pred / num_total_pred * 100\n",
        "\n",
        "    return acc.item()"
      ],
      "metadata": {
        "id": "0P_6IUAeMrUb"
      },
      "execution_count": 26,
      "outputs": []
    },
    {
      "cell_type": "code",
      "source": [
        "def train(model, train_loader, optimizer, criterion, num_epochs, val_loader=None):\n",
        "\n",
        "  '''\n",
        "  Trains the model on the dataloader for a given number of epochs\n",
        "   '''\n",
        "\n",
        "  print('===== Start training ===== \\n')\n",
        "\n",
        "  model.train()\n",
        "\n",
        "  start = time.time()\n",
        "\n",
        "  stats = []\n",
        "\n",
        "  for epoch in range(1, num_epochs+1):\n",
        "\n",
        "    epoch_loss = 0\n",
        "\n",
        "    for x, y in train_loader:\n",
        "\n",
        "      optimizer.zero_grad()\n",
        "\n",
        "      x = x.to(DEVICE)\n",
        "      y = y.to(DEVICE)\n",
        "\n",
        "      y_pred = model(x)\n",
        "\n",
        "      loss = criterion(y_pred, y)\n",
        "\n",
        "      loss.backward()\n",
        "      optimizer.step()\n",
        "\n",
        "      epoch_loss += loss.item()\n",
        "\n",
        "    print(f'[{epoch}] Loss: {epoch_loss:.3f}')\n",
        "\n",
        "    if epoch % 5 == 0:\n",
        "      train_acc = eval_accuracy(model, train_loader)\n",
        "      if val_loader:\n",
        "        val_acc = eval_accuracy(model, val_loader)\n",
        "        print(f'[{epoch}] Train Acc: {train_acc:.2f}%  /  Val Acc: {val_acc:.2f}%')\n",
        "        stats.append({'epoch': epoch, 'train_acc': train_acc, 'val_acc': val_acc})\n",
        "      else:\n",
        "        print(f'[{epoch}] Train Acc: {train_acc:.2f}%')\n",
        "        stats.append({'epoch': epoch, 'train_acc': train_acc})\n",
        "\n",
        "\n",
        "  end = time.time()\n",
        "  elapsed_time = end - start\n",
        "\n",
        "  print()\n",
        "  print('===== Finished training ===== ')\n",
        "  print(f'Elapsed time in minutes: {elapsed_time/60:.2f}')\n",
        "\n",
        "  return stats"
      ],
      "metadata": {
        "id": "UAQJWPMYMlN_"
      },
      "execution_count": 27,
      "outputs": []
    },
    {
      "cell_type": "markdown",
      "source": [
        "### Prepare the datasets"
      ],
      "metadata": {
        "id": "aYFh_T_9Sq83"
      }
    },
    {
      "cell_type": "code",
      "source": [
        "train_transforms = transforms.Compose([\n",
        "  transforms.RandomHorizontalFlip(),\n",
        "  transforms.Resize(256),\n",
        "  transforms.RandomResizedCrop(224),\n",
        "  transforms.ToTensor(),\n",
        "  transforms.Normalize(mean=[0.485, 0.456, 0.406], std=[0.229, 0.224, 0.225])\n",
        "])\n",
        "\n",
        "test_transforms = transforms.Compose([\n",
        "  transforms.Resize(256),\n",
        "  transforms.CenterCrop(224),\n",
        "  transforms.ToTensor(),\n",
        "  transforms.Normalize(mean=[0.485, 0.456, 0.406], std=[0.229, 0.224, 0.225])\n",
        "])\n",
        "\n",
        "train_dataset = torchvision.datasets.Flowers102('data/', download=True, split='train', transform=train_transforms)\n",
        "val_dataset = torchvision.datasets.Flowers102('data/', download=True, split='val', transform=test_transforms)\n",
        "test_dataset = torchvision.datasets.Flowers102('data/', download=True, split='test', transform=test_transforms)"
      ],
      "metadata": {
        "id": "hruo8RF75l2k"
      },
      "execution_count": 28,
      "outputs": []
    },
    {
      "cell_type": "code",
      "source": [
        "train_loader = data.DataLoader(train_dataset, shuffle=True, batch_size=BATCH_SIZE)\n",
        "val_loader = data.DataLoader(val_dataset, shuffle=False, batch_size=BATCH_SIZE)\n",
        "test_loader = data.DataLoader(test_dataset, shuffle=False, batch_size=BATCH_SIZE)"
      ],
      "metadata": {
        "id": "ClLh2aeF5oTW"
      },
      "execution_count": 29,
      "outputs": []
    },
    {
      "cell_type": "markdown",
      "source": [
        "### Prepare the pretrained ResNet model"
      ],
      "metadata": {
        "id": "vzf6_-cvPv1h"
      }
    },
    {
      "cell_type": "code",
      "source": [
        "model = torch.hub.load('pytorch/vision:v0.10.0', 'resnet18', pretrained=True)\n",
        "\n",
        "num_ftrs = model.fc.in_features\n",
        "model.fc = nn.Linear(num_ftrs, 102)"
      ],
      "metadata": {
        "colab": {
          "base_uri": "https://localhost:8080/"
        },
        "id": "wxELPQK95pSJ",
        "outputId": "d7f9ad21-0163-4584-c41f-34881375dc3a"
      },
      "execution_count": 30,
      "outputs": [
        {
          "output_type": "stream",
          "name": "stderr",
          "text": [
            "Using cache found in /root/.cache/torch/hub/pytorch_vision_v0.10.0\n"
          ]
        }
      ]
    },
    {
      "cell_type": "code",
      "source": [
        "model = model.to(DEVICE)"
      ],
      "metadata": {
        "id": "5Jv_rKBX52Jv"
      },
      "execution_count": 31,
      "outputs": []
    },
    {
      "cell_type": "markdown",
      "source": [
        "### LR range test"
      ],
      "metadata": {
        "id": "LiviGjXaAEpE"
      }
    },
    {
      "cell_type": "code",
      "source": [
        "start_lr = 1e-7\n",
        "end_lr = 1e+1\n",
        "optimizer = optim.Adam(model.parameters(), lr=1e-3)\n",
        "criterion = nn.CrossEntropyLoss()\n",
        "trainer = create_supervised_trainer(model, optimizer, criterion, DEVICE)\n",
        "\n",
        "lr_finder = FastaiLRFinder()\n",
        "to_save = {\"model\": model, \"optimizer\": optimizer}\n",
        "\n",
        "with lr_finder.attach(trainer, to_save=to_save, start_lr=start_lr, end_lr=end_lr, num_iter=200) as trainer_with_lr_finder:\n",
        "    trainer_with_lr_finder.run(train_loader)\n",
        "\n",
        "# Get lr_finder results\n",
        "lr_finder.get_results()\n",
        "\n",
        "# Plot lr_finder results (requires matplotlib)\n",
        "lr_finder.plot()\n",
        "\n",
        "# get lr_finder suggestion for lr\n",
        "lr_finder.lr_suggestion()"
      ],
      "metadata": {
        "colab": {
          "base_uri": "https://localhost:8080/",
          "height": 471
        },
        "id": "dyNxkGSDAKgj",
        "outputId": "a0ee424b-fb30-498f-f359-57e2fc5867e4"
      },
      "execution_count": 32,
      "outputs": [
        {
          "output_type": "display_data",
          "data": {
            "text/plain": [
              "<Figure size 640x480 with 1 Axes>"
            ],
            "image/png": "[encoded data removed]"
          },
          "metadata": {}
        },
        {
          "output_type": "execute_result",
          "data": {
            "text/plain": [
              "0.0009120108393559095"
            ]
          },
          "metadata": {},
          "execution_count": 32
        }
      ]
    },
    {
      "cell_type": "markdown",
      "source": [
        "### Train the model"
      ],
      "metadata": {
        "id": "tqrkVtknR9rX"
      }
    },
    {
      "cell_type": "code",
      "source": [
        "num_epochs = 50\n",
        "optimizer = optim.Adam(model.parameters(), lr=1e-4)\n",
        "criterion = nn.CrossEntropyLoss()"
      ],
      "metadata": {
        "id": "z8hBY7d06Oww"
      },
      "execution_count": 33,
      "outputs": []
    },
    {
      "cell_type": "code",
      "source": [
        "stats = train(model, train_loader, optimizer, criterion, num_epochs, val_loader)"
      ],
      "metadata": {
        "colab": {
          "base_uri": "https://localhost:8080/"
        },
        "id": "sJNv6pNc6JF_",
        "outputId": "b420cdad-9e86-4523-c98d-a9ebc3ea69a7"
      },
      "execution_count": 34,
      "outputs": [
        {
          "output_type": "stream",
          "name": "stdout",
          "text": [
            "===== Start training ===== \n",
            "\n",
            "[1] Loss: 72.076\n",
            "[2] Loss: 56.601\n",
            "[3] Loss: 44.777\n",
            "[4] Loss: 35.383\n",
            "[5] Loss: 28.422\n",
            "[5] Train Acc: 87.75%  /  Val Acc: 78.73%\n",
            "[6] Loss: 15.537\n",
            "[7] Loss: 11.826\n",
            "[8] Loss: 9.362\n",
            "[9] Loss: 8.034\n",
            "[10] Loss: 5.904\n",
            "[10] Train Acc: 90.98%  /  Val Acc: 81.57%\n",
            "[11] Loss: 5.350\n",
            "[12] Loss: 4.976\n",
            "[13] Loss: 4.857\n",
            "[14] Loss: 4.969\n",
            "[15] Loss: 4.419\n",
            "[15] Train Acc: 94.22%  /  Val Acc: 82.94%\n",
            "[16] Loss: 3.648\n",
            "[17] Loss: 3.575\n",
            "[18] Loss: 3.999\n",
            "[19] Loss: 3.786\n",
            "[20] Loss: 3.910\n",
            "[20] Train Acc: 94.90%  /  Val Acc: 84.80%\n",
            "[21] Loss: 3.790\n",
            "[22] Loss: 3.747\n",
            "[23] Loss: 4.189\n",
            "[24] Loss: 3.168\n",
            "[25] Loss: 3.018\n",
            "[25] Train Acc: 94.90%  /  Val Acc: 82.45%\n",
            "[26] Loss: 2.816\n",
            "[27] Loss: 3.843\n",
            "[28] Loss: 3.597\n",
            "[29] Loss: 2.730\n",
            "[30] Loss: 2.931\n",
            "[30] Train Acc: 95.98%  /  Val Acc: 84.22%\n",
            "[31] Loss: 2.008\n",
            "[32] Loss: 1.988\n",
            "[33] Loss: 2.119\n",
            "[34] Loss: 2.487\n",
            "[35] Loss: 2.482\n",
            "[35] Train Acc: 95.00%  /  Val Acc: 84.61%\n",
            "[36] Loss: 2.027\n",
            "[37] Loss: 2.507\n",
            "[38] Loss: 2.595\n",
            "[39] Loss: 2.029\n",
            "[40] Loss: 1.978\n",
            "[40] Train Acc: 96.67%  /  Val Acc: 85.20%\n",
            "[41] Loss: 2.245\n",
            "[42] Loss: 1.720\n",
            "[43] Loss: 2.880\n",
            "[44] Loss: 2.772\n",
            "[45] Loss: 2.598\n",
            "[45] Train Acc: 95.39%  /  Val Acc: 84.12%\n",
            "[46] Loss: 2.625\n",
            "[47] Loss: 2.190\n",
            "[48] Loss: 2.320\n",
            "[49] Loss: 2.293\n",
            "[50] Loss: 2.114\n",
            "[50] Train Acc: 96.18%  /  Val Acc: 86.27%\n",
            "\n",
            "===== Finished training ===== \n",
            "Elapsed time in minutes: 11.32\n"
          ]
        }
      ]
    },
    {
      "cell_type": "markdown",
      "source": [
        "### Plot accuracy"
      ],
      "metadata": {
        "id": "4YeF2SayQYIk"
      }
    },
    {
      "cell_type": "code",
      "source": [
        "plot_accuracy(stats, title='Pretrained ResNet - Entire network [With augmentation]')"
      ],
      "metadata": {
        "id": "SgVcNOso7vpR",
        "colab": {
          "base_uri": "https://localhost:8080/",
          "height": 452
        },
        "outputId": "dce2171f-9df1-45bd-f2d4-592c7f668b2b"
      },
      "execution_count": 35,
      "outputs": [
        {
          "output_type": "display_data",
          "data": {
            "text/plain": [
              "<Figure size 640x480 with 1 Axes>"
            ],
            "image/png": "[encoded data removed]"
          },
          "metadata": {}
        }
      ]
    },
    {
      "cell_type": "code",
      "source": [
        "test_acc = eval_accuracy(model, test_loader)\n",
        "print(f'Accuracy on the test set (final model): {test_acc:.2f}%')"
      ],
      "metadata": {
        "colab": {
          "base_uri": "https://localhost:8080/"
        },
        "id": "bOGEQryaCQhU",
        "outputId": "2ec47168-58b3-45ef-c090-39d707ab889a"
      },
      "execution_count": 36,
      "outputs": [
        {
          "output_type": "stream",
          "name": "stdout",
          "text": [
            "Accuracy on the test set (final model): 83.25%\n"
          ]
        }
      ]
    }
  ]
}