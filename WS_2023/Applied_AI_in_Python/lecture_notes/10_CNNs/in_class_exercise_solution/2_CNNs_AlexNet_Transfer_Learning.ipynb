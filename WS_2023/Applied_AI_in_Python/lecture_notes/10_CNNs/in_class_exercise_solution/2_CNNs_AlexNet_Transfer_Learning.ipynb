{
  "nbformat": 4,
  "nbformat_minor": 0,
  "metadata": {
    "colab": {
      "provenance": [],
      "gpuType": "T4"
    },
    "kernelspec": {
      "name": "python3",
      "display_name": "Python 3"
    },
    "language_info": {
      "name": "python"
    },
    "accelerator": "GPU"
  },
  "cells": [
    {
      "cell_type": "markdown",
      "source": [
        "# CNNs: Better classifiers with Transfer Learning\n",
        "\n",
        "This notebook how we can use transfer learning to obtain better neural networks.\n",
        "\n",
        "In practice, very few people train an entire CNN from scratch (with random initialization), because it is relatively rare to have a dataset of sufficient size. Instead, it is common to pretrain a ConvNet on a very large dataset (e.g. ImageNet, which contains 1.2 million images with 1000 categories), and then use the ConvNet either as an initialization or a fixed feature extractor for the task of interest.\n",
        "\n",
        "**The two major transfer learning scenarios look as follows:**\n",
        "\n",
        "- **Finetuning the ConvNet:** Instead of random initialization, we initialize the network with a pretrained network, like the one that is trained on imagenet 1000 dataset. Rest of the training looks as usual.\n",
        "- **ConvNet as fixed feature extractor:** Here, we will freeze the weights for all of the network except that of the final fully connected layer. This last fully connected layer is replaced with a new one with random weights and only this layer is trained."
      ],
      "metadata": {
        "id": "wQPxrvIF6Xau"
      }
    },
    {
      "cell_type": "code",
      "execution_count": 1,
      "metadata": {
        "id": "uVMmGMr45hfW"
      },
      "outputs": [],
      "source": [
        "import torchvision\n",
        "import matplotlib.pyplot as plt\n",
        "import numpy as np\n",
        "import torch\n",
        "import torch.utils.data as data\n",
        "import torch.nn as nn\n",
        "import torch.optim as optim\n",
        "from tqdm import tqdm, trange\n",
        "import torchvision.transforms as transforms\n",
        "import time"
      ]
    },
    {
      "cell_type": "code",
      "source": [
        "!pip install pytorch-ignite"
      ],
      "metadata": {
        "colab": {
          "base_uri": "https://localhost:8080/"
        },
        "id": "Nm8G2Y414dzb",
        "outputId": "28858ffe-a108-4037-e8dd-931460b2bfe7"
      },
      "execution_count": 2,
      "outputs": [
        {
          "output_type": "stream",
          "name": "stdout",
          "text": [
            "Collecting pytorch-ignite\n",
            "  Downloading pytorch_ignite-0.4.13-py3-none-any.whl (272 kB)\n",
            "\u001b[2K     \u001b[90m━━━━━━━━━━━━━━━━━━━━━━━━━━━━━━━━━━━━━━━━\u001b[0m \u001b[32m272.4/272.4 kB\u001b[0m \u001b[31m1.3 MB/s\u001b[0m eta \u001b[36m0:00:00\u001b[0m\n",
            "\u001b[?25hRequirement already satisfied: torch<3,>=1.3 in /usr/local/lib/python3.10/dist-packages (from pytorch-ignite) (2.1.0+cu121)\n",
            "Requirement already satisfied: packaging in /usr/local/lib/python3.10/dist-packages (from pytorch-ignite) (23.2)\n",
            "Requirement already satisfied: filelock in /usr/local/lib/python3.10/dist-packages (from torch<3,>=1.3->pytorch-ignite) (3.13.1)\n",
            "Requirement already satisfied: typing-extensions in /usr/local/lib/python3.10/dist-packages (from torch<3,>=1.3->pytorch-ignite) (4.5.0)\n",
            "Requirement already satisfied: sympy in /usr/local/lib/python3.10/dist-packages (from torch<3,>=1.3->pytorch-ignite) (1.12)\n",
            "Requirement already satisfied: networkx in /usr/local/lib/python3.10/dist-packages (from torch<3,>=1.3->pytorch-ignite) (3.2.1)\n",
            "Requirement already satisfied: jinja2 in /usr/local/lib/python3.10/dist-packages (from torch<3,>=1.3->pytorch-ignite) (3.1.2)\n",
            "Requirement already satisfied: fsspec in /usr/local/lib/python3.10/dist-packages (from torch<3,>=1.3->pytorch-ignite) (2023.6.0)\n",
            "Requirement already satisfied: triton==2.1.0 in /usr/local/lib/python3.10/dist-packages (from torch<3,>=1.3->pytorch-ignite) (2.1.0)\n",
            "Requirement already satisfied: MarkupSafe>=2.0 in /usr/local/lib/python3.10/dist-packages (from jinja2->torch<3,>=1.3->pytorch-ignite) (2.1.3)\n",
            "Requirement already satisfied: mpmath>=0.19 in /usr/local/lib/python3.10/dist-packages (from sympy->torch<3,>=1.3->pytorch-ignite) (1.3.0)\n",
            "Installing collected packages: pytorch-ignite\n",
            "Successfully installed pytorch-ignite-0.4.13\n"
          ]
        }
      ]
    },
    {
      "cell_type": "code",
      "source": [
        "from ignite.handlers import FastaiLRFinder\n",
        "from ignite.engine import create_supervised_trainer"
      ],
      "metadata": {
        "id": "6bzge6sv4ej_"
      },
      "execution_count": 3,
      "outputs": []
    },
    {
      "cell_type": "code",
      "source": [
        "DEVICE = 'cuda'\n",
        "BATCH_SIZE = 64"
      ],
      "metadata": {
        "id": "AMqcfTE5NKh7"
      },
      "execution_count": 4,
      "outputs": []
    },
    {
      "cell_type": "markdown",
      "source": [
        "### Helper functions"
      ],
      "metadata": {
        "id": "2qkAkS2pTVIb"
      }
    },
    {
      "cell_type": "code",
      "source": [
        "def plot_accuracy(stats, title=None):\n",
        "\n",
        "  epochs = [item['epoch'] for item in stats]\n",
        "  train_accs = [item['train_acc'] for item in stats]\n",
        "  val_accs = [item['val_acc'] for item in stats]\n",
        "\n",
        "  plt.plot(epochs, train_accs, label='Train Acc')\n",
        "  plt.plot(epochs, val_accs, label=f'Val Acc [Best: {max(val_accs):.2f}%]')\n",
        "  plt.legend()\n",
        "\n",
        "  if title:\n",
        "    plt.title(title)"
      ],
      "metadata": {
        "id": "j3QFx1X948LG"
      },
      "execution_count": 5,
      "outputs": []
    },
    {
      "cell_type": "code",
      "source": [
        "def eval_accuracy(model, loader):\n",
        "\n",
        "    '''\n",
        "    Measure the accuracy of the given model on the provided dataloader\n",
        "    '''\n",
        "\n",
        "    epoch_acc = 0\n",
        "\n",
        "    model.eval()\n",
        "\n",
        "    num_corr_pred = 0\n",
        "    num_total_pred = 0\n",
        "\n",
        "    with torch.no_grad():\n",
        "\n",
        "        for x, y in loader:\n",
        "\n",
        "            x = x.to(DEVICE)\n",
        "            y = y.to(DEVICE)\n",
        "\n",
        "            y_pred = model(x)\n",
        "\n",
        "            top_pred = y_pred.argmax(1)\n",
        "            num_corr_pred += (top_pred == y).sum()\n",
        "            num_total_pred += len(y)\n",
        "\n",
        "    acc = num_corr_pred / num_total_pred * 100\n",
        "\n",
        "    return acc.item()"
      ],
      "metadata": {
        "id": "0P_6IUAeMrUb"
      },
      "execution_count": 6,
      "outputs": []
    },
    {
      "cell_type": "code",
      "source": [
        "def train(model, train_loader, optimizer, criterion, num_epochs, val_loader=None):\n",
        "\n",
        "  '''\n",
        "  Trains the model on the dataloader for a given number of epochs\n",
        "   '''\n",
        "\n",
        "  print('===== Start training ===== \\n')\n",
        "\n",
        "  model.train()\n",
        "\n",
        "  start = time.time()\n",
        "\n",
        "  stats = []\n",
        "\n",
        "  for epoch in range(1, num_epochs+1):\n",
        "\n",
        "    epoch_loss = 0\n",
        "\n",
        "    for x, y in train_loader:\n",
        "\n",
        "      optimizer.zero_grad()\n",
        "\n",
        "      x = x.to(DEVICE)\n",
        "      y = y.to(DEVICE)\n",
        "\n",
        "      y_pred = model(x)\n",
        "\n",
        "      loss = criterion(y_pred, y)\n",
        "\n",
        "      loss.backward()\n",
        "      optimizer.step()\n",
        "\n",
        "      epoch_loss += loss.item()\n",
        "\n",
        "    print(f'[{epoch}] Loss: {epoch_loss:.3f}')\n",
        "\n",
        "    if epoch % 5 == 0:\n",
        "      train_acc = eval_accuracy(model, train_loader)\n",
        "      if val_loader:\n",
        "        val_acc = eval_accuracy(model, val_loader)\n",
        "        print(f'[{epoch}] Train Acc: {train_acc:.2f}%  /  Val Acc: {val_acc:.2f}%')\n",
        "        stats.append({'epoch': epoch, 'train_acc': train_acc, 'val_acc': val_acc})\n",
        "      else:\n",
        "        print(f'[{epoch}] Train Acc: {train_acc:.2f}%')\n",
        "        stats.append({'epoch': epoch, 'train_acc': train_acc})\n",
        "\n",
        "\n",
        "  end = time.time()\n",
        "  elapsed_time = end - start\n",
        "\n",
        "  print()\n",
        "  print('===== Finished training ===== ')\n",
        "  print(f'Elapsed time in minutes: {elapsed_time/60:.2f}')\n",
        "\n",
        "  return stats\n"
      ],
      "metadata": {
        "id": "UAQJWPMYMlN_"
      },
      "execution_count": 7,
      "outputs": []
    },
    {
      "cell_type": "markdown",
      "source": [
        "### Prepare the datasets and dataloaders\n",
        "\n",
        "The Flowers102 dataset is composed of three subsets (train, val and test). <br/>\n",
        "In this code block we prepare the dataloaders for those three subsets."
      ],
      "metadata": {
        "id": "aYFh_T_9Sq83"
      }
    },
    {
      "cell_type": "code",
      "source": [
        "train_transforms = transforms.Compose([\n",
        "  transforms.RandomHorizontalFlip(),\n",
        "  transforms.Resize(256),\n",
        "  transforms.RandomResizedCrop(224),\n",
        "  transforms.ToTensor(),\n",
        "  transforms.Normalize(mean=[0.485, 0.456, 0.406], std=[0.229, 0.224, 0.225])\n",
        "])\n",
        "\n",
        "test_transforms = transforms.Compose([\n",
        "  transforms.Resize(256),\n",
        "  transforms.CenterCrop(224),\n",
        "  transforms.ToTensor(),\n",
        "  transforms.Normalize(mean=[0.485, 0.456, 0.406], std=[0.229, 0.224, 0.225])\n",
        "])\n",
        "\n",
        "train_dataset = torchvision.datasets.Flowers102('data/', download=True, split='train', transform=train_transforms)\n",
        "val_dataset = torchvision.datasets.Flowers102('data/', download=True, split='val', transform=test_transforms)\n",
        "test_dataset = torchvision.datasets.Flowers102('data/', download=True, split='test', transform=test_transforms)"
      ],
      "metadata": {
        "id": "hruo8RF75l2k",
        "colab": {
          "base_uri": "https://localhost:8080/"
        },
        "outputId": "b82c3903-b492-4db2-bc0c-1bed30db2409"
      },
      "execution_count": 8,
      "outputs": [
        {
          "output_type": "stream",
          "name": "stdout",
          "text": [
            "Downloading https://thor.robots.ox.ac.uk/datasets/flowers-102/102flowers.tgz to data/flowers-102/102flowers.tgz\n"
          ]
        },
        {
          "output_type": "stream",
          "name": "stderr",
          "text": [
            "100%|██████████| 344862509/344862509 [00:12<00:00, 28065771.09it/s]\n"
          ]
        },
        {
          "output_type": "stream",
          "name": "stdout",
          "text": [
            "Extracting data/flowers-102/102flowers.tgz to data/flowers-102\n",
            "Downloading https://thor.robots.ox.ac.uk/datasets/flowers-102/imagelabels.mat to data/flowers-102/imagelabels.mat\n"
          ]
        },
        {
          "output_type": "stream",
          "name": "stderr",
          "text": [
            "100%|██████████| 502/502 [00:00<00:00, 356992.30it/s]\n"
          ]
        },
        {
          "output_type": "stream",
          "name": "stdout",
          "text": [
            "Downloading https://thor.robots.ox.ac.uk/datasets/flowers-102/setid.mat to data/flowers-102/setid.mat\n"
          ]
        },
        {
          "output_type": "stream",
          "name": "stderr",
          "text": [
            "100%|██████████| 14989/14989 [00:00<00:00, 10274296.89it/s]\n"
          ]
        }
      ]
    },
    {
      "cell_type": "code",
      "source": [
        "train_loader = data.DataLoader(train_dataset, shuffle=True, batch_size=BATCH_SIZE)\n",
        "val_loader = data.DataLoader(val_dataset, shuffle=False, batch_size=BATCH_SIZE)\n",
        "test_loader = data.DataLoader(test_dataset, shuffle=False, batch_size=BATCH_SIZE)"
      ],
      "metadata": {
        "id": "ClLh2aeF5oTW"
      },
      "execution_count": 9,
      "outputs": []
    },
    {
      "cell_type": "markdown",
      "source": [
        "## ConvNet as fixed feature extractor"
      ],
      "metadata": {
        "id": "e70jYwF9_E07"
      }
    },
    {
      "cell_type": "markdown",
      "source": [
        "### Prepare the pretrained Alex model\n",
        "\n"
      ],
      "metadata": {
        "id": "vzf6_-cvPv1h"
      }
    },
    {
      "cell_type": "markdown",
      "source": [
        "First, let's download a pretrained AlexNet model from PyTorch Hub. Like most CNN models, the model was trained on the ImageNet dataset which has 1000 classes."
      ],
      "metadata": {
        "id": "t0u3G0bH_lK-"
      }
    },
    {
      "cell_type": "code",
      "source": [
        "# Important: Don't forget setting pretrained=True, otherwise the model will be initialized with random weights\n",
        "model = torch.hub.load('pytorch/vision:v0.10.0', 'alexnet', pretrained=True)"
      ],
      "metadata": {
        "colab": {
          "base_uri": "https://localhost:8080/"
        },
        "id": "wxELPQK95pSJ",
        "outputId": "3d86c505-b3d9-4989-83a3-070800857aae"
      },
      "execution_count": 10,
      "outputs": [
        {
          "output_type": "stream",
          "name": "stderr",
          "text": [
            "Downloading: \"https://github.com/pytorch/vision/zipball/v0.10.0\" to /root/.cache/torch/hub/v0.10.0.zip\n",
            "/usr/local/lib/python3.10/dist-packages/torchvision/models/_utils.py:208: UserWarning: The parameter 'pretrained' is deprecated since 0.13 and may be removed in the future, please use 'weights' instead.\n",
            "  warnings.warn(\n",
            "/usr/local/lib/python3.10/dist-packages/torchvision/models/_utils.py:223: UserWarning: Arguments other than a weight enum or `None` for 'weights' are deprecated since 0.13 and may be removed in the future. The current behavior is equivalent to passing `weights=AlexNet_Weights.IMAGENET1K_V1`. You can also use `weights=AlexNet_Weights.DEFAULT` to get the most up-to-date weights.\n",
            "  warnings.warn(msg)\n",
            "Downloading: \"https://download.pytorch.org/models/alexnet-owt-7be5be79.pth\" to /root/.cache/torch/hub/checkpoints/alexnet-owt-7be5be79.pth\n",
            "100%|██████████| 233M/233M [00:01<00:00, 127MB/s]\n"
          ]
        }
      ]
    },
    {
      "cell_type": "markdown",
      "source": [
        "In the first part of this tutorial, our goal will be to train the classification head but keep the weights of the feature extractor fixed. To accomplish this, we first have to expect how we can access the classification head and the feature extractor in the model.\n",
        "\n",
        "As can be seen below, the classification head is referred to as \"classifier\" and the feature extractor is referred to as \"features\"."
      ],
      "metadata": {
        "id": "0TWWuxJMAGLK"
      }
    },
    {
      "cell_type": "code",
      "source": [
        "print(model)"
      ],
      "metadata": {
        "colab": {
          "base_uri": "https://localhost:8080/"
        },
        "id": "InRsilg7c_CB",
        "outputId": "08b7743e-c0e4-48dd-d91a-e9febf17e49c"
      },
      "execution_count": 11,
      "outputs": [
        {
          "output_type": "stream",
          "name": "stdout",
          "text": [
            "AlexNet(\n",
            "  (features): Sequential(\n",
            "    (0): Conv2d(3, 64, kernel_size=(11, 11), stride=(4, 4), padding=(2, 2))\n",
            "    (1): ReLU(inplace=True)\n",
            "    (2): MaxPool2d(kernel_size=3, stride=2, padding=0, dilation=1, ceil_mode=False)\n",
            "    (3): Conv2d(64, 192, kernel_size=(5, 5), stride=(1, 1), padding=(2, 2))\n",
            "    (4): ReLU(inplace=True)\n",
            "    (5): MaxPool2d(kernel_size=3, stride=2, padding=0, dilation=1, ceil_mode=False)\n",
            "    (6): Conv2d(192, 384, kernel_size=(3, 3), stride=(1, 1), padding=(1, 1))\n",
            "    (7): ReLU(inplace=True)\n",
            "    (8): Conv2d(384, 256, kernel_size=(3, 3), stride=(1, 1), padding=(1, 1))\n",
            "    (9): ReLU(inplace=True)\n",
            "    (10): Conv2d(256, 256, kernel_size=(3, 3), stride=(1, 1), padding=(1, 1))\n",
            "    (11): ReLU(inplace=True)\n",
            "    (12): MaxPool2d(kernel_size=3, stride=2, padding=0, dilation=1, ceil_mode=False)\n",
            "  )\n",
            "  (avgpool): AdaptiveAvgPool2d(output_size=(6, 6))\n",
            "  (classifier): Sequential(\n",
            "    (0): Dropout(p=0.5, inplace=False)\n",
            "    (1): Linear(in_features=9216, out_features=4096, bias=True)\n",
            "    (2): ReLU(inplace=True)\n",
            "    (3): Dropout(p=0.5, inplace=False)\n",
            "    (4): Linear(in_features=4096, out_features=4096, bias=True)\n",
            "    (5): ReLU(inplace=True)\n",
            "    (6): Linear(in_features=4096, out_features=1000, bias=True)\n",
            "  )\n",
            ")\n"
          ]
        }
      ]
    },
    {
      "cell_type": "markdown",
      "source": [
        "As the network outputs a 1000-dimensional vector, we have to modify the final linear layer to output 102 classes."
      ],
      "metadata": {
        "id": "agut-EZOBouP"
      }
    },
    {
      "cell_type": "code",
      "source": [
        "model.classifier[-1] = nn.Linear(4096, 102)"
      ],
      "metadata": {
        "id": "47pHPrfSc9ZG"
      },
      "execution_count": 12,
      "outputs": []
    },
    {
      "cell_type": "code",
      "source": [
        "print(model)"
      ],
      "metadata": {
        "colab": {
          "base_uri": "https://localhost:8080/"
        },
        "id": "kwn9UAqvdANL",
        "outputId": "0fbe9fb5-8ae3-47b7-cf76-0b204bb93ded"
      },
      "execution_count": 13,
      "outputs": [
        {
          "output_type": "stream",
          "name": "stdout",
          "text": [
            "AlexNet(\n",
            "  (features): Sequential(\n",
            "    (0): Conv2d(3, 64, kernel_size=(11, 11), stride=(4, 4), padding=(2, 2))\n",
            "    (1): ReLU(inplace=True)\n",
            "    (2): MaxPool2d(kernel_size=3, stride=2, padding=0, dilation=1, ceil_mode=False)\n",
            "    (3): Conv2d(64, 192, kernel_size=(5, 5), stride=(1, 1), padding=(2, 2))\n",
            "    (4): ReLU(inplace=True)\n",
            "    (5): MaxPool2d(kernel_size=3, stride=2, padding=0, dilation=1, ceil_mode=False)\n",
            "    (6): Conv2d(192, 384, kernel_size=(3, 3), stride=(1, 1), padding=(1, 1))\n",
            "    (7): ReLU(inplace=True)\n",
            "    (8): Conv2d(384, 256, kernel_size=(3, 3), stride=(1, 1), padding=(1, 1))\n",
            "    (9): ReLU(inplace=True)\n",
            "    (10): Conv2d(256, 256, kernel_size=(3, 3), stride=(1, 1), padding=(1, 1))\n",
            "    (11): ReLU(inplace=True)\n",
            "    (12): MaxPool2d(kernel_size=3, stride=2, padding=0, dilation=1, ceil_mode=False)\n",
            "  )\n",
            "  (avgpool): AdaptiveAvgPool2d(output_size=(6, 6))\n",
            "  (classifier): Sequential(\n",
            "    (0): Dropout(p=0.5, inplace=False)\n",
            "    (1): Linear(in_features=9216, out_features=4096, bias=True)\n",
            "    (2): ReLU(inplace=True)\n",
            "    (3): Dropout(p=0.5, inplace=False)\n",
            "    (4): Linear(in_features=4096, out_features=4096, bias=True)\n",
            "    (5): ReLU(inplace=True)\n",
            "    (6): Linear(in_features=4096, out_features=102, bias=True)\n",
            "  )\n",
            ")\n"
          ]
        }
      ]
    },
    {
      "cell_type": "markdown",
      "source": [
        "Furthermore, to reduce the memory footprint and speed-up training, we will disable the gradien computation for the weights in the feature extraction head. As we don't want to update these weights, we also don't need their gradients."
      ],
      "metadata": {
        "id": "jcDTBy-6B_pC"
      }
    },
    {
      "cell_type": "code",
      "source": [
        "# Turn-off the .requires_grad attributes for all params in the feature extraction head\n",
        "for params in model.features.parameters():\n",
        "\t\tparams.requires_grad = False"
      ],
      "metadata": {
        "id": "-A0c8A9RbGcV"
      },
      "execution_count": 14,
      "outputs": []
    },
    {
      "cell_type": "code",
      "source": [
        "model = model.to(DEVICE)"
      ],
      "metadata": {
        "id": "5Jv_rKBX52Jv"
      },
      "execution_count": 15,
      "outputs": []
    },
    {
      "cell_type": "markdown",
      "source": [
        "### LR range test"
      ],
      "metadata": {
        "id": "lKJ8-qHx4mcD"
      }
    },
    {
      "cell_type": "code",
      "source": [
        "start_lr = 1e-7\n",
        "end_lr = 1e+1\n",
        "optimizer = optim.Adam(model.classifier.parameters(), lr=1e-3)\n",
        "criterion = nn.CrossEntropyLoss()\n",
        "trainer = create_supervised_trainer(model, optimizer, criterion, DEVICE)\n",
        "\n",
        "lr_finder = FastaiLRFinder()\n",
        "to_save = {\"model\": model, \"optimizer\": optimizer}\n",
        "\n",
        "with lr_finder.attach(trainer, to_save=to_save, start_lr=start_lr, end_lr=end_lr, num_iter=200) as trainer_with_lr_finder:\n",
        "    trainer_with_lr_finder.run(train_loader)\n",
        "\n",
        "# Get lr_finder results\n",
        "lr_finder.get_results()\n",
        "\n",
        "# Plot lr_finder results (requires matplotlib)\n",
        "lr_finder.plot()\n",
        "\n",
        "# get lr_finder suggestion for lr\n",
        "lr_finder.lr_suggestion()"
      ],
      "metadata": {
        "colab": {
          "base_uri": "https://localhost:8080/",
          "height": 471
        },
        "id": "85nC0zWd4oaC",
        "outputId": "389ca93e-67a8-436b-d657-192a8ed18792"
      },
      "execution_count": 16,
      "outputs": [
        {
          "output_type": "display_data",
          "data": {
            "text/plain": [
              "<Figure size 640x480 with 1 Axes>"
            ],
            "image/png": "[encoded data removed]"
          },
          "metadata": {}
        },
        {
          "output_type": "execute_result",
          "data": {
            "text/plain": [
              "0.0002754228703338166"
            ]
          },
          "metadata": {},
          "execution_count": 16
        }
      ]
    },
    {
      "cell_type": "markdown",
      "source": [
        "### Train the model"
      ],
      "metadata": {
        "id": "tqrkVtknR9rX"
      }
    },
    {
      "cell_type": "code",
      "source": [
        "num_epochs = 50\n",
        "\n",
        "# Important: Configure the optimizer to only update the weights of the classifier\n",
        "optimizer = optim.Adam(model.classifier.parameters(), lr=1e-4)\n",
        "criterion = nn.CrossEntropyLoss()"
      ],
      "metadata": {
        "id": "z8hBY7d06Oww"
      },
      "execution_count": 19,
      "outputs": []
    },
    {
      "cell_type": "code",
      "source": [
        "stats = train(model, train_loader, optimizer, criterion, num_epochs, val_loader)"
      ],
      "metadata": {
        "colab": {
          "base_uri": "https://localhost:8080/"
        },
        "id": "sJNv6pNc6JF_",
        "outputId": "a4b4e618-eb9b-4627-af25-20b8ca83c933"
      },
      "execution_count": 20,
      "outputs": [
        {
          "output_type": "stream",
          "name": "stdout",
          "text": [
            "===== Start training ===== \n",
            "\n",
            "[1] Loss: 23.854\n",
            "[2] Loss: 19.199\n",
            "[3] Loss: 15.122\n",
            "[4] Loss: 13.899\n",
            "[5] Loss: 11.090\n",
            "[5] Train Acc: 87.35%  /  Val Acc: 76.86%\n",
            "[6] Loss: 7.634\n",
            "[7] Loss: 6.717\n",
            "[8] Loss: 6.679\n",
            "[9] Loss: 6.198\n",
            "[10] Loss: 5.437\n",
            "[10] Train Acc: 92.55%  /  Val Acc: 77.45%\n",
            "[11] Loss: 5.520\n",
            "[12] Loss: 5.932\n",
            "[13] Loss: 3.861\n",
            "[14] Loss: 4.404\n",
            "[15] Loss: 4.019\n",
            "[15] Train Acc: 91.67%  /  Val Acc: 77.55%\n",
            "[16] Loss: 3.479\n",
            "[17] Loss: 4.419\n",
            "[18] Loss: 4.137\n",
            "[19] Loss: 4.211\n",
            "[20] Loss: 4.148\n",
            "[20] Train Acc: 95.10%  /  Val Acc: 77.84%\n",
            "[21] Loss: 3.414\n",
            "[22] Loss: 3.456\n",
            "[23] Loss: 3.130\n",
            "[24] Loss: 3.889\n",
            "[25] Loss: 3.563\n",
            "[25] Train Acc: 95.59%  /  Val Acc: 78.43%\n",
            "[26] Loss: 3.190\n",
            "[27] Loss: 2.805\n",
            "[28] Loss: 2.890\n",
            "[29] Loss: 2.205\n",
            "[30] Loss: 2.816\n",
            "[30] Train Acc: 95.39%  /  Val Acc: 78.63%\n",
            "[31] Loss: 2.068\n",
            "[32] Loss: 2.366\n",
            "[33] Loss: 2.982\n",
            "[34] Loss: 2.527\n",
            "[35] Loss: 2.855\n",
            "[35] Train Acc: 95.98%  /  Val Acc: 77.55%\n",
            "[36] Loss: 2.491\n",
            "[37] Loss: 2.789\n",
            "[38] Loss: 2.364\n",
            "[39] Loss: 1.715\n",
            "[40] Loss: 2.158\n",
            "[40] Train Acc: 95.88%  /  Val Acc: 78.82%\n",
            "[41] Loss: 2.013\n",
            "[42] Loss: 2.065\n",
            "[43] Loss: 2.482\n",
            "[44] Loss: 2.615\n",
            "[45] Loss: 2.285\n",
            "[45] Train Acc: 96.08%  /  Val Acc: 78.82%\n",
            "[46] Loss: 2.645\n",
            "[47] Loss: 2.193\n",
            "[48] Loss: 1.680\n",
            "[49] Loss: 1.950\n",
            "[50] Loss: 1.902\n",
            "[50] Train Acc: 95.69%  /  Val Acc: 77.55%\n",
            "\n",
            "===== Finished training ===== \n",
            "Elapsed time in minutes: 9.46\n"
          ]
        }
      ]
    },
    {
      "cell_type": "markdown",
      "source": [
        "### Plot accuracy\n",
        "\n"
      ],
      "metadata": {
        "id": "4YeF2SayQYIk"
      }
    },
    {
      "cell_type": "code",
      "source": [
        "plot_accuracy(stats, title='Pretrained AlexNet - Finetune classifier [With augmentation]')"
      ],
      "metadata": {
        "id": "SgVcNOso7vpR",
        "colab": {
          "base_uri": "https://localhost:8080/",
          "height": 452
        },
        "outputId": "987ff9ef-c111-4d94-b375-b0559a3f2f3d"
      },
      "execution_count": 21,
      "outputs": [
        {
          "output_type": "display_data",
          "data": {
            "text/plain": [
              "<Figure size 640x480 with 1 Axes>"
            ],
            "image/png": "[encoded data removed]"
          },
          "metadata": {}
        }
      ]
    },
    {
      "cell_type": "code",
      "source": [
        "test_acc = eval_accuracy(model, test_loader)\n",
        "print(f'Accuracy on the test set (final model): {test_acc:.2f}%')"
      ],
      "metadata": {
        "colab": {
          "base_uri": "https://localhost:8080/"
        },
        "id": "oYqarVVM54aZ",
        "outputId": "44460bf3-48e7-4646-e3dc-474ca4e0da47"
      },
      "execution_count": 22,
      "outputs": [
        {
          "output_type": "stream",
          "name": "stdout",
          "text": [
            "Accuracy on the test set (final model): 73.22%\n"
          ]
        }
      ]
    },
    {
      "cell_type": "markdown",
      "source": [
        "## Finetune the entire Conv Net\n",
        "\n",
        "The following cells show how to train the entire conv net. The training procedure is similar to training a neural network from scratch. The only difference is that pretrained weights are used."
      ],
      "metadata": {
        "id": "NWZN_tsIDfWo"
      }
    },
    {
      "cell_type": "code",
      "source": [
        "model = torch.hub.load('pytorch/vision:v0.10.0', 'alexnet', pretrained=True)\n",
        "model.classifier[-1] = nn.Linear(4096, 102)"
      ],
      "metadata": {
        "id": "QK1kavD20cr-",
        "colab": {
          "base_uri": "https://localhost:8080/"
        },
        "outputId": "ad38964e-f565-40c3-f799-d0b79be9d3d2"
      },
      "execution_count": 23,
      "outputs": [
        {
          "output_type": "stream",
          "name": "stderr",
          "text": [
            "Using cache found in /root/.cache/torch/hub/pytorch_vision_v0.10.0\n",
            "/usr/local/lib/python3.10/dist-packages/torchvision/models/_utils.py:208: UserWarning: The parameter 'pretrained' is deprecated since 0.13 and may be removed in the future, please use 'weights' instead.\n",
            "  warnings.warn(\n",
            "/usr/local/lib/python3.10/dist-packages/torchvision/models/_utils.py:223: UserWarning: Arguments other than a weight enum or `None` for 'weights' are deprecated since 0.13 and may be removed in the future. The current behavior is equivalent to passing `weights=AlexNet_Weights.IMAGENET1K_V1`. You can also use `weights=AlexNet_Weights.DEFAULT` to get the most up-to-date weights.\n",
            "  warnings.warn(msg)\n"
          ]
        }
      ]
    },
    {
      "cell_type": "code",
      "source": [
        "model = model.to(DEVICE)"
      ],
      "metadata": {
        "id": "_kd7bC8c0sqy"
      },
      "execution_count": 24,
      "outputs": []
    },
    {
      "cell_type": "code",
      "source": [
        "num_epochs = 100\n",
        "optimizer = optim.Adam(model.parameters(), lr=1e-4)\n",
        "criterion = nn.CrossEntropyLoss()"
      ],
      "metadata": {
        "id": "IRD_GZBm0us-"
      },
      "execution_count": 25,
      "outputs": []
    },
    {
      "cell_type": "code",
      "source": [
        "stats = train(model, train_loader, optimizer, criterion, num_epochs, val_loader)"
      ],
      "metadata": {
        "id": "dOcFgrFV0wZR",
        "colab": {
          "base_uri": "https://localhost:8080/"
        },
        "outputId": "96b6389d-2853-4913-b617-5e42fb85c492"
      },
      "execution_count": 26,
      "outputs": [
        {
          "output_type": "stream",
          "name": "stdout",
          "text": [
            "===== Start training ===== \n",
            "\n",
            "[1] Loss: 72.448\n",
            "[2] Loss: 49.484\n",
            "[3] Loss: 27.041\n",
            "[4] Loss: 18.998\n",
            "[5] Loss: 14.263\n",
            "[5] Train Acc: 83.82%  /  Val Acc: 72.06%\n",
            "[6] Loss: 9.782\n",
            "[7] Loss: 8.761\n",
            "[8] Loss: 6.920\n",
            "[9] Loss: 5.951\n",
            "[10] Loss: 5.902\n",
            "[10] Train Acc: 92.35%  /  Val Acc: 75.10%\n",
            "[11] Loss: 4.833\n",
            "[12] Loss: 4.221\n",
            "[13] Loss: 4.762\n",
            "[14] Loss: 4.868\n",
            "[15] Loss: 3.779\n",
            "[15] Train Acc: 93.14%  /  Val Acc: 74.71%\n",
            "[16] Loss: 4.174\n",
            "[17] Loss: 3.815\n",
            "[18] Loss: 3.334\n",
            "[19] Loss: 3.206\n",
            "[20] Loss: 4.616\n",
            "[20] Train Acc: 92.94%  /  Val Acc: 72.84%\n",
            "[21] Loss: 4.600\n",
            "[22] Loss: 3.039\n",
            "[23] Loss: 3.295\n",
            "[24] Loss: 3.460\n",
            "[25] Loss: 3.715\n",
            "[25] Train Acc: 93.73%  /  Val Acc: 72.45%\n",
            "[26] Loss: 2.611\n",
            "[27] Loss: 2.798\n",
            "[28] Loss: 3.776\n",
            "[29] Loss: 3.526\n",
            "[30] Loss: 3.075\n",
            "[30] Train Acc: 95.10%  /  Val Acc: 77.84%\n",
            "[31] Loss: 2.868\n",
            "[32] Loss: 2.549\n",
            "[33] Loss: 2.684\n",
            "[34] Loss: 3.159\n",
            "[35] Loss: 2.790\n",
            "[35] Train Acc: 94.80%  /  Val Acc: 74.80%\n",
            "[36] Loss: 2.753\n",
            "[37] Loss: 2.263\n",
            "[38] Loss: 2.604\n",
            "[39] Loss: 2.047\n",
            "[40] Loss: 2.140\n",
            "[40] Train Acc: 96.76%  /  Val Acc: 74.71%\n",
            "[41] Loss: 2.267\n",
            "[42] Loss: 2.824\n",
            "[43] Loss: 2.098\n",
            "[44] Loss: 1.619\n",
            "[45] Loss: 2.262\n",
            "[45] Train Acc: 96.47%  /  Val Acc: 75.88%\n",
            "[46] Loss: 2.547\n",
            "[47] Loss: 2.528\n",
            "[48] Loss: 2.222\n",
            "[49] Loss: 1.911\n",
            "[50] Loss: 1.857\n",
            "[50] Train Acc: 96.27%  /  Val Acc: 77.45%\n",
            "[51] Loss: 1.332\n",
            "[52] Loss: 2.048\n",
            "[53] Loss: 1.982\n",
            "[54] Loss: 2.587\n",
            "[55] Loss: 2.026\n",
            "[55] Train Acc: 97.06%  /  Val Acc: 74.51%\n",
            "[56] Loss: 1.737\n",
            "[57] Loss: 1.720\n",
            "[58] Loss: 1.660\n",
            "[59] Loss: 1.978\n",
            "[60] Loss: 1.458\n",
            "[60] Train Acc: 96.18%  /  Val Acc: 75.78%\n",
            "[61] Loss: 1.949\n",
            "[62] Loss: 1.441\n",
            "[63] Loss: 1.779\n",
            "[64] Loss: 1.722\n",
            "[65] Loss: 2.146\n",
            "[65] Train Acc: 97.65%  /  Val Acc: 76.76%\n",
            "[66] Loss: 1.802\n",
            "[67] Loss: 2.136\n",
            "[68] Loss: 2.037\n",
            "[69] Loss: 2.094\n",
            "[70] Loss: 2.823\n",
            "[70] Train Acc: 96.76%  /  Val Acc: 73.53%\n",
            "[71] Loss: 1.925\n",
            "[72] Loss: 2.120\n",
            "[73] Loss: 1.722\n",
            "[74] Loss: 1.739\n",
            "[75] Loss: 2.109\n",
            "[75] Train Acc: 96.18%  /  Val Acc: 74.61%\n",
            "[76] Loss: 1.409\n",
            "[77] Loss: 1.802\n",
            "[78] Loss: 1.594\n",
            "[79] Loss: 1.421\n",
            "[80] Loss: 2.007\n",
            "[80] Train Acc: 98.63%  /  Val Acc: 75.69%\n",
            "[81] Loss: 1.674\n",
            "[82] Loss: 1.362\n",
            "[83] Loss: 1.658\n",
            "[84] Loss: 2.148\n",
            "[85] Loss: 1.558\n",
            "[85] Train Acc: 97.75%  /  Val Acc: 75.69%\n",
            "[86] Loss: 1.504\n",
            "[87] Loss: 1.283\n",
            "[88] Loss: 1.249\n",
            "[89] Loss: 2.371\n",
            "[90] Loss: 2.219\n",
            "[90] Train Acc: 97.55%  /  Val Acc: 73.43%\n",
            "[91] Loss: 1.506\n",
            "[92] Loss: 1.243\n",
            "[93] Loss: 1.310\n",
            "[94] Loss: 1.751\n",
            "[95] Loss: 1.484\n",
            "[95] Train Acc: 98.43%  /  Val Acc: 74.22%\n",
            "[96] Loss: 1.479\n",
            "[97] Loss: 1.181\n",
            "[98] Loss: 1.431\n",
            "[99] Loss: 1.221\n",
            "[100] Loss: 1.371\n",
            "[100] Train Acc: 97.16%  /  Val Acc: 72.65%\n",
            "\n",
            "===== Finished training ===== \n",
            "Elapsed time in minutes: 19.42\n"
          ]
        }
      ]
    },
    {
      "cell_type": "code",
      "source": [
        "plot_accuracy(stats, title='Pretrained AlexNet - Entire network [With augmentation]')"
      ],
      "metadata": {
        "colab": {
          "base_uri": "https://localhost:8080/",
          "height": 452
        },
        "id": "rP6rOjz9AlPD",
        "outputId": "a4e54819-2964-40df-b69a-932512f28820"
      },
      "execution_count": 27,
      "outputs": [
        {
          "output_type": "display_data",
          "data": {
            "text/plain": [
              "<Figure size 640x480 with 1 Axes>"
            ],
            "image/png": "[encoded data removed]"
          },
          "metadata": {}
        }
      ]
    },
    {
      "cell_type": "code",
      "source": [
        "test_acc = eval_accuracy(model, test_loader)\n",
        "print(f'Accuracy on the test set (final model): {test_acc:.2f}%')"
      ],
      "metadata": {
        "colab": {
          "base_uri": "https://localhost:8080/"
        },
        "id": "8V4vZDktAsgv",
        "outputId": "67875a7d-0ef5-4209-d95c-1e18d2314e21"
      },
      "execution_count": 28,
      "outputs": [
        {
          "output_type": "stream",
          "name": "stdout",
          "text": [
            "Accuracy on the test set (final model): 69.46%\n"
          ]
        }
      ]
    }
  ]
}