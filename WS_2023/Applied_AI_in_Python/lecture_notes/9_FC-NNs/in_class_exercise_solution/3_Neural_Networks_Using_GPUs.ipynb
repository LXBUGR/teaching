{
 "cells": [
  {
   "cell_type": "markdown",
   "id": "d312d792",
   "metadata": {
    "id": "d312d792"
   },
   "source": [
    "# Neural Networks: GPU training\n",
    "\n",
    "So far, we trained all networks on the CPU. Unfortunately, this isn't a reasonable thing to do for large networks. In this tutorial, we will look at how to train a neural network on the GPU in order to speed-up training.\n",
    "\n",
    "**Hint:** If do not have a GPU, I recommend using Google Colab. **Google Colab** hosted Jupyter Notebook service that requires no setup to use and provides free access to computing resources, including GPUs and TPUs."
   ]
  },
  {
   "cell_type": "markdown",
   "id": "lWnVNX4VBPBK",
   "metadata": {
    "id": "lWnVNX4VBPBK"
   },
   "source": [
    "## GPU/TPU-based training using Google Colab\n",
    "\n",
    "If you decided to use Google Colab for running this notebook, the first thing to do is enable the TPU runtime support. To enable the TPU runtime support click on \"Laufzeit -> Laufzeittyp ändern -> T4 GPU\".\n",
    "\n",
    "Once this flag is set, executing the next cell should indicate the environment in which the notebook is executed, does over a GPU."
   ]
  },
  {
   "cell_type": "code",
   "execution_count": 64,
   "id": "QPHJQLT-A7sl",
   "metadata": {
    "colab": {
     "base_uri": "https://localhost:8080/"
    },
    "id": "QPHJQLT-A7sl",
    "outputId": "362e7d4f-d0ae-47c4-87aa-46a33b2bb39e"
   },
   "outputs": [
    {
     "name": "stdout",
     "output_type": "stream",
     "text": [
      "Sun Jan  7 12:36:44 2024       \n",
      "+---------------------------------------------------------------------------------------+\n",
      "| NVIDIA-SMI 535.104.05             Driver Version: 535.104.05   CUDA Version: 12.2     |\n",
      "|-----------------------------------------+----------------------+----------------------+\n",
      "| GPU  Name                 Persistence-M | Bus-Id        Disp.A | Volatile Uncorr. ECC |\n",
      "| Fan  Temp   Perf          Pwr:Usage/Cap |         Memory-Usage | GPU-Util  Compute M. |\n",
      "|                                         |                      |               MIG M. |\n",
      "|=========================================+======================+======================|\n",
      "|   0  Tesla T4                       Off | 00000000:00:04.0 Off |                    0 |\n",
      "| N/A   45C    P0              27W /  70W |    189MiB / 15360MiB |      0%      Default |\n",
      "|                                         |                      |                  N/A |\n",
      "+-----------------------------------------+----------------------+----------------------+\n",
      "                                                                                         \n",
      "+---------------------------------------------------------------------------------------+\n",
      "| Processes:                                                                            |\n",
      "|  GPU   GI   CI        PID   Type   Process name                            GPU Memory |\n",
      "|        ID   ID                                                             Usage      |\n",
      "|=======================================================================================|\n",
      "+---------------------------------------------------------------------------------------+\n"
     ]
    }
   ],
   "source": [
    "! nvidia-smi"
   ]
  },
  {
   "cell_type": "markdown",
   "id": "a69448b7",
   "metadata": {
    "id": "a69448b7"
   },
   "source": [
    "### Basic imports"
   ]
  },
  {
   "cell_type": "code",
   "execution_count": 65,
   "id": "a127b986",
   "metadata": {
    "id": "a127b986"
   },
   "outputs": [],
   "source": [
    "from sklearn.datasets import fetch_california_housing\n",
    "import numpy as np\n",
    "from sklearn.model_selection import train_test_split\n",
    "from sklearn.preprocessing import StandardScaler\n",
    "from tqdm import trange\n",
    "import matplotlib.pyplot as plt\n",
    "import torch.nn as nn\n",
    "import torch\n",
    "from torch.optim import Adam\n",
    "import torch.nn.functional as F\n",
    "import random"
   ]
  },
  {
   "cell_type": "code",
   "execution_count": 66,
   "id": "f2603675",
   "metadata": {
    "id": "f2603675"
   },
   "outputs": [],
   "source": [
    "# To ensure reproducability\n",
    "np.random.seed(42)"
   ]
  },
  {
   "cell_type": "code",
   "execution_count": 67,
   "id": "5954d4a4",
   "metadata": {
    "id": "5954d4a4"
   },
   "outputs": [],
   "source": [
    "def batch(iterable, n=1):\n",
    "    l = len(iterable)\n",
    "    for ndx in range(0, l, n):\n",
    "        yield iterable[ndx:min(ndx + n, l)]"
   ]
  },
  {
   "cell_type": "markdown",
   "id": "70015490",
   "metadata": {
    "id": "70015490"
   },
   "source": [
    "## Fetch the california housing dataset"
   ]
  },
  {
   "cell_type": "code",
   "execution_count": 68,
   "id": "11f82cca",
   "metadata": {
    "id": "11f82cca"
   },
   "outputs": [],
   "source": [
    "dataset = fetch_california_housing(as_frame=True)"
   ]
  },
  {
   "cell_type": "code",
   "execution_count": 69,
   "id": "9c083760",
   "metadata": {
    "id": "9c083760"
   },
   "outputs": [],
   "source": [
    "housing_df = dataset['data']\n",
    "target_df = dataset['target']"
   ]
  },
  {
   "cell_type": "code",
   "execution_count": 70,
   "id": "b5dbddf4",
   "metadata": {
    "id": "b5dbddf4"
   },
   "outputs": [],
   "source": [
    "# Insert the housing prices in the housing df\n",
    "housing_df['HousePrice'] = target_df"
   ]
  },
  {
   "cell_type": "markdown",
   "id": "75b9058d",
   "metadata": {
    "id": "75b9058d"
   },
   "source": [
    "### Preprocess the samples"
   ]
  },
  {
   "cell_type": "markdown",
   "id": "56665718",
   "metadata": {
    "id": "56665718"
   },
   "source": [
    "## Prepare the training and testing set\n"
   ]
  },
  {
   "cell_type": "markdown",
   "id": "02b4cbdc",
   "metadata": {
    "id": "02b4cbdc"
   },
   "source": [
    "### Splitting the dataframe (using sklearn)"
   ]
  },
  {
   "cell_type": "code",
   "execution_count": 71,
   "id": "0d051252",
   "metadata": {
    "id": "0d051252"
   },
   "outputs": [],
   "source": [
    "train_df, test_df = train_test_split(housing_df, test_size=0.2)"
   ]
  },
  {
   "cell_type": "code",
   "execution_count": 72,
   "id": "9518d555",
   "metadata": {
    "colab": {
     "base_uri": "https://localhost:8080/"
    },
    "id": "9518d555",
    "outputId": "d6ca6609-3257-4d87-b264-375eb08ff25e"
   },
   "outputs": [
    {
     "name": "stdout",
     "output_type": "stream",
     "text": [
      "Test ratio:  0.2\n"
     ]
    }
   ],
   "source": [
    "# Briefly check whether we have the correct set sizes\n",
    "print('Test ratio: ', len(test_df) / (len(train_df) + len(test_df)))"
   ]
  },
  {
   "cell_type": "code",
   "execution_count": 73,
   "id": "fb3bebe7",
   "metadata": {
    "id": "fb3bebe7"
   },
   "outputs": [],
   "source": [
    "feature_columns = ['MedInc', 'HouseAge', 'AveRooms', 'AveBedrms', 'Population', 'AveOccup', 'Latitude', 'Longitude']\n",
    "target_column = 'HousePrice'\n",
    "\n",
    "x_train = train_df[feature_columns].values\n",
    "y_train = train_df[['HousePrice']].values\n",
    "\n",
    "x_test = test_df[feature_columns].values\n",
    "y_test = test_df[['HousePrice']].values"
   ]
  },
  {
   "cell_type": "markdown",
   "id": "c787e717",
   "metadata": {
    "id": "c787e717"
   },
   "source": [
    "#### Standardize the input features"
   ]
  },
  {
   "cell_type": "markdown",
   "id": "e976c3b3",
   "metadata": {
    "id": "e976c3b3"
   },
   "source": [
    "In this example, we will use Scikit's StandardScaler to standardized the input features. In future examples, we will start to use PyTorch's \"on-board capabilities\" to preprecess the input features (e.g., https://pytorch.org/vision/main/generated/torchvision.transforms.Normalize.html)"
   ]
  },
  {
   "cell_type": "code",
   "execution_count": 74,
   "id": "3daf0e02",
   "metadata": {
    "id": "3daf0e02"
   },
   "outputs": [],
   "source": [
    "scaler = StandardScaler()\n",
    "x_train = scaler.fit_transform(x_train)\n",
    "x_test = scaler.transform(x_test)"
   ]
  },
  {
   "cell_type": "markdown",
   "id": "6ac7243a",
   "metadata": {
    "id": "6ac7243a"
   },
   "source": [
    "#### Convert all samples to a PyTorch tensor"
   ]
  },
  {
   "cell_type": "code",
   "execution_count": 75,
   "id": "0be63e23",
   "metadata": {
    "id": "0be63e23"
   },
   "outputs": [],
   "source": [
    "x_train = torch.tensor(x_train, dtype=torch.float32)\n",
    "x_test = torch.tensor(x_test, dtype=torch.float32)\n",
    "\n",
    "y_train = torch.tensor(y_train, dtype=torch.float32)\n",
    "y_test = torch.tensor(y_test, dtype=torch.float32)"
   ]
  },
  {
   "cell_type": "markdown",
   "id": "ededd5ea",
   "metadata": {
    "id": "ededd5ea"
   },
   "source": [
    "## Prepare the neural network\n"
   ]
  },
  {
   "cell_type": "code",
   "execution_count": 76,
   "id": "38735769",
   "metadata": {
    "id": "38735769"
   },
   "outputs": [],
   "source": [
    "input_dims = len(feature_columns)\n",
    "output_dims = 1"
   ]
  },
  {
   "cell_type": "code",
   "execution_count": 77,
   "id": "40e230c6",
   "metadata": {
    "id": "40e230c6"
   },
   "outputs": [],
   "source": [
    "model = nn.Sequential(\n",
    "    nn.Linear(input_dims, 512, bias=False),\n",
    "    nn.BatchNorm1d(512),\n",
    "    nn.ReLU(),\n",
    "    nn.Linear(512, 256, bias=False),\n",
    "    nn.BatchNorm1d(256),\n",
    "    nn.ReLU(),\n",
    "    nn.Linear(256, 256, bias=False),\n",
    "    nn.BatchNorm1d(256),\n",
    "    nn.ReLU(),\n",
    "    nn.Linear(256, 128, bias=False),\n",
    "    nn.BatchNorm1d(128),\n",
    "    nn.ReLU(),\n",
    "    nn.Linear(128, 1),\n",
    ")"
   ]
  },
  {
   "cell_type": "markdown",
   "id": "9cbaccbb",
   "metadata": {
    "id": "9cbaccbb"
   },
   "source": []
  },
  {
   "cell_type": "markdown",
   "id": "6b4f5d3f",
   "metadata": {
    "id": "6b4f5d3f"
   },
   "source": [
    "## Train the neural network on the GPU\n",
    "\n",
    "In order to train a model on the GPU, all parameters/variables required during training (e.g., the model, the tensor) have to be copied to the GPU.\n",
    "\n",
    "This can be done either by calling `.cuda()` or `.to(DEVICE)` on a tensor/model. I recommend using using `.to(DEVICE)` is allows us to conveniently switch between different devices by adjusting the `DEVICE` variable."
   ]
  },
  {
   "cell_type": "code",
   "execution_count": 78,
   "id": "ae450929",
   "metadata": {
    "colab": {
     "base_uri": "https://localhost:8080/"
    },
    "id": "ae450929",
    "outputId": "6172a4a9-5b9c-4436-adf0-9efbfbcf934b"
   },
   "outputs": [
    {
     "data": {
      "text/plain": [
       "<torch._C.Generator at 0x791c3ac27fd0>"
      ]
     },
     "execution_count": 78,
     "metadata": {},
     "output_type": "execute_result"
    }
   ],
   "source": [
    "# Fix seed to ensure reproducibility\n",
    "np.random.seed(42)\n",
    "torch.manual_seed(0)"
   ]
  },
  {
   "cell_type": "markdown",
   "id": "27642787",
   "metadata": {
    "id": "27642787"
   },
   "source": [
    "#### Helper function that computes for RMSE for a given dataset"
   ]
  },
  {
   "cell_type": "markdown",
   "id": "242d024e",
   "metadata": {
    "id": "242d024e"
   },
   "source": [
    "The *evaluate_model_performance()* function receives a set of features and their target levels as its input, and evaluates the model performance using the root mean square error. In order to do this, the network must be switched to *inference mode* (`model.eval()`)."
   ]
  },
  {
   "cell_type": "code",
   "execution_count": 79,
   "id": "e220a7bb",
   "metadata": {
    "id": "e220a7bb"
   },
   "outputs": [],
   "source": [
    "def evaluate_model_performance(x, y, batch_size=1024):\n",
    "\n",
    "    assert x.shape[0] == y.shape[0], 'Feature and target labels a different number of samples'\n",
    "\n",
    "    # During training, the batch norm layer keeps a running estimate of its computed mean and variance.\n",
    "    # At inference time, the mean/variance must not be updated. The estimed mean/variance is used for normalization.\n",
    "    model.eval()\n",
    "\n",
    "    total_error = 0.\n",
    "\n",
    "    num_samples = x.shape[0]\n",
    "\n",
    "    # No gradient have to be computed at inference time. We can disable gradient computation by means of the\n",
    "    # no_grad() context manager. This will reduce the memory consumption.\n",
    "    with torch.no_grad():\n",
    "\n",
    "        for indices in batch(range(num_samples), batch_size):\n",
    "\n",
    "            # Convert the sample to a Pytorch tensor\n",
    "            batch_x = x[indices]\n",
    "            batch_y = y[indices]\n",
    "\n",
    "            batch_x = batch_x.to(DEVICE)\n",
    "            batch_y = batch_y.to(DEVICE)\n",
    "\n",
    "            pred = model(batch_x)\n",
    "\n",
    "            total_error += torch.sum((pred - batch_y) **2)\n",
    "\n",
    "    rmse = torch.sqrt(total_error / num_samples) * 100000\n",
    "    rmse = rmse.cpu().numpy()\n",
    "\n",
    "    # Switch the network back to training mode since want to continue training.\n",
    "    model.train()\n",
    "\n",
    "    return rmse\n"
   ]
  },
  {
   "cell_type": "markdown",
   "id": "1cacde1e",
   "metadata": {
    "id": "1cacde1e"
   },
   "source": [
    "#### Copy the model to the GPU\n",
    "\n",
    "Before we start training, we copy the entire model to the GPU. This only needs to be done once."
   ]
  },
  {
   "cell_type": "code",
   "execution_count": 80,
   "id": "U7srDqGIN947",
   "metadata": {
    "id": "U7srDqGIN947"
   },
   "outputs": [],
   "source": [
    "DEVICE = 'cuda'\n",
    "\n",
    "# Use \"cpu\" if we want to briefly switch back to CPU training\n",
    "# DEVICE = 'cpu'\n",
    "\n",
    "# Specify the device id, if our setup has multiple GPUs and we want to train on a specific GPU\n",
    "# DEVICE = 'cuda:0'\n",
    "\n",
    "# Copy the model to the GPU\n",
    "model = model.to(DEVICE)"
   ]
  },
  {
   "cell_type": "markdown",
   "id": "-w7dfwzDOER6",
   "metadata": {
    "id": "-w7dfwzDOER6"
   },
   "source": [
    "#### Start training"
   ]
  },
  {
   "cell_type": "code",
   "execution_count": 81,
   "id": "a195986c",
   "metadata": {
    "id": "a195986c"
   },
   "outputs": [],
   "source": [
    "batch_size = 128\n",
    "num_epochs = 300"
   ]
  },
  {
   "cell_type": "code",
   "execution_count": 82,
   "id": "3c953c06",
   "metadata": {
    "id": "3c953c06"
   },
   "outputs": [],
   "source": [
    "# We will use the ADAM optimizer to find the \"optimal\" network weights.\n",
    "# The ADAM optimization is a stochastic gradient descent method that is based on\n",
    "# adaptive estimation of first-order and second-order moments.\n",
    "optimizer = Adam(model.parameters(), lr=1e-6)"
   ]
  },
  {
   "cell_type": "code",
   "execution_count": 83,
   "id": "kxVSaH3w55sZ",
   "metadata": {
    "colab": {
     "base_uri": "https://localhost:8080/"
    },
    "id": "kxVSaH3w55sZ",
    "outputId": "4de8e9fa-f039-4581-a2e0-93f9086bdbaa"
   },
   "outputs": [
    {
     "name": "stderr",
     "output_type": "stream",
     "text": [
      "100%|██████████| 300/300 [01:59<00:00,  2.51it/s]\n"
     ]
    }
   ],
   "source": [
    "train_rmse = []\n",
    "\n",
    "num_samples = x_train.shape[0]\n",
    "\n",
    "for epoch in trange(num_epochs):\n",
    "\n",
    "    # Samples should be drawn in random order.\n",
    "    # Hence, we create a list of indices (in random order) from which we can sample from.\n",
    "    shuffled_indices = list(range(num_samples))\n",
    "    random.shuffle(shuffled_indices)\n",
    "\n",
    "    batch_iter = batch(shuffled_indices, 128)\n",
    "\n",
    "    for batch_idx, sample_indices in enumerate(batch_iter):\n",
    "\n",
    "        # Clear all gradients\n",
    "        optimizer.zero_grad()\n",
    "\n",
    "        batch_x = x_train[sample_indices]\n",
    "        batch_y = y_train[sample_indices]\n",
    "\n",
    "        # IMPORTANT: We have to make sure that the batch is on the same devices the model\n",
    "        batch_x = batch_x.to(DEVICE)\n",
    "        batch_y = batch_y.to(DEVICE)\n",
    "\n",
    "        # Push the training batch through the neural network\n",
    "        pred = model(batch_x)\n",
    "\n",
    "        # Compute the mean squared error --> Our goal is to minimize this error\n",
    "        loss = F.mse_loss(pred, batch_y)\n",
    "\n",
    "        # Trigger backpropagation. This computes all gradients that have to be optimized.\n",
    "        loss.backward()\n",
    "\n",
    "        # Update the weights based on the obtained gradient values\n",
    "        optimizer.step()\n",
    "\n",
    "        if batch_idx % 50 == 0:\n",
    "            train_rmse.append(evaluate_model_performance(x_train, y_train))\n"
   ]
  },
  {
   "cell_type": "code",
   "execution_count": 84,
   "id": "d664d7ec",
   "metadata": {
    "colab": {
     "base_uri": "https://localhost:8080/",
     "height": 469
    },
    "id": "d664d7ec",
    "outputId": "663e6f71-6405-4a6b-96f2-a9a3047b24e0"
   },
   "outputs": [
    {
     "data": {
      "text/plain": [
       "Text(0.5, 1.0, 'Train RMSE')"
      ]
     },
     "execution_count": 84,
     "metadata": {},
     "output_type": "execute_result"
    },
    {
     "data": {
      "image/png": "[encoded data removed]",
      "text/plain": [
       "<Figure size 640x480 with 1 Axes>"
      ]
     },
     "metadata": {},
     "output_type": "display_data"
    }
   ],
   "source": [
    "plt.plot(list(range(len(train_rmse))), train_rmse)\n",
    "plt.title('Train RMSE')"
   ]
  },
  {
   "cell_type": "code",
   "execution_count": 84,
   "id": "g80ddRLhNXRb",
   "metadata": {
    "id": "g80ddRLhNXRb"
   },
   "outputs": [],
   "source": []
  },
  {
   "cell_type": "markdown",
   "id": "91c5da03",
   "metadata": {
    "id": "91c5da03"
   },
   "source": [
    "## Performance evaluation"
   ]
  },
  {
   "cell_type": "code",
   "execution_count": 85,
   "id": "cbe35647",
   "metadata": {
    "id": "cbe35647"
   },
   "outputs": [],
   "source": [
    "train_rmse = evaluate_model_performance(x_train, y_train)\n",
    "test_rmse = evaluate_model_performance(x_test, y_test)"
   ]
  },
  {
   "cell_type": "code",
   "execution_count": 86,
   "id": "85938a76",
   "metadata": {
    "colab": {
     "base_uri": "https://localhost:8080/"
    },
    "id": "85938a76",
    "outputId": "dceb9f23-f9fe-480d-b51b-72df283b848a"
   },
   "outputs": [
    {
     "name": "stdout",
     "output_type": "stream",
     "text": [
      "Train RMSE: 63533.46\n",
      "Test RMSE: 63713.043\n"
     ]
    }
   ],
   "source": [
    "print('Train RMSE:', train_rmse)\n",
    "print('Test RMSE:', test_rmse)"
   ]
  },
  {
   "cell_type": "markdown",
   "id": "fEBq_4zUR_t7",
   "metadata": {
    "id": "fEBq_4zUR_t7"
   },
   "source": [
    "Congratz, you now trained your first model on the GPU!"
   ]
  }
 ],
 "metadata": {
  "accelerator": "GPU",
  "colab": {
   "collapsed_sections": [
    "56665718",
    "02b4cbdc",
    "ededd5ea",
    "27642787"
   ],
   "gpuType": "T4",
   "provenance": []
  },
  "kernelspec": {
   "display_name": "Python 3 (ipykernel)",
   "language": "python",
   "name": "python3"
  },
  "language_info": {
   "codemirror_mode": {
    "name": "ipython",
    "version": 3
   },
   "file_extension": ".py",
   "mimetype": "text/x-python",
   "name": "python",
   "nbconvert_exporter": "python",
   "pygments_lexer": "ipython3",
   "version": "3.11.5"
  }
 },
 "nbformat": 4,
 "nbformat_minor": 5
}
