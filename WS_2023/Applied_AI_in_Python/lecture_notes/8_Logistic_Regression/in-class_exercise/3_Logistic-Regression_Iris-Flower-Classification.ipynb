{
 "cells": [
  {
   "cell_type": "markdown",
   "id": "2a78098b",
   "metadata": {},
   "source": [
    "# Logistic Regression: Classification of the IRIS dataset"
   ]
  },
  {
   "cell_type": "code",
   "execution_count": 1,
   "id": "b885d221",
   "metadata": {},
   "outputs": [],
   "source": [
    "from sklearn.linear_model import LogisticRegression\n",
    "from sklearn.datasets import load_iris\n",
    "from sklearn.model_selection import train_test_split\n",
    "import numpy as np\n",
    "from sklearn.model_selection import GridSearchCV\n",
    "from sklearn.metrics import accuracy_score"
   ]
  },
  {
   "cell_type": "code",
   "execution_count": 2,
   "id": "64259f76",
   "metadata": {},
   "outputs": [],
   "source": [
    "iris_db = load_iris(as_frame=True)"
   ]
  },
  {
   "cell_type": "code",
   "execution_count": 3,
   "id": "6c91a778",
   "metadata": {},
   "outputs": [],
   "source": [
    "x = iris_db.data.values\n",
    "y = iris_db.target.values\n",
    "\n",
    "# Split the dataset into a training and testing set\n",
    "x_train, x_test, y_train, y_test = train_test_split(x, y, random_state=42, test_size=0.4)"
   ]
  },
  {
   "cell_type": "code",
   "execution_count": 4,
   "id": "4c71166c",
   "metadata": {},
   "outputs": [
    {
     "name": "stdout",
     "output_type": "stream",
     "text": [
      "Number of samples in the training set: 90\n",
      "Number of samples in the testing set: 60\n"
     ]
    }
   ],
   "source": [
    "print('Number of samples in the training set:', x_train.shape[0])\n",
    "print('Number of samples in the testing set:', x_test.shape[0])"
   ]
  },
  {
   "cell_type": "code",
   "execution_count": 5,
   "id": "8052060c",
   "metadata": {},
   "outputs": [],
   "source": [
    "model = LogisticRegression(multi_class='multinomial', random_state=60, max_iter=1000)"
   ]
  },
  {
   "cell_type": "code",
   "execution_count": 6,
   "id": "1aca6093",
   "metadata": {},
   "outputs": [
    {
     "name": "stdout",
     "output_type": "stream",
     "text": [
      "Best params: {'C': 12.742749857031322}\n",
      "Accuracy : 0.9666666666666666\n"
     ]
    }
   ],
   "source": [
    "param_grid = {\n",
    "    \"C\": np.logspace(-3, 3, 20)\n",
    "}\n",
    "\n",
    "grid = GridSearchCV(model, param_grid, cv=10, scoring='accuracy')\n",
    "grid.fit(x_train, y_train)\n",
    "\n",
    "print(\"Best params:\", grid.best_params_)\n",
    "print(\"Accuracy :\", grid.best_score_)"
   ]
  },
  {
   "cell_type": "code",
   "execution_count": 7,
   "id": "bc8fa9f3",
   "metadata": {},
   "outputs": [
    {
     "name": "stdout",
     "output_type": "stream",
     "text": [
      "Accuracy on the test set: 0.9833333333333333\n"
     ]
    }
   ],
   "source": [
    "best_model = grid.best_estimator_\n",
    "\n",
    "pred_label = best_model.predict(x_test)\n",
    "\n",
    "test_accuracy = accuracy_score(y_test, pred_label)\n",
    "\n",
    "print('Accuracy on the test set:', test_accuracy)"
   ]
  }
 ],
 "metadata": {
  "kernelspec": {
   "display_name": "Python 3 (ipykernel)",
   "language": "python",
   "name": "python3"
  },
  "language_info": {
   "codemirror_mode": {
    "name": "ipython",
    "version": 3
   },
   "file_extension": ".py",
   "mimetype": "text/x-python",
   "name": "python",
   "nbconvert_exporter": "python",
   "pygments_lexer": "ipython3",
   "version": "3.11.5"
  }
 },
 "nbformat": 4,
 "nbformat_minor": 5
}
