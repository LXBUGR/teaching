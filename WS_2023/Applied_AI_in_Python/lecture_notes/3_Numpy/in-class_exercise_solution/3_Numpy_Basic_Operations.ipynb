{
 "cells": [
  {
   "cell_type": "markdown",
   "id": "e72b3ea4",
   "metadata": {},
   "source": [
    "# NumPy: Basic Operations"
   ]
  },
  {
   "cell_type": "code",
   "execution_count": 1,
   "id": "1d5ebe2f",
   "metadata": {},
   "outputs": [],
   "source": [
    "import numpy as np"
   ]
  },
  {
   "cell_type": "markdown",
   "id": "3d1ae8ec",
   "metadata": {},
   "source": [
    "## Basic Arithmetic Operations\n",
    "\n",
    "### Elementwise operations (Not inplace)\n",
    "\n",
    "Most basic arithmetic operators on arrays apply *elementwise*. A new array is created an filled with the result."
   ]
  },
  {
   "cell_type": "code",
   "execution_count": 2,
   "id": "f8bc6841",
   "metadata": {},
   "outputs": [],
   "source": [
    "m1 = np.array([[1, 2, 3], \n",
    "               [2, 3, 4]])\n",
    "\n",
    "m2 = np.array([[1, 4, -1], \n",
    "               [4, 3, 1]])"
   ]
  },
  {
   "cell_type": "code",
   "execution_count": 3,
   "id": "ef07ab0f",
   "metadata": {},
   "outputs": [
    {
     "name": "stdout",
     "output_type": "stream",
     "text": [
      "[[ 1  8 -3]\n",
      " [ 8  9  4]]\n"
     ]
    }
   ],
   "source": [
    "# Elementwise multiplication\n",
    "# Calls np.multiply()\n",
    "print(m1 * m2)"
   ]
  },
  {
   "cell_type": "code",
   "execution_count": 4,
   "id": "bc7e282b",
   "metadata": {},
   "outputs": [
    {
     "name": "stdout",
     "output_type": "stream",
     "text": [
      "[[2 6 2]\n",
      " [6 6 5]]\n"
     ]
    }
   ],
   "source": [
    "# Elementwise addition\n",
    "# numpy.add()\n",
    "print(m1 + m2)"
   ]
  },
  {
   "cell_type": "code",
   "execution_count": 5,
   "id": "52626a6f",
   "metadata": {},
   "outputs": [
    {
     "name": "stdout",
     "output_type": "stream",
     "text": [
      "[[ 0 -2  4]\n",
      " [-2  0  3]]\n"
     ]
    }
   ],
   "source": [
    "# Elementwise subtraction\n",
    "# Calls np.subtract()\n",
    "print(m1 - m2)"
   ]
  },
  {
   "cell_type": "code",
   "execution_count": 6,
   "id": "e7d5874d",
   "metadata": {},
   "outputs": [
    {
     "name": "stdout",
     "output_type": "stream",
     "text": [
      "[[ 1.   0.5 -3. ]\n",
      " [ 0.5  1.   4. ]]\n"
     ]
    }
   ],
   "source": [
    "# Elementwise division\n",
    "\n",
    "# Calls np.divide() \n",
    "print(m1 / m2)"
   ]
  },
  {
   "cell_type": "code",
   "execution_count": 7,
   "id": "484a2560",
   "metadata": {},
   "outputs": [
    {
     "name": "stdout",
     "output_type": "stream",
     "text": [
      "[[ 1  0 -3]\n",
      " [ 0  1  4]]\n"
     ]
    }
   ],
   "source": [
    "# Elementwise Floor divide\n",
    "# Return the largest integer smaller or equal to the division of the inputs. \n",
    "\n",
    "# Calls np.floor_divide()\n",
    "print(m1 // m2)"
   ]
  },
  {
   "cell_type": "code",
   "execution_count": 8,
   "id": "aa3a5c10",
   "metadata": {},
   "outputs": [
    {
     "data": {
      "text/plain": [
       "array([[   1,   32,  243],\n",
       "       [  32,  243, 1024]])"
      ]
     },
     "execution_count": 8,
     "metadata": {},
     "output_type": "execute_result"
    }
   ],
   "source": [
    "# Calls np.pow()\n",
    "m1**5"
   ]
  },
  {
   "cell_type": "code",
   "execution_count": 9,
   "id": "02c56316",
   "metadata": {},
   "outputs": [
    {
     "data": {
      "text/plain": [
       "array([[1, 0, 1],\n",
       "       [0, 1, 0]])"
      ]
     },
     "execution_count": 9,
     "metadata": {},
     "output_type": "execute_result"
    }
   ],
   "source": [
    "# Calls np.mod()\n",
    "m1 % 2"
   ]
  },
  {
   "cell_type": "markdown",
   "id": "63ded654",
   "metadata": {},
   "source": [
    "### Elementwise operations (Inplace)"
   ]
  },
  {
   "cell_type": "code",
   "execution_count": 10,
   "id": "0248d181",
   "metadata": {},
   "outputs": [
    {
     "name": "stdout",
     "output_type": "stream",
     "text": [
      "[2 2]\n"
     ]
    }
   ],
   "source": [
    "m = np.array([1,1])\n",
    "\n",
    "# InPlace multiplication\n",
    "m *= 2\n",
    "\n",
    "print(m)"
   ]
  },
  {
   "cell_type": "code",
   "execution_count": 11,
   "id": "9a4106f7",
   "metadata": {},
   "outputs": [
    {
     "name": "stdout",
     "output_type": "stream",
     "text": [
      "[3 3]\n"
     ]
    }
   ],
   "source": [
    "m = np.array([1,1])\n",
    "\n",
    "# InPlace addition\n",
    "m += 2\n",
    "\n",
    "print(m)"
   ]
  },
  {
   "cell_type": "code",
   "execution_count": 12,
   "id": "164837a3",
   "metadata": {},
   "outputs": [
    {
     "name": "stdout",
     "output_type": "stream",
     "text": [
      "[-1 -1]\n"
     ]
    }
   ],
   "source": [
    "m = np.array([1,1])\n",
    "\n",
    "# InPlace subtraction\n",
    "m -= 2\n",
    "\n",
    "print(m)"
   ]
  },
  {
   "cell_type": "code",
   "execution_count": 13,
   "id": "e8d3b484",
   "metadata": {},
   "outputs": [
    {
     "name": "stdout",
     "output_type": "stream",
     "text": [
      "[0.5 0.5]\n"
     ]
    }
   ],
   "source": [
    "# The data type is a float (!)\n",
    "m = np.array([1., 1.])\n",
    "\n",
    "# InPlace divison\n",
    "m /= 2\n",
    "\n",
    "print(m)"
   ]
  },
  {
   "cell_type": "code",
   "execution_count": 14,
   "id": "82dd60f8",
   "metadata": {},
   "outputs": [
    {
     "name": "stdout",
     "output_type": "stream",
     "text": [
      "[1 1]\n"
     ]
    }
   ],
   "source": [
    "# The data type is an int (!)\n",
    "m = np.array([1, 1])\n",
    "\n",
    "# InPlace Floor divison\n",
    "m //= 1\n",
    "\n",
    "print(m)"
   ]
  },
  {
   "cell_type": "markdown",
   "id": "0afaca06",
   "metadata": {},
   "source": [
    "**What if we divide an int32 by some value?**\n",
    "\n",
    "This raises an error: `UFuncTypeError: Cannot cast ufunc 'divide' output from dtype('float64') to dtype('int64') with casting rule 'same_kind'`"
   ]
  },
  {
   "cell_type": "code",
   "execution_count": 15,
   "id": "c79212c3",
   "metadata": {},
   "outputs": [
    {
     "ename": "UFuncTypeError",
     "evalue": "Cannot cast ufunc 'divide' output from dtype('float64') to dtype('int64') with casting rule 'same_kind'",
     "output_type": "error",
     "traceback": [
      "\u001b[0;31m---------------------------------------------------------------------------\u001b[0m",
      "\u001b[0;31mUFuncTypeError\u001b[0m                            Traceback (most recent call last)",
      "Cell \u001b[0;32mIn[15], line 5\u001b[0m\n\u001b[1;32m      2\u001b[0m m \u001b[38;5;241m=\u001b[39m np\u001b[38;5;241m.\u001b[39marray([\u001b[38;5;241m1\u001b[39m, \u001b[38;5;241m1\u001b[39m])\n\u001b[1;32m      4\u001b[0m \u001b[38;5;66;03m# Standard divison\u001b[39;00m\n\u001b[0;32m----> 5\u001b[0m m \u001b[38;5;241m/\u001b[39m\u001b[38;5;241m=\u001b[39m \u001b[38;5;241m1\u001b[39m\n\u001b[1;32m      7\u001b[0m \u001b[38;5;28mprint\u001b[39m(m)\n",
      "\u001b[0;31mUFuncTypeError\u001b[0m: Cannot cast ufunc 'divide' output from dtype('float64') to dtype('int64') with casting rule 'same_kind'"
     ]
    }
   ],
   "source": [
    "# The data type is an int (!)\n",
    "m = np.array([1, 1])\n",
    "\n",
    "# Standard divison\n",
    "m /= 1\n",
    "\n",
    "print(m)"
   ]
  },
  {
   "cell_type": "markdown",
   "id": "71e56edd",
   "metadata": {},
   "source": [
    "Since the `/=` calls the `divide()` method it is worth taking a look at divide's documentation.\n",
    "https://numpy.org/doc/stable/reference/generated/numpy.divide.html\n",
    "\n",
    "As can be seen in the documentation, divide provides a parameter `casting` which is detailed in https://numpy.org/doc/stable/reference/ufuncs.html#ufuncs-kwargs. Following the links in the documentation, we can see that the following values are support by `casting`:\n",
    "\n",
    "- ‘no’ means the data types should not be cast at all.\n",
    "- ‘equiv’ means only byte-order changes are allowed.\n",
    "- ‘safe’ means only casts which can preserve values are allowed.\n",
    "- ‘same_kind’ means only safe casts or casts within a kind, like float64 to float32, are allowed.\n",
    "- ‘unsafe’ means any data conversions may be done.\n",
    "\n",
    "\n",
    "\n"
   ]
  },
  {
   "cell_type": "code",
   "execution_count": 16,
   "id": "aef9f81e",
   "metadata": {},
   "outputs": [
    {
     "name": "stdout",
     "output_type": "stream",
     "text": [
      "[0 0]\n"
     ]
    }
   ],
   "source": [
    "# The data type is an int (!)\n",
    "m = np.array([1, 1])\n",
    "\n",
    "# Let's play around with the casting operator just to see how it works\n",
    "# If we set it to unsafe, the method should not raise an error (which is obviously dangerous)\n",
    "m = np.divide(m, 2, out=m, casting='unsafe')\n",
    "\n",
    "print(m)"
   ]
  },
  {
   "cell_type": "markdown",
   "id": "ce1088ac",
   "metadata": {},
   "source": [
    "### Overflows and underflows\n",
    "\n",
    "In the previous notebook, we have already seen that Python doesn't perform any type checks when we manipulate values in an array (see example below). But what if there is an overflow or underflow? "
   ]
  },
  {
   "cell_type": "code",
   "execution_count": 17,
   "id": "2135511e",
   "metadata": {},
   "outputs": [
    {
     "name": "stdout",
     "output_type": "stream",
     "text": [
      "[0 1]\n"
     ]
    }
   ],
   "source": [
    "m = np.array([1, 1])\n",
    "\n",
    "# The floating point value becomes an integer\n",
    "m[0] = 0.6\n",
    "\n",
    "print(m)"
   ]
  },
  {
   "cell_type": "markdown",
   "id": "6b9e3fb2",
   "metadata": {},
   "source": [
    "Let's produce an overflow to see what happens ..."
   ]
  },
  {
   "cell_type": "code",
   "execution_count": 18,
   "id": "4b03eb4a",
   "metadata": {},
   "outputs": [
    {
     "name": "stdout",
     "output_type": "stream",
     "text": [
      "[0 0]\n",
      "[255 255]\n"
     ]
    }
   ],
   "source": [
    "m = np.array([0, 0], dtype=np.uint8)\n",
    "\n",
    "print(m)\n",
    "\n",
    "# Causes an underflow\n",
    "m -= 1\n",
    "\n",
    "print(m)"
   ]
  },
  {
   "cell_type": "code",
   "execution_count": 19,
   "id": "481e7314",
   "metadata": {},
   "outputs": [
    {
     "name": "stdout",
     "output_type": "stream",
     "text": [
      "[128 128]\n",
      "[0 0]\n"
     ]
    }
   ],
   "source": [
    "m = np.array([128, 128], dtype=np.uint8)\n",
    "\n",
    "print(m)\n",
    "\n",
    "# Causes an overflow\n",
    "m *= 2\n",
    "\n",
    "print(m)"
   ]
  },
  {
   "cell_type": "markdown",
   "id": "3a59bec4",
   "metadata": {},
   "source": [
    "Note that no error is raise like in C! So watch out that you always use the correct type. <br/>\n",
    "Sometimes it's advisable to add additional data type checks to functions if you are unsure that the passed argument has the correct data type.\n",
    "\n",
    "For example:"
   ]
  },
  {
   "cell_type": "code",
   "execution_count": 20,
   "id": "c87f0da9",
   "metadata": {},
   "outputs": [
    {
     "ename": "TypeError",
     "evalue": "Invalid data type",
     "output_type": "error",
     "traceback": [
      "\u001b[0;31m---------------------------------------------------------------------------\u001b[0m",
      "\u001b[0;31mTypeError\u001b[0m                                 Traceback (most recent call last)",
      "Cell \u001b[0;32mIn[20], line 5\u001b[0m\n\u001b[1;32m      2\u001b[0m \u001b[38;5;66;03m#m = np.array([1.])\u001b[39;00m\n\u001b[1;32m      4\u001b[0m \u001b[38;5;28;01mif\u001b[39;00m \u001b[38;5;28misinstance\u001b[39m(m, np\u001b[38;5;241m.\u001b[39mndarray) \u001b[38;5;129;01mand\u001b[39;00m \u001b[38;5;129;01mnot\u001b[39;00m np\u001b[38;5;241m.\u001b[39missubdtype(m\u001b[38;5;241m.\u001b[39mdtype, np\u001b[38;5;241m.\u001b[39mfloating):\n\u001b[0;32m----> 5\u001b[0m     \u001b[38;5;28;01mraise\u001b[39;00m \u001b[38;5;167;01mTypeError\u001b[39;00m(\u001b[38;5;124m'\u001b[39m\u001b[38;5;124mInvalid data type\u001b[39m\u001b[38;5;124m'\u001b[39m)\n",
      "\u001b[0;31mTypeError\u001b[0m: Invalid data type"
     ]
    }
   ],
   "source": [
    "m = np.array([1])\n",
    "#m = np.array([1.])\n",
    "\n",
    "if isinstance(m, np.ndarray) and not np.issubdtype(m.dtype, np.floating):\n",
    "    raise TypeError('Invalid data type')"
   ]
  },
  {
   "cell_type": "markdown",
   "id": "942ad734",
   "metadata": {},
   "source": [
    "Since the documentation of `numpy.divide()` mentions that the `np.seterr()` can set whether to raise or warn on overflow, underflow and division by zero, you might be tempted to say \"Ok, then I simply reconfigure numpy to do checks\". However, be warned that that `np.seterr()` does only affect floating point operations!\n",
    "  "
   ]
  },
  {
   "cell_type": "code",
   "execution_count": 25,
   "id": "c45f1b40",
   "metadata": {},
   "outputs": [
    {
     "name": "stdout",
     "output_type": "stream",
     "text": [
      "[193]\n"
     ]
    }
   ],
   "source": [
    "# The following two lines only affect the behavior of floating point operations.\n",
    "# np.seterr('ignore')\n",
    "np.seterr('raise')\n",
    "\n",
    "m = np.array([1], dtype=np.uint8)\n",
    "#m = np.array([1.], dtype=np.float16)\n",
    "\n",
    "# Error\n",
    "m += 3000000\n",
    "\n",
    "print(m)"
   ]
  },
  {
   "cell_type": "markdown",
   "id": "b6191239",
   "metadata": {},
   "source": [
    "So, always watch out for correct data types. For example, many image processing libraries return an uint8 matrix when loading an image. <br/>\n",
    "If you forget to change the data type and apply arithmetic operations (in particular, if these operations are inplace) on the uint8 matrix, the consequences can be severe ..."
   ]
  },
  {
   "cell_type": "markdown",
   "id": "f6237590",
   "metadata": {},
   "source": [
    "### Broadcasting\n",
    "\n",
    "The term broadcasting describes how NumPy treats arrays with different shapes during arithmetic operations. Subject to certain constraints, the smaller array is \"broadcast\" across the larger array so that they have compatible shapes."
   ]
  },
  {
   "cell_type": "markdown",
   "id": "ba659461",
   "metadata": {},
   "source": [
    "As we have seen previously, if we multiply a matrix with some float value, the float value will be automatically broadcasted to the shape of the matrix. We will now look at some more advanced examples of broadcasting."
   ]
  },
  {
   "cell_type": "code",
   "execution_count": 37,
   "id": "bb902e27",
   "metadata": {},
   "outputs": [
    {
     "name": "stdout",
     "output_type": "stream",
     "text": [
      "(5, 5, 3) (3,)\n",
      "(5, 5, 3)\n"
     ]
    }
   ],
   "source": [
    "m1 = np.ones((5, 5, 3))\n",
    "m2 = np.array([2, 2, 2])\n",
    "\n",
    "print(m1.shape, m2.shape)\n",
    "\n",
    "# Image  (3d array): 5 x 5 x 3\n",
    "# Scale  (1d array):         3\n",
    "# Result (3d array): 5 x 5 x 3\n",
    "m = m1 * m2\n",
    "print(m.shape)"
   ]
  },
  {
   "cell_type": "code",
   "execution_count": 38,
   "id": "a98b6b25",
   "metadata": {},
   "outputs": [
    {
     "name": "stdout",
     "output_type": "stream",
     "text": [
      "(5, 7, 1, 3) (7, 5, 1)\n",
      "(5, 7, 5, 3)\n"
     ]
    }
   ],
   "source": [
    "m1 = np.ones((5, 7, 1, 3))\n",
    "m2 = np.ones((7, 5, 1))\n",
    "\n",
    "print(m1.shape, m2.shape)\n",
    "\n",
    "# Image  (4d array): 5 x 7 x 1 x 3\n",
    "# Scale  (3d array):     7 x 5 x 1\n",
    "# Result (3d array): 5 x 7 x 5 x 3\n",
    "m = m1 * m2\n",
    "print(m.shape)"
   ]
  },
  {
   "cell_type": "markdown",
   "id": "71e03ca4",
   "metadata": {},
   "source": [
    "### Matrix multiplication\n",
    "\n",
    "Matrix multiplications (a.k.a. dot prodict) can be implemented with the `@` operator. Alternatively, we can use the `np.dot()` method."
   ]
  },
  {
   "cell_type": "code",
   "execution_count": 40,
   "id": "22f8a66b",
   "metadata": {},
   "outputs": [
    {
     "name": "stdout",
     "output_type": "stream",
     "text": [
      "[[20 23 26 29]\n",
      " [56 68 80 92]]\n",
      "(2, 4)\n"
     ]
    }
   ],
   "source": [
    "m1 = np.arange(6).reshape(2, 3)\n",
    "m2 = np.arange(12).reshape(3, 4)\n",
    "\n",
    "# (2, 3) x (3, 4) =>  (2, 4)\n",
    "m = m1 @ m2\n",
    "\n",
    "print(m)\n",
    "print(m.shape)"
   ]
  },
  {
   "cell_type": "markdown",
   "id": "3152f691",
   "metadata": {},
   "source": [
    "Or with `np.dot()` ..."
   ]
  },
  {
   "cell_type": "code",
   "execution_count": 41,
   "id": "7abd6a94",
   "metadata": {},
   "outputs": [
    {
     "name": "stdout",
     "output_type": "stream",
     "text": [
      "[[20 23 26 29]\n",
      " [56 68 80 92]]\n",
      "(2, 4)\n"
     ]
    }
   ],
   "source": [
    "m1 = np.arange(6).reshape(2, 3)\n",
    "m2 = np.arange(12).reshape(3, 4)\n",
    "\n",
    "# (2, 3) x (3, 4) =>  (2, 4)\n",
    "m = np.dot(m1, m2)\n",
    "\n",
    "print(m)\n",
    "print(m.shape)"
   ]
  }
 ],
 "metadata": {
  "kernelspec": {
   "display_name": "Python 3 (ipykernel)",
   "language": "python",
   "name": "python3"
  },
  "language_info": {
   "codemirror_mode": {
    "name": "ipython",
    "version": 3
   },
   "file_extension": ".py",
   "mimetype": "text/x-python",
   "name": "python",
   "nbconvert_exporter": "python",
   "pygments_lexer": "ipython3",
   "version": "3.11.5"
  }
 },
 "nbformat": 4,
 "nbformat_minor": 5
}
