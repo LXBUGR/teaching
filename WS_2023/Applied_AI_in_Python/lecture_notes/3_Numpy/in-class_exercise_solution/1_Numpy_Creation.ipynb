{
 "cells": [
  {
   "cell_type": "markdown",
   "id": "e72b3ea4",
   "metadata": {},
   "source": [
    "# NumPy: The basic"
   ]
  },
  {
   "cell_type": "markdown",
   "id": "7cf603c0",
   "metadata": {},
   "source": [
    "NumPy, short for **Numerical Python**, is one of the most important foundational packages for numerical computing in Python. Many computational packages providing scientific functionality use NumPy's array objects as one of the standard interface *lingua francas* for data exchange.\n",
    "\n",
    "Some of the things you will find in Numpy:\n",
    "- *ndarray*, an efficient multidimensional array providing fast array-oriented arithmetic operations and flexible broadcasting capabilities\n",
    "- Mathematical functions for fast operations on entire arrays of data without hav‐\n",
    "ing to write loops\n",
    "- Tools for reading/writing array data to disk and working with memory-mapped\n",
    "files\n",
    "- Linear algebra, random number generation, and Fourier transform capabilities\n",
    "- A C API for connecting NumPy with libraries written in C, C++, or FORTRAN"
   ]
  },
  {
   "cell_type": "markdown",
   "id": "b56d14cd",
   "metadata": {},
   "source": [
    "One of the reasons NumPy is so important for numerical computations in Python is because it is designed for efficiency on large arrays of data. \n",
    "\n",
    "**There are a number of reasons for this:**\n",
    "    \n",
    "- NumPy internally stores data in a contiguous block of memory, independent of other built-in Python objects. NumPy's library of algorithms written in the C language can operate on this memory without any type checking or other overhead. NumPy arrays also use much less memory than built-in Python sequences.\n",
    "- NumPy operations perform complex computations on entire arrays without the need for Python for loops, which can be slow for large sequences. NumPy is faster than regular Python code because its C-based algorithms avoid overhead present with regular interpreted Python code."
   ]
  },
  {
   "cell_type": "markdown",
   "id": "11d926c5",
   "metadata": {},
   "source": [
    "# Import numpy\n",
    "\n",
    "The numpy module can be imported using `import numpy`. The alias `np` is commonly used for `numpy`."
   ]
  },
  {
   "cell_type": "code",
   "execution_count": 79,
   "id": "bfb4f607",
   "metadata": {},
   "outputs": [],
   "source": [
    "import numpy as np"
   ]
  },
  {
   "cell_type": "markdown",
   "id": "239ee8e8",
   "metadata": {},
   "source": [
    "## Array Creation\n",
    "\n",
    "NumPy arrays can be defined using Python sequences such as lists and tuples."
   ]
  },
  {
   "cell_type": "code",
   "execution_count": 80,
   "id": "a4ee9781",
   "metadata": {},
   "outputs": [
    {
     "name": "stdout",
     "output_type": "stream",
     "text": [
      "[1 2 3]\n",
      "<class 'numpy.ndarray'>\n",
      "1\n",
      "int64\n"
     ]
    }
   ],
   "source": [
    "# Creates a 1-dimensional numpy array (matrix)\n",
    "m = np.array([1, 2, 3])\n",
    "print(m)\n",
    "\n",
    "# The list becomes an ndarray object\n",
    "print(type(m))\n",
    "\n",
    "# The ndim attribute returns the number of dimensions ==> 1\n",
    "print(m.ndim)\n",
    "\n",
    "# The data type is int64 (or float32; platform dependent) as the values contained in the list are integers\n",
    "# If Numpy encounters at least one float, the dtype of the matrix will be float64 (or float32)\n",
    "print(m.dtype)"
   ]
  },
  {
   "cell_type": "markdown",
   "id": "852d9836",
   "metadata": {},
   "source": [
    "**Remark:**\n",
    "    \n",
    "The default NumPy behavior is to create arrays in either 32 or 64-bit signed integers (platform dependent and matches C long size) or double precision floating point numbers. If you expect your integer arrays to be a specific type, then you need to specify the dtype while you create the array."
   ]
  },
  {
   "cell_type": "markdown",
   "id": "b51318e4",
   "metadata": {},
   "source": [
    "Of course, we can also create multi-dimensional matrices. We only have to pass a nested list."
   ]
  },
  {
   "cell_type": "code",
   "execution_count": 81,
   "id": "e84d771e",
   "metadata": {},
   "outputs": [
    {
     "name": "stdout",
     "output_type": "stream",
     "text": [
      "[[ 1  2  3]\n",
      " [10 11 11]]\n",
      "(2, 3)\n"
     ]
    }
   ],
   "source": [
    "m = np.array([[1, 2, 3], \n",
    "              [10, 11, 11]])\n",
    "\n",
    "# Note that each list becomes a ROW\n",
    "print(m)\n",
    "\n",
    "# Shape of the matrix\n",
    "# It's a 2x3 matrix ==> <rows> x <columns>\n",
    "print(m.shape)\n"
   ]
  },
  {
   "cell_type": "markdown",
   "id": "c3330c54",
   "metadata": {},
   "source": [
    "We can also manually specify the data type by setting the `dtype` param.\n",
    "\n",
    "A list of available `dtypes` can be found here: https://numpy.org/doc/stable/user/basics.types.html"
   ]
  },
  {
   "cell_type": "code",
   "execution_count": 82,
   "id": "0efde2a4",
   "metadata": {},
   "outputs": [
    {
     "name": "stdout",
     "output_type": "stream",
     "text": [
      "[1 2 3]\n",
      "uint8\n"
     ]
    }
   ],
   "source": [
    "m = np.array([1, 2, 3], dtype=np.uint8)\n",
    "print(m)\n",
    "print(m.dtype)"
   ]
  },
  {
   "cell_type": "markdown",
   "id": "9c4f82b3",
   "metadata": {},
   "source": [
    "Now only integer values in the range from -128 to 127 can be represented by the matrix."
   ]
  },
  {
   "cell_type": "markdown",
   "id": "f5f2ec0a",
   "metadata": {},
   "source": [
    "**Caution: If you try to store a value outside this range, Numpy will NOT raise an error.** (apparently, Numpy devs plan to change this behavior though)"
   ]
  },
  {
   "cell_type": "code",
   "execution_count": 83,
   "id": "a6f33777",
   "metadata": {},
   "outputs": [
    {
     "name": "stderr",
     "output_type": "stream",
     "text": [
      "/tmp/ipykernel_141987/1819778962.py:1: DeprecationWarning: NumPy will stop allowing conversion of out-of-bound Python integers to integer arrays.  The conversion of 1000 to uint8 will fail in the future.\n",
      "For the old behavior, usually:\n",
      "    np.array(value).astype(dtype)`\n",
      "will give the desired result (the cast overflows).\n",
      "  m[0] = 1000\n"
     ]
    }
   ],
   "source": [
    "m[0] = 1000"
   ]
  },
  {
   "cell_type": "code",
   "execution_count": 84,
   "id": "9a3b69f5",
   "metadata": {},
   "outputs": [
    {
     "name": "stdout",
     "output_type": "stream",
     "text": [
      "[232   2   3]\n"
     ]
    }
   ],
   "source": [
    "print(m)"
   ]
  },
  {
   "cell_type": "markdown",
   "id": "188d0b9e",
   "metadata": {},
   "source": [
    "If you are unsure of what range is supported by a specific data type, you can use the `np.iinfo()` or `np.finfo()` method. This method returns the machine limits for a given data type."
   ]
  },
  {
   "cell_type": "code",
   "execution_count": 85,
   "id": "1e4e6103",
   "metadata": {},
   "outputs": [
    {
     "data": {
      "text/plain": [
       "finfo(resolution=1e-15, min=-1.7976931348623157e+308, max=1.7976931348623157e+308, dtype=float64)"
      ]
     },
     "execution_count": 85,
     "metadata": {},
     "output_type": "execute_result"
    }
   ],
   "source": [
    "# Machine limits for floating point types\n",
    "np.finfo(np.float64)"
   ]
  },
  {
   "cell_type": "code",
   "execution_count": 86,
   "id": "d56a2820",
   "metadata": {},
   "outputs": [
    {
     "data": {
      "text/plain": [
       "iinfo(min=0, max=18446744073709551615, dtype=uint64)"
      ]
     },
     "execution_count": 86,
     "metadata": {},
     "output_type": "execute_result"
    }
   ],
   "source": [
    "# Machine limits for int point types\n",
    "np.iinfo(np.uint64)"
   ]
  },
  {
   "cell_type": "markdown",
   "id": "6a964a87",
   "metadata": {},
   "source": [
    "### Some best practices for creating arrays"
   ]
  },
  {
   "cell_type": "markdown",
   "id": "a790b076",
   "metadata": {},
   "source": [
    "#### Function: np.arange()\n",
    "\n",
    "`np.arange` creates arrays with regularly incrementing values. In terms of its output it is similar to running `np.array(range(1, 10))`. However, unlike `range()`, `np.arange()` also supports floating point values."
   ]
  },
  {
   "cell_type": "code",
   "execution_count": 87,
   "id": "e0c38a5c",
   "metadata": {},
   "outputs": [
    {
     "name": "stdout",
     "output_type": "stream",
     "text": [
      "[1 2 3 4 5 6 7 8 9]\n",
      "int64\n"
     ]
    }
   ],
   "source": [
    "# Create an np.array with ints from 1 to (excl.) 10\n",
    "m = np.arange(1, 10)\n",
    "\n",
    "print(m)\n",
    "print(m.dtype)"
   ]
  },
  {
   "cell_type": "code",
   "execution_count": 88,
   "id": "dba52938",
   "metadata": {},
   "outputs": [
    {
     "name": "stdout",
     "output_type": "stream",
     "text": [
      "[1. 2. 3. 4. 5. 6. 7. 8. 9.]\n",
      "float64\n"
     ]
    }
   ],
   "source": [
    "# Create an np.array with floats from 1 to (excl.) 10\n",
    "m = np.arange(1., 10.)\n",
    "\n",
    "print(m)\n",
    "print(m.dtype)"
   ]
  },
  {
   "cell_type": "code",
   "execution_count": 89,
   "id": "604437c3",
   "metadata": {},
   "outputs": [
    {
     "name": "stdout",
     "output_type": "stream",
     "text": [
      "[1.  1.2 1.4 1.6 1.8 2.  2.2 2.4 2.6 2.8 3.  3.2 3.4 3.6 3.8 4.  4.2 4.4\n",
      " 4.6 4.8 5.  5.2 5.4 5.6 5.8 6.  6.2 6.4 6.6 6.8 7.  7.2 7.4 7.6 7.8 8.\n",
      " 8.2 8.4 8.6 8.8 9.  9.2 9.4 9.6 9.8]\n",
      "float64\n"
     ]
    }
   ],
   "source": [
    "# Create an np.array with floats from 1 to (excl.) 10. However, the step size should be 0.2\n",
    "m = np.arange(1., 10., 0.2)\n",
    "\n",
    "print(m)\n",
    "print(m.dtype)"
   ]
  },
  {
   "cell_type": "markdown",
   "id": "dc36c847",
   "metadata": {},
   "source": [
    "#### Function: np.linspace()\n",
    "\n",
    "`np.linspace()` will create arrays with a specified number of elements, and spaced equally between the specified beginning and end values. The output data typed is always float."
   ]
  },
  {
   "cell_type": "code",
   "execution_count": 90,
   "id": "a39649ac",
   "metadata": {},
   "outputs": [
    {
     "name": "stdout",
     "output_type": "stream",
     "text": [
      "[1.]\n"
     ]
    }
   ],
   "source": [
    "m = np.linspace(1, 10, 1)\n",
    "\n",
    "print(m)"
   ]
  },
  {
   "cell_type": "markdown",
   "id": "898693bb",
   "metadata": {},
   "source": [
    "#### Function: np.eye()\n",
    "\n",
    "Creates an identity matrix of a given size."
   ]
  },
  {
   "cell_type": "code",
   "execution_count": 91,
   "id": "0c74c9ae",
   "metadata": {},
   "outputs": [
    {
     "data": {
      "text/plain": [
       "array([[1., 0., 0., 0., 0.],\n",
       "       [0., 1., 0., 0., 0.],\n",
       "       [0., 0., 1., 0., 0.],\n",
       "       [0., 0., 0., 1., 0.],\n",
       "       [0., 0., 0., 0., 1.]])"
      ]
     },
     "execution_count": 91,
     "metadata": {},
     "output_type": "execute_result"
    }
   ],
   "source": [
    "# Creates an identity matrix of size 5x5\n",
    "np.eye(5)"
   ]
  },
  {
   "cell_type": "markdown",
   "id": "3b313d98",
   "metadata": {},
   "source": [
    "#### Function: numpy.diag()\n",
    "\n",
    "Extract a diagonal or construct a diagonal array."
   ]
  },
  {
   "cell_type": "code",
   "execution_count": 92,
   "id": "0371ab35",
   "metadata": {},
   "outputs": [
    {
     "data": {
      "text/plain": [
       "array([[1, 0, 0],\n",
       "       [0, 2, 0],\n",
       "       [0, 0, 3]])"
      ]
     },
     "execution_count": 92,
     "metadata": {},
     "output_type": "execute_result"
    }
   ],
   "source": [
    "# Create a 3x3 matrix with the values [1,2,3] along the diagonal\n",
    "np.diag([1, 2, 3])"
   ]
  },
  {
   "cell_type": "code",
   "execution_count": 93,
   "id": "eef89ad3",
   "metadata": {},
   "outputs": [
    {
     "data": {
      "text/plain": [
       "array([1, 2, 3])"
      ]
     },
     "execution_count": 93,
     "metadata": {},
     "output_type": "execute_result"
    }
   ],
   "source": [
    "# np.diag() will extract the values along the diagonal if we pass a 2d-array\n",
    "np.diag([[1, 0, 4],\n",
    "         [2, 2, 0],\n",
    "         [0, 0, 3]])"
   ]
  },
  {
   "cell_type": "markdown",
   "id": "c058f3de",
   "metadata": {},
   "source": [
    "#### Function: np.ones(), np.zeros(), np.full()\n",
    "\n",
    "Creates an array filled with the specified value."
   ]
  },
  {
   "cell_type": "code",
   "execution_count": 104,
   "id": "f7bca411",
   "metadata": {},
   "outputs": [
    {
     "data": {
      "text/plain": [
       "array([[1., 1.],\n",
       "       [1., 1.],\n",
       "       [1., 1.],\n",
       "       [1., 1.]])"
      ]
     },
     "execution_count": 104,
     "metadata": {},
     "output_type": "execute_result"
    }
   ],
   "source": [
    "# Creates a 4x2 matrix of 1s\n",
    "np.ones((4,2))"
   ]
  },
  {
   "cell_type": "code",
   "execution_count": 105,
   "id": "e875e899",
   "metadata": {},
   "outputs": [
    {
     "data": {
      "text/plain": [
       "array([[0., 0.],\n",
       "       [0., 0.],\n",
       "       [0., 0.],\n",
       "       [0., 0.]])"
      ]
     },
     "execution_count": 105,
     "metadata": {},
     "output_type": "execute_result"
    }
   ],
   "source": [
    "# Creates a 4x2 matrix of 0s\n",
    "np.zeros((4,2))"
   ]
  },
  {
   "cell_type": "code",
   "execution_count": 106,
   "id": "606f5a39",
   "metadata": {},
   "outputs": [
    {
     "data": {
      "text/plain": [
       "array([[5, 5],\n",
       "       [5, 5],\n",
       "       [5, 5],\n",
       "       [5, 5]])"
      ]
     },
     "execution_count": 106,
     "metadata": {},
     "output_type": "execute_result"
    }
   ],
   "source": [
    "# Creates a 4x2 matrix of 5s\n",
    "np.full((4,2), fill_value=5)"
   ]
  },
  {
   "cell_type": "markdown",
   "id": "3a80eea3",
   "metadata": {},
   "source": [
    "#### Function: np.ones_like(), np.zeros_like(), np.full_like()\n",
    "\n",
    "Behaves similar to `np.ones()`, `np.zeros()`, `np.full()`. <br/>\n",
    "However, instead of the providing the shape of a matrix, we directly provide a matrix. The function then copies the shape of the given matrix."
   ]
  },
  {
   "cell_type": "code",
   "execution_count": 107,
   "id": "388d0b5d",
   "metadata": {},
   "outputs": [],
   "source": [
    "template_matrix = [[1, 2, 3], \n",
    "                   [1, 2, 3]]"
   ]
  },
  {
   "cell_type": "code",
   "execution_count": 108,
   "id": "b97f9510",
   "metadata": {},
   "outputs": [
    {
     "data": {
      "text/plain": [
       "array([[1, 1, 1],\n",
       "       [1, 1, 1]])"
      ]
     },
     "execution_count": 108,
     "metadata": {},
     "output_type": "execute_result"
    }
   ],
   "source": [
    "np.ones_like(template_matrix)"
   ]
  },
  {
   "cell_type": "code",
   "execution_count": 109,
   "id": "1e6bc03c",
   "metadata": {},
   "outputs": [
    {
     "data": {
      "text/plain": [
       "array([[0, 0, 0],\n",
       "       [0, 0, 0]])"
      ]
     },
     "execution_count": 109,
     "metadata": {},
     "output_type": "execute_result"
    }
   ],
   "source": [
    "np.zeros_like(template_matrix)"
   ]
  },
  {
   "cell_type": "code",
   "execution_count": 110,
   "id": "7f4bd06f",
   "metadata": {},
   "outputs": [
    {
     "data": {
      "text/plain": [
       "array([[5, 5, 5],\n",
       "       [5, 5, 5]])"
      ]
     },
     "execution_count": 110,
     "metadata": {},
     "output_type": "execute_result"
    }
   ],
   "source": [
    "np.full_like(template_matrix, 5)"
   ]
  },
  {
   "cell_type": "markdown",
   "id": "ccfb0d22",
   "metadata": {},
   "source": [
    "### Creating random numbers\n",
    "\n",
    "Sometimes we need random numbers. Numpy offers a large variety of function for creating matrices with random numbers."
   ]
  },
  {
   "cell_type": "code",
   "execution_count": 114,
   "id": "f751cfab",
   "metadata": {},
   "outputs": [
    {
     "name": "stdout",
     "output_type": "stream",
     "text": [
      "[[0.56296477 0.40660496 0.29555372]\n",
      " [0.34095028 0.92518701 0.39468034]\n",
      " [0.73181648 0.79457822 0.29150436]\n",
      " [0.31882976 0.15417473 0.93534527]\n",
      " [0.32937954 0.68329234 0.48358203]\n",
      " [0.0731222  0.26662191 0.74936632]]\n"
     ]
    }
   ],
   "source": [
    "# Sample values from a uniform distribution in the range [0, 1). \n",
    "# Creates a matrix of size 6x3\n",
    "m = np.random.rand(6, 3)\n",
    "\n",
    "print(m)"
   ]
  },
  {
   "cell_type": "code",
   "execution_count": 115,
   "id": "fb0b3d0d",
   "metadata": {},
   "outputs": [
    {
     "name": "stdout",
     "output_type": "stream",
     "text": [
      "[[-0.16017929  1.35638111  0.52409248]\n",
      " [-0.52826872 -0.52858929  0.49310596]\n",
      " [-1.3902875  -0.36804681  1.47792148]\n",
      " [-0.43005312 -0.03945756  0.64369272]\n",
      " [ 0.0715172   0.686191    0.65509169]\n",
      " [ 0.70499579 -0.02302681  0.09354066]]\n"
     ]
    }
   ],
   "source": [
    "# Sample values from a standard normal distribution (mean=0, var=1)\n",
    "# Creates a matrix of size 6x3\n",
    "m = np.random.randn(6, 3)\n",
    "\n",
    "print(m)"
   ]
  },
  {
   "cell_type": "code",
   "execution_count": 122,
   "id": "de615533",
   "metadata": {},
   "outputs": [
    {
     "name": "stdout",
     "output_type": "stream",
     "text": [
      "[[3 2 3 3]\n",
      " [1 1 3 3]\n",
      " [1 2 1 1]\n",
      " [1 3 2 2]\n",
      " [3 1 3 3]\n",
      " [1 3 1 3]]\n"
     ]
    }
   ],
   "source": [
    "# Return random integers from low (inclusive) to high (exclusive).\n",
    "m = np.random.randint(1, 4, size=(6,4))\n",
    "\n",
    "print(m)"
   ]
  }
 ],
 "metadata": {
  "kernelspec": {
   "display_name": "Python 3 (ipykernel)",
   "language": "python",
   "name": "python3"
  },
  "language_info": {
   "codemirror_mode": {
    "name": "ipython",
    "version": 3
   },
   "file_extension": ".py",
   "mimetype": "text/x-python",
   "name": "python",
   "nbconvert_exporter": "python",
   "pygments_lexer": "ipython3",
   "version": "3.11.5"
  }
 },
 "nbformat": 4,
 "nbformat_minor": 5
}
