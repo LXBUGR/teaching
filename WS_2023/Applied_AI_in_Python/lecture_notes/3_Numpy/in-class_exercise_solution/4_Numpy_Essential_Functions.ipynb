{
 "cells": [
  {
   "cell_type": "markdown",
   "id": "6da45b1e",
   "metadata": {},
   "source": [
    "# NumPy: Essential Functions"
   ]
  },
  {
   "cell_type": "code",
   "execution_count": 3,
   "id": "a73d477d",
   "metadata": {},
   "outputs": [],
   "source": [
    "import numpy as np"
   ]
  },
  {
   "cell_type": "markdown",
   "id": "d2f8ce38",
   "metadata": {},
   "source": [
    "## Universal functions\n",
    "\n",
    "A universal function, or ufunc, is a function that performs element-wise operations\n",
    "on data in ndarrays. You can think of them as fast vectorized wrappers for simple functions that take one or more scalar values and produce one or more scalar results.\n",
    "\n",
    "In NumPy, universal functions are instances of the `np.ufunc` class. Many of the built-in functions are implemented in compiled C code. The basic ufuncs operate on scalars, but there is also a generalized kind for which the basic elements are sub-arrays (vectors, matrices, etc.), and broadcasting is done over other dimensions.\n",
    "\n",
    "Note that the output of the ufunc (and its methods) is not necessarily an ndarray."
   ]
  },
  {
   "cell_type": "markdown",
   "id": "1073eae0",
   "metadata": {},
   "source": [
    "### Unary ufuncs\n",
    "\n",
    "Unary ufuncs are functions that take **one** ndarray as their input. \n",
    "\n",
    "For example:\n",
    "\n",
    "- np.abs(array): To calculate absolute value of each value of the array.\n",
    "- np.sqrt(array): To calculate square root of each value of the array.\n",
    "- np.exp(array): To calculate exponential value of each element of the array.\n",
    "- np.square(array): To calculate square of each value of the array.\n",
    "- np.sin(array): To find the sine value of each data in the array.\n",
    "- np.cos(array): To find the cos value of each data in the array.\n",
    "- np.tan(array): To find the tan value of each data in the array.\n",
    "- np.log(array): To find the natural logarithm (base e)\n",
    "- np.loglog10(array): To find the logarithm (base 10)"
   ]
  },
  {
   "cell_type": "code",
   "execution_count": 8,
   "id": "8c315850",
   "metadata": {},
   "outputs": [
    {
     "name": "stdout",
     "output_type": "stream",
     "text": [
      "[[0.         1.        ]\n",
      " [1.41421356 1.73205081]]\n",
      "[[0.         0.84147098]\n",
      " [0.90929743 0.14112001]]\n"
     ]
    }
   ],
   "source": [
    "m = np.arange(4).reshape(2, 2)\n",
    "\n",
    "print(np.sqrt(m))\n",
    "print(np.sin(m))"
   ]
  },
  {
   "cell_type": "markdown",
   "id": "8fde79d1",
   "metadata": {},
   "source": [
    "Other unary functions:\n",
    "\n",
    "- np.sum(array): Sum of array elements over a given axis.\n",
    "- np.max(array): Return the maximum of an array or maximum along an axis.\n",
    "- np.mean(array): Mean of an array or mean along an axis.\n",
    "- np.cumsum(array): Cummulative sum of an array or cumsum along an axis"
   ]
  },
  {
   "cell_type": "code",
   "execution_count": 50,
   "id": "ae77e1d4",
   "metadata": {},
   "outputs": [
    {
     "name": "stdout",
     "output_type": "stream",
     "text": [
      "[[0 1 2]\n",
      " [3 4 5]]\n",
      "=======\n",
      "Sum: 15\n",
      "Sum along the 0st axis: [3 5 7]\n",
      "Mean: 2.5\n",
      "Mean along the 0st axis: [1.5 2.5 3.5]\n",
      "Max: 5\n",
      "Max along the 1st axis:: [2 5]\n",
      "Min: 0\n",
      "Cumsum: [ 0  1  3  6 10 15]\n",
      "Cumsum along the 0st axis: [[0 1 2]\n",
      " [3 5 7]]\n"
     ]
    }
   ],
   "source": [
    "m = np.arange(6).reshape(2, 3)\n",
    "\n",
    "# Hint: m has shape 2 x 3 (num_rows x num_cols)\n",
    "# axis=0 => [:, 0] and [:, 1]\n",
    "\n",
    "print(m)\n",
    "print('=======')\n",
    "\n",
    "print('Sum:', np.sum(m))\n",
    "print('Sum along the 0st axis:', np.sum(m, axis=0)) # Along the cols\n",
    "print('Mean:', np.mean(m))\n",
    "print('Mean along the 0st axis:', np.mean(m, axis=0)) # Along the cols\n",
    "print('Max:', np.max(m))\n",
    "print('Max along the 1st axis::', np.max(m, axis=1)) # Along the rows\n",
    "print('Min:', np.min(m))\n",
    "print('Cumsum:', np.cumsum(m))\n",
    "print('Cumsum along the 0st axis:', np.cumsum(m, axis=0)) # Along the cols"
   ]
  },
  {
   "cell_type": "code",
   "execution_count": 51,
   "id": "124c3971",
   "metadata": {},
   "outputs": [
    {
     "name": "stdout",
     "output_type": "stream",
     "text": [
      "[[[0 1]\n",
      "  [2 3]]\n",
      "\n",
      " [[4 5]\n",
      "  [6 7]]]\n",
      "=======\n",
      "Sum along the 0st axis: [[ 4  6]\n",
      " [ 8 10]]\n",
      "Mean along the 0st axis: [[2. 3.]\n",
      " [4. 5.]]\n",
      "Max along the 1st axis:: [[2 3]\n",
      " [6 7]]\n",
      "Cumsum along the 0st axis: [[[ 0  1]\n",
      "  [ 2  3]]\n",
      "\n",
      " [[ 4  6]\n",
      "  [ 8 10]]]\n"
     ]
    }
   ],
   "source": [
    "m = np.arange(2**3).reshape(2, 2, 2)\n",
    "\n",
    "# Hint: m has shape 2 x 2 x 2\n",
    "# axis=0 => [:, 0, 0] and [:, 0, 1] and [:, 1, 0] and [:, 1, 1]\n",
    "\n",
    "print(m)\n",
    "print('=======')\n",
    "\n",
    "print('Sum along the 0st axis:', np.sum(m, axis=0))\n",
    "print('Mean along the 0st axis:', np.mean(m, axis=0))\n",
    "print('Max along the 1st axis::', np.max(m, axis=1))\n",
    "print('Cumsum along the 0st axis:', np.cumsum(m, axis=0))"
   ]
  },
  {
   "cell_type": "markdown",
   "id": "2699cad6",
   "metadata": {},
   "source": [
    "### Binary ufuncs\n",
    "\n",
    "Binary ufuncs are functions that take **two** ndarray as their input. \n",
    "\n",
    "For example:\n",
    "\n",
    "- np.add: \tAddition (e.g., 1 + 1 = 2)\n",
    "- np.subtract: Subtraction (e.g., 3 - 2 = 1)\n",
    "- np.multiply:  Multiplication (e.g., 2 * 3 = 6)\n",
    "- np.divide: Division (e.g., 3 / 2 = 1.5)\n",
    "- np.floor_divide; \tFloor division (e.g., 3 // 2 = 1)\n"
   ]
  },
  {
   "cell_type": "markdown",
   "id": "9772fce1",
   "metadata": {},
   "source": [
    "## Performance\n",
    "\n",
    "In general, ufuncs (when applied to ndarrays directly) tend to be significantly faster than implementations that require iterating over a list.\n",
    "\n",
    "The following example illustrates the difference in performance:"
   ]
  },
  {
   "cell_type": "code",
   "execution_count": 9,
   "id": "6e20c724",
   "metadata": {},
   "outputs": [
    {
     "name": "stdout",
     "output_type": "stream",
     "text": [
      "[[0 2]\n",
      " [4 6]]\n"
     ]
    }
   ],
   "source": [
    "m = np.arange(4).reshape(2, 2)\n",
    "\n",
    "print(np.add(m, m))"
   ]
  },
  {
   "cell_type": "code",
   "execution_count": 91,
   "id": "d141b51b",
   "metadata": {},
   "outputs": [],
   "source": [
    "m_list = list(range(1, 10**5))\n",
    "m_array = np.array(m_list)\n",
    "\n",
    "def list_reciprocal(l):\n",
    "    return [1/v for v in m_list]        "
   ]
  },
  {
   "cell_type": "code",
   "execution_count": 92,
   "id": "b08a1372",
   "metadata": {},
   "outputs": [
    {
     "name": "stdout",
     "output_type": "stream",
     "text": [
      "1.9 ms ± 143 µs per loop (mean ± std. dev. of 7 runs, 100 loops each)\n"
     ]
    }
   ],
   "source": [
    "# Time to compute the reciprocal with list iteration: ~1.82ms\n",
    "%timeit list_reciprocal(m_list)"
   ]
  },
  {
   "cell_type": "code",
   "execution_count": 93,
   "id": "3f93acc3",
   "metadata": {},
   "outputs": [
    {
     "name": "stdout",
     "output_type": "stream",
     "text": [
      "94.1 µs ± 753 ns per loop (mean ± std. dev. of 7 runs, 10,000 loops each)\n"
     ]
    }
   ],
   "source": [
    "# reciprocal using the ufunc implementation (input: ndarray): 92.7 us\n",
    "%timeit np.reciprocal(m_array)"
   ]
  },
  {
   "cell_type": "code",
   "execution_count": 94,
   "id": "715deb9c",
   "metadata": {},
   "outputs": [
    {
     "name": "stdout",
     "output_type": "stream",
     "text": [
      "2.44 ms ± 65.6 µs per loop (mean ± std. dev. of 7 runs, 100 loops each)\n"
     ]
    }
   ],
   "source": [
    "# reciprocal using the ufunc implementation (input: list): 2.43ms\n",
    "# Requires an ndarray conversion (which most likely requires to iterate over the array). This causes an overhead.\n",
    "# This causes the implementation to be slower than directly calling list_reciprocal() (!)\n",
    "%timeit np.reciprocal(m_list)"
   ]
  },
  {
   "cell_type": "markdown",
   "id": "716fc83c",
   "metadata": {},
   "source": [
    "**Remark:** Avoid conversion from ndarrays to nested lists and vice versa whenever you can!"
   ]
  },
  {
   "cell_type": "markdown",
   "id": "790cb377",
   "metadata": {},
   "source": [
    "### Tip: Creating ufunc-like functions using np.vectorize()\n",
    "\n",
    "The purpose of `np.vectorize()` is to transform functions which are not numpy-aware into functions that can operate on (and return) numpy arrays. The `np.vectorize(func)` automatically calls `func()` for every value in the numpy array. The returned values replace the items in the original matrix.\n",
    "\n",
    "**Important remark: `np.vectorize()` is provided primarily for convenience, not for performance. The implementation is essentially a for loop**."
   ]
  },
  {
   "cell_type": "markdown",
   "id": "c7436fe3",
   "metadata": {},
   "source": [
    "The example below illustrates how `np.vectorize()` can be applied in practice:"
   ]
  },
  {
   "cell_type": "code",
   "execution_count": 182,
   "id": "9ef1bf80",
   "metadata": {},
   "outputs": [],
   "source": [
    "def elementwise_func(element):\n",
    "    return 2*element if element % 2 else 3 * element\n",
    "\n",
    "def iterating_func(matrix):\n",
    "\n",
    "    for row_idx in range(matrix.shape[0]):\n",
    "        for col_idx in range(matrix.shape[1]):\n",
    "            element = matrix[row_idx, col_idx]\n",
    "            element = 2 * element if element % 2 else 3 * element\n",
    "\n",
    "            \n",
    "    return matrix\n",
    "\n",
    "vectorized_pow = np.vectorize(elementwise_func)"
   ]
  },
  {
   "cell_type": "code",
   "execution_count": 183,
   "id": "f66fdca5",
   "metadata": {},
   "outputs": [
    {
     "name": "stdout",
     "output_type": "stream",
     "text": [
      "82.6 ms ± 4.54 ms per loop (mean ± std. dev. of 7 runs, 1 loop each)\n"
     ]
    }
   ],
   "source": [
    "m = np.arange(1000**2).reshape(1000, 1000)\n",
    "\n",
    "# We run time it since vectorize() is an inplace operation\n",
    "# Using np.vectorize() results in a small performance gain\n",
    "%timeit -n 1 vectorized_pow(m)"
   ]
  },
  {
   "cell_type": "code",
   "execution_count": 184,
   "id": "9ecb84ad",
   "metadata": {},
   "outputs": [
    {
     "name": "stdout",
     "output_type": "stream",
     "text": [
      "110 ms ± 3.86 ms per loop (mean ± std. dev. of 7 runs, 1 loop each)\n"
     ]
    }
   ],
   "source": [
    "m = np.arange(1000**2).reshape(1000, 1000)\n",
    "\n",
    "# We run time it since iterating_func() is an inplace operation\n",
    "%timeit -n 1 iterating_func(m)"
   ]
  },
  {
   "cell_type": "markdown",
   "id": "b08dba03",
   "metadata": {},
   "source": [
    "**The following code shows a fully vectorized implementation of the previous function. The fully vectorized implementation is almost 10 times faster!**"
   ]
  },
  {
   "cell_type": "code",
   "execution_count": 189,
   "id": "43f0e635",
   "metadata": {},
   "outputs": [
    {
     "name": "stdout",
     "output_type": "stream",
     "text": [
      "9.9 ms ± 1.27 ms per loop (mean ± std. dev. of 7 runs, 1 loop each)\n"
     ]
    }
   ],
   "source": [
    "m = np.arange(1000**2).reshape(1000, 1000)\n",
    "%timeit -n 1 np.where(m % 2 == 0, m * 3, m * 2)"
   ]
  },
  {
   "cell_type": "code",
   "execution_count": null,
   "id": "fd1dbc9b",
   "metadata": {},
   "outputs": [],
   "source": []
  }
 ],
 "metadata": {
  "kernelspec": {
   "display_name": "Python 3 (ipykernel)",
   "language": "python",
   "name": "python3"
  },
  "language_info": {
   "codemirror_mode": {
    "name": "ipython",
    "version": 3
   },
   "file_extension": ".py",
   "mimetype": "text/x-python",
   "name": "python",
   "nbconvert_exporter": "python",
   "pygments_lexer": "ipython3",
   "version": "3.11.5"
  }
 },
 "nbformat": 4,
 "nbformat_minor": 5
}
