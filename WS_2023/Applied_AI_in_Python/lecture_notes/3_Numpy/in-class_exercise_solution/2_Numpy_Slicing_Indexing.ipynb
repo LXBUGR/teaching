{
 "cells": [
  {
   "cell_type": "markdown",
   "id": "fd2567d2",
   "metadata": {},
   "source": [
    "# NumPy: Indexing and Slicing"
   ]
  },
  {
   "cell_type": "markdown",
   "id": "7cb818c8",
   "metadata": {},
   "source": [
    "`ndarray` can be indexed using the standard Python `x[obj]` syntax, where `x` is the array and `obj` the selection. <br/>\n",
    "There are different kinds of indexing available depending on `obj`: basic indexing, advanced indexing and field access."
   ]
  },
  {
   "cell_type": "code",
   "execution_count": 2,
   "id": "2e5c4a10",
   "metadata": {},
   "outputs": [],
   "source": [
    "import numpy as np"
   ]
  },
  {
   "cell_type": "markdown",
   "id": "aecb43a3",
   "metadata": {},
   "source": [
    "## Basic indexing"
   ]
  },
  {
   "cell_type": "markdown",
   "id": "a667c1da",
   "metadata": {},
   "source": [
    "Thus far we have seen that we can access the contents of a NumPy array by specifying an integer or slice-object as an index for each one of its dimensions. Indexing into and slicing along the dimensions of an array are known as **basic indexing**."
   ]
  },
  {
   "cell_type": "markdown",
   "id": "64be98f1",
   "metadata": {},
   "source": [
    "The following example illustrates how we can index or slice a 1d array."
   ]
  },
  {
   "cell_type": "code",
   "execution_count": 3,
   "id": "896f3e09",
   "metadata": {},
   "outputs": [
    {
     "name": "stdout",
     "output_type": "stream",
     "text": [
      "[0 1 2 3 4 5 6 7 8 9]\n",
      "5\n",
      "8\n",
      "[5 6 7]\n",
      "[3 4 5 6 7 8]\n",
      "[8 7 6 5]\n"
     ]
    }
   ],
   "source": [
    "m = np.arange(10)\n",
    "\n",
    "print(m)\n",
    "\n",
    "# Indexing: Get the element at pos 5\n",
    "print(m[5])\n",
    "\n",
    "# Indexing: Get the second last element\n",
    "print(m[-2])\n",
    "\n",
    "# Slicing: Get a slice of elements starting at pos for 5 up to (incl) 7\n",
    "print(m[5:8])\n",
    "\n",
    "# Slicing: Get a slice of elements starting at pos for 3 to the (incl.) second last element \n",
    "# (assuming that the size of the array is unknown)\n",
    "print(m[3:-1])\n",
    "\n",
    "# Slicing: Get a slice of elements starting from the second last element down to (incl.) fifth last element\n",
    "# (assuming that the size of the array is unknown)\n",
    "print(m[-2:-6:-1])"
   ]
  },
  {
   "cell_type": "markdown",
   "id": "8cd16f76",
   "metadata": {},
   "source": [
    "**Hint:** `m[start:stop:step]`. In case of negative indices simply calculate `pos_index=len(m)-index` to determine the position. If `pos_start` is larger than `pos_stop`, the step step size `s` needs to be negative. Otherwise, the result is an empty matrix"
   ]
  },
  {
   "cell_type": "markdown",
   "id": "821df803",
   "metadata": {},
   "source": [
    "If we are dealing with higher-dimensional matrices, we have to specify the slices for each dimension."
   ]
  },
  {
   "cell_type": "code",
   "execution_count": 4,
   "id": "eb53b00c",
   "metadata": {},
   "outputs": [
    {
     "name": "stdout",
     "output_type": "stream",
     "text": [
      "[[1 2 3]\n",
      " [4 5 6]\n",
      " [7 8 9]]\n",
      "2\n",
      "[2 5 8]\n",
      "[2 5]\n",
      "[[2 3]\n",
      " [5 6]\n",
      " [8 9]]\n"
     ]
    }
   ],
   "source": [
    "m = np.array([[1, 2, 3], \n",
    "              [4, 5, 6], \n",
    "              [7, 8, 9]])\n",
    "\n",
    "print(m)\n",
    "\n",
    "# Indexing: Select the element in the first row and second column\n",
    "print(m[0, 1])\n",
    "\n",
    "# Slicing: Obtain the second column\n",
    "print(m[:, 1])\n",
    "\n",
    "# Slicing: Obtain the first two elements in the second column\n",
    "print(m[:2, 1])\n",
    "\n",
    "# Slicing: Obtain the last two columns\n",
    "print(m[:, -2:])"
   ]
  },
  {
   "cell_type": "markdown",
   "id": "452e1db3",
   "metadata": {},
   "source": [
    "**Remark:** Note that slicing tuple can always be constructed as obj and used in the `x[obj]` notation. Slice objects can be used in the construction in place of the`[start:stop:step]` notation. For example,`x[1:10:5, ::-1]` can also be implemented as `obj = (slice(1, 10, 5), slice(None, None, -1)); x[obj]`"
   ]
  },
  {
   "cell_type": "markdown",
   "id": "76c0c65f",
   "metadata": {},
   "source": [
    "We can also use the built-in **Ellipsis object** `(...)` in order to insert slices into our index such that the index has as many entries as the array has dimensions. In the same way that `:` can be used to represent a slice object, `...` can be used to represent an Ellipsis object.\n"
   ]
  },
  {
   "cell_type": "code",
   "execution_count": 5,
   "id": "28f58f39",
   "metadata": {},
   "outputs": [
    {
     "name": "stdout",
     "output_type": "stream",
     "text": [
      "[[[ 0  1  2]\n",
      "  [ 3  4  5]\n",
      "  [ 6  7  8]]\n",
      "\n",
      " [[ 9 10 11]\n",
      "  [12 13 14]\n",
      "  [15 16 17]]\n",
      "\n",
      " [[18 19 20]\n",
      "  [21 22 23]\n",
      "  [24 25 26]]]\n",
      "(3, 3, 3)\n"
     ]
    }
   ],
   "source": [
    "# Create a matrix with 3-dimensions\n",
    "m = np.arange(3**3).reshape((3,)*3)\n",
    "print(m)\n",
    "print(m.shape)"
   ]
  },
  {
   "cell_type": "code",
   "execution_count": 6,
   "id": "f850ed7e",
   "metadata": {},
   "outputs": [
    {
     "name": "stdout",
     "output_type": "stream",
     "text": [
      "[[ 0  3  6]\n",
      " [ 9 12 15]\n",
      " [18 21 24]]\n"
     ]
    }
   ],
   "source": [
    "# Slicing with Ellipse Operator\n",
    "# The expression below is equivalent to m [:, :, 0]\n",
    "print(m[..., 0])"
   ]
  },
  {
   "cell_type": "code",
   "execution_count": 7,
   "id": "e116e1e7",
   "metadata": {},
   "outputs": [
    {
     "name": "stdout",
     "output_type": "stream",
     "text": [
      "[[0 1 2]\n",
      " [3 4 5]\n",
      " [6 7 8]]\n"
     ]
    }
   ],
   "source": [
    "# Slicing with Ellipse Operator\n",
    "# The expression below is equivalent to m [0, :, :]\n",
    "print(m[0, ...])"
   ]
  },
  {
   "cell_type": "code",
   "execution_count": 8,
   "id": "fabb365b",
   "metadata": {},
   "outputs": [
    {
     "name": "stdout",
     "output_type": "stream",
     "text": [
      "[2 5 8]\n"
     ]
    }
   ],
   "source": [
    "# Slicing with Ellipse Operator\n",
    "# The expression below is equivalent to m [0, :, 2]\n",
    "print(m[0, ..., 2])"
   ]
  },
  {
   "cell_type": "markdown",
   "id": "8a7efbba",
   "metadata": {},
   "source": [
    "### Modifying the matrix\n",
    "\n",
    "**Basic Indexing or Slicing** returns a view of the initial matrix. Hence, altering the matrix alters the inital matrix. If we don't want to alter the initial matrix, we have to create a copy of the matrix with `copy()`."
   ]
  },
  {
   "cell_type": "code",
   "execution_count": 34,
   "id": "94c87d18",
   "metadata": {},
   "outputs": [
    {
     "name": "stdout",
     "output_type": "stream",
     "text": [
      "[[10  1]\n",
      " [ 2  3]]\n",
      "[10  1]\n"
     ]
    }
   ],
   "source": [
    "m = np.arange(2**2).reshape((2,)*2)\n",
    "\n",
    "# Create a view\n",
    "view = m[0, :]\n",
    "\n",
    "# Alter the view\n",
    "view[0] = 10\n",
    "\n",
    "# We have altered the original array\n",
    "print(m)\n",
    "print(view)"
   ]
  },
  {
   "cell_type": "markdown",
   "id": "84ca825d",
   "metadata": {},
   "source": [
    "If we do not like this behavior, we have to create a copy explicitly."
   ]
  },
  {
   "cell_type": "code",
   "execution_count": 36,
   "id": "1f078110",
   "metadata": {},
   "outputs": [
    {
     "name": "stdout",
     "output_type": "stream",
     "text": [
      "[[0 1]\n",
      " [2 3]]\n",
      "[10  1]\n"
     ]
    }
   ],
   "source": [
    "m = np.arange(2**2).reshape((2,)*2)\n",
    "\n",
    "# Create a copy\n",
    "copy = m[0, :].copy()\n",
    "\n",
    "# Alter the copy\n",
    "copy[0] = 10\n",
    "\n",
    "# The original matrix has not been affected\n",
    "print(m)\n",
    "print(copy)"
   ]
  },
  {
   "cell_type": "markdown",
   "id": "4f5a802b",
   "metadata": {},
   "source": [
    "## Advanced indexing"
   ]
  },
  {
   "cell_type": "markdown",
   "id": "d919c849",
   "metadata": {},
   "source": [
    "Advanced indexing is triggered when the selection object, obj, is a non-tuple sequence object (as in the , an ndarray (of data type integer or bool), or a tuple with at least one sequence object or ndarray (of data type integer or bool). There are two types of advanced indexing: integer and Boolean."
   ]
  },
  {
   "cell_type": "markdown",
   "id": "8ae00deb",
   "metadata": {},
   "source": [
    "### Integer array indexing"
   ]
  },
  {
   "cell_type": "markdown",
   "id": "b8b3bd2e",
   "metadata": {},
   "source": [
    "Integer array indexing allows selection of arbitrary items in the array based on their N-dimensional index. Each integer array represents a number of indices into that dimension.\n",
    "\n",
    "Negative values are permitted in the index arrays and work as they do with single indices or slices:"
   ]
  },
  {
   "cell_type": "code",
   "execution_count": 164,
   "id": "8e70d698",
   "metadata": {},
   "outputs": [
    {
     "name": "stdout",
     "output_type": "stream",
     "text": [
      "[0 1 2 3 4 5 6 7 8 9]\n"
     ]
    }
   ],
   "source": [
    "m = np.arange(10)\n",
    "\n",
    "print(m)"
   ]
  },
  {
   "cell_type": "code",
   "execution_count": 165,
   "id": "d5f301c0",
   "metadata": {},
   "outputs": [
    {
     "name": "stdout",
     "output_type": "stream",
     "text": [
      "[0 5 9]\n",
      "[0 5 9]\n"
     ]
    }
   ],
   "source": [
    "# Indexing with a list\n",
    "print(m[[0, 5, 9]])\n",
    "\n",
    "# Indexing with a list\n",
    "print(m[[0, 5, -1]])"
   ]
  },
  {
   "cell_type": "code",
   "execution_count": 169,
   "id": "1232581d",
   "metadata": {},
   "outputs": [
    {
     "name": "stdout",
     "output_type": "stream",
     "text": [
      "[[ 0  1  2  3  4]\n",
      " [ 5  6  7  8  9]\n",
      " [10 11 12 13 14]\n",
      " [15 16 17 18 19]\n",
      " [20 21 22 23 24]]\n"
     ]
    }
   ],
   "source": [
    "m = np.arange(25).reshape(5, 5)\n",
    "\n",
    "print(m)"
   ]
  },
  {
   "cell_type": "code",
   "execution_count": 170,
   "id": "4d088826",
   "metadata": {},
   "outputs": [
    {
     "name": "stdout",
     "output_type": "stream",
     "text": [
      "[[ 0  1  2  3  4]\n",
      " [20 21 22 23 24]]\n",
      "[[ 0  4]\n",
      " [ 5  9]\n",
      " [10 14]\n",
      " [15 19]\n",
      " [20 24]]\n"
     ]
    }
   ],
   "source": [
    "# Select the first row and last row\n",
    "print(m[[0, -1]])\n",
    "\n",
    "# Select the first column and last column\n",
    "print(m[:, [0, -1]])"
   ]
  },
  {
   "cell_type": "code",
   "execution_count": 171,
   "id": "c51cf5ae",
   "metadata": {},
   "outputs": [
    {
     "name": "stdout",
     "output_type": "stream",
     "text": [
      "[ 0 20]\n",
      "[ 4 24]\n"
     ]
    }
   ],
   "source": [
    "# Select the first element in the first and last row\n",
    "print(m[[0, -1], 0])\n",
    "# Hint 0 is broadcasted to [0,0]. Hence we get the elements (0,0) and (-1,0)\n",
    "\n",
    "# Select the last element in the first and last row\n",
    "print(m[[0, -1], -1])\n",
    "# Hint -1 is broadcasted to [-1,-1]. Hence we get the elements (0,-1) and (-1,-1)"
   ]
  },
  {
   "cell_type": "code",
   "execution_count": 172,
   "id": "3c5fc517",
   "metadata": {},
   "outputs": [
    {
     "name": "stdout",
     "output_type": "stream",
     "text": [
      "[[ 0  4]\n",
      " [20 24]]\n",
      "[[ 0  4]\n",
      " [20 24]]\n"
     ]
    }
   ],
   "source": [
    "# Get the corner elements\n",
    "row_idx = [[0, 0], [4, 4]]\n",
    "col_idx = [[0, 4], [0, 4]]\n",
    "print(m[row_idx, col_idx])\n",
    "\n",
    "# Or ...\n",
    "print(m[[[0, 0], [-1, -1]], [[0, -1], [0, -1]]])\n",
    "# We get the elements at (0,0), (0,-1), (-1,0), (-1,-1)"
   ]
  },
  {
   "cell_type": "markdown",
   "id": "825e609d",
   "metadata": {},
   "source": [
    "### Modifying the matrix\n",
    "\n",
    "Note that unlike basic indexing, advanced indexing does not return a view but a copy. Hence, altering the (adv.) indexed matrix does not alter the array."
   ]
  },
  {
   "cell_type": "code",
   "execution_count": 40,
   "id": "913cbd7d",
   "metadata": {},
   "outputs": [
    {
     "name": "stdout",
     "output_type": "stream",
     "text": [
      "[[0 1]\n",
      " [2 3]]\n",
      "[[10]\n",
      " [ 3]]\n"
     ]
    }
   ],
   "source": [
    "m = np.arange(4).reshape(2, 2)\n",
    "\n",
    "# Try to create a view to verify whether this is a view or not\n",
    "view = m[:, [1]]\n",
    "\n",
    "# Try to modify an element in the view\n",
    "view[0, 0] = 10\n",
    "\n",
    "# m has NOT been altered. <view> is a copy!\n",
    "print(m)\n",
    "print(view)"
   ]
  },
  {
   "cell_type": "markdown",
   "id": "372b9040",
   "metadata": {},
   "source": [
    "Note that we can still alter elements in the matrix using advanced indexing."
   ]
  },
  {
   "cell_type": "code",
   "execution_count": 41,
   "id": "11c4f372",
   "metadata": {},
   "outputs": [
    {
     "name": "stdout",
     "output_type": "stream",
     "text": [
      "[[10 10]\n",
      " [ 2  3]]\n"
     ]
    }
   ],
   "source": [
    "m = np.arange(4).reshape(2, 2)\n",
    "\n",
    "# This still works. See https://stackoverflow.com/questions/15691740/does-assignment-with-advanced-indexing-copy-array-data\n",
    "m[[0]] = 10.\n",
    "\n",
    "print(m)"
   ]
  },
  {
   "cell_type": "markdown",
   "id": "4b588710",
   "metadata": {},
   "source": [
    "### How to tell if the array is a view or a copy?"
   ]
  },
  {
   "cell_type": "markdown",
   "id": "920b4e67",
   "metadata": {},
   "source": [
    "The `base` attribute of the ndarray makes it easy to tell if an array is a view or a copy. The `base` attribute of a view returns the original array while it returns `None` for a copy."
   ]
  },
  {
   "cell_type": "code",
   "execution_count": 56,
   "id": "fed78a8e",
   "metadata": {},
   "outputs": [
    {
     "name": "stdout",
     "output_type": "stream",
     "text": [
      "[0 1 2 3]\n",
      "None\n"
     ]
    }
   ],
   "source": [
    "m = np.arange(4).reshape(2, 2)\n",
    "\n",
    "print(m[:].base)\n",
    "\n",
    "# None ==> Copy\n",
    "print(m[[0, 1]].base)\n"
   ]
  },
  {
   "cell_type": "markdown",
   "id": "c5eb8816",
   "metadata": {},
   "source": [
    "### np.newaxis or None"
   ]
  },
  {
   "cell_type": "markdown",
   "id": "ee6745de",
   "metadata": {},
   "source": [
    "A **newaxis object** (`np.newaxis`) in the selection tuple serves to expand the dimensions of the resulting selection by one unit-length dimension. The added dimension is the position of the newaxis object in the selection tuple. newaxis is an alias for `None`, and `None` can be used in place of this with the same result. From the above example:"
   ]
  },
  {
   "cell_type": "code",
   "execution_count": 173,
   "id": "fea29f9c",
   "metadata": {},
   "outputs": [
    {
     "name": "stdout",
     "output_type": "stream",
     "text": [
      "[[0 1 2]\n",
      " [3 4 5]\n",
      " [6 7 8]]\n"
     ]
    }
   ],
   "source": [
    "m = np.arange(9).reshape(3, 3)\n",
    "\n",
    "print(m)"
   ]
  },
  {
   "cell_type": "code",
   "execution_count": 174,
   "id": "40a0bb9f",
   "metadata": {},
   "outputs": [
    {
     "name": "stdout",
     "output_type": "stream",
     "text": [
      "(1, 3, 3)\n",
      "(3, 3, 1)\n",
      "(3, 1, 3)\n",
      "(3, 1, 3)\n"
     ]
    }
   ],
   "source": [
    "print(m[np.newaxis, ...].shape)\n",
    "print(m[..., np.newaxis].shape)\n",
    "print(m[:, np.newaxis, :].shape)\n",
    "\n",
    "# Or\n",
    "print(m[:, None, :].shape)"
   ]
  },
  {
   "cell_type": "markdown",
   "id": "578a59fc",
   "metadata": {},
   "source": [
    "This can be handy to combine two arrays in a way that otherwise would require explicit reshaping operations. For example:"
   ]
  },
  {
   "cell_type": "code",
   "execution_count": 186,
   "id": "08d80048",
   "metadata": {},
   "outputs": [
    {
     "name": "stdout",
     "output_type": "stream",
     "text": [
      "[[0 1 2 3 4]\n",
      " [1 2 3 4 5]\n",
      " [2 3 4 5 6]\n",
      " [3 4 5 6 7]\n",
      " [4 5 6 7 8]]\n"
     ]
    }
   ],
   "source": [
    "m = np.arange(5)\n",
    "\n",
    "# m[np.newaxis, :] => 1 x 5\n",
    "# m[:, np.newaxis] => 5 x 1\n",
    "# Broadcasting (1,5) + (5,1) = (5, 5)\n",
    "m = m[np.newaxis, :] + m[:, np.newaxis]\n",
    "\n",
    "print(m)"
   ]
  },
  {
   "cell_type": "markdown",
   "id": "932ecee2",
   "metadata": {},
   "source": [
    "## Boolean array indexing"
   ]
  },
  {
   "cell_type": "markdown",
   "id": "5f2ccc05",
   "metadata": {},
   "source": [
    "This advanced indexing occurs when `obj` is an array object of Boolean type, such as may be returned from comparison operators. A single boolean index array is practically identical to`x[obj.nonzero()]` where, as described above,`obj.nonzero()` returns a tuple (of length `obj.ndim`) of integer index arrays showing the True elements of `obj`."
   ]
  },
  {
   "cell_type": "code",
   "execution_count": 176,
   "id": "dabc90ef",
   "metadata": {},
   "outputs": [
    {
     "name": "stdout",
     "output_type": "stream",
     "text": [
      "[[0 1 2]\n",
      " [3 4 5]\n",
      " [6 7 8]]\n"
     ]
    }
   ],
   "source": [
    "m = np.arange(9).reshape(3, 3)\n",
    "\n",
    "print(m)"
   ]
  },
  {
   "cell_type": "code",
   "execution_count": 177,
   "id": "35b533a9",
   "metadata": {},
   "outputs": [
    {
     "name": "stdout",
     "output_type": "stream",
     "text": [
      "[[0 1 2]]\n",
      "[4]\n"
     ]
    }
   ],
   "source": [
    "# Select the first row with a boolean array\n",
    "# Note that the output is a 2d matrix since we use list indexing\n",
    "print(m[[True, False, False]])\n",
    "\n",
    "# Select the center element + the one the right\n",
    "print(m[[False, True, False], [False, True, False]])"
   ]
  },
  {
   "cell_type": "code",
   "execution_count": 178,
   "id": "3d4d3ec7",
   "metadata": {},
   "outputs": [
    {
     "name": "stdout",
     "output_type": "stream",
     "text": [
      "[5 6 7 8]\n"
     ]
    }
   ],
   "source": [
    "# Select all elements greater than 4\n",
    "print(m[m > 4])"
   ]
  },
  {
   "cell_type": "markdown",
   "id": "59cc33d5",
   "metadata": {},
   "source": [
    "A common use case for this is filtering for desired element values. For example, one may wish to select all entries from an array which are not `NaN`:"
   ]
  },
  {
   "cell_type": "code",
   "execution_count": 179,
   "id": "c38197f7",
   "metadata": {},
   "outputs": [
    {
     "name": "stdout",
     "output_type": "stream",
     "text": [
      "[1. 2. 3.]\n"
     ]
    }
   ],
   "source": [
    "m = np.array([[1., 2.], [np.nan, 3.], [np.nan, np.nan]])\n",
    "\n",
    "print(m[~np.isnan(m)])"
   ]
  },
  {
   "cell_type": "markdown",
   "id": "e184f3f6",
   "metadata": {},
   "source": [
    "## Transposing Arrays and Swapping Axes\n",
    "\n",
    "**Transposing** is a special form of reshaping that similarly returns a **view** on the underlying data without copying anything. Arrays have the transpose method and the special `T` attribute:"
   ]
  },
  {
   "cell_type": "code",
   "execution_count": 70,
   "id": "24405ccd",
   "metadata": {},
   "outputs": [
    {
     "name": "stdout",
     "output_type": "stream",
     "text": [
      "[[0 1]\n",
      " [2 3]]\n",
      "[[0 2]\n",
      " [1 3]]\n",
      "view\n"
     ]
    }
   ],
   "source": [
    "m = np.array([[0, 1], [2, 3]])\n",
    "\n",
    "print(m)\n",
    "print(m.T)\n",
    "\n",
    "print('copy' if m.T.base is None else 'view')"
   ]
  }
 ],
 "metadata": {
  "kernelspec": {
   "display_name": "Python 3 (ipykernel)",
   "language": "python",
   "name": "python3"
  },
  "language_info": {
   "codemirror_mode": {
    "name": "ipython",
    "version": 3
   },
   "file_extension": ".py",
   "mimetype": "text/x-python",
   "name": "python",
   "nbconvert_exporter": "python",
   "pygments_lexer": "ipython3",
   "version": "3.11.5"
  }
 },
 "nbformat": 4,
 "nbformat_minor": 5
}
