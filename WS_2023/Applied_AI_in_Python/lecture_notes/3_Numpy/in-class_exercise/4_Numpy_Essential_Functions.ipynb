{
 "cells": [
  {
   "cell_type": "markdown",
   "id": "6da45b1e",
   "metadata": {},
   "source": [
    "# NumPy: Essential Functions"
   ]
  },
  {
   "cell_type": "code",
   "execution_count": 2,
   "id": "a73d477d",
   "metadata": {},
   "outputs": [],
   "source": [
    "import numpy as np"
   ]
  },
  {
   "cell_type": "markdown",
   "id": "d2f8ce38",
   "metadata": {},
   "source": [
    "## Universal functions\n",
    "\n",
    "A universal function, or ufunc, is a function that performs element-wise operations\n",
    "on data in ndarrays. You can think of them as fast vectorized wrappers for simple functions that take one or more scalar values and produce one or more scalar results.\n",
    "\n",
    "In NumPy, universal functions are instances of the `np.ufunc` class. Many of the built-in functions are implemented in compiled C code. The basic ufuncs operate on scalars, but there is also a generalized kind for which the basic elements are sub-arrays (vectors, matrices, etc.), and broadcasting is done over other dimensions.\n",
    "\n",
    "Note that the output of the ufunc (and its methods) is not necessarily an ndarray."
   ]
  },
  {
   "cell_type": "markdown",
   "id": "1073eae0",
   "metadata": {},
   "source": [
    "### Unary ufuncs\n",
    "\n",
    "Unary ufuncs are functions that take **one** ndarray as their input. \n",
    "\n",
    "For example:\n",
    "\n",
    "- np.abs(array): To calculate absolute value of each value of the array.\n",
    "- np.sqrt(array): To calculate square root of each value of the array.\n",
    "- np.exp(array): To calculate exponential value of each element of the array.\n",
    "- np.square(array): To calculate square of each value of the array.\n",
    "- np.sin(array): To find the sine value of each data in the array.\n",
    "- np.cos(array): To find the cos value of each data in the array.\n",
    "- np.tan(array): To find the tan value of each data in the array.\n",
    "- np.log(array): To find the natural logarithm (base e)\n",
    "- np.loglog10(array): To find the logarithm (base 10)"
   ]
  },
  {
   "cell_type": "code",
   "execution_count": 4,
   "id": "8c315850",
   "metadata": {},
   "outputs": [],
   "source": [
    "m = np.arange(4).reshape(2, 2)\n",
    "\n",
    "# TODO: Test some of mentioned unary functions"
   ]
  },
  {
   "cell_type": "markdown",
   "id": "8fde79d1",
   "metadata": {},
   "source": [
    "Other unary functions:\n",
    "\n",
    "- np.sum(array): Sum of array elements over a given axis.\n",
    "- np.max(array): Return the maximum of an array or maximum along an axis.\n",
    "- np.mean(array): Mean of an array or mean along an axis.\n",
    "- np.cumsum(array): Cummulative sum of an array or cumsum along an axis"
   ]
  },
  {
   "cell_type": "code",
   "execution_count": 26,
   "id": "ae77e1d4",
   "metadata": {},
   "outputs": [],
   "source": [
    "m = np.arange(6).reshape(2, 3)\n",
    "\n",
    "# TODO: Test some of mentioned unary functions"
   ]
  },
  {
   "cell_type": "markdown",
   "id": "2699cad6",
   "metadata": {},
   "source": [
    "### Binary ufuncs\n",
    "\n",
    "Binary ufuncs are functions that take **two** ndarray as their input. \n",
    "\n",
    "For example:\n",
    "\n",
    "- np.add: \tAddition (e.g., 1 + 1 = 2)\n",
    "- np.subtract: Subtraction (e.g., 3 - 2 = 1)\n",
    "- np.multiply:  Multiplication (e.g., 2 * 3 = 6)\n",
    "- np.divide: Division (e.g., 3 / 2 = 1.5)\n",
    "- np.floor_divide; \tFloor division (e.g., 3 // 2 = 1)\n"
   ]
  },
  {
   "cell_type": "code",
   "execution_count": 27,
   "id": "6e20c724",
   "metadata": {},
   "outputs": [
    {
     "name": "stdout",
     "output_type": "stream",
     "text": [
      "[[0 2]\n",
      " [4 6]]\n"
     ]
    }
   ],
   "source": [
    "m = np.arange(4).reshape(2, 2)\n",
    "\n",
    "print(np.add(m, m))"
   ]
  },
  {
   "cell_type": "markdown",
   "id": "9772fce1",
   "metadata": {},
   "source": [
    "## Performance\n",
    "\n",
    "In general, ufuncs (when applied to ndarrays directly) tend to be significantly faster than implementations that require iterating over a list.\n",
    "\n",
    "The following example illustrates the difference in performance:"
   ]
  },
  {
   "cell_type": "code",
   "execution_count": 91,
   "id": "d141b51b",
   "metadata": {},
   "outputs": [],
   "source": [
    "m_list = list(range(1, 10**5))\n",
    "m_array = np.array(m_list)\n",
    "\n",
    "def list_reciprocal(l):\n",
    "    return [1/v for v in m_list]        "
   ]
  },
  {
   "cell_type": "code",
   "execution_count": 92,
   "id": "b08a1372",
   "metadata": {},
   "outputs": [
    {
     "name": "stdout",
     "output_type": "stream",
     "text": [
      "1.9 ms ± 143 µs per loop (mean ± std. dev. of 7 runs, 100 loops each)\n"
     ]
    }
   ],
   "source": [
    "# TODO: timit using list_reciprocal"
   ]
  },
  {
   "cell_type": "code",
   "execution_count": 93,
   "id": "3f93acc3",
   "metadata": {},
   "outputs": [
    {
     "name": "stdout",
     "output_type": "stream",
     "text": [
      "94.1 µs ± 753 ns per loop (mean ± std. dev. of 7 runs, 10,000 loops each)\n"
     ]
    }
   ],
   "source": [
    "# TODO: timit using np.reciprocal()"
   ]
  },
  {
   "cell_type": "code",
   "execution_count": 28,
   "id": "715deb9c",
   "metadata": {},
   "outputs": [],
   "source": [
    "# TODO: imit using np.reciprocal() and list"
   ]
  },
  {
   "cell_type": "markdown",
   "id": "716fc83c",
   "metadata": {},
   "source": [
    "**Remark:** Avoid conversion from ndarrays to nested lists and vice versa whenever you can!"
   ]
  },
  {
   "cell_type": "markdown",
   "id": "790cb377",
   "metadata": {},
   "source": [
    "### Tip: Creating ufunc-like functions using np.vectorize()\n",
    "\n",
    "The purpose of `np.vectorize()` is to transform functions which are not numpy-aware into functions that can operate on (and return) numpy arrays. The `np.vectorize(func)` automatically calls `func()` for every value in the numpy array. The returned values replace the items in the original matrix.\n",
    "\n",
    "**Important remark: `np.vectorize()` is provided primarily for convenience, not for performance. The implementation is essentially a for loop**."
   ]
  },
  {
   "cell_type": "markdown",
   "id": "c7436fe3",
   "metadata": {},
   "source": [
    "The example below illustrates how `np.vectorize()` can be applied in practice:"
   ]
  },
  {
   "cell_type": "code",
   "execution_count": 182,
   "id": "9ef1bf80",
   "metadata": {},
   "outputs": [],
   "source": [
    "def iterating_func(matrix):\n",
    "\n",
    "    for row_idx in range(matrix.shape[0]):\n",
    "        for col_idx in range(matrix.shape[1]):\n",
    "            element = matrix[row_idx, col_idx]\n",
    "            element = 2 * element if element % 2 else 3 * element\n",
    "\n",
    "            \n",
    "    return matrix"
   ]
  },
  {
   "cell_type": "code",
   "execution_count": null,
   "id": "122e2562",
   "metadata": {},
   "outputs": [],
   "source": [
    "# TODO: Implement above function using vectorization"
   ]
  },
  {
   "cell_type": "code",
   "execution_count": 183,
   "id": "f66fdca5",
   "metadata": {},
   "outputs": [
    {
     "name": "stdout",
     "output_type": "stream",
     "text": [
      "82.6 ms ± 4.54 ms per loop (mean ± std. dev. of 7 runs, 1 loop each)\n"
     ]
    }
   ],
   "source": [
    "m = np.arange(1000**2).reshape(1000, 1000)\n",
    "\n",
    "# TODO: Time both functions"
   ]
  },
  {
   "cell_type": "markdown",
   "id": "b08dba03",
   "metadata": {},
   "source": [
    "**The following code shows a fully vectorized implementation of the previous function. The fully vectorized implementation is almost 10 times faster!**"
   ]
  },
  {
   "cell_type": "code",
   "execution_count": 189,
   "id": "43f0e635",
   "metadata": {},
   "outputs": [
    {
     "name": "stdout",
     "output_type": "stream",
     "text": [
      "9.9 ms ± 1.27 ms per loop (mean ± std. dev. of 7 runs, 1 loop each)\n"
     ]
    }
   ],
   "source": [
    "m = np.arange(1000**2).reshape(1000, 1000)\n",
    "%timeit -n 1 np.where(m % 2 == 0, m * 3, m * 2)"
   ]
  }
 ],
 "metadata": {
  "kernelspec": {
   "display_name": "Python 3 (ipykernel)",
   "language": "python",
   "name": "python3"
  },
  "language_info": {
   "codemirror_mode": {
    "name": "ipython",
    "version": 3
   },
   "file_extension": ".py",
   "mimetype": "text/x-python",
   "name": "python",
   "nbconvert_exporter": "python",
   "pygments_lexer": "ipython3",
   "version": "3.11.5"
  }
 },
 "nbformat": 4,
 "nbformat_minor": 5
}
