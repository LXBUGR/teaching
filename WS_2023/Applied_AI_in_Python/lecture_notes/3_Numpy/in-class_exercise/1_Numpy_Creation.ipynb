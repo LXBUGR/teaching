{
 "cells": [
  {
   "cell_type": "markdown",
   "id": "e72b3ea4",
   "metadata": {},
   "source": [
    "# NumPy: The basic"
   ]
  },
  {
   "cell_type": "markdown",
   "id": "7cf603c0",
   "metadata": {},
   "source": [
    "NumPy, short for **Numerical Python**, is one of the most important foundational packages for numerical computing in Python. Many computational packages providing scientific functionality use NumPy's array objects as one of the standard interface *lingua francas* for data exchange.\n",
    "\n",
    "Some of the things you will find in Numpy:\n",
    "- *ndarray*, an efficient multidimensional array providing fast array-oriented arithmetic operations and flexible broadcasting capabilities\n",
    "- Mathematical functions for fast operations on entire arrays of data without hav‐\n",
    "ing to write loops\n",
    "- Tools for reading/writing array data to disk and working with memory-mapped\n",
    "files\n",
    "- Linear algebra, random number generation, and Fourier transform capabilities\n",
    "- A C API for connecting NumPy with libraries written in C, C++, or FORTRAN"
   ]
  },
  {
   "cell_type": "markdown",
   "id": "b56d14cd",
   "metadata": {},
   "source": [
    "One of the reasons NumPy is so important for numerical computations in Python is because it is designed for efficiency on large arrays of data. \n",
    "\n",
    "**There are a number of reasons for this:**\n",
    "    \n",
    "- NumPy internally stores data in a contiguous block of memory, independent of other built-in Python objects. NumPy's library of algorithms written in the C language can operate on this memory without any type checking or other overhead. NumPy arrays also use much less memory than built-in Python sequences.\n",
    "- NumPy operations perform complex computations on entire arrays without the need for Python for loops, which can be slow for large sequences. NumPy is faster than regular Python code because its C-based algorithms avoid overhead present with regular interpreted Python code."
   ]
  },
  {
   "cell_type": "markdown",
   "id": "11d926c5",
   "metadata": {},
   "source": [
    "# Import numpy\n",
    "\n",
    "The numpy module can be imported using `import numpy`. The alias `np` is commonly used for `numpy`."
   ]
  },
  {
   "cell_type": "code",
   "execution_count": null,
   "id": "bfb4f607",
   "metadata": {},
   "outputs": [],
   "source": [
    "import numpy as np"
   ]
  },
  {
   "cell_type": "markdown",
   "id": "239ee8e8",
   "metadata": {},
   "source": [
    "## Array Creation\n",
    "\n",
    "NumPy arrays can be defined using Python sequences such as lists and tuples."
   ]
  },
  {
   "cell_type": "code",
   "execution_count": null,
   "id": "a4ee9781",
   "metadata": {},
   "outputs": [],
   "source": [
    "# TODO: Create a one-dimensional ndarray, check the type, dtype and number of dimensions and shape"
   ]
  },
  {
   "cell_type": "markdown",
   "id": "852d9836",
   "metadata": {},
   "source": [
    "**Remark:**\n",
    "    \n",
    "The default NumPy behavior is to create arrays in either 32 or 64-bit signed integers (platform dependent and matches C long size) or double precision floating point numbers. If you expect your integer arrays to be a specific type, then you need to specify the dtype while you create the array."
   ]
  },
  {
   "cell_type": "markdown",
   "id": "b51318e4",
   "metadata": {},
   "source": [
    "Of course, we can also create multi-dimensional matrices. We only have to pass a nested list."
   ]
  },
  {
   "cell_type": "code",
   "execution_count": null,
   "id": "e84d771e",
   "metadata": {},
   "outputs": [],
   "source": [
    "# TODO: Create a multi-dimensional ndarray, check the type, dtype and number of dimensions and shape"
   ]
  },
  {
   "cell_type": "markdown",
   "id": "c3330c54",
   "metadata": {},
   "source": [
    "We can also manually specify the data type by setting the `dtype` param.\n",
    "\n",
    "A list of available `dtypes` can be found here: https://numpy.org/doc/stable/user/basics.types.html"
   ]
  },
  {
   "cell_type": "code",
   "execution_count": null,
   "id": "0efde2a4",
   "metadata": {},
   "outputs": [],
   "source": [
    "# TODO: Create a ndarray with a specific datatype (e.g. uint8)\n",
    "\n",
    "# Question: What is the supported range of numbers?"
   ]
  },
  {
   "cell_type": "markdown",
   "id": "f5f2ec0a",
   "metadata": {},
   "source": [
    "**Caution: If you try to store a value outside this range, Numpy will NOT raise an error.** (apparently, Numpy devs plan to change this behavior though)"
   ]
  },
  {
   "cell_type": "code",
   "execution_count": null,
   "id": "a6f33777",
   "metadata": {},
   "outputs": [],
   "source": [
    "m[0] = 1000"
   ]
  },
  {
   "cell_type": "code",
   "execution_count": null,
   "id": "9a3b69f5",
   "metadata": {},
   "outputs": [],
   "source": [
    "print(m)"
   ]
  },
  {
   "cell_type": "markdown",
   "id": "188d0b9e",
   "metadata": {},
   "source": [
    "If you are unsure of what range is supported by a specific data type, you can use the `np.iinfo()` or `np.finfo()` method. This method returns the machine limits for a given data type."
   ]
  },
  {
   "cell_type": "code",
   "execution_count": null,
   "id": "1e4e6103",
   "metadata": {},
   "outputs": [],
   "source": [
    "# Machine limits for floating point types\n",
    "np.finfo(np.float64)"
   ]
  },
  {
   "cell_type": "code",
   "execution_count": null,
   "id": "d56a2820",
   "metadata": {},
   "outputs": [],
   "source": [
    "# Machine limits for int point types\n",
    "np.iinfo(np.uint64)"
   ]
  },
  {
   "cell_type": "markdown",
   "id": "6a964a87",
   "metadata": {},
   "source": [
    "### Some best practices for creating arrays"
   ]
  },
  {
   "cell_type": "markdown",
   "id": "a790b076",
   "metadata": {},
   "source": [
    "#### Function: np.arange()\n",
    "\n",
    "`np.arange` creates arrays with regularly incrementing values. In terms of its output it is similar to running `np.array(range(1, 10))`. However, unlike `range()`, `np.arange()` also supports floating point values."
   ]
  },
  {
   "cell_type": "code",
   "execution_count": null,
   "id": "e0c38a5c",
   "metadata": {},
   "outputs": [],
   "source": [
    "# TODO: Use arange() to create integers between 1 to (excl.) 10 (step size = 1)"
   ]
  },
  {
   "cell_type": "code",
   "execution_count": null,
   "id": "dba52938",
   "metadata": {},
   "outputs": [],
   "source": [
    "# TODO: Use arange() to create floats between 1 to (excl.) 10 (step size = 1)"
   ]
  },
  {
   "cell_type": "code",
   "execution_count": null,
   "id": "604437c3",
   "metadata": {},
   "outputs": [],
   "source": [
    "# TODO: Use arange() to create floats between 1 to (excl.) 10 (step size = 0.2)"
   ]
  },
  {
   "cell_type": "markdown",
   "id": "dc36c847",
   "metadata": {},
   "source": [
    "#### Function: np.linspace()\n",
    "\n",
    "`np.linspace()` will create arrays with a specified number of elements, and spaced equally between the specified beginning and end values. The output data typed is always float."
   ]
  },
  {
   "cell_type": "code",
   "execution_count": null,
   "id": "a39649ac",
   "metadata": {},
   "outputs": [],
   "source": [
    "# TODO: Demonstrate np.linspace()"
   ]
  },
  {
   "cell_type": "markdown",
   "id": "898693bb",
   "metadata": {},
   "source": [
    "#### Function: np.eye()\n",
    "\n",
    "Creates an identity matrix of a given size."
   ]
  },
  {
   "cell_type": "code",
   "execution_count": null,
   "id": "0c74c9ae",
   "metadata": {},
   "outputs": [],
   "source": [
    "# TODO: Demonstrate np.eye()"
   ]
  },
  {
   "cell_type": "markdown",
   "id": "3b313d98",
   "metadata": {},
   "source": [
    "#### Function: numpy.diag()\n",
    "\n",
    "Extract a diagonal or construct a diagonal array."
   ]
  },
  {
   "cell_type": "code",
   "execution_count": null,
   "id": "0371ab35",
   "metadata": {},
   "outputs": [],
   "source": [
    "# TODO: Demonstrate np.diag()"
   ]
  },
  {
   "cell_type": "markdown",
   "id": "c058f3de",
   "metadata": {},
   "source": [
    "#### Function: np.ones(), np.zeros(), np.full()\n",
    "\n",
    "Creates an array filled with the specified value."
   ]
  },
  {
   "cell_type": "code",
   "execution_count": null,
   "id": "f7bca411",
   "metadata": {},
   "outputs": [],
   "source": [
    "# TODO: Demonstrate np.ones()"
   ]
  },
  {
   "cell_type": "code",
   "execution_count": null,
   "id": "e875e899",
   "metadata": {},
   "outputs": [],
   "source": [
    "# TODO: Demonstrate np.zeros()"
   ]
  },
  {
   "cell_type": "code",
   "execution_count": null,
   "id": "606f5a39",
   "metadata": {},
   "outputs": [],
   "source": [
    "# TODO: Demonstrate np.full()"
   ]
  },
  {
   "cell_type": "markdown",
   "id": "3a80eea3",
   "metadata": {},
   "source": [
    "#### Function: np.ones_like(), np.zeros_like(), np.full_like()\n",
    "\n",
    "Behaves similar to `np.ones()`, `np.zeros()`, `np.full()`. <br/>\n",
    "However, instead of the providing the shape of a matrix, we directly provide a matrix. The function then copies the shape of the given matrix."
   ]
  },
  {
   "cell_type": "code",
   "execution_count": null,
   "id": "388d0b5d",
   "metadata": {},
   "outputs": [],
   "source": [
    "template_matrix = [[1, 2, 3], \n",
    "                   [1, 2, 3]]"
   ]
  },
  {
   "cell_type": "code",
   "execution_count": null,
   "id": "b97f9510",
   "metadata": {},
   "outputs": [],
   "source": [
    "np.ones_like(template_matrix)"
   ]
  },
  {
   "cell_type": "code",
   "execution_count": null,
   "id": "1e6bc03c",
   "metadata": {},
   "outputs": [],
   "source": [
    "np.zeros_like(template_matrix)"
   ]
  },
  {
   "cell_type": "code",
   "execution_count": null,
   "id": "7f4bd06f",
   "metadata": {},
   "outputs": [],
   "source": [
    "np.full_like(template_matrix, 5)"
   ]
  },
  {
   "cell_type": "markdown",
   "id": "ccfb0d22",
   "metadata": {},
   "source": [
    "### Creating random numbers\n",
    "\n",
    "Sometimes we need random numbers. Numpy offers a large variety of function for creating matrices with random numbers."
   ]
  },
  {
   "cell_type": "code",
   "execution_count": null,
   "id": "f751cfab",
   "metadata": {},
   "outputs": [],
   "source": [
    "# TODO: Sample values from a uniform distribution in the range [0, 1). \n",
    "# The output matrix should be a 6 x 3 matrix"
   ]
  },
  {
   "cell_type": "code",
   "execution_count": null,
   "id": "fb0b3d0d",
   "metadata": {},
   "outputs": [],
   "source": [
    "# TODO Sample values from a standard normal distribution (mean=0, var=1)\n",
    "# The output should be a matrix of size 6x3"
   ]
  },
  {
   "cell_type": "code",
   "execution_count": null,
   "id": "de615533",
   "metadata": {},
   "outputs": [],
   "source": [
    "# TODO: Sample random integers from low (inclusive) to high (exclusive)."
   ]
  }
 ],
 "metadata": {
  "kernelspec": {
   "display_name": "Python 3 (ipykernel)",
   "language": "python",
   "name": "python3"
  },
  "language_info": {
   "codemirror_mode": {
    "name": "ipython",
    "version": 3
   },
   "file_extension": ".py",
   "mimetype": "text/x-python",
   "name": "python",
   "nbconvert_exporter": "python",
   "pygments_lexer": "ipython3",
   "version": "3.11.5"
  }
 },
 "nbformat": 4,
 "nbformat_minor": 5
}
