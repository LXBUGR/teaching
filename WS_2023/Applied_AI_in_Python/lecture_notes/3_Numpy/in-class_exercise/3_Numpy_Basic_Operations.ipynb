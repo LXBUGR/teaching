{
 "cells": [
  {
   "cell_type": "markdown",
   "id": "e72b3ea4",
   "metadata": {},
   "source": [
    "# NumPy: Basic Operations"
   ]
  },
  {
   "cell_type": "code",
   "execution_count": null,
   "id": "1d5ebe2f",
   "metadata": {},
   "outputs": [],
   "source": [
    "import numpy as np"
   ]
  },
  {
   "cell_type": "markdown",
   "id": "3d1ae8ec",
   "metadata": {},
   "source": [
    "## Basic Arithmetic Operations\n",
    "\n",
    "### Elementwise operations (Not inplace)\n",
    "\n",
    "Most basic arithmetic operators on arrays apply *elementwise*. A new array is created an filled with the result."
   ]
  },
  {
   "cell_type": "code",
   "execution_count": null,
   "id": "f8bc6841",
   "metadata": {},
   "outputs": [],
   "source": [
    "m1 = np.array([[1, 2, 3], \n",
    "               [2, 3, 4]])\n",
    "\n",
    "m2 = np.array([[1, 4, -1], \n",
    "               [4, 3, 1]])"
   ]
  },
  {
   "cell_type": "code",
   "execution_count": null,
   "id": "ef07ab0f",
   "metadata": {},
   "outputs": [],
   "source": [
    "# Elementwise multiplication\n",
    "# Calls np.multiply()\n",
    "print(m1 * m2)"
   ]
  },
  {
   "cell_type": "code",
   "execution_count": null,
   "id": "bc7e282b",
   "metadata": {},
   "outputs": [],
   "source": [
    "# Elementwise addition\n",
    "# numpy.add()\n",
    "print(m1 + m2)"
   ]
  },
  {
   "cell_type": "code",
   "execution_count": null,
   "id": "52626a6f",
   "metadata": {},
   "outputs": [],
   "source": [
    "# Elementwise subtraction\n",
    "# Calls np.subtract()\n",
    "print(m1 - m2)"
   ]
  },
  {
   "cell_type": "code",
   "execution_count": null,
   "id": "e7d5874d",
   "metadata": {},
   "outputs": [],
   "source": [
    "# Elementwise division\n",
    "\n",
    "# Calls np.divide() \n",
    "print(m1 / m2)"
   ]
  },
  {
   "cell_type": "code",
   "execution_count": null,
   "id": "484a2560",
   "metadata": {},
   "outputs": [],
   "source": [
    "# Elementwise Floor divide\n",
    "# Return the largest integer smaller or equal to the division of the inputs. \n",
    "\n",
    "# Calls np.floor_divide()\n",
    "print(m1 // m2)"
   ]
  },
  {
   "cell_type": "code",
   "execution_count": null,
   "id": "aa3a5c10",
   "metadata": {},
   "outputs": [],
   "source": [
    "# Calls np.pow()\n",
    "m1**5"
   ]
  },
  {
   "cell_type": "code",
   "execution_count": null,
   "id": "02c56316",
   "metadata": {},
   "outputs": [],
   "source": [
    "# Calls np.mod()\n",
    "m1 % 2"
   ]
  },
  {
   "cell_type": "markdown",
   "id": "63ded654",
   "metadata": {},
   "source": [
    "### Elementwise operations (Inplace)"
   ]
  },
  {
   "cell_type": "code",
   "execution_count": null,
   "id": "0248d181",
   "metadata": {},
   "outputs": [],
   "source": [
    "m = np.array([1,1])\n",
    "\n",
    "# InPlace multiplication\n",
    "m *= 2\n",
    "\n",
    "print(m)"
   ]
  },
  {
   "cell_type": "code",
   "execution_count": null,
   "id": "9a4106f7",
   "metadata": {},
   "outputs": [],
   "source": [
    "m = np.array([1,1])\n",
    "\n",
    "# InPlace addition\n",
    "m += 2\n",
    "\n",
    "print(m)"
   ]
  },
  {
   "cell_type": "code",
   "execution_count": null,
   "id": "164837a3",
   "metadata": {},
   "outputs": [],
   "source": [
    "m = np.array([1,1])\n",
    "\n",
    "# InPlace subtraction\n",
    "m -= 2\n",
    "\n",
    "print(m)"
   ]
  },
  {
   "cell_type": "code",
   "execution_count": null,
   "id": "e8d3b484",
   "metadata": {},
   "outputs": [],
   "source": [
    "# The data type is a float (!)\n",
    "m = np.array([1., 1.])\n",
    "\n",
    "# InPlace divison\n",
    "m /= 2\n",
    "\n",
    "print(m)"
   ]
  },
  {
   "cell_type": "code",
   "execution_count": null,
   "id": "82dd60f8",
   "metadata": {},
   "outputs": [],
   "source": [
    "# The data type is an int (!)\n",
    "m = np.array([1, 1])\n",
    "\n",
    "# InPlace Floor divison\n",
    "m //= 1\n",
    "\n",
    "print(m)"
   ]
  },
  {
   "cell_type": "markdown",
   "id": "0afaca06",
   "metadata": {},
   "source": [
    "**What if we divide an int32 by some value?**\n",
    "\n",
    "This raises an error: `UFuncTypeError: Cannot cast ufunc 'divide' output from dtype('float64') to dtype('int64') with casting rule 'same_kind'`"
   ]
  },
  {
   "cell_type": "code",
   "execution_count": null,
   "id": "c79212c3",
   "metadata": {},
   "outputs": [],
   "source": [
    "# The data type is an int (!)\n",
    "m = np.array([1, 1])\n",
    "\n",
    "# Standard divison\n",
    "m /= 1\n",
    "\n",
    "print(m)"
   ]
  },
  {
   "cell_type": "markdown",
   "id": "71e56edd",
   "metadata": {},
   "source": [
    "Since the `/=` calls the `divide()` method it is worth taking a look at divide's documentation.\n",
    "https://numpy.org/doc/stable/reference/generated/numpy.divide.html\n",
    "\n",
    "As can be seen in the documentation, divide provides a parameter `casting` which is detailed in https://numpy.org/doc/stable/reference/ufuncs.html#ufuncs-kwargs. Following the links in the documentation, we can see that the following values are support by `casting`:\n",
    "\n",
    "- ‘no’ means the data types should not be cast at all.\n",
    "- ‘equiv’ means only byte-order changes are allowed.\n",
    "- ‘safe’ means only casts which can preserve values are allowed.\n",
    "- ‘same_kind’ means only safe casts or casts within a kind, like float64 to float32, are allowed.\n",
    "- ‘unsafe’ means any data conversions may be done.\n",
    "\n",
    "\n",
    "\n"
   ]
  },
  {
   "cell_type": "code",
   "execution_count": null,
   "id": "aef9f81e",
   "metadata": {},
   "outputs": [],
   "source": [
    "# The data type is an int (!)\n",
    "m = np.array([1, 1])\n",
    "\n",
    "# Let's play around with the casting operator just to see how it works\n",
    "# If we set it to unsafe, the method should not raise an error (which is obviously dangerous)\n",
    "m = np.divide(m, 2, out=m, casting='unsafe')\n",
    "\n",
    "print(m)"
   ]
  },
  {
   "cell_type": "markdown",
   "id": "ce1088ac",
   "metadata": {},
   "source": [
    "### Overflows and underflows\n",
    "\n",
    "In the previous notebook, we have already seen that Python doesn't perform any type checks when we manipulate values in an array (see example below). But what if there is an overflow or underflow? "
   ]
  },
  {
   "cell_type": "code",
   "execution_count": null,
   "id": "2135511e",
   "metadata": {},
   "outputs": [],
   "source": [
    "m = np.array([1, 1])\n",
    "\n",
    "# The floating point value becomes an integer\n",
    "m[0] = 0.6\n",
    "\n",
    "print(m)"
   ]
  },
  {
   "cell_type": "markdown",
   "id": "6b9e3fb2",
   "metadata": {},
   "source": [
    "Let's produce an underflow(overflow to see what happens ..."
   ]
  },
  {
   "cell_type": "code",
   "execution_count": null,
   "id": "4b03eb4a",
   "metadata": {},
   "outputs": [],
   "source": [
    "# TODO: Produce an underflow"
   ]
  },
  {
   "cell_type": "code",
   "execution_count": null,
   "id": "481e7314",
   "metadata": {},
   "outputs": [],
   "source": [
    "# TODO: Produce an overflow"
   ]
  },
  {
   "cell_type": "markdown",
   "id": "3a59bec4",
   "metadata": {},
   "source": [
    "Often it's advisable to add additional data type checks to functions if you are unsure that the passed argument has the correct data type.\n",
    "\n",
    "For example:"
   ]
  },
  {
   "cell_type": "code",
   "execution_count": null,
   "id": "c87f0da9",
   "metadata": {},
   "outputs": [],
   "source": [
    "m = np.array([1])\n",
    "#m = np.array([1.])\n",
    "\n",
    "if isinstance(m, np.ndarray) and not np.issubdtype(m.dtype, np.floating):\n",
    "    raise TypeError('Invalid data type')"
   ]
  },
  {
   "cell_type": "markdown",
   "id": "942ad734",
   "metadata": {},
   "source": [
    "Since the documentation of `numpy.divide()` mentions that the `np.seterr()` can set whether to raise or warn on overflow, underflow and division by zero, you might be tempted to say \"Ok, then I simply reconfigure numpy to do checks\". However, be warned that that `np.seterr()` does only affect floating point operations!"
   ]
  },
  {
   "cell_type": "code",
   "execution_count": null,
   "id": "c45f1b40",
   "metadata": {},
   "outputs": [],
   "source": [
    "# The following two lines only affect the behavior of floating point operations.\n",
    "# np.seterr('ignore')\n",
    "np.seterr('raise')\n",
    "\n",
    "#m = np.array([1], dtype=np.uint8)\n",
    "m = np.array([1.], dtype=np.float16)\n",
    "\n",
    "# Error\n",
    "m += 3000000\n",
    "\n",
    "print(m)"
   ]
  },
  {
   "cell_type": "markdown",
   "id": "b6191239",
   "metadata": {},
   "source": [
    "So, always watch out for correct data types. For example, many image processing libraries return an uint8 matrix when loading an image. <br/>\n",
    "If you forget to change the data type and apply arithmetic operations (in particular, if these operations are inplace) on the uint8 matrix, the consequences can be severe ..."
   ]
  },
  {
   "cell_type": "markdown",
   "id": "f6237590",
   "metadata": {},
   "source": [
    "### Broadcasting\n",
    "\n",
    "The term broadcasting describes how NumPy treats arrays with different shapes during arithmetic operations. Subject to certain constraints, the smaller array is \"broadcast\" across the larger array so that they have compatible shapes."
   ]
  },
  {
   "cell_type": "markdown",
   "id": "ba659461",
   "metadata": {},
   "source": [
    "As we have seen previously, if we multiply a matrix with some float value, the float value will be automatically broadcasted to the shape of the matrix. We will now look at some more advanced examples of broadcasting."
   ]
  },
  {
   "cell_type": "code",
   "execution_count": null,
   "id": "bb902e27",
   "metadata": {},
   "outputs": [],
   "source": [
    "m1 = np.ones((5, 5, 3))\n",
    "m2 = np.array([2, 2, 2])\n",
    "\n",
    "# TODO: multiply the arrays and check how broadcasting treats the size"
   ]
  },
  {
   "cell_type": "code",
   "execution_count": null,
   "id": "a98b6b25",
   "metadata": {},
   "outputs": [],
   "source": [
    "m1 = np.ones((5, 7, 1, 3))\n",
    "m2 = np.ones((7, 5, 1))\n",
    "\n",
    "# TODO: multiply the arrays and check how broadcasting treats the size"
   ]
  },
  {
   "cell_type": "markdown",
   "id": "71e03ca4",
   "metadata": {},
   "source": [
    "### Matrix multiplication\n",
    "\n",
    "Matrix multiplications (a.k.a. dot prodict) can be implemented with the `@` operator. Alternatively, we can use the `np.dot()` method."
   ]
  },
  {
   "cell_type": "code",
   "execution_count": null,
   "id": "22f8a66b",
   "metadata": {},
   "outputs": [],
   "source": [
    "m1 = np.arange(6).reshape(2, 3)\n",
    "m2 = np.arange(12).reshape(3, 4)\n",
    "\n",
    "# TODO: Apply matrix multiplication"
   ]
  }
 ],
 "metadata": {
  "kernelspec": {
   "display_name": "Python 3 (ipykernel)",
   "language": "python",
   "name": "python3"
  },
  "language_info": {
   "codemirror_mode": {
    "name": "ipython",
    "version": 3
   },
   "file_extension": ".py",
   "mimetype": "text/x-python",
   "name": "python",
   "nbconvert_exporter": "python",
   "pygments_lexer": "ipython3",
   "version": "3.11.5"
  }
 },
 "nbformat": 4,
 "nbformat_minor": 5
}
