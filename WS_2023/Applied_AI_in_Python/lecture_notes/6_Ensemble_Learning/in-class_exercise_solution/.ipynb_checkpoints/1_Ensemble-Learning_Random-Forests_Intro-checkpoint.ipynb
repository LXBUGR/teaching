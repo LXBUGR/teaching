{
 "cells": [
  {
   "cell_type": "markdown",
   "id": "d312d792",
   "metadata": {},
   "source": [
    "# Random Forests for Regression\n",
    "\n",
    "In this example, we will learn how to train a random forest regressor with **scikit-learn**. <br/>"
   ]
  },
  {
   "cell_type": "markdown",
   "id": "e135ec84",
   "metadata": {},
   "source": [
    "#### Dataset: California Housing\n",
    "\n",
    "As an example dataset we will use the California Housing dataset. The data contains information from the 1990 California census.  A description of this dataset can be found here: https://www.kaggle.com/datasets/camnugent/california-housing-prices\n",
    "\n",
    "Fortunately, the dataset is already provided in scikit-learn. So, there is no need to fetch the data from Kaggle manually. See: https://scikit-learn.org/stable/modules/generated/sklearn.datasets.fetch_california_housing.html"
   ]
  },
  {
   "cell_type": "code",
   "execution_count": 1,
   "id": "a127b986",
   "metadata": {},
   "outputs": [],
   "source": [
    "# Import modules which are relevant for this project\n",
    "from sklearn.datasets import fetch_california_housing\n",
    "import numpy as np\n",
    "from sklearn.ensemble import RandomForestRegressor\n",
    "from sklearn.metrics import mean_absolute_error, mean_squared_error\n",
    "from sklearn.model_selection import train_test_split\n",
    "import seaborn as sns\n",
    "import matplotlib.pyplot as plt"
   ]
  },
  {
   "cell_type": "code",
   "execution_count": 2,
   "id": "284dae70",
   "metadata": {},
   "outputs": [],
   "source": [
    "# To ensure reproducibility\n",
    "\n",
    "RANDOM_STATE = 42\n",
    "\n",
    "np.random.seed(RANDOM_STATE)"
   ]
  },
  {
   "cell_type": "markdown",
   "id": "70015490",
   "metadata": {},
   "source": [
    "## Load the dataset"
   ]
  },
  {
   "cell_type": "code",
   "execution_count": 3,
   "id": "11f82cca",
   "metadata": {},
   "outputs": [],
   "source": [
    "dataset = fetch_california_housing(as_frame=True)"
   ]
  },
  {
   "cell_type": "code",
   "execution_count": 4,
   "id": "9c083760",
   "metadata": {},
   "outputs": [],
   "source": [
    "housing_df = dataset['data']\n",
    "target_df = dataset['target']\n",
    "\n",
    "housing_df['HousePrice'] = target_df"
   ]
  },
  {
   "cell_type": "markdown",
   "id": "6a7dbf9f",
   "metadata": {},
   "source": [
    "## Prepare a training and testing set\n",
    "\n",
    "Like we did in our linear regression example, we split the datasets into two parts. <br/>\n",
    "80% of the data is used for training, and 20% is used for testing."
   ]
  },
  {
   "cell_type": "code",
   "execution_count": 5,
   "id": "3279dcef",
   "metadata": {},
   "outputs": [],
   "source": [
    "train_df, test_df = train_test_split(housing_df, test_size=0.2)\n",
    "\n",
    "# Prepare training features \n",
    "x_train = train_df.loc[:, train_df.columns != 'HousePrice'].values\n",
    "y_train = train_df['HousePrice'].values\n",
    "\n",
    "# Prepare testing features \n",
    "x_test = test_df.loc[:, test_df.columns != 'HousePrice'].values\n",
    "y_test = test_df['HousePrice'].values "
   ]
  },
  {
   "cell_type": "markdown",
   "id": "2bc6ed58",
   "metadata": {},
   "source": [
    "## Training a random forest regressor\n",
    "\n",
    "We now train our first random forest regressor referred to as  `RandomForestRegressor` in Scikit."
   ]
  },
  {
   "cell_type": "code",
   "execution_count": 6,
   "id": "929588d8",
   "metadata": {},
   "outputs": [],
   "source": [
    "# Create a random forest regressor\n",
    "model = RandomForestRegressor()"
   ]
  },
  {
   "cell_type": "code",
   "execution_count": null,
   "id": "e031937a",
   "metadata": {},
   "outputs": [],
   "source": [
    "# Fit the model\n",
    "model.fit(x_train, y_train)"
   ]
  },
  {
   "cell_type": "code",
   "execution_count": null,
   "id": "f53a16c8",
   "metadata": {},
   "outputs": [],
   "source": [
    "# Evaluate the performance of the regression model\n",
    "y_pred_train = model.predict(x_train)\n",
    "y_pred_test = model.predict(x_test)\n",
    "\n",
    "rmse_test = mean_squared_error(y_test, y_pred_test, squared=False)\n",
    "rmse_train = mean_squared_error(y_train, y_pred_train, squared=False)\n",
    "\n",
    "print('Train RMSE:', rmse_train)\n",
    "print('Test RMSE:', rmse_test)"
   ]
  },
  {
   "cell_type": "markdown",
   "id": "9db26d8c",
   "metadata": {},
   "source": [
    "Nice, without finetuning of hyperparameters, your model achieves a lower RMSE (\\\\$50339) than the finetuned decision tree (\\\\$60154). This looks promising."
   ]
  },
  {
   "cell_type": "code",
   "execution_count": null,
   "id": "4ecdf7f4",
   "metadata": {},
   "outputs": [],
   "source": []
  }
 ],
 "metadata": {
  "kernelspec": {
   "display_name": "Python 3 (ipykernel)",
   "language": "python",
   "name": "python3"
  },
  "language_info": {
   "codemirror_mode": {
    "name": "ipython",
    "version": 3
   },
   "file_extension": ".py",
   "mimetype": "text/x-python",
   "name": "python",
   "nbconvert_exporter": "python",
   "pygments_lexer": "ipython3",
   "version": "3.11.5"
  }
 },
 "nbformat": 4,
 "nbformat_minor": 5
}
