{
 "cells": [
  {
   "cell_type": "markdown",
   "id": "d312d792",
   "metadata": {},
   "source": [
    "# Decision Trees for Regression\n",
    "\n",
    "In this example, we will learn how to train a decision tree with **scikit-learn**. <br/>"
   ]
  },
  {
   "cell_type": "markdown",
   "id": "e135ec84",
   "metadata": {},
   "source": [
    "#### Dataset: California Housing\n",
    "\n",
    "As an example dataset we will use the California Housing dataset. The data contains information from the 1990 California census.  A description of this dataset can be found here: https://www.kaggle.com/datasets/camnugent/california-housing-prices\n",
    "\n",
    "Fortunately, the dataset is already provided in scikit-learn. So, there is no need to fetch the data from Kaggle manually. See: https://scikit-learn.org/stable/modules/generated/sklearn.datasets.fetch_california_housing.html"
   ]
  },
  {
   "cell_type": "code",
   "execution_count": 1,
   "id": "a127b986",
   "metadata": {},
   "outputs": [],
   "source": [
    "# Import modules which are relevant for this project\n",
    "from sklearn.datasets import fetch_california_housing\n",
    "import numpy as np\n",
    "from sklearn.tree import DecisionTreeRegressor\n",
    "from sklearn.metrics import mean_absolute_error, mean_squared_error\n",
    "from sklearn.model_selection import train_test_split\n",
    "import seaborn as sns\n",
    "import matplotlib.pyplot as plt\n",
    "from sklearn.model_selection import cross_val_score"
   ]
  },
  {
   "cell_type": "code",
   "execution_count": 2,
   "id": "284dae70",
   "metadata": {},
   "outputs": [],
   "source": [
    "# To ensure reproducibility\n",
    "\n",
    "RANDOM_STATE = 42\n",
    "\n",
    "np.random.seed(RANDOM_STATE)"
   ]
  },
  {
   "cell_type": "markdown",
   "id": "70015490",
   "metadata": {},
   "source": [
    "## Load the dataset"
   ]
  },
  {
   "cell_type": "code",
   "execution_count": 3,
   "id": "11f82cca",
   "metadata": {},
   "outputs": [],
   "source": [
    "dataset = fetch_california_housing(as_frame=True)"
   ]
  },
  {
   "cell_type": "code",
   "execution_count": 4,
   "id": "9c083760",
   "metadata": {},
   "outputs": [],
   "source": [
    "housing_df = dataset['data']\n",
    "target_df = dataset['target']\n",
    "\n",
    "housing_df['HousePrice'] = target_df"
   ]
  },
  {
   "cell_type": "markdown",
   "id": "6a7dbf9f",
   "metadata": {},
   "source": [
    "## Prepare a training, validation and testing set\n",
    "\n",
    "In the previous notebook we have discovered that a training and testing set is not sufficient to properly train and tune the parameters of a model. We need a third set (validation set).\n",
    "\n",
    "One way to create the validation  would be to use the `train_test_split` function to split the training set into a smaller training set and a validation set, then train your models against the smaller training set and evaluate them against the validation set.\n",
    "\n",
    "A great alternative is to use **cross validation**, more precisely, k-fold cross validation. \n",
    "\n",
    "**K-fold cross-validation**: It randomly splits the training set into k distinct subsets called folds, then it trains and evaluates the model 10 times, picking a different fold for evaluation every time and training on the other 9 folds. See: https://scikit-learn.org/stable/modules/cross_validation.html"
   ]
  },
  {
   "cell_type": "code",
   "execution_count": 5,
   "id": "3279dcef",
   "metadata": {},
   "outputs": [],
   "source": [
    "train_df, test_df = train_test_split(housing_df, test_size=0.2)\n",
    "# We do not further split the training set to obtain a validation set\n",
    "# and instead use k-fold cross validation.\n",
    "\n",
    "# Prepare training features \n",
    "x_train = train_df.loc[:, train_df.columns != 'HousePrice'].values\n",
    "y_train = train_df['HousePrice'].values\n",
    "\n",
    "# Prepare testing features \n",
    "x_test = test_df.loc[:, test_df.columns != 'HousePrice'].values\n",
    "y_test = test_df['HousePrice'].values "
   ]
  },
  {
   "cell_type": "markdown",
   "id": "2bc6ed58",
   "metadata": {},
   "source": [
    "## Find the optimal depth using k-fold cross validation"
   ]
  },
  {
   "cell_type": "code",
   "execution_count": 1,
   "id": "929588d8",
   "metadata": {},
   "outputs": [],
   "source": [
    "# TODO: Determine the optimal model depth using k-fold cross validation."
   ]
  },
  {
   "cell_type": "markdown",
   "id": "09988766",
   "metadata": {},
   "source": [
    "## Evaluate the model performance on the testing set"
   ]
  },
  {
   "cell_type": "code",
   "execution_count": 7,
   "id": "e753aed0",
   "metadata": {},
   "outputs": [],
   "source": [
    "model = DecisionTreeRegressor(max_depth=best_depth)\n",
    "\n",
    "# Re-Train the model on the entire training set.\n",
    "model.fit(x_train, y_train)\n",
    "\n",
    "y_pred_test = model.predict(x_test)\n",
    "\n",
    "rmse_test = mean_squared_error(y_test, y_pred_test, squared=False)"
   ]
  },
  {
   "cell_type": "code",
   "execution_count": 8,
   "id": "12f04c62",
   "metadata": {},
   "outputs": [
    {
     "name": "stdout",
     "output_type": "stream",
     "text": [
      "RMSE on the training set: $64517.060484520836\n"
     ]
    }
   ],
   "source": [
    "print(f'RMSE on the training set: ${rmse_test*100000}')"
   ]
  },
  {
   "cell_type": "markdown",
   "id": "3df8c8a3",
   "metadata": {},
   "source": [
    "That's still not great but at least better than the linear regression model (~\\\\$80k)! "
   ]
  }
 ],
 "metadata": {
  "kernelspec": {
   "display_name": "Python 3 (ipykernel)",
   "language": "python",
   "name": "python3"
  },
  "language_info": {
   "codemirror_mode": {
    "name": "ipython",
    "version": 3
   },
   "file_extension": ".py",
   "mimetype": "text/x-python",
   "name": "python",
   "nbconvert_exporter": "python",
   "pygments_lexer": "ipython3",
   "version": "3.11.5"
  }
 },
 "nbformat": 4,
 "nbformat_minor": 5
}
