{
 "cells": [
  {
   "cell_type": "markdown",
   "id": "d312d792",
   "metadata": {},
   "source": [
    "# Decision Trees for Regression\n",
    "\n",
    "In this example, we will learn how to train a decision tree with **scikit-learn**. <br/>"
   ]
  },
  {
   "cell_type": "markdown",
   "id": "e135ec84",
   "metadata": {},
   "source": [
    "#### Dataset: California Housing\n",
    "\n",
    "As an example dataset we will use the California Housing dataset. The data contains information from the 1990 California census.  A description of this dataset can be found here: https://www.kaggle.com/datasets/camnugent/california-housing-prices\n",
    "\n",
    "Fortunately, the dataset is already provided in scikit-learn. So, there is no need to fetch the data from Kaggle manually. See: https://scikit-learn.org/stable/modules/generated/sklearn.datasets.fetch_california_housing.html"
   ]
  },
  {
   "cell_type": "code",
   "execution_count": 11,
   "id": "a127b986",
   "metadata": {},
   "outputs": [],
   "source": [
    "# Import modules which are relevant for this project\n",
    "from sklearn.datasets import fetch_california_housing\n",
    "import numpy as np\n",
    "from sklearn.tree import DecisionTreeRegressor\n",
    "from sklearn.metrics import mean_absolute_error, mean_squared_error\n",
    "from sklearn.model_selection import train_test_split\n",
    "import seaborn as sns\n",
    "import matplotlib.pyplot as plt"
   ]
  },
  {
   "cell_type": "code",
   "execution_count": 12,
   "id": "284dae70",
   "metadata": {},
   "outputs": [],
   "source": [
    "# To ensure reproducibility\n",
    "\n",
    "RANDOM_STATE = 42\n",
    "\n",
    "np.random.seed(RANDOM_STATE)"
   ]
  },
  {
   "cell_type": "markdown",
   "id": "70015490",
   "metadata": {},
   "source": [
    "## Load the dataset"
   ]
  },
  {
   "cell_type": "code",
   "execution_count": 13,
   "id": "11f82cca",
   "metadata": {},
   "outputs": [],
   "source": [
    "dataset = fetch_california_housing(as_frame=True)"
   ]
  },
  {
   "cell_type": "code",
   "execution_count": 14,
   "id": "9c083760",
   "metadata": {},
   "outputs": [],
   "source": [
    "housing_df = dataset['data']\n",
    "target_df = dataset['target']\n",
    "\n",
    "housing_df['HousePrice'] = target_df"
   ]
  },
  {
   "cell_type": "markdown",
   "id": "6a7dbf9f",
   "metadata": {},
   "source": [
    "## Prepare a training and testing set\n",
    "\n",
    "Like we did in our linear regression example, we split the datasets into two parts. <br/>\n",
    "80% of the data is used for training, and 20% is used for testing."
   ]
  },
  {
   "cell_type": "code",
   "execution_count": 15,
   "id": "3279dcef",
   "metadata": {},
   "outputs": [],
   "source": [
    "train_df, test_df = train_test_split(housing_df, test_size=0.2)\n",
    "\n",
    "# Prepare training features \n",
    "x_train = train_df.loc[:, train_df.columns != 'HousePrice'].values\n",
    "y_train = train_df['HousePrice'].values\n",
    "\n",
    "# Prepare testing features \n",
    "x_test = test_df.loc[:, test_df.columns != 'HousePrice'].values\n",
    "y_test = test_df['HousePrice'].values "
   ]
  },
  {
   "cell_type": "markdown",
   "id": "2bc6ed58",
   "metadata": {},
   "source": [
    "## Training the first decision tree regressor\n",
    "\n",
    "We now train our first decision tree, more precisely, a decision tree regressor also referred to as `DecisionTreeRegressor` in scikit. "
   ]
  },
  {
   "cell_type": "code",
   "execution_count": 16,
   "id": "929588d8",
   "metadata": {},
   "outputs": [],
   "source": [
    "# Create a new decision tree regressor\n",
    "model = DecisionTreeRegressor()"
   ]
  },
  {
   "cell_type": "code",
   "execution_count": 17,
   "id": "e031937a",
   "metadata": {},
   "outputs": [
    {
     "data": {
      "text/html": [
       "<style>#sk-container-id-2 {color: black;}#sk-container-id-2 pre{padding: 0;}#sk-container-id-2 div.sk-toggleable {background-color: white;}#sk-container-id-2 label.sk-toggleable__label {cursor: pointer;display: block;width: 100%;margin-bottom: 0;padding: 0.3em;box-sizing: border-box;text-align: center;}#sk-container-id-2 label.sk-toggleable__label-arrow:before {content: \"▸\";float: left;margin-right: 0.25em;color: #696969;}#sk-container-id-2 label.sk-toggleable__label-arrow:hover:before {color: black;}#sk-container-id-2 div.sk-estimator:hover label.sk-toggleable__label-arrow:before {color: black;}#sk-container-id-2 div.sk-toggleable__content {max-height: 0;max-width: 0;overflow: hidden;text-align: left;background-color: #f0f8ff;}#sk-container-id-2 div.sk-toggleable__content pre {margin: 0.2em;color: black;border-radius: 0.25em;background-color: #f0f8ff;}#sk-container-id-2 input.sk-toggleable__control:checked~div.sk-toggleable__content {max-height: 200px;max-width: 100%;overflow: auto;}#sk-container-id-2 input.sk-toggleable__control:checked~label.sk-toggleable__label-arrow:before {content: \"▾\";}#sk-container-id-2 div.sk-estimator input.sk-toggleable__control:checked~label.sk-toggleable__label {background-color: #d4ebff;}#sk-container-id-2 div.sk-label input.sk-toggleable__control:checked~label.sk-toggleable__label {background-color: #d4ebff;}#sk-container-id-2 input.sk-hidden--visually {border: 0;clip: rect(1px 1px 1px 1px);clip: rect(1px, 1px, 1px, 1px);height: 1px;margin: -1px;overflow: hidden;padding: 0;position: absolute;width: 1px;}#sk-container-id-2 div.sk-estimator {font-family: monospace;background-color: #f0f8ff;border: 1px dotted black;border-radius: 0.25em;box-sizing: border-box;margin-bottom: 0.5em;}#sk-container-id-2 div.sk-estimator:hover {background-color: #d4ebff;}#sk-container-id-2 div.sk-parallel-item::after {content: \"\";width: 100%;border-bottom: 1px solid gray;flex-grow: 1;}#sk-container-id-2 div.sk-label:hover label.sk-toggleable__label {background-color: #d4ebff;}#sk-container-id-2 div.sk-serial::before {content: \"\";position: absolute;border-left: 1px solid gray;box-sizing: border-box;top: 0;bottom: 0;left: 50%;z-index: 0;}#sk-container-id-2 div.sk-serial {display: flex;flex-direction: column;align-items: center;background-color: white;padding-right: 0.2em;padding-left: 0.2em;position: relative;}#sk-container-id-2 div.sk-item {position: relative;z-index: 1;}#sk-container-id-2 div.sk-parallel {display: flex;align-items: stretch;justify-content: center;background-color: white;position: relative;}#sk-container-id-2 div.sk-item::before, #sk-container-id-2 div.sk-parallel-item::before {content: \"\";position: absolute;border-left: 1px solid gray;box-sizing: border-box;top: 0;bottom: 0;left: 50%;z-index: -1;}#sk-container-id-2 div.sk-parallel-item {display: flex;flex-direction: column;z-index: 1;position: relative;background-color: white;}#sk-container-id-2 div.sk-parallel-item:first-child::after {align-self: flex-end;width: 50%;}#sk-container-id-2 div.sk-parallel-item:last-child::after {align-self: flex-start;width: 50%;}#sk-container-id-2 div.sk-parallel-item:only-child::after {width: 0;}#sk-container-id-2 div.sk-dashed-wrapped {border: 1px dashed gray;margin: 0 0.4em 0.5em 0.4em;box-sizing: border-box;padding-bottom: 0.4em;background-color: white;}#sk-container-id-2 div.sk-label label {font-family: monospace;font-weight: bold;display: inline-block;line-height: 1.2em;}#sk-container-id-2 div.sk-label-container {text-align: center;}#sk-container-id-2 div.sk-container {/* jupyter's `normalize.less` sets `[hidden] { display: none; }` but bootstrap.min.css set `[hidden] { display: none !important; }` so we also need the `!important` here to be able to override the default hidden behavior on the sphinx rendered scikit-learn.org. See: https://github.com/scikit-learn/scikit-learn/issues/21755 */display: inline-block !important;position: relative;}#sk-container-id-2 div.sk-text-repr-fallback {display: none;}</style><div id=\"sk-container-id-2\" class=\"sk-top-container\"><div class=\"sk-text-repr-fallback\"><pre>DecisionTreeRegressor()</pre><b>In a Jupyter environment, please rerun this cell to show the HTML representation or trust the notebook. <br />On GitHub, the HTML representation is unable to render, please try loading this page with nbviewer.org.</b></div><div class=\"sk-container\" hidden><div class=\"sk-item\"><div class=\"sk-estimator sk-toggleable\"><input class=\"sk-toggleable__control sk-hidden--visually\" id=\"sk-estimator-id-2\" type=\"checkbox\" checked><label for=\"sk-estimator-id-2\" class=\"sk-toggleable__label sk-toggleable__label-arrow\">DecisionTreeRegressor</label><div class=\"sk-toggleable__content\"><pre>DecisionTreeRegressor()</pre></div></div></div></div></div>"
      ],
      "text/plain": [
       "DecisionTreeRegressor()"
      ]
     },
     "execution_count": 17,
     "metadata": {},
     "output_type": "execute_result"
    }
   ],
   "source": [
    "# Fit the model\n",
    "model.fit(x_train, y_train)"
   ]
  },
  {
   "cell_type": "code",
   "execution_count": 18,
   "id": "f53a16c8",
   "metadata": {},
   "outputs": [
    {
     "name": "stdout",
     "output_type": "stream",
     "text": [
      "Train RMSE: 3.015225317064558e-16\n",
      "Test RMSE: 0.7036663198621096\n"
     ]
    }
   ],
   "source": [
    "# Evaluate the performance of the regression model\n",
    "y_pred_train = model.predict(x_train)\n",
    "y_pred_test = model.predict(x_test)\n",
    "\n",
    "rmse_test = mean_squared_error(y_test, y_pred_test, squared=False)\n",
    "rmse_train = mean_squared_error(y_train, y_pred_train, squared=False)\n",
    "\n",
    "print('Train RMSE:', rmse_train)\n",
    "print('Test RMSE:', rmse_test)"
   ]
  },
  {
   "cell_type": "markdown",
   "id": "9f03da77",
   "metadata": {},
   "source": [
    "Well interesting ... <br/>\n",
    "As can be seen, the RMSE on the training set is zero, which means that the model perfectly predicts the training data. However, the RMSE on the testing set is extremely high (\\\\$70683). This indicates that the model **overfits the training data**. Overfitting simply means that the model performs well on the training data, but it does not generalize well."
   ]
  },
  {
   "cell_type": "markdown",
   "id": "00aaf27f",
   "metadata": {},
   "source": [
    "### How tree depth affects overfitting\n",
    "\n",
    "The depth of a decision tree controls its expressiveness. In our case, this means that the deeper a tree becomes, the more precise it can predict the value of a sample. However, the decision tree also becomes more likely to overfit the training data.\n",
    "\n",
    "To better understand how this looks like in practice, we can plot the RMSE for the training and testing set for different tree depths."
   ]
  },
  {
   "cell_type": "code",
   "execution_count": 19,
   "id": "47f88342",
   "metadata": {},
   "outputs": [],
   "source": [
    "train_scores = []\n",
    "test_scores = []\n",
    "\n",
    "for depth in range(1, 36):\n",
    "    \n",
    "    model = DecisionTreeRegressor(max_depth=depth)\n",
    "    \n",
    "    model.fit(x_train, y_train)\n",
    "    \n",
    "    y_pred_train = model.predict(x_train)\n",
    "    y_pred_test = model.predict(x_test)\n",
    "    \n",
    "    rmse_test = mean_squared_error(y_test, y_pred_test, squared=False)\n",
    "    rmse_train = mean_squared_error(y_train, y_pred_train, squared=False)\n",
    "\n",
    "    train_scores.append((depth, rmse_train))\n",
    "    test_scores.append((depth, rmse_test))\n"
   ]
  },
  {
   "cell_type": "code",
   "execution_count": 20,
   "id": "428f7728",
   "metadata": {},
   "outputs": [
    {
     "data": {
      "image/png": "[encoded data removed]",
      "text/plain": [
       "<Figure size 640x480 with 1 Axes>"
      ]
     },
     "metadata": {},
     "output_type": "display_data"
    }
   ],
   "source": [
    "x, y = zip(*train_scores)\n",
    "plt.plot(x, y, label='Training Error (RMSE)')\n",
    "\n",
    "x, y = zip(*test_scores)\n",
    "plt.plot(x, y, label='Generalization Error (RMSE)')\n",
    "\n",
    "plt.scatter(x[np.argmin(y)], np.min(y), s=30, c='g', label=f'Lowest Generalization Error \\nat depth={x[np.argmin(y)]}')\n",
    "\n",
    "plt.xlabel('Max Tree Depth')\n",
    "plt.ylabel('RMSE')\n",
    "plt.legend()\n",
    "plt.show()"
   ]
  },
  {
   "cell_type": "markdown",
   "id": "0839aa62",
   "metadata": {},
   "source": [
    "As can be seen, the ideal decision tree would have a maximum depth of 9 as this tree has the lowest generalization error. Once we further increase the depth of the tree, we can clearly see the effect of overfitting since the generalization error starts to increase."
   ]
  },
  {
   "cell_type": "markdown",
   "id": "d7dfb7c9",
   "metadata": {},
   "source": [
    "So we simply set the maximum depth to 9? Well, unfortunately, it's not that easy. Remember the golden rule, which says \"You must not use testing data for training or parameter tuning\"\n",
    "\n",
    "Unfortunately, that's exactly what we just did. We tuned the parameters of the model (max depth) based on the testing set. So what to do? ... Well, we need a third set for parameter tuning --- A validation set"
   ]
  },
  {
   "cell_type": "code",
   "execution_count": null,
   "id": "87989c20",
   "metadata": {},
   "outputs": [],
   "source": []
  }
 ],
 "metadata": {
  "kernelspec": {
   "display_name": "Python 3 (ipykernel)",
   "language": "python",
   "name": "python3"
  },
  "language_info": {
   "codemirror_mode": {
    "name": "ipython",
    "version": 3
   },
   "file_extension": ".py",
   "mimetype": "text/x-python",
   "name": "python",
   "nbconvert_exporter": "python",
   "pygments_lexer": "ipython3",
   "version": "3.11.5"
  }
 },
 "nbformat": 4,
 "nbformat_minor": 5
}
