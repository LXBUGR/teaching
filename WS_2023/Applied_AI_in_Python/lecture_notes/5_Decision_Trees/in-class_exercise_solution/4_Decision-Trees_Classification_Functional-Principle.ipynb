{
 "cells": [
  {
   "cell_type": "markdown",
   "id": "d312d792",
   "metadata": {},
   "source": [
    "# Decision Trees for Classification\n",
    "\n",
    "In this notebook, we learn how decision trees can solve classification problems and how they are constructed."
   ]
  },
  {
   "cell_type": "code",
   "execution_count": 20,
   "id": "4c507836",
   "metadata": {},
   "outputs": [],
   "source": [
    "import matplotlib.pyplot as plt\n",
    "import numpy as np\n",
    "from sklearn.tree import DecisionTreeClassifier\n",
    "from sklearn.preprocessing import OneHotEncoder\n",
    "from sklearn.datasets import load_iris\n",
    "from sklearn.tree import export_graphviz"
   ]
  },
  {
   "cell_type": "code",
   "execution_count": 2,
   "id": "69db2703",
   "metadata": {},
   "outputs": [],
   "source": [
    "# To install graphviz run: \n",
    "# ==> conda install python-graphviz\n",
    "from graphviz import Source"
   ]
  },
  {
   "cell_type": "markdown",
   "id": "69fe13ba",
   "metadata": {},
   "source": [
    "## Decision Tree Classifier\n",
    "\n",
    "So far, we have only used decision trees in the context of regression tasks. We will now learn how to apply decision trees to classification tasks. Classification is the process of finding a model (e.g., a decision tree) that is capable of dividing a dataset into different classes.\n",
    "\n",
    "Scikit-Learn provides the class `DecisionTreeClassifier` for building decision trees that can solve classification tasks."
   ]
  },
  {
   "cell_type": "markdown",
   "id": "b85e23eb",
   "metadata": {},
   "source": [
    "### Load sample dataset\n",
    "\n",
    "In order to study how a decision tree classifier works, we need a sample dataset. We use the Iris Flower (dt. \"Schwertlilie\") dataset for this purpose.\n",
    "\n",
    "The dataset consists of 50 samples from each of three species of Iris (Iris setosa, Iris virginica and Iris versicolor). Four features were measured from each sample: the length and the width of the sepals and petals, in centimeters.\n",
    "\n",
    "Our goal is to predict the species based on the sample features."
   ]
  },
  {
   "cell_type": "code",
   "execution_count": 3,
   "id": "7c105e83",
   "metadata": {},
   "outputs": [],
   "source": [
    "iris_db = load_iris(as_frame=True)\n",
    "iris_df = iris_db.frame"
   ]
  },
  {
   "cell_type": "code",
   "execution_count": 4,
   "id": "9de1dffc",
   "metadata": {},
   "outputs": [
    {
     "name": "stdout",
     "output_type": "stream",
     "text": [
      ".. _iris_dataset:\n",
      "\n",
      "Iris plants dataset\n",
      "--------------------\n",
      "\n",
      "**Data Set Characteristics:**\n",
      "\n",
      "    :Number of Instances: 150 (50 in each of three classes)\n",
      "    :Number of Attributes: 4 numeric, predictive attributes and the class\n",
      "    :Attribute Information:\n",
      "        - sepal length in cm\n",
      "        - sepal width in cm\n",
      "        - petal length in cm\n",
      "        - petal width in cm\n",
      "        - class:\n",
      "                - Iris-Setosa\n",
      "                - Iris-Versicolour\n",
      "                - Iris-Virginica\n",
      "                \n",
      "    :Summary Statistics:\n",
      "\n",
      "    ============== ==== ==== ======= ===== ====================\n",
      "                    Min  Max   Mean    SD   Class Correlation\n",
      "    ============== ==== ==== ======= ===== ====================\n",
      "    sepal length:   4.3  7.9   5.84   0.83    0.7826\n",
      "    sepal width:    2.0  4.4   3.05   0.43   -0.4194\n",
      "    petal length:   1.0  6.9   3.76   1.76    0.9490  (high!)\n",
      "    petal width:    0.1  2.5   1.20   0.76    0.9565  (high!)\n",
      "    ============== ==== ==== ======= ===== ====================\n",
      "\n",
      "    :Missing Attribute Values: None\n",
      "    :Class Distribution: 33.3% for each of 3 classes.\n",
      "    :Creator: R.A. Fisher\n",
      "    :Donor: Michael Marshall (MARSHALL%PLU@io.arc.nasa.gov)\n",
      "    :Date: July, 1988\n",
      "\n",
      "The famous Iris database, first used by Sir R.A. Fisher. The dataset is taken\n",
      "from Fisher's paper. Note that it's the same as in R, but not as in the UCI\n",
      "Machine Learning Repository, which has two wrong data points.\n",
      "\n",
      "This is perhaps the best known database to be found in the\n",
      "pattern recognition literature.  Fisher's paper is a classic in the field and\n",
      "is referenced frequently to this day.  (See Duda & Hart, for example.)  The\n",
      "data set contains 3 classes of 50 instances each, where each class refers to a\n",
      "type of iris plant.  One class is linearly separable from the other 2; the\n",
      "latter are NOT linearly separable from each other.\n",
      "\n",
      ".. topic:: References\n",
      "\n",
      "   - Fisher, R.A. \"The use of multiple measurements in taxonomic problems\"\n",
      "     Annual Eugenics, 7, Part II, 179-188 (1936); also in \"Contributions to\n",
      "     Mathematical Statistics\" (John Wiley, NY, 1950).\n",
      "   - Duda, R.O., & Hart, P.E. (1973) Pattern Classification and Scene Analysis.\n",
      "     (Q327.D83) John Wiley & Sons.  ISBN 0-471-22361-1.  See page 218.\n",
      "   - Dasarathy, B.V. (1980) \"Nosing Around the Neighborhood: A New System\n",
      "     Structure and Classification Rule for Recognition in Partially Exposed\n",
      "     Environments\".  IEEE Transactions on Pattern Analysis and Machine\n",
      "     Intelligence, Vol. PAMI-2, No. 1, 67-71.\n",
      "   - Gates, G.W. (1972) \"The Reduced Nearest Neighbor Rule\".  IEEE Transactions\n",
      "     on Information Theory, May 1972, 431-433.\n",
      "   - See also: 1988 MLC Proceedings, 54-64.  Cheeseman et al\"s AUTOCLASS II\n",
      "     conceptual clustering system finds 3 classes in the data.\n",
      "   - Many, many more ...\n"
     ]
    }
   ],
   "source": [
    "print(iris_db.DESCR)"
   ]
  },
  {
   "cell_type": "code",
   "execution_count": 5,
   "id": "b87c16a5",
   "metadata": {},
   "outputs": [
    {
     "data": {
      "text/html": [
       "<div>\n",
       "<style scoped>\n",
       "    .dataframe tbody tr th:only-of-type {\n",
       "        vertical-align: middle;\n",
       "    }\n",
       "\n",
       "    .dataframe tbody tr th {\n",
       "        vertical-align: top;\n",
       "    }\n",
       "\n",
       "    .dataframe thead th {\n",
       "        text-align: right;\n",
       "    }\n",
       "</style>\n",
       "<table border=\"1\" class=\"dataframe\">\n",
       "  <thead>\n",
       "    <tr style=\"text-align: right;\">\n",
       "      <th></th>\n",
       "      <th>sepal length (cm)</th>\n",
       "      <th>sepal width (cm)</th>\n",
       "      <th>petal length (cm)</th>\n",
       "      <th>petal width (cm)</th>\n",
       "      <th>target</th>\n",
       "    </tr>\n",
       "  </thead>\n",
       "  <tbody>\n",
       "    <tr>\n",
       "      <th>0</th>\n",
       "      <td>5.1</td>\n",
       "      <td>3.5</td>\n",
       "      <td>1.4</td>\n",
       "      <td>0.2</td>\n",
       "      <td>0</td>\n",
       "    </tr>\n",
       "    <tr>\n",
       "      <th>1</th>\n",
       "      <td>4.9</td>\n",
       "      <td>3.0</td>\n",
       "      <td>1.4</td>\n",
       "      <td>0.2</td>\n",
       "      <td>0</td>\n",
       "    </tr>\n",
       "    <tr>\n",
       "      <th>2</th>\n",
       "      <td>4.7</td>\n",
       "      <td>3.2</td>\n",
       "      <td>1.3</td>\n",
       "      <td>0.2</td>\n",
       "      <td>0</td>\n",
       "    </tr>\n",
       "    <tr>\n",
       "      <th>3</th>\n",
       "      <td>4.6</td>\n",
       "      <td>3.1</td>\n",
       "      <td>1.5</td>\n",
       "      <td>0.2</td>\n",
       "      <td>0</td>\n",
       "    </tr>\n",
       "    <tr>\n",
       "      <th>4</th>\n",
       "      <td>5.0</td>\n",
       "      <td>3.6</td>\n",
       "      <td>1.4</td>\n",
       "      <td>0.2</td>\n",
       "      <td>0</td>\n",
       "    </tr>\n",
       "  </tbody>\n",
       "</table>\n",
       "</div>"
      ],
      "text/plain": [
       "   sepal length (cm)  sepal width (cm)  petal length (cm)  petal width (cm)  \\\n",
       "0                5.1               3.5                1.4               0.2   \n",
       "1                4.9               3.0                1.4               0.2   \n",
       "2                4.7               3.2                1.3               0.2   \n",
       "3                4.6               3.1                1.5               0.2   \n",
       "4                5.0               3.6                1.4               0.2   \n",
       "\n",
       "   target  \n",
       "0       0  \n",
       "1       0  \n",
       "2       0  \n",
       "3       0  \n",
       "4       0  "
      ]
     },
     "execution_count": 5,
     "metadata": {},
     "output_type": "execute_result"
    }
   ],
   "source": [
    "iris_df.head(5)"
   ]
  },
  {
   "cell_type": "code",
   "execution_count": 6,
   "id": "284c5bcf",
   "metadata": {},
   "outputs": [
    {
     "data": {
      "text/html": [
       "<div>\n",
       "<style scoped>\n",
       "    .dataframe tbody tr th:only-of-type {\n",
       "        vertical-align: middle;\n",
       "    }\n",
       "\n",
       "    .dataframe tbody tr th {\n",
       "        vertical-align: top;\n",
       "    }\n",
       "\n",
       "    .dataframe thead th {\n",
       "        text-align: right;\n",
       "    }\n",
       "</style>\n",
       "<table border=\"1\" class=\"dataframe\">\n",
       "  <thead>\n",
       "    <tr style=\"text-align: right;\">\n",
       "      <th></th>\n",
       "      <th>sepal length (cm)</th>\n",
       "      <th>sepal width (cm)</th>\n",
       "      <th>petal length (cm)</th>\n",
       "      <th>petal width (cm)</th>\n",
       "      <th>target</th>\n",
       "    </tr>\n",
       "  </thead>\n",
       "  <tbody>\n",
       "    <tr>\n",
       "      <th>count</th>\n",
       "      <td>150.000000</td>\n",
       "      <td>150.000000</td>\n",
       "      <td>150.000000</td>\n",
       "      <td>150.000000</td>\n",
       "      <td>150.000000</td>\n",
       "    </tr>\n",
       "    <tr>\n",
       "      <th>mean</th>\n",
       "      <td>5.843333</td>\n",
       "      <td>3.057333</td>\n",
       "      <td>3.758000</td>\n",
       "      <td>1.199333</td>\n",
       "      <td>1.000000</td>\n",
       "    </tr>\n",
       "    <tr>\n",
       "      <th>std</th>\n",
       "      <td>0.828066</td>\n",
       "      <td>0.435866</td>\n",
       "      <td>1.765298</td>\n",
       "      <td>0.762238</td>\n",
       "      <td>0.819232</td>\n",
       "    </tr>\n",
       "    <tr>\n",
       "      <th>min</th>\n",
       "      <td>4.300000</td>\n",
       "      <td>2.000000</td>\n",
       "      <td>1.000000</td>\n",
       "      <td>0.100000</td>\n",
       "      <td>0.000000</td>\n",
       "    </tr>\n",
       "    <tr>\n",
       "      <th>25%</th>\n",
       "      <td>5.100000</td>\n",
       "      <td>2.800000</td>\n",
       "      <td>1.600000</td>\n",
       "      <td>0.300000</td>\n",
       "      <td>0.000000</td>\n",
       "    </tr>\n",
       "    <tr>\n",
       "      <th>50%</th>\n",
       "      <td>5.800000</td>\n",
       "      <td>3.000000</td>\n",
       "      <td>4.350000</td>\n",
       "      <td>1.300000</td>\n",
       "      <td>1.000000</td>\n",
       "    </tr>\n",
       "    <tr>\n",
       "      <th>75%</th>\n",
       "      <td>6.400000</td>\n",
       "      <td>3.300000</td>\n",
       "      <td>5.100000</td>\n",
       "      <td>1.800000</td>\n",
       "      <td>2.000000</td>\n",
       "    </tr>\n",
       "    <tr>\n",
       "      <th>max</th>\n",
       "      <td>7.900000</td>\n",
       "      <td>4.400000</td>\n",
       "      <td>6.900000</td>\n",
       "      <td>2.500000</td>\n",
       "      <td>2.000000</td>\n",
       "    </tr>\n",
       "  </tbody>\n",
       "</table>\n",
       "</div>"
      ],
      "text/plain": [
       "       sepal length (cm)  sepal width (cm)  petal length (cm)  \\\n",
       "count         150.000000        150.000000         150.000000   \n",
       "mean            5.843333          3.057333           3.758000   \n",
       "std             0.828066          0.435866           1.765298   \n",
       "min             4.300000          2.000000           1.000000   \n",
       "25%             5.100000          2.800000           1.600000   \n",
       "50%             5.800000          3.000000           4.350000   \n",
       "75%             6.400000          3.300000           5.100000   \n",
       "max             7.900000          4.400000           6.900000   \n",
       "\n",
       "       petal width (cm)      target  \n",
       "count        150.000000  150.000000  \n",
       "mean           1.199333    1.000000  \n",
       "std            0.762238    0.819232  \n",
       "min            0.100000    0.000000  \n",
       "25%            0.300000    0.000000  \n",
       "50%            1.300000    1.000000  \n",
       "75%            1.800000    2.000000  \n",
       "max            2.500000    2.000000  "
      ]
     },
     "execution_count": 6,
     "metadata": {},
     "output_type": "execute_result"
    }
   ],
   "source": [
    "iris_df.describe()"
   ]
  },
  {
   "cell_type": "code",
   "execution_count": 7,
   "id": "8d9fc086",
   "metadata": {},
   "outputs": [
    {
     "name": "stdout",
     "output_type": "stream",
     "text": [
      "target\n",
      "0    50\n",
      "1    50\n",
      "2    50\n",
      "Name: count, dtype: int64\n"
     ]
    }
   ],
   "source": [
    "# Check which classes are available and how many samples are available per class\n",
    "# There should be three class with 50 samples in each class\n",
    "print(iris_df.target.value_counts())"
   ]
  },
  {
   "cell_type": "markdown",
   "id": "e997468a",
   "metadata": {},
   "source": [
    "**According to the description and the `target_names` attribute, the class labels represent the following species:**\n",
    "\n",
    "- Setosa\n",
    "- Versicolour\n",
    "- Virginica"
   ]
  },
  {
   "cell_type": "markdown",
   "id": "92e1077b",
   "metadata": {},
   "source": [
    "### Train a simple decision tree classifier"
   ]
  },
  {
   "cell_type": "code",
   "execution_count": 8,
   "id": "556e90be",
   "metadata": {},
   "outputs": [
    {
     "data": {
      "text/html": [
       "<style>#sk-container-id-1 {color: black;}#sk-container-id-1 pre{padding: 0;}#sk-container-id-1 div.sk-toggleable {background-color: white;}#sk-container-id-1 label.sk-toggleable__label {cursor: pointer;display: block;width: 100%;margin-bottom: 0;padding: 0.3em;box-sizing: border-box;text-align: center;}#sk-container-id-1 label.sk-toggleable__label-arrow:before {content: \"▸\";float: left;margin-right: 0.25em;color: #696969;}#sk-container-id-1 label.sk-toggleable__label-arrow:hover:before {color: black;}#sk-container-id-1 div.sk-estimator:hover label.sk-toggleable__label-arrow:before {color: black;}#sk-container-id-1 div.sk-toggleable__content {max-height: 0;max-width: 0;overflow: hidden;text-align: left;background-color: #f0f8ff;}#sk-container-id-1 div.sk-toggleable__content pre {margin: 0.2em;color: black;border-radius: 0.25em;background-color: #f0f8ff;}#sk-container-id-1 input.sk-toggleable__control:checked~div.sk-toggleable__content {max-height: 200px;max-width: 100%;overflow: auto;}#sk-container-id-1 input.sk-toggleable__control:checked~label.sk-toggleable__label-arrow:before {content: \"▾\";}#sk-container-id-1 div.sk-estimator input.sk-toggleable__control:checked~label.sk-toggleable__label {background-color: #d4ebff;}#sk-container-id-1 div.sk-label input.sk-toggleable__control:checked~label.sk-toggleable__label {background-color: #d4ebff;}#sk-container-id-1 input.sk-hidden--visually {border: 0;clip: rect(1px 1px 1px 1px);clip: rect(1px, 1px, 1px, 1px);height: 1px;margin: -1px;overflow: hidden;padding: 0;position: absolute;width: 1px;}#sk-container-id-1 div.sk-estimator {font-family: monospace;background-color: #f0f8ff;border: 1px dotted black;border-radius: 0.25em;box-sizing: border-box;margin-bottom: 0.5em;}#sk-container-id-1 div.sk-estimator:hover {background-color: #d4ebff;}#sk-container-id-1 div.sk-parallel-item::after {content: \"\";width: 100%;border-bottom: 1px solid gray;flex-grow: 1;}#sk-container-id-1 div.sk-label:hover label.sk-toggleable__label {background-color: #d4ebff;}#sk-container-id-1 div.sk-serial::before {content: \"\";position: absolute;border-left: 1px solid gray;box-sizing: border-box;top: 0;bottom: 0;left: 50%;z-index: 0;}#sk-container-id-1 div.sk-serial {display: flex;flex-direction: column;align-items: center;background-color: white;padding-right: 0.2em;padding-left: 0.2em;position: relative;}#sk-container-id-1 div.sk-item {position: relative;z-index: 1;}#sk-container-id-1 div.sk-parallel {display: flex;align-items: stretch;justify-content: center;background-color: white;position: relative;}#sk-container-id-1 div.sk-item::before, #sk-container-id-1 div.sk-parallel-item::before {content: \"\";position: absolute;border-left: 1px solid gray;box-sizing: border-box;top: 0;bottom: 0;left: 50%;z-index: -1;}#sk-container-id-1 div.sk-parallel-item {display: flex;flex-direction: column;z-index: 1;position: relative;background-color: white;}#sk-container-id-1 div.sk-parallel-item:first-child::after {align-self: flex-end;width: 50%;}#sk-container-id-1 div.sk-parallel-item:last-child::after {align-self: flex-start;width: 50%;}#sk-container-id-1 div.sk-parallel-item:only-child::after {width: 0;}#sk-container-id-1 div.sk-dashed-wrapped {border: 1px dashed gray;margin: 0 0.4em 0.5em 0.4em;box-sizing: border-box;padding-bottom: 0.4em;background-color: white;}#sk-container-id-1 div.sk-label label {font-family: monospace;font-weight: bold;display: inline-block;line-height: 1.2em;}#sk-container-id-1 div.sk-label-container {text-align: center;}#sk-container-id-1 div.sk-container {/* jupyter's `normalize.less` sets `[hidden] { display: none; }` but bootstrap.min.css set `[hidden] { display: none !important; }` so we also need the `!important` here to be able to override the default hidden behavior on the sphinx rendered scikit-learn.org. See: https://github.com/scikit-learn/scikit-learn/issues/21755 */display: inline-block !important;position: relative;}#sk-container-id-1 div.sk-text-repr-fallback {display: none;}</style><div id=\"sk-container-id-1\" class=\"sk-top-container\"><div class=\"sk-text-repr-fallback\"><pre>DecisionTreeClassifier(max_depth=2, random_state=42)</pre><b>In a Jupyter environment, please rerun this cell to show the HTML representation or trust the notebook. <br />On GitHub, the HTML representation is unable to render, please try loading this page with nbviewer.org.</b></div><div class=\"sk-container\" hidden><div class=\"sk-item\"><div class=\"sk-estimator sk-toggleable\"><input class=\"sk-toggleable__control sk-hidden--visually\" id=\"sk-estimator-id-1\" type=\"checkbox\" checked><label for=\"sk-estimator-id-1\" class=\"sk-toggleable__label sk-toggleable__label-arrow\">DecisionTreeClassifier</label><div class=\"sk-toggleable__content\"><pre>DecisionTreeClassifier(max_depth=2, random_state=42)</pre></div></div></div></div></div>"
      ],
      "text/plain": [
       "DecisionTreeClassifier(max_depth=2, random_state=42)"
      ]
     },
     "execution_count": 8,
     "metadata": {},
     "output_type": "execute_result"
    }
   ],
   "source": [
    "x = iris_df[['petal length (cm)', 'petal width (cm)']].values\n",
    "y = iris_df['target'].values\n",
    "\n",
    "model = DecisionTreeClassifier(max_depth=2, random_state=42)\n",
    "\n",
    "model.fit(x, y)"
   ]
  },
  {
   "cell_type": "markdown",
   "id": "b17972bb",
   "metadata": {},
   "source": [
    "### Visualize the decision tree"
   ]
  },
  {
   "cell_type": "code",
   "execution_count": 9,
   "id": "e29fdae0",
   "metadata": {},
   "outputs": [],
   "source": [
    "export_graphviz(\n",
    "    model,\n",
    "    out_file='iris_tree.dot',\n",
    "    feature_names=[\"petal length (cm)\", \"petal width (cm)\"],\n",
    "    class_names=iris_db.target_names,\n",
    "    rounded=True,\n",
    "    filled=True\n",
    ")"
   ]
  },
  {
   "cell_type": "code",
   "execution_count": 10,
   "id": "a409f652",
   "metadata": {},
   "outputs": [
    {
     "data": {
      "image/svg+xml": [
       "<?xml version=\"1.0\" encoding=\"UTF-8\" standalone=\"no\"?>\n",
       "<!DOCTYPE svg PUBLIC \"-//W3C//DTD SVG 1.1//EN\"\n",
       " \"http://www.w3.org/Graphics/SVG/1.1/DTD/svg11.dtd\">\n",
       "<!-- Generated by graphviz version 2.50.0 (0)\n",
       " -->\n",
       "<!-- Title: Tree Pages: 1 -->\n",
       "<svg width=\"412pt\" height=\"314pt\"\n",
       " viewBox=\"0.00 0.00 412.00 314.00\" xmlns=\"http://www.w3.org/2000/svg\" xmlns:xlink=\"http://www.w3.org/1999/xlink\">\n",
       "<g id=\"graph0\" class=\"graph\" transform=\"scale(1 1) rotate(0) translate(4 310)\">\n",
       "<title>Tree</title>\n",
       "<polygon fill=\"white\" stroke=\"transparent\" points=\"-4,4 -4,-310 408,-310 408,4 -4,4\"/>\n",
       "<!-- 0 -->\n",
       "<g id=\"node1\" class=\"node\">\n",
       "<title>0</title>\n",
       "<path fill=\"#ffffff\" stroke=\"black\" d=\"M250,-306C250,-306 74,-306 74,-306 68,-306 62,-300 62,-294 62,-294 62,-235 62,-235 62,-229 68,-223 74,-223 74,-223 250,-223 250,-223 256,-223 262,-229 262,-235 262,-235 262,-294 262,-294 262,-300 256,-306 250,-306\"/>\n",
       "<text text-anchor=\"middle\" x=\"162\" y=\"-290.8\" font-family=\"Helvetica,sans-Serif\" font-size=\"14.00\">petal length (cm) &lt;= 2.45</text>\n",
       "<text text-anchor=\"middle\" x=\"162\" y=\"-275.8\" font-family=\"Helvetica,sans-Serif\" font-size=\"14.00\">gini = 0.667</text>\n",
       "<text text-anchor=\"middle\" x=\"162\" y=\"-260.8\" font-family=\"Helvetica,sans-Serif\" font-size=\"14.00\">samples = 150</text>\n",
       "<text text-anchor=\"middle\" x=\"162\" y=\"-245.8\" font-family=\"Helvetica,sans-Serif\" font-size=\"14.00\">value = [50, 50, 50]</text>\n",
       "<text text-anchor=\"middle\" x=\"162\" y=\"-230.8\" font-family=\"Helvetica,sans-Serif\" font-size=\"14.00\">class = setosa</text>\n",
       "</g>\n",
       "<!-- 1 -->\n",
       "<g id=\"node2\" class=\"node\">\n",
       "<title>1</title>\n",
       "<path fill=\"#e58139\" stroke=\"black\" d=\"M128,-179.5C128,-179.5 12,-179.5 12,-179.5 6,-179.5 0,-173.5 0,-167.5 0,-167.5 0,-123.5 0,-123.5 0,-117.5 6,-111.5 12,-111.5 12,-111.5 128,-111.5 128,-111.5 134,-111.5 140,-117.5 140,-123.5 140,-123.5 140,-167.5 140,-167.5 140,-173.5 134,-179.5 128,-179.5\"/>\n",
       "<text text-anchor=\"middle\" x=\"70\" y=\"-164.3\" font-family=\"Helvetica,sans-Serif\" font-size=\"14.00\">gini = 0.0</text>\n",
       "<text text-anchor=\"middle\" x=\"70\" y=\"-149.3\" font-family=\"Helvetica,sans-Serif\" font-size=\"14.00\">samples = 50</text>\n",
       "<text text-anchor=\"middle\" x=\"70\" y=\"-134.3\" font-family=\"Helvetica,sans-Serif\" font-size=\"14.00\">value = [50, 0, 0]</text>\n",
       "<text text-anchor=\"middle\" x=\"70\" y=\"-119.3\" font-family=\"Helvetica,sans-Serif\" font-size=\"14.00\">class = setosa</text>\n",
       "</g>\n",
       "<!-- 0&#45;&gt;1 -->\n",
       "<g id=\"edge1\" class=\"edge\">\n",
       "<title>0&#45;&gt;1</title>\n",
       "<path fill=\"none\" stroke=\"black\" d=\"M130.08,-222.91C121.14,-211.54 111.42,-199.18 102.45,-187.77\"/>\n",
       "<polygon fill=\"black\" stroke=\"black\" points=\"105.01,-185.36 96.08,-179.67 99.51,-189.69 105.01,-185.36\"/>\n",
       "<text text-anchor=\"middle\" x=\"93.11\" y=\"-200.79\" font-family=\"Helvetica,sans-Serif\" font-size=\"14.00\">True</text>\n",
       "</g>\n",
       "<!-- 2 -->\n",
       "<g id=\"node3\" class=\"node\">\n",
       "<title>2</title>\n",
       "<path fill=\"#ffffff\" stroke=\"black\" d=\"M340,-187C340,-187 170,-187 170,-187 164,-187 158,-181 158,-175 158,-175 158,-116 158,-116 158,-110 164,-104 170,-104 170,-104 340,-104 340,-104 346,-104 352,-110 352,-116 352,-116 352,-175 352,-175 352,-181 346,-187 340,-187\"/>\n",
       "<text text-anchor=\"middle\" x=\"255\" y=\"-171.8\" font-family=\"Helvetica,sans-Serif\" font-size=\"14.00\">petal width (cm) &lt;= 1.75</text>\n",
       "<text text-anchor=\"middle\" x=\"255\" y=\"-156.8\" font-family=\"Helvetica,sans-Serif\" font-size=\"14.00\">gini = 0.5</text>\n",
       "<text text-anchor=\"middle\" x=\"255\" y=\"-141.8\" font-family=\"Helvetica,sans-Serif\" font-size=\"14.00\">samples = 100</text>\n",
       "<text text-anchor=\"middle\" x=\"255\" y=\"-126.8\" font-family=\"Helvetica,sans-Serif\" font-size=\"14.00\">value = [0, 50, 50]</text>\n",
       "<text text-anchor=\"middle\" x=\"255\" y=\"-111.8\" font-family=\"Helvetica,sans-Serif\" font-size=\"14.00\">class = versicolor</text>\n",
       "</g>\n",
       "<!-- 0&#45;&gt;2 -->\n",
       "<g id=\"edge2\" class=\"edge\">\n",
       "<title>0&#45;&gt;2</title>\n",
       "<path fill=\"none\" stroke=\"black\" d=\"M194.27,-222.91C201.41,-213.92 209.04,-204.32 216.41,-195.05\"/>\n",
       "<polygon fill=\"black\" stroke=\"black\" points=\"219.31,-197.03 222.79,-187.02 213.83,-192.67 219.31,-197.03\"/>\n",
       "<text text-anchor=\"middle\" x=\"225.63\" y=\"-208.16\" font-family=\"Helvetica,sans-Serif\" font-size=\"14.00\">False</text>\n",
       "</g>\n",
       "<!-- 3 -->\n",
       "<g id=\"node4\" class=\"node\">\n",
       "<title>3</title>\n",
       "<path fill=\"#4de88e\" stroke=\"black\" d=\"M234,-68C234,-68 118,-68 118,-68 112,-68 106,-62 106,-56 106,-56 106,-12 106,-12 106,-6 112,0 118,0 118,0 234,0 234,0 240,0 246,-6 246,-12 246,-12 246,-56 246,-56 246,-62 240,-68 234,-68\"/>\n",
       "<text text-anchor=\"middle\" x=\"176\" y=\"-52.8\" font-family=\"Helvetica,sans-Serif\" font-size=\"14.00\">gini = 0.168</text>\n",
       "<text text-anchor=\"middle\" x=\"176\" y=\"-37.8\" font-family=\"Helvetica,sans-Serif\" font-size=\"14.00\">samples = 54</text>\n",
       "<text text-anchor=\"middle\" x=\"176\" y=\"-22.8\" font-family=\"Helvetica,sans-Serif\" font-size=\"14.00\">value = [0, 49, 5]</text>\n",
       "<text text-anchor=\"middle\" x=\"176\" y=\"-7.8\" font-family=\"Helvetica,sans-Serif\" font-size=\"14.00\">class = versicolor</text>\n",
       "</g>\n",
       "<!-- 2&#45;&gt;3 -->\n",
       "<g id=\"edge3\" class=\"edge\">\n",
       "<title>2&#45;&gt;3</title>\n",
       "<path fill=\"none\" stroke=\"black\" d=\"M225.58,-103.73C219.2,-94.88 212.44,-85.51 206.03,-76.63\"/>\n",
       "<polygon fill=\"black\" stroke=\"black\" points=\"208.71,-74.36 200.02,-68.3 203.04,-78.46 208.71,-74.36\"/>\n",
       "</g>\n",
       "<!-- 4 -->\n",
       "<g id=\"node5\" class=\"node\">\n",
       "<title>4</title>\n",
       "<path fill=\"#843de6\" stroke=\"black\" d=\"M392,-68C392,-68 276,-68 276,-68 270,-68 264,-62 264,-56 264,-56 264,-12 264,-12 264,-6 270,0 276,0 276,0 392,0 392,0 398,0 404,-6 404,-12 404,-12 404,-56 404,-56 404,-62 398,-68 392,-68\"/>\n",
       "<text text-anchor=\"middle\" x=\"334\" y=\"-52.8\" font-family=\"Helvetica,sans-Serif\" font-size=\"14.00\">gini = 0.043</text>\n",
       "<text text-anchor=\"middle\" x=\"334\" y=\"-37.8\" font-family=\"Helvetica,sans-Serif\" font-size=\"14.00\">samples = 46</text>\n",
       "<text text-anchor=\"middle\" x=\"334\" y=\"-22.8\" font-family=\"Helvetica,sans-Serif\" font-size=\"14.00\">value = [0, 1, 45]</text>\n",
       "<text text-anchor=\"middle\" x=\"334\" y=\"-7.8\" font-family=\"Helvetica,sans-Serif\" font-size=\"14.00\">class = virginica</text>\n",
       "</g>\n",
       "<!-- 2&#45;&gt;4 -->\n",
       "<g id=\"edge4\" class=\"edge\">\n",
       "<title>2&#45;&gt;4</title>\n",
       "<path fill=\"none\" stroke=\"black\" d=\"M284.42,-103.73C290.8,-94.88 297.56,-85.51 303.97,-76.63\"/>\n",
       "<polygon fill=\"black\" stroke=\"black\" points=\"306.96,-78.46 309.98,-68.3 301.29,-74.36 306.96,-78.46\"/>\n",
       "</g>\n",
       "</g>\n",
       "</svg>\n"
      ],
      "text/plain": [
       "<graphviz.sources.Source at 0x7fae341e1a90>"
      ]
     },
     "execution_count": 10,
     "metadata": {},
     "output_type": "execute_result"
    }
   ],
   "source": [
    "Source.from_file('iris_tree.dot')"
   ]
  },
  {
   "cell_type": "markdown",
   "id": "570bd6e1",
   "metadata": {},
   "source": [
    "A node's samples attribute counts how many training instances it applies to. For example, 100 training instances have a petal length greater than 2.45 cm (depth 1, right), among which 54 have a petal width smaller than 1.75 cm (depth 2, left). A node's value attribute tells you how many training instances of each class this node\n",
    "applies to: for example, the bottom-right node applies to 0 Setosa, 1 Versicolor, and 45 Virginica. Finally, a node's **gini attribute measures its impurity**: a node is \"pure\" (gini=0) if all training instances it applies to belong to the same class. For example, since the depth-1 left node applies only to Setosa training\n",
    "instances, it is pure and its gini score is 0. We will discuss this shortly."
   ]
  },
  {
   "cell_type": "markdown",
   "id": "5ad0f38c",
   "metadata": {},
   "source": [
    "### Visualization of the prediction boundaries"
   ]
  },
  {
   "cell_type": "code",
   "execution_count": 11,
   "id": "e97ddb62",
   "metadata": {},
   "outputs": [
    {
     "data": {
      "image/png": "[encoded data removed]",
      "text/plain": [
       "<Figure size 800x400 with 1 Axes>"
      ]
     },
     "metadata": {},
     "output_type": "display_data"
    }
   ],
   "source": [
    "from matplotlib.colors import ListedColormap\n",
    "custom_cmap = ListedColormap(['#fafab0', '#9898ff', '#a0faa0'])\n",
    "\n",
    "plt.figure(figsize=(8, 4))\n",
    "\n",
    "# Obtain testing samples by taking point on a regular-spaced grid \n",
    "lengths, widths = np.meshgrid(np.linspace(0, 7.2, 100), \n",
    "                              np.linspace(0, 3, 100))\n",
    "\n",
    "# ravel() returns a flatten array. Unlike flatten(), it does not return a copy \n",
    "# of the original array\n",
    "x_all = np.stack((lengths.ravel(), widths.ravel()), axis=1)\n",
    "\n",
    "# Predict the class of each sample point\n",
    "y_pred = model.predict(x_all).reshape(lengths.shape)\n",
    "\n",
    "# Create a contour plot using the regular-spaced grid (+ the predict class)\n",
    "plt.contourf(lengths, widths, y_pred, alpha=0.3, cmap=custom_cmap)\n",
    "\n",
    "# Visualize the training samples (+ their class value)\n",
    "for idx, (name, style) in enumerate(zip(iris_db.target_names, (\"yo\", \"bs\", \"g^\"))):\n",
    "    plt.plot(x[:, 0][y == idx], x[:, 1][y == idx],\n",
    "             style, label=f\"{name}\")\n",
    "\n",
    "plt.xlabel(\"Petal length (cm)\")\n",
    "plt.ylabel(\"Petal width (cm)\")\n",
    "plt.axis([0, 7.2, 0, 3])\n",
    "plt.legend()\n",
    "plt.show()"
   ]
  },
  {
   "cell_type": "markdown",
   "id": "fea1548a",
   "metadata": {},
   "source": [
    "### How to construct a decision tree for classification?"
   ]
  },
  {
   "cell_type": "markdown",
   "id": "e52015e5",
   "metadata": {},
   "source": [
    "We have already introduced the **Classification And Regression Tree (CART)** algorithm when we learned how to construct a decision tree for regression. The construction of decision trees for a classification problem works in an analogous way. In other words, we also aim to split the dataset into two subsets using a single feature $k$ and a threshold $t_k$. These features should be chosen such that the weighted cost $C(k, t_k)$ is minimal.\n",
    "\n",
    "$C(k, t_k) = \\frac{n_{left}}{n} C_{left} + \\frac{n_{right}}{n} C_{right}$\n",
    "\n",
    "where $C_{left}$ and $C_{right}$ is some cost function computed on the left and right subset, $n_{left}$ and $n_{right}$ denotes the number of samples contained in the left and right subset, and $n$ denotes the total number of samples.\n"
   ]
  },
  {
   "cell_type": "markdown",
   "id": "a4d36056",
   "metadata": {},
   "source": [
    "However, since we are dealing with a classification problem (which implies that our predicted value is categorical), we cannot use the MSE or MAE as a cost function. Instead, we need a metric that is able to deal with categorical values such as the **Gini Index** or **Entropy**."
   ]
  },
  {
   "cell_type": "markdown",
   "id": "bc5e3051",
   "metadata": {},
   "source": [
    "#### Gini Index"
   ]
  },
  {
   "cell_type": "markdown",
   "id": "da383e08",
   "metadata": {},
   "source": [
    "The Gini index is a measure of diversity in a dataset. In other words, if we have a set in which all the elements are similar, this set has a low Gini index, and if all the elements are differ-\n",
    "ent, it has a large Gini index. \n",
    "\n",
    "For clarity, consider the following two sets of 10 colored balls (where any two balls of the same color are indistinguishable):\n",
    "    \n",
    "- **Set 1**: eight red balls, two blue balls\n",
    "- **Set 2**: four red balls, three blue balls, two yellow balls, one green ball\n",
    "    \n",
    "Set 1 looks more pure than set 2, because set 1 contains mostly red balls and a couple of blue\n",
    "ones, whereas set 2 has many different colors. Next, we devise a measure of impurity that assigns a low value to set 1 and a high value to set 2. This measure of impurity relies on probability."
   ]
  },
  {
   "cell_type": "markdown",
   "id": "1eb54d23",
   "metadata": {},
   "source": [
    "**Consider the following question:** <br/>\n",
    "*If we pick two random elements of the set, what is the probability that they have a different\n",
    "color? The two elements don't need to be distinct; we are allowed to pick the same element\n",
    "twice.*\n",
    "\n",
    "Let's calculate the probability for the given ball example. The probability of obtaining two balls with the same color is:\n",
    "\n",
    "$P(\\text{picking two balls of different color}) = 1 - P(\\text{picking two balls of the same color})$\n"
   ]
  },
  {
   "cell_type": "markdown",
   "id": "d98a029c",
   "metadata": {},
   "source": [
    "**Set 1:**\n",
    "    \n",
    "$P(\\text{picking two balls of the same color} = P(\\text{both balls are color 1}) + P(\\text{both balls are color 2})$\n",
    "\n",
    "$P(\\text{both balls are color 1}) = (\\frac{8}{10})^2 = 0.64$ <br/>\n",
    "$P(\\text{both balls are color 2}) = (\\frac{2}{10})^2 = 0.04$\n",
    "\n",
    "$P(\\text{picking two balls of different colors}) = 1 - \\big(0.64 + 0.04\\big) = 0.32$"
   ]
  },
  {
   "cell_type": "markdown",
   "id": "e5c9842b",
   "metadata": {},
   "source": [
    "**Set 2:**\n",
    "    \n",
    "$P(\\text{picking two balls of the same color} = P(\\text{both balls are color 1}) + \\text{...} + P(\\text{both balls are color 4})$\n",
    "\n",
    "$P(\\text{both balls are color 1}) = (\\frac{4}{10})^2 = 0.16$ <br/>\n",
    "$P(\\text{both balls are color 2}) = (\\frac{3}{10})^2 = 0.09$\n",
    "$P(\\text{both balls are color 3}) = (\\frac{2}{10})^2 = 0.04$\n",
    "$P(\\text{both balls are color 4}) = (\\frac{1}{10})^2 = 0.01$\n",
    "\n",
    "\n",
    "$P(\\text{picking two balls of different colors}) = 1 - \\big(0.16 + 0.09 + 0.04 + 0.01\\big) = 0.7$"
   ]
  },
  {
   "cell_type": "markdown",
   "id": "8cd8c573",
   "metadata": {},
   "source": [
    "**Set 1 has a higher purity since we have a lower change of picking two balls of the same color!**"
   ]
  },
  {
   "cell_type": "markdown",
   "id": "bd3cf328",
   "metadata": {},
   "source": [
    "We refer the this metric as **Gini impurity index**. \n",
    "\n",
    "**More generally, the gini index is defined as follows:**\n",
    "\n",
    "In a set with $m$ elements and $n$ classes, with $a_i$ elements belonging to the $i$-th class, the Gini impurity index is\n",
    "\n",
    "$Gini = 1 - p_1^2 - p_2^2 - ... - p_n^2$ \n",
    "\n",
    "where $p_i=\\frac{a_i}{m}$. This can be interpreted as the probability that if we pick two random elements out of the set, they belong to different classes.\n",
    "\n",
    "**Note:** The Gini impurity index should not be confused with the Gini coefficient. The Gini coefficient is used in statistics to calculate the income or wealth inequality in countries."
   ]
  },
  {
   "cell_type": "markdown",
   "id": "8b3f5541",
   "metadata": {},
   "source": [
    "**The following code illustrates how to compute the Gini impurity index:**"
   ]
  },
  {
   "cell_type": "code",
   "execution_count": 12,
   "id": "cbb34e3b",
   "metadata": {},
   "outputs": [],
   "source": [
    "def gini_impurity(y):\n",
    "    \n",
    "    '''\n",
    "    Calculate Gini impurity\n",
    "    '''\n",
    "    \n",
    "    all_labels = np.unique(y)\n",
    "    num_samples = len(y)\n",
    "    \n",
    "    gini = 1.\n",
    "    for label in all_labels:\n",
    "        gini -= ((y == label).sum() / num_samples) ** 2\n",
    "        \n",
    "    return gini"
   ]
  },
  {
   "cell_type": "code",
   "execution_count": 13,
   "id": "6571a50a",
   "metadata": {},
   "outputs": [
    {
     "name": "stdout",
     "output_type": "stream",
     "text": [
      "Threshold: 2.450\n",
      "Split Feature Idx: 0\n",
      "Gini Impurity Root: 0.6666666666666665\n",
      "Gini Impurity Left: 0.0\n",
      "Gini Impurity Right: 0.5\n"
     ]
    }
   ],
   "source": [
    "min_weighted_gini = np.inf\n",
    "split_threshold = -1\n",
    "split_feature_idx = -1\n",
    "\n",
    "# Since each sample is described by two input features, we need to look for the\n",
    "# best possible split in each dimension\n",
    "for feature_idx in range(0, 2):\n",
    "    \n",
    "    x_feat = x[:, feature_idx]\n",
    "    \n",
    "    sort_idx = np.argsort(x_feat, axis=0)\n",
    "    x_sorted = np.take_along_axis(x_feat, sort_idx, axis=0)\n",
    "    y_sorted = np.take_along_axis(y, sort_idx, axis=0)\n",
    "    \n",
    "    for i in range(1, y.shape[0]):\n",
    "        \n",
    "        sort_idx = np.argsort(x, axis=0)\n",
    "\n",
    "        # Get samples in left and right set\n",
    "        y_left = y_sorted[:i]\n",
    "        y_right = y_sorted[i:]\n",
    "\n",
    "        # Number of samples in each set\n",
    "        num_left = len(y_left)\n",
    "        num_right = len(y_right)\n",
    "        num_total = num_left + num_right\n",
    "\n",
    "        # Compute GINI impurity for each set\n",
    "        gini_left = gini_impurity(y_left)\n",
    "        gini_right = gini_impurity(y_right)\n",
    "\n",
    "        # Compute the weight sum of both gini impurities\n",
    "        weighted_gini = num_left / num_total * gini_left + num_right / num_total * gini_right\n",
    "\n",
    "        if weighted_gini < min_weighted_gini:\n",
    "            min_weighted_gini = weighted_gini\n",
    "            split_threshold = (x_sorted[i-1] + x_sorted[i]) / 2\n",
    "            split_feature_idx = feature_idx\n",
    "\n",
    "# Obtain the samples in the left and right child node\n",
    "y_left = y[x[:, split_feature_idx] <= split_threshold]\n",
    "y_right = y[x[:, split_feature_idx] > split_threshold]\n",
    "\n",
    "print(f'Threshold: {split_threshold:.3f}')\n",
    "print(f'Split Feature Idx: {split_feature_idx}')\n",
    "print(f'Gini Impurity Root: {gini_impurity(y)}')\n",
    "print(f'Gini Impurity Left: {gini_impurity(y_left)}')\n",
    "print(f'Gini Impurity Right: {gini_impurity(y_right)}')"
   ]
  },
  {
   "cell_type": "markdown",
   "id": "75bf47b5",
   "metadata": {},
   "source": [
    "#### Entropy"
   ]
  },
  {
   "cell_type": "markdown",
   "id": "85ffce8e",
   "metadata": {},
   "source": [
    "Another measure of homogeneity in a set is **entropy**. It is is based on the physical concept of entropy and is highly important in probability and information theory. To understand entropy, we look at a slightly strange probability question. Consider the same two sets of colored balls as in the previous section, but think of the colors as an ordered set.\n",
    "\n",
    "- **Set 1**: {red, red, red, red, red, red, red, red, blue, blue} (eight red balls, two blue balls)\n",
    "- **Set 2**: {red, red, red, red, blue, blue, blue, yellow, yellow, green} (four red balls, three blue\n",
    "balls, two yellow balls, one green ball)"
   ]
  },
  {
   "cell_type": "markdown",
   "id": "c3842958",
   "metadata": {},
   "source": [
    "Now, consider the following scenario: we have set 1 inside a bag, and we start picking balls out of\n",
    "this bag and immediately return each ball we just picked back to the bag. We record the colors of\n",
    "the balls we picked. \n",
    "\n",
    "If we do this 10 times, imagine that we get the following sequence:\n",
    "- Red, red, red, blue, red, blue, blue, red, red, red"
   ]
  },
  {
   "cell_type": "markdown",
   "id": "f68d3308",
   "metadata": {},
   "source": [
    "**Here is the main question that defines entropy:** <br/>\n",
    "*What is the probability that, by following the procedure described in the previous paragraph, we get the exact sequence that defines set 1, which is {red, red, red, red, red, red, red, red, blue, blue}?*\n",
    "\n",
    "This probability is not very large, because we must be really lucky to get this sequence. We have eight red balls and two blue balls, so the probability that we get a red ball $\\frac{8}{10}$ and the probability that we get a blue ball is $\\frac{2}{10}$. Because all the draws are independent, the probability that we get the desired sequence is\n",
    "\n",
    "$P(r, r, r, r, r, r, r, r, b, b) = \\big(\\frac{8}{10}\\big)^8 \\cdot \\big(\\frac{2}{10}\\big)^2 = 0.0067108864$ "
   ]
  },
  {
   "cell_type": "markdown",
   "id": "9f25c36f",
   "metadata": {},
   "source": [
    "This is tiny, but can you imagine the corresponding probability for set 2? For set 2, we are picking\n",
    "balls out of a bag with four red balls, three blue balls, two yellow balls, and one green ball and hoping to obtain the following sequence:\n",
    "\n",
    "- Red, red, red, red, blue, blue, blue, yellow, yellow, green.\n",
    "\n",
    "This is nearly impossible, because we have many colors and not many balls of each color. This\n",
    "probability, which is calculated in a similar way, is\n",
    "\n",
    "$P(r, r, r, r, b, b, b, y, y, g) = \\big(\\frac{4}{10}\\big)^4 \\cdot \\big(\\frac{3}{10}\\big)^3 \\cdot \\big(\\frac{2}{10}\\big)^2 \\cdot \\big(\\frac{1}{10}\\big)^1 = 0.0000027648$\n",
    "\n",
    "The more diverse the set, the more unlikely we'll be able to get the original sequence by picking\n",
    "one ball at a time. In contrast, the most pure set, in which all balls are of the same color, is easy\n",
    "to obtain this way.\n",
    "\n",
    "Note that these numbers are very small for most cases. Imagine if our dataset had one million elements. We would be dealing with tremendously small numbers. When we have to deal with really small numbers, using logarithms is the best method, because they provide a convenient way to write small numbers."
   ]
  },
  {
   "cell_type": "markdown",
   "id": "7290ffcc",
   "metadata": {},
   "source": [
    "**The entropy is defined as follows:** We start with the probability that we recover the initial sequence\n",
    "by picking elements in our set, one at a time, with repetition. Then we take the logarithm, and\n",
    "divide by the total number of elements in the set. Because decision trees deal with binary decisions,\n",
    "we'll be using logarithms in base 2. The reason we took the negative of the logarithm is because\n",
    "logarithms of very small numbers are all negative, so we multiply by $-1$ to turn it into a positive\n",
    "number. Because we took a negative, the **more diverse the set, the higher the entropy**."
   ]
  },
  {
   "cell_type": "markdown",
   "id": "932acffa",
   "metadata": {},
   "source": [
    "**Example: Entropy of Set 1:**\n",
    "    \n",
    "$Entropy = -\\frac{1}{10} log_2 \\Big( \\big(\\frac{8}{10}\\big)^8 \\big(\\frac{2}{10}\\big)^2 \\Big)$ <br/>\n",
    "$= -\\frac{8}{10} log_2 \\big(\\frac{8}{10}\\big) - \\frac{2}{10} log_2 \\big(\\frac{2}{10}\\big)$ <br/>\n",
    "$= 0.722$"
   ]
  },
  {
   "cell_type": "markdown",
   "id": "9faea398",
   "metadata": {},
   "source": [
    "**Formal definition of entropy:**\n",
    "    \n",
    "    \n",
    "In a set with $m$ elements and $n$ classes, with $a_i$ elements belonging to the $i$-th class, the entropy is\n",
    "\n",
    "$Entropy = -p_1 log_2(p_1) - p_2 log_2(p_2) – ... – p_n log_2(p_n)$\n",
    "\n",
    "where $p_i = \\frac{a_i}{m}$"
   ]
  },
  {
   "cell_type": "markdown",
   "id": "692de888",
   "metadata": {},
   "source": [
    "#### Entropy vs. Gini impurity\n",
    "\n",
    "So should you use Gini impurity or entropy? The truth is, most of the time it does not make a big difference: they lead to similar trees. Gini impurity is slightly faster to compute, so it is a good default. However, when they differ, Gini impurity tends to isolate the most frequent class in its own branch of the tree, while entropy tends to produce slightly more balanced trees. See also https://sebastianraschka.com/faq/docs/decision-tree-binary.html"
   ]
  },
  {
   "cell_type": "markdown",
   "id": "95b97373",
   "metadata": {},
   "source": [
    "### What if we have categorical features?"
   ]
  },
  {
   "cell_type": "markdown",
   "id": "9e76c0ce",
   "metadata": {},
   "source": [
    "So far, in all our decision tree examples, we have only worked with continuous input features. This raises the question of whether we can also process categorical input features. Yes, this is indeed possible, and we can even process non-binary categorical input features if we apply a simple trick.\n",
    "\n",
    "**Binary categorical features:** Let's first assume we are given a dataset where each sample has a feature saying whether it's a cat or a dog. Since it's a binary feature, we assign each label a numeric class label that is either 0 or 1 depending on the label. When training a decision tree, the numeric labels are simply considered as continuous values. Consequently, the decision threshold that splits the samples into two subsets is 0.5. \n",
    "\n",
    "**Non-Binary categorical features:** Let's now assume we are given a dataset where each sample has a feature saying whether it's a cat, dog, or Bird. Obviously, this feature is not binary as there are three possible labels. However, we can convert the feature into several binary features using so-called **one-hot encoding**. In our example, one-hot encoding the feature would result in three distinct binary features encoding the \"questions\":\n",
    "- Is the animal a dog?\n",
    "- Is the animal a cat?\n",
    "- Is the animal a bird?"
   ]
  },
  {
   "cell_type": "markdown",
   "id": "1489479c",
   "metadata": {},
   "source": [
    "Note that Scikit's provides the class `OneHotEncoder` which is able to produce a one-hot encoding of a given feature. "
   ]
  },
  {
   "cell_type": "code",
   "execution_count": 61,
   "id": "2bece293",
   "metadata": {},
   "outputs": [
    {
     "name": "stdout",
     "output_type": "stream",
     "text": [
      "One-Hot Encoding:  [[0. 1. 0.]\n",
      " [0. 0. 1.]\n",
      " [0. 0. 1.]\n",
      " [1. 0. 0.]]\n",
      "Inverse One-Hot Encoding: [['Cat']\n",
      " ['Dog']\n",
      " ['Dog']\n",
      " ['Bird']]\n"
     ]
    }
   ],
   "source": [
    "encoder = OneHotEncoder()\n",
    "\n",
    "samples = np.array([['Cat'], \n",
    "                    ['Dog'], \n",
    "                    ['Dog'], \n",
    "                    ['Bird']])\n",
    "\n",
    "one_hot_encoded_samples = encoder.fit_transform(samples).toarray()\n",
    "\n",
    "print('One-Hot Encoding: ', one_hot_encoded_samples)\n",
    "print('Inverse One-Hot Encoding:', encoder.inverse_transform(one_hot_encoded_samples))"
   ]
  },
  {
   "cell_type": "markdown",
   "id": "8fc66bd8",
   "metadata": {},
   "source": [
    "## Instability\n",
    "\n",
    "We have seen that decision trees are simple to understand and interpret, easy to use, versatile, and powerful.\n",
    "However they do have a few limitations. First, as you may have noticed, Decision Trees love orthogonal decision boundaries (all splits are perpendicular to an axis), which makes them sensitive to training set rotation. For example, consider a simple linearly separable dataset: on the left, a Decision Tree can split it easily, while\n",
    "on the right, after the dataset is rotated by 45°, the decision boundary looks unnecessarily convoluted. Although both Decision Trees fit the training set perfectly, it is very likely that the model on the right will not generalize well.\n",
    "\n",
    "More generally, the main issue with Decision Trees is that they are very sensitive to small variations in the training data."
   ]
  },
  {
   "cell_type": "code",
   "execution_count": 73,
   "id": "47781ac4",
   "metadata": {},
   "outputs": [],
   "source": [
    "# Create a linearily separable dataset\n",
    "np.random.seed(6)\n",
    "\n",
    "x = np.random.rand(100, 2) - 0.5\n",
    "y = (x[:, 0] > 0).astype(np.int64)"
   ]
  },
  {
   "cell_type": "code",
   "execution_count": 74,
   "id": "77af2148",
   "metadata": {},
   "outputs": [],
   "source": [
    "# Rotate the dataset\n",
    "\n",
    "angle = np.pi / 4  # 45 degrees\n",
    "rotation_matrix = np.array([[np.cos(angle), -np.sin(angle)],\n",
    "                            [np.sin(angle), np.cos(angle)]])\n",
    "x_rot = x.dot(rotation_matrix)"
   ]
  },
  {
   "cell_type": "code",
   "execution_count": 75,
   "id": "f9b98e26",
   "metadata": {},
   "outputs": [],
   "source": [
    "def plot_decision_boundary(clf, X, y, axes, cmap):\n",
    "    \n",
    "    x1, x2 = np.meshgrid(np.linspace(axes[0], axes[1], 100),\n",
    "                         np.linspace(axes[2], axes[3], 100))\n",
    "    X_new = np.c_[x1.ravel(), x2.ravel()]\n",
    "    y_pred = clf.predict(X_new).reshape(x1.shape)\n",
    "    \n",
    "    plt.contourf(x1, x2, y_pred, alpha=0.3, cmap=cmap)\n",
    "    plt.contour(x1, x2, y_pred, cmap=\"Greys\", alpha=0.8)\n",
    "    colors = {\"Wistia\": [\"#78785c\", \"#c47b27\"], \"Pastel1\": [\"red\", \"blue\"]}\n",
    "    markers = (\"o\", \"^\")\n",
    "    \n",
    "    for idx in (0, 1):\n",
    "        plt.plot(X[:, 0][y == idx], X[:, 1][y == idx],\n",
    "                 color=colors[cmap][idx], marker=markers[idx], linestyle=\"none\")\n",
    "    plt.axis(axes)\n",
    "    plt.xlabel(r\"$x_1$\")\n",
    "    plt.ylabel(r\"$x_2$\", rotation=0)\n"
   ]
  },
  {
   "cell_type": "code",
   "execution_count": 76,
   "id": "e8271878",
   "metadata": {},
   "outputs": [
    {
     "data": {
      "image/png": "[encoded data removed]",
      "text/plain": [
       "<Figure size 1000x400 with 2 Axes>"
      ]
     },
     "metadata": {},
     "output_type": "display_data"
    }
   ],
   "source": [
    "# Train a classifier to separate the two classes\n",
    "model = DecisionTreeClassifier(random_state=42)\n",
    "rot_model = DecisionTreeClassifier(random_state=42)\n",
    "\n",
    "model.fit(x, y)\n",
    "rot_model.fit(x_rot, y)\n",
    "\n",
    "fig, axes = plt.subplots(ncols=2, figsize=(10, 4), sharey=True)\n",
    "\n",
    "# plt.sca(): Set the current Axes to ax and the current Figure to the parent of ax.\n",
    "plt.sca(axes[0])\n",
    "plot_decision_boundary(model, x, y,\n",
    "                       axes=[-0.7, 0.7, -0.7, 0.7], cmap=\"Pastel1\")\n",
    "\n",
    "plt.sca(axes[1])\n",
    "plot_decision_boundary(rot_model, x_rot, y,\n",
    "                       axes=[-0.7, 0.7, -0.7, 0.7], cmap=\"Pastel1\")\n",
    "plt.ylabel(\"\")\n",
    "\n",
    "plt.show()"
   ]
  },
  {
   "cell_type": "code",
   "execution_count": null,
   "id": "8ceef341",
   "metadata": {},
   "outputs": [],
   "source": []
  }
 ],
 "metadata": {
  "kernelspec": {
   "display_name": "Python 3 (ipykernel)",
   "language": "python",
   "name": "python3"
  },
  "language_info": {
   "codemirror_mode": {
    "name": "ipython",
    "version": 3
   },
   "file_extension": ".py",
   "mimetype": "text/x-python",
   "name": "python",
   "nbconvert_exporter": "python",
   "pygments_lexer": "ipython3",
   "version": "3.11.5"
  }
 },
 "nbformat": 4,
 "nbformat_minor": 5
}
