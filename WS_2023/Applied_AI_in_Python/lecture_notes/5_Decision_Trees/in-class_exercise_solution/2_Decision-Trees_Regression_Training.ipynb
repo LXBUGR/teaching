{
 "cells": [
  {
   "cell_type": "markdown",
   "id": "d312d792",
   "metadata": {},
   "source": [
    "# Decision Trees for Regression\n",
    "\n",
    "In this example, we will learn how to train a decision tree with **scikit-learn**. <br/>"
   ]
  },
  {
   "cell_type": "markdown",
   "id": "e135ec84",
   "metadata": {},
   "source": [
    "#### Dataset: California Housing\n",
    "\n",
    "As an example dataset we will use the California Housing dataset. The data contains information from the 1990 California census.  A description of this dataset can be found here: https://www.kaggle.com/datasets/camnugent/california-housing-prices\n",
    "\n",
    "Fortunately, the dataset is already provided in scikit-learn. So, there is no need to fetch the data from Kaggle manually. See: https://scikit-learn.org/stable/modules/generated/sklearn.datasets.fetch_california_housing.html"
   ]
  },
  {
   "cell_type": "code",
   "execution_count": 1,
   "id": "a127b986",
   "metadata": {},
   "outputs": [],
   "source": [
    "# Import modules which are relevant for this project\n",
    "from sklearn.datasets import fetch_california_housing\n",
    "import numpy as np\n",
    "from sklearn.tree import DecisionTreeRegressor\n",
    "from sklearn.metrics import mean_absolute_error, mean_squared_error\n",
    "from sklearn.model_selection import train_test_split\n",
    "import seaborn as sns\n",
    "import matplotlib.pyplot as plt\n",
    "from sklearn.model_selection import cross_val_score"
   ]
  },
  {
   "cell_type": "code",
   "execution_count": 2,
   "id": "284dae70",
   "metadata": {},
   "outputs": [],
   "source": [
    "# To ensure reproducibility\n",
    "\n",
    "RANDOM_STATE = 42\n",
    "\n",
    "np.random.seed(RANDOM_STATE)"
   ]
  },
  {
   "cell_type": "markdown",
   "id": "70015490",
   "metadata": {},
   "source": [
    "## Load the dataset"
   ]
  },
  {
   "cell_type": "code",
   "execution_count": 3,
   "id": "11f82cca",
   "metadata": {},
   "outputs": [],
   "source": [
    "dataset = fetch_california_housing(as_frame=True)"
   ]
  },
  {
   "cell_type": "code",
   "execution_count": 4,
   "id": "9c083760",
   "metadata": {},
   "outputs": [],
   "source": [
    "housing_df = dataset['data']\n",
    "target_df = dataset['target']\n",
    "\n",
    "housing_df['HousePrice'] = target_df"
   ]
  },
  {
   "cell_type": "markdown",
   "id": "6a7dbf9f",
   "metadata": {},
   "source": [
    "## Prepare a training, validation and testing set\n",
    "\n",
    "In the previous notebook we have discovered that a training and testing set is not sufficient to properly train and tune the parameters of a model. We need a third set (validation set).\n",
    "\n",
    "One way to create the validation  would be to use the `train_test_split` function to split the training set into a smaller training set and a validation set, then train your models against the smaller training set and evaluate them against the validation set.\n",
    "\n",
    "A great alternative is to use **cross validation**, more precisely, k-fold cross validation. \n",
    "\n",
    "**K-fold cross-validation**: It randomly splits the training set into k distinct subsets called folds, then it trains and evaluates the model 10 times, picking a different fold for evaluation every time and training on the other 9 folds. See: https://scikit-learn.org/stable/modules/cross_validation.html"
   ]
  },
  {
   "cell_type": "code",
   "execution_count": 5,
   "id": "3279dcef",
   "metadata": {},
   "outputs": [],
   "source": [
    "train_df, test_df = train_test_split(housing_df, test_size=0.2)\n",
    "# We do not further split the training set to obtain a validation set\n",
    "# and instead use k-fold cross validation.\n",
    "\n",
    "# Prepare training features \n",
    "x_train = train_df.loc[:, train_df.columns != 'HousePrice'].values\n",
    "y_train = train_df['HousePrice'].values\n",
    "\n",
    "# Prepare testing features \n",
    "x_test = test_df.loc[:, test_df.columns != 'HousePrice'].values\n",
    "y_test = test_df['HousePrice'].values "
   ]
  },
  {
   "cell_type": "markdown",
   "id": "2bc6ed58",
   "metadata": {},
   "source": [
    "## Find the optimal depth using k-fold cross validation"
   ]
  },
  {
   "cell_type": "code",
   "execution_count": 6,
   "id": "929588d8",
   "metadata": {},
   "outputs": [
    {
     "name": "stdout",
     "output_type": "stream",
     "text": [
      "RMSE for depth 5: 0.71 (0.02)\n",
      "RMSE for depth 6: 0.68 (0.02)\n",
      "RMSE for depth 7: 0.65 (0.02)\n",
      "RMSE for depth 8: 0.64 (0.03)\n",
      "RMSE for depth 9: 0.63 (0.02)\n",
      "RMSE for depth 10: 0.64 (0.02)\n",
      "RMSE for depth 11: 0.65 (0.03)\n",
      "RMSE for depth 12: 0.67 (0.03)\n",
      "RMSE for depth 13: 0.68 (0.03)\n",
      "RMSE for depth 14: 0.69 (0.02)\n",
      "RMSE for depth 15: 0.70 (0.02)\n",
      "RMSE for depth 16: 0.71 (0.03)\n",
      "RMSE for depth 17: 0.72 (0.02)\n",
      "RMSE for depth 18: 0.72 (0.02)\n",
      "RMSE for depth 19: 0.72 (0.03)\n",
      "The optimal model depth is 9.\n"
     ]
    }
   ],
   "source": [
    "num_folds = 10\n",
    "\n",
    "best_depth = np.inf\n",
    "best_model_score = np.inf\n",
    "\n",
    "for depth in range(5, 20):\n",
    "    \n",
    "    model = DecisionTreeRegressor(max_depth=depth)\n",
    "    \n",
    "    scores = cross_val_score(model, x_train, y_train, cv=num_folds, scoring='neg_mean_squared_error')\n",
    "    rmse_scores = np.sqrt(-scores)\n",
    "    \n",
    "    mean_rmse = rmse_scores.mean()\n",
    "    std_rmse = rmse_scores.std()\n",
    "    \n",
    "    if mean_rmse < best_model_score:\n",
    "        best_depth = depth\n",
    "        best_model_score = mean_rmse\n",
    "\n",
    "    print(f'RMSE for depth {depth}: {mean_rmse:.2f} ({std_rmse:.2f})')\n",
    "    \n",
    "print(f'The optimal model depth is {best_depth}.')"
   ]
  },
  {
   "cell_type": "markdown",
   "id": "09988766",
   "metadata": {},
   "source": [
    "## Evaluate the model performance on the testing set"
   ]
  },
  {
   "cell_type": "code",
   "execution_count": 7,
   "id": "e753aed0",
   "metadata": {},
   "outputs": [],
   "source": [
    "model = DecisionTreeRegressor(max_depth=best_depth)\n",
    "\n",
    "# Re-Train the model on the entire training set.\n",
    "model.fit(x_train, y_train)\n",
    "\n",
    "y_pred_test = model.predict(x_test)\n",
    "\n",
    "rmse_test = mean_squared_error(y_test, y_pred_test, squared=False)"
   ]
  },
  {
   "cell_type": "code",
   "execution_count": 8,
   "id": "12f04c62",
   "metadata": {},
   "outputs": [
    {
     "name": "stdout",
     "output_type": "stream",
     "text": [
      "RMSE on the training set: $64517.060484520836\n"
     ]
    }
   ],
   "source": [
    "print(f'RMSE on the training set: ${rmse_test*100000}')"
   ]
  },
  {
   "cell_type": "markdown",
   "id": "3df8c8a3",
   "metadata": {},
   "source": [
    "That's still not great but at least better than the linear regression model (~\\\\$80k)! "
   ]
  },
  {
   "cell_type": "code",
   "execution_count": null,
   "id": "008dd73c",
   "metadata": {},
   "outputs": [],
   "source": []
  }
 ],
 "metadata": {
  "kernelspec": {
   "display_name": "Python 3 (ipykernel)",
   "language": "python",
   "name": "python3"
  },
  "language_info": {
   "codemirror_mode": {
    "name": "ipython",
    "version": 3
   },
   "file_extension": ".py",
   "mimetype": "text/x-python",
   "name": "python",
   "nbconvert_exporter": "python",
   "pygments_lexer": "ipython3",
   "version": "3.11.5"
  }
 },
 "nbformat": 4,
 "nbformat_minor": 5
}
