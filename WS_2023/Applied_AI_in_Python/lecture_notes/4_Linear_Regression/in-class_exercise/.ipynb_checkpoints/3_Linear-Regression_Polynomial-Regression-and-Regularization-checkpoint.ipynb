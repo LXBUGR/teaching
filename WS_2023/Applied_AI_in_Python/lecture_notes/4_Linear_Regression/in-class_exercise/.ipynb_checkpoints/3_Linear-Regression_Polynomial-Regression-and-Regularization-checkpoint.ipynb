{
 "cells": [
  {
   "cell_type": "markdown",
   "metadata": {},
   "source": [
    "# Polynomial Regression\n"
   ]
  },
  {
   "cell_type": "code",
   "execution_count": null,
   "metadata": {},
   "outputs": [],
   "source": [
    "import numpy as np\n",
    "import numpy.random as rnd\n",
    "import matplotlib.pyplot as plt\n",
    "from sklearn.linear_model import LinearRegression\n",
    "from sklearn.preprocessing import PolynomialFeatures\n",
    "from sklearn.preprocessing import StandardScaler\n",
    "from sklearn.linear_model import Ridge, Lasso, ElasticNet\n",
    "\n",
    "np.random.seed(42)"
   ]
  },
  {
   "cell_type": "markdown",
   "metadata": {},
   "source": [
    "Let's look at an example. First, let’s generate some nonlinear data, based on a simple quadratic equation [*] (plus some noise):\n",
    "\n",
    "[*] $y = ax^2 + bx + c$"
   ]
  },
  {
   "cell_type": "code",
   "execution_count": null,
   "metadata": {},
   "outputs": [],
   "source": [
    "num_samples = 100\n",
    "x = 6 * np.random.rand(num_samples, 1) - 3\n",
    "random_noise = np.random.randn(num_samples, 1)\n",
    "y = 0.5 * x**2 + x + 2 + random_noise"
   ]
  },
  {
   "cell_type": "code",
   "execution_count": null,
   "metadata": {},
   "outputs": [],
   "source": [
    "plt.scatter(x, y, s=5)\n",
    "plt.xlabel(\"$x_1$\", fontsize=14)\n",
    "plt.ylabel(\"$y$\", rotation=0, fontsize=14)\n",
    "plt.axis([-3, 3, 0, 10])\n",
    "plt.title('Nonlinear and noisy dataset')\n",
    "plt.show()"
   ]
  },
  {
   "cell_type": "markdown",
   "metadata": {},
   "source": [
    "### Creating a polynomial"
   ]
  },
  {
   "cell_type": "code",
   "execution_count": null,
   "metadata": {},
   "outputs": [],
   "source": [
    "# Task: Use LinearRegression to fit a polynomial?\n",
    "\n",
    "# Question: What do we have to modify the input data in order to fit a linear model?\n",
    "# What degree should the polynomial have?"
   ]
  },
  {
   "cell_type": "code",
   "execution_count": null,
   "metadata": {},
   "outputs": [],
   "source": [
    "# TODO: Fit a polynomial regression model"
   ]
  },
  {
   "cell_type": "code",
   "execution_count": null,
   "metadata": {},
   "outputs": [],
   "source": [
    "# TODO: Retrieve the coefficients and check whether the prediction is correct"
   ]
  },
  {
   "cell_type": "markdown",
   "metadata": {},
   "source": [
    "### Creating polynomial features with PolynomialFeatures"
   ]
  },
  {
   "cell_type": "code",
   "execution_count": null,
   "metadata": {},
   "outputs": [],
   "source": [
    "# TODO: Create a polynomial using PolynomialFeatures()"
   ]
  },
  {
   "cell_type": "code",
   "execution_count": null,
   "metadata": {},
   "outputs": [],
   "source": [
    "# TODO: Fit a linear model"
   ]
  },
  {
   "cell_type": "code",
   "execution_count": null,
   "metadata": {},
   "outputs": [],
   "source": [
    "# TODO: Check the coefficients of the polynomial\n",
    "print(f'The original polynomial was: 0.5 x^2 + x + 2 + random_noise')"
   ]
  },
  {
   "cell_type": "markdown",
   "metadata": {},
   "source": [
    "### Higher-degree polynomials"
   ]
  },
  {
   "cell_type": "markdown",
   "metadata": {},
   "source": [
    "Assuming that we didn't know that the data came from a polynomial of degree 2, you might consider increasing the degree even further. Well, let's see what happens."
   ]
  },
  {
   "cell_type": "code",
   "execution_count": null,
   "metadata": {},
   "outputs": [],
   "source": [
    "# Although LinearRegression() uses the normal equation to compute and exact solution\n",
    "# it's better to scale the parameters of the transformed features to avoid numerical instability\n",
    "# Note that we are dealing with numbers x^100\n",
    "scaler = StandardScaler()\n",
    "\n",
    "lin_reg = LinearRegression()\n",
    "\n",
    "plt.scatter(x, y, s=5)\n",
    "\n",
    "x_test = np.linspace(-3, 3, 100).reshape(100, 1)\n",
    "\n",
    "for deg in [3, 15, 50, 100]:\n",
    "    \n",
    "    poly_features = PolynomialFeatures(degree=deg, include_bias=False)\n",
    "    \n",
    "    x_train_poly = poly_features.fit_transform(x)\n",
    "    x_test_poly = poly_features.fit_transform(x_test)\n",
    "    \n",
    "    # Scale the inputs to avoid numerical instability\n",
    "    scaler.fit(x_train_poly)\n",
    "    x_train_poly = scaler.transform(x_train_poly)\n",
    "    x_test_poly = scaler.transform(x_test_poly)\n",
    "\n",
    "    # Fit and predict\n",
    "    lin_reg.fit(x_train_poly, y)\n",
    "    y_test_pred = lin_reg.predict(x_test_poly)\n",
    "    \n",
    "    plt.plot(x_test, y_test_pred, label=f'Degree: {deg}')\n",
    "\n",
    "    \n",
    "plt.axis([-3, 3, 0, 10])\n",
    "plt.xlabel(\"$x_1$\", fontsize=14)\n",
    "plt.ylabel(\"$y$\", rotation=0, fontsize=14)\n",
    "plt.title('Polynomial regression with different degrees')\n",
    "plt.legend()\n",
    "\n",
    "plt.show()"
   ]
  },
  {
   "cell_type": "code",
   "execution_count": null,
   "metadata": {},
   "outputs": [],
   "source": [
    "# Question: What is the \"best\" model? How can we verify that?"
   ]
  },
  {
   "cell_type": "markdown",
   "metadata": {},
   "source": [
    "# Regularized Linear Models"
   ]
  },
  {
   "cell_type": "code",
   "execution_count": null,
   "metadata": {},
   "outputs": [],
   "source": [
    "np.random.seed(42)\n",
    "\n",
    "num_samples = 20\n",
    "x = 3 * np.random.rand(num_samples, 1)\n",
    "y = 1 + 0.5 * x + np.random.randn(num_samples, 1) / 1.5\n",
    "\n",
    "x_test = np.linspace(0, 3, 100).reshape(100, 1)"
   ]
  },
  {
   "cell_type": "markdown",
   "metadata": {},
   "source": [
    "## Ridge Regression"
   ]
  },
  {
   "cell_type": "code",
   "execution_count": null,
   "metadata": {},
   "outputs": [],
   "source": [
    "# TODO: Create a polynomial with degree 10"
   ]
  },
  {
   "cell_type": "code",
   "execution_count": null,
   "metadata": {},
   "outputs": [],
   "source": [
    "# TODO: Standardize the features"
   ]
  },
  {
   "cell_type": "code",
   "execution_count": null,
   "metadata": {},
   "outputs": [],
   "source": [
    "for regularization_strength in [0., 1e-5, 1.]:\n",
    "    \n",
    "    # TODO: Train the ridge regression model\n",
    "    \n",
    "    # Predict and plot the values for the test points\n",
    "    y_test_pred = ridge_reg.predict(x_test_poly)\n",
    "    \n",
    "    plt.plot(x_test, y_test_pred, label=f'Alpha: {regularization_strength}')\n"
   ]
  },
  {
   "cell_type": "code",
   "execution_count": null,
   "metadata": {},
   "outputs": [],
   "source": [
    "plt.scatter(x, y, s=5)\n",
    "\n",
    "plt.axis([0, 3, 0, 4])\n",
    "plt.xlabel(\"$x_1$\", fontsize=14)\n",
    "plt.ylabel(\"$y$\", rotation=0, fontsize=14)\n",
    "plt.title('Ridge regression with different alpha values')\n",
    "plt.legend()\n",
    "\n",
    "plt.show()"
   ]
  },
  {
   "cell_type": "markdown",
   "metadata": {},
   "source": [
    "## Lasso Regression"
   ]
  },
  {
   "cell_type": "code",
   "execution_count": null,
   "metadata": {},
   "outputs": [],
   "source": [
    "scaler = StandardScaler()\n",
    "\n",
    "poly_features = PolynomialFeatures(degree=10, include_bias=False)\n",
    "\n",
    "x_train_poly = poly_features.fit_transform(x)\n",
    "x_test_poly = poly_features.fit_transform(x_test)\n",
    "\n",
    "scaler.fit(x_train_poly)\n",
    "x_train_poly = scaler.transform(x_train_poly)\n",
    "x_test_poly = scaler.transform(x_test_poly)\n",
    "\n",
    "plt.scatter(x, y, s=5)\n",
    "\n",
    "for regularization_strength in [1e-5, 1e-3, 0.1, 1.]:\n",
    "\n",
    "    # TODO: Train and predict using lasso regression\n",
    "    \n",
    "    plt.plot(x_test, y_test_pred, label=f'Alpha: {regularization_strength}')\n",
    "\n",
    "plt.axis([0, 3, 0, 4])\n",
    "plt.xlabel(\"$x_1$\", fontsize=14)\n",
    "plt.ylabel(\"$y$\", rotation=0, fontsize=14)\n",
    "plt.title('Lasso regression with different alpha values')\n",
    "plt.legend()\n",
    "\n",
    "plt.show()"
   ]
  },
  {
   "cell_type": "markdown",
   "metadata": {},
   "source": [
    "## Elastic Net"
   ]
  },
  {
   "cell_type": "code",
   "execution_count": null,
   "metadata": {},
   "outputs": [],
   "source": [
    "scaler = StandardScaler()\n",
    "\n",
    "poly_features = PolynomialFeatures(degree=10, include_bias=False)\n",
    "\n",
    "x_train_poly = poly_features.fit_transform(x)\n",
    "x_test_poly = poly_features.fit_transform(x_test)\n",
    "\n",
    "scaler.fit(x_train_poly)\n",
    "x_train_poly = scaler.transform(x_train_poly)\n",
    "x_test_poly = scaler.transform(x_test_poly)\n",
    "\n",
    "plt.scatter(x, y, s=5)\n",
    "\n",
    "for regularization_strength in [1e-5, 1e-3, 0.1, 1.]:\n",
    "\n",
    "    # TODO: Train and predict using elastic regression\n",
    "    \n",
    "    plt.plot(x_test, y_test_pred, label=f'Alpha: {regularization_strength}')\n",
    "\n",
    "plt.axis([0, 3, 0, 4])\n",
    "plt.xlabel(\"$x_1$\", fontsize=14)\n",
    "plt.ylabel(\"$y$\", rotation=0, fontsize=14)\n",
    "plt.title('Elastic regression with different alpha values')\n",
    "plt.legend()\n",
    "\n",
    "plt.show()"
   ]
  }
 ],
 "metadata": {
  "kernelspec": {
   "display_name": "Python 3 (ipykernel)",
   "language": "python",
   "name": "python3"
  },
  "language_info": {
   "codemirror_mode": {
    "name": "ipython",
    "version": 3
   },
   "file_extension": ".py",
   "mimetype": "text/x-python",
   "name": "python",
   "nbconvert_exporter": "python",
   "pygments_lexer": "ipython3",
   "version": "3.11.5"
  },
  "nav_menu": {},
  "toc": {
   "navigate_menu": true,
   "number_sections": true,
   "sideBar": true,
   "threshold": 6,
   "toc_cell": false,
   "toc_section_display": "block",
   "toc_window_display": false
  }
 },
 "nbformat": 4,
 "nbformat_minor": 4
}
