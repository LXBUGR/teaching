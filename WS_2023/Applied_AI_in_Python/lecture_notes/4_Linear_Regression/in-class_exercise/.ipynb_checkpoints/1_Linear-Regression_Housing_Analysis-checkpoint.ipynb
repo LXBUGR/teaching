{
 "cells": [
  {
   "cell_type": "markdown",
   "id": "d312d792",
   "metadata": {},
   "source": [
    "# Linear Regression \n",
    "\n",
    "In this example, we will learn how to train a very basic linear regression model with **scikit-learn**. <br/>\n",
    "Furthermore, we will also practice analyzing data with Pandas."
   ]
  },
  {
   "cell_type": "markdown",
   "id": "e135ec84",
   "metadata": {},
   "source": [
    "#### Dataset: California Housing\n",
    "\n",
    "As an example dataset we will use the California Housing dataset. The data contains information from the 1990 California census.  A description of this dataset can be found here: https://www.kaggle.com/datasets/camnugent/california-housing-prices\n",
    "\n",
    "Fortunately, the dataset is already provided in scikit-learn. So, there is no need to fetch the data from Kaggle manually. See: https://scikit-learn.org/stable/modules/generated/sklearn.datasets.fetch_california_housing.html"
   ]
  },
  {
   "cell_type": "code",
   "execution_count": 1,
   "id": "a127b986",
   "metadata": {},
   "outputs": [],
   "source": [
    "# Import modules which are relevant for this project\n",
    "from sklearn.datasets import fetch_california_housing\n",
    "import numpy as np\n",
    "from sklearn.linear_model import LinearRegression\n",
    "from sklearn.metrics import mean_absolute_error, mean_squared_error\n",
    "import seaborn as sns"
   ]
  },
  {
   "cell_type": "markdown",
   "id": "70015490",
   "metadata": {},
   "source": [
    "## Load the dataset"
   ]
  },
  {
   "cell_type": "code",
   "execution_count": 2,
   "id": "11f82cca",
   "metadata": {},
   "outputs": [],
   "source": [
    "# as_frame: \n",
    "# If True, the data is a pandas DataFrame including columns with appropriate dtypes (numeric, string or categorical). \n",
    "# The target is a pandas DataFrame or Series depending on the number of target_columns.\n",
    "dataset = fetch_california_housing(as_frame=True)"
   ]
  },
  {
   "cell_type": "code",
   "execution_count": 3,
   "id": "e0be5f54",
   "metadata": {},
   "outputs": [
    {
     "name": "stdout",
     "output_type": "stream",
     "text": [
      "dict_keys(['data', 'target', 'frame', 'target_names', 'feature_names', 'DESCR'])\n"
     ]
    }
   ],
   "source": [
    "# Check what keys are available.\n",
    "# We are interested in <data> and <target>\n",
    "print(dataset.keys())"
   ]
  },
  {
   "cell_type": "code",
   "execution_count": 4,
   "id": "9c083760",
   "metadata": {},
   "outputs": [],
   "source": [
    "housing_df = dataset['data']\n",
    "target_df = dataset['target']"
   ]
  },
  {
   "cell_type": "markdown",
   "id": "21a249cf",
   "metadata": {},
   "source": [
    "## Analyze the data\n",
    "\n",
    "Since we have now successfully loaded the data, our first step will be to get an understanding of our data. "
   ]
  },
  {
   "cell_type": "code",
   "execution_count": 2,
   "id": "4759a175",
   "metadata": {},
   "outputs": [],
   "source": [
    "# TODO: Analyze the datasets\n",
    "# - How many instances does the dataset have?\n",
    "# - What columns does it have and what do they represent?\n",
    "# - What are the datatypes?\n",
    "# - What is our target variable and what are the features?"
   ]
  },
  {
   "cell_type": "markdown",
   "id": "cb401385",
   "metadata": {},
   "source": [
    "Let's take a closer look at the values in `housing_df`."
   ]
  },
  {
   "cell_type": "markdown",
   "id": "e51dcd93",
   "metadata": {},
   "source": [
    "Looking at the mean and median values, we can already gain some information about the distribution of the data and whether they are skewed.\n",
    "\n",
    "Recall that if a distribution is **left-skewed**, it has a tail on the left which means that the Mean < Median < Mode. <br/>\n",
    "If it's **right-skewed**, it has a tail on the right which means that Mode < Median < Mean."
   ]
  },
  {
   "cell_type": "code",
   "execution_count": null,
   "id": "cde86d4a",
   "metadata": {},
   "outputs": [],
   "source": [
    "# TODO: Inspect the statistics of housing_df"
   ]
  },
  {
   "cell_type": "markdown",
   "id": "0ed00746",
   "metadata": {},
   "source": [
    "However, we typically get a better understanding if we visualize the data. Let's take a look at the histograms."
   ]
  },
  {
   "cell_type": "code",
   "execution_count": null,
   "id": "fbdc0ce2",
   "metadata": {},
   "outputs": [],
   "source": [
    "# TODO: Use the pandas plotting capabilities to plot the distribution of individual features"
   ]
  },
  {
   "cell_type": "markdown",
   "id": "f563d41a",
   "metadata": {},
   "source": [
    "However, doing this for every feature individually is a little bit inconvenient. Luckily, there is a faster way to do this for all features."
   ]
  },
  {
   "cell_type": "code",
   "execution_count": 3,
   "id": "b5331428",
   "metadata": {},
   "outputs": [],
   "source": [
    "# TODO: Plot the distribution of all features in a grid\n",
    "# What insights can we gain from these distributions?"
   ]
  },
  {
   "cell_type": "markdown",
   "id": "5900708d",
   "metadata": {},
   "source": [
    "Since our goal is to train a linear regression model, it's important to understand which colums well correlated with the house price. <br/>\n",
    "A fast way to obtain this informations is by computing the pairwise correlations between the columns."
   ]
  },
  {
   "cell_type": "markdown",
   "id": "1782c05c",
   "metadata": {},
   "source": [
    "The **Person Correlation coefficient** is a way to measure how correlated to variables are. A value close to 1 indicates that two variables exhibit perform positive correlation. A values close to -1 indicates perfect negative correlation. See: https://en.wikipedia.org/wiki/Pearson_correlation_coefficient"
   ]
  },
  {
   "cell_type": "code",
   "execution_count": 4,
   "id": "b13d7053",
   "metadata": {},
   "outputs": [],
   "source": [
    "# TODO: Compute the pairwise correlation between the different variables"
   ]
  },
  {
   "cell_type": "markdown",
   "id": "9b0b50b6",
   "metadata": {},
   "source": [
    "Alternatively, we can use [Seaborn](https://seaborn.pydata.org/index.html) to graphically visualize the correlation matrix. Seaborn is a Python data visualization library based on matplotlib. It provides a high-level interface for drawing attractive and informative statistical graphics."
   ]
  },
  {
   "cell_type": "code",
   "execution_count": 5,
   "id": "bfd69dec",
   "metadata": {},
   "outputs": [],
   "source": [
    "# TODO:Use seaborn to create a heatmap of the correlation matrix"
   ]
  },
  {
   "cell_type": "markdown",
   "id": "036f0df0",
   "metadata": {},
   "source": [
    "We are primarily interested in the correlation of each variable with `HousePrice`. So let's do some filtering. <br/>\n",
    "What we would like to see are values close to 1 or -1."
   ]
  },
  {
   "cell_type": "code",
   "execution_count": 14,
   "id": "9c2dc7df",
   "metadata": {},
   "outputs": [
    {
     "data": {
      "text/plain": [
       "HousePrice    1.000000\n",
       "MedInc        0.688075\n",
       "AveRooms      0.151948\n",
       "HouseAge      0.105623\n",
       "AveOccup     -0.023737\n",
       "Population   -0.024650\n",
       "Longitude    -0.045967\n",
       "AveBedrms    -0.046701\n",
       "Latitude     -0.144160\n",
       "Name: HousePrice, dtype: float64"
      ]
     },
     "execution_count": 14,
     "metadata": {},
     "output_type": "execute_result"
    }
   ],
   "source": [
    "# TODO: Obtain the correlation coefficient of all variables with HousingPrice\n",
    "# Which variable can be expect to "
   ]
  },
  {
   "cell_type": "code",
   "execution_count": 6,
   "id": "9f17a149",
   "metadata": {},
   "outputs": [],
   "source": [
    "# TODO: Visually inspect the correlation between the chosen variable and HousePrice\n",
    "# What is a good plot type?\n",
    "# What insight can we gain from this plot"
   ]
  },
  {
   "cell_type": "markdown",
   "id": "15740893",
   "metadata": {},
   "source": [
    "## Preview: Train our first linear regression model\n",
    "\n",
    "To get familiar with linear regression models, we will now train our first linear regressor on two variables only (`MedInc` and `HousePrice`). In this notebook, we will not split the dataset into two subsets (train and test). This will be done in the next notebook. For now, we only care how a linear regression can be created and trained with scikit-learn."
   ]
  },
  {
   "cell_type": "markdown",
   "id": "6e92f0c7",
   "metadata": {},
   "source": [
    "I recommend taking a look at the documentation: https://scikit-learn.org/stable/modules/generated/sklearn.linear_model.LinearRegression.html\n",
    "\n",
    "This page provides some nice examples that show how to fit a line to some points: https://scikit-learn.org/stable/auto_examples/linear_model/plot_ols.html#sphx-glr-auto-examples-linear-model-plot-ols-py"
   ]
  },
  {
   "cell_type": "code",
   "execution_count": null,
   "id": "7b877c60",
   "metadata": {},
   "outputs": [],
   "source": [
    "# TODO: Create a linear regression model"
   ]
  },
  {
   "cell_type": "code",
   "execution_count": null,
   "id": "0dba52f6",
   "metadata": {},
   "outputs": [],
   "source": [
    "# TODO: Extract the training data from the pandas dataframe"
   ]
  },
  {
   "cell_type": "code",
   "execution_count": null,
   "id": "60abc731",
   "metadata": {},
   "outputs": [],
   "source": [
    "# TODO: Train the model"
   ]
  },
  {
   "cell_type": "markdown",
   "id": "7b990d42",
   "metadata": {},
   "source": [
    "That's it, we just trained your first model. Let's take a look at its predictions."
   ]
  },
  {
   "cell_type": "code",
   "execution_count": 17,
   "id": "4f116af2",
   "metadata": {},
   "outputs": [],
   "source": [
    "# Sample points at regular intervals\n",
    "x_line = np.arange(0, 10, 0.01).reshape(-1, 1)"
   ]
  },
  {
   "cell_type": "code",
   "execution_count": null,
   "id": "a5242ac4",
   "metadata": {},
   "outputs": [],
   "source": [
    "# TODO: Predict the house price for each test point x (x_line)"
   ]
  },
  {
   "cell_type": "code",
   "execution_count": 7,
   "id": "f0b1c7ad",
   "metadata": {},
   "outputs": [],
   "source": [
    "# TODO: Visualize the result by plotting the test points and the training data"
   ]
  },
  {
   "cell_type": "code",
   "execution_count": null,
   "id": "14a662eb",
   "metadata": {},
   "outputs": [],
   "source": [
    "# Question: \n",
    "# How can we measure the performance of our model?\n",
    "# Is our model good or bad?"
   ]
  }
 ],
 "metadata": {
  "kernelspec": {
   "display_name": "Python 3 (ipykernel)",
   "language": "python",
   "name": "python3"
  },
  "language_info": {
   "codemirror_mode": {
    "name": "ipython",
    "version": 3
   },
   "file_extension": ".py",
   "mimetype": "text/x-python",
   "name": "python",
   "nbconvert_exporter": "python",
   "pygments_lexer": "ipython3",
   "version": "3.11.5"
  }
 },
 "nbformat": 4,
 "nbformat_minor": 5
}
