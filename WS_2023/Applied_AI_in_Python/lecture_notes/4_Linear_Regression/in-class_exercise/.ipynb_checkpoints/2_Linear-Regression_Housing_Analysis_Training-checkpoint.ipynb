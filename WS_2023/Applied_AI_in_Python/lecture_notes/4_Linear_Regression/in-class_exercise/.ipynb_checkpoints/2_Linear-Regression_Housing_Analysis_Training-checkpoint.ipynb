{
 "cells": [
  {
   "cell_type": "markdown",
   "id": "d312d792",
   "metadata": {},
   "source": [
    "# Linear Regression \n",
    "\n",
    "In this example, we will learn how to train a very basic linear regression model with **scikit-learn**. <br/>\n",
    "Furthermore, we will also practice analyzing data with Pandas."
   ]
  },
  {
   "cell_type": "markdown",
   "id": "e135ec84",
   "metadata": {},
   "source": [
    "#### Dataset: California Housing\n",
    "\n",
    "As an example dataset we will use the California Housing dataset. The data contains information from the 1990 California census.  A description of this dataset can be found here: https://www.kaggle.com/datasets/camnugent/california-housing-prices\n",
    "\n",
    "Fortunately, the dataset is already provided in scikit-learn. So, there is no need to fetch the data from Kaggle manually. See: https://scikit-learn.org/stable/modules/generated/sklearn.datasets.fetch_california_housing.html"
   ]
  },
  {
   "cell_type": "code",
   "execution_count": null,
   "id": "a127b986",
   "metadata": {},
   "outputs": [],
   "source": [
    "# Import modules which are relevant for this project\n",
    "from sklearn.datasets import fetch_california_housing\n",
    "import numpy as np\n",
    "from sklearn.linear_model import LinearRegression\n",
    "from sklearn.metrics import mean_absolute_error, mean_squared_error\n",
    "from sklearn.model_selection import train_test_split\n",
    "\n",
    "# For 3D plotting\n",
    "from mpl_toolkits.mplot3d import Axes3D\n",
    "import matplotlib.pyplot as plt"
   ]
  },
  {
   "cell_type": "code",
   "execution_count": null,
   "id": "cee78c6c",
   "metadata": {},
   "outputs": [],
   "source": [
    "# To ensure reproducibility\n",
    "\n",
    "RANDOM_STATE = 42\n",
    "\n",
    "np.random.seed(RANDOM_STATE)"
   ]
  },
  {
   "cell_type": "markdown",
   "id": "70015490",
   "metadata": {},
   "source": [
    "## Load the dataset\n",
    "\n",
    "The steps are detailed in the previous notebook"
   ]
  },
  {
   "cell_type": "code",
   "execution_count": null,
   "id": "11f82cca",
   "metadata": {},
   "outputs": [],
   "source": [
    "dataset = fetch_california_housing(as_frame=True)"
   ]
  },
  {
   "cell_type": "code",
   "execution_count": null,
   "id": "9c083760",
   "metadata": {},
   "outputs": [],
   "source": [
    "housing_df = dataset['data']\n",
    "target_df = dataset['target']"
   ]
  },
  {
   "cell_type": "code",
   "execution_count": null,
   "id": "b5dbddf4",
   "metadata": {},
   "outputs": [],
   "source": [
    "# Insert the housing prices in the housing df\n",
    "housing_df['HousePrice'] = target_df"
   ]
  },
  {
   "cell_type": "markdown",
   "id": "56665718",
   "metadata": {},
   "source": [
    "## Prepare a training and testing set"
   ]
  },
  {
   "cell_type": "markdown",
   "id": "f0549591",
   "metadata": {},
   "source": [
    "### Manually splitting the dataframe"
   ]
  },
  {
   "cell_type": "code",
   "execution_count": null,
   "id": "85c8823d",
   "metadata": {},
   "outputs": [],
   "source": [
    "def custom_split_train_test(df, test_ratio):\n",
    "    \n",
    "    # TODO: Randomly split the data into two parts"
   ]
  },
  {
   "cell_type": "code",
   "execution_count": null,
   "id": "1fd2e9d6",
   "metadata": {},
   "outputs": [],
   "source": [
    "# Use 80% for training and 20% for testing\n",
    "train_df, test_df = custom_split_train_test(housing_df, 0.2)"
   ]
  },
  {
   "cell_type": "code",
   "execution_count": null,
   "id": "54f7f0af",
   "metadata": {},
   "outputs": [],
   "source": [
    "# Briefly check whether we have the correct set sizes\n",
    "print('Test ratio: ', len(test_df) / (len(train_df) + len(test_df)))"
   ]
  },
  {
   "cell_type": "markdown",
   "id": "02b4cbdc",
   "metadata": {},
   "source": [
    "### Splitting the dataframe (using sklearn)"
   ]
  },
  {
   "cell_type": "code",
   "execution_count": 1,
   "id": "0d051252",
   "metadata": {},
   "outputs": [],
   "source": [
    "# TODO: Split the dataset using sklearn's train_test_split()"
   ]
  },
  {
   "cell_type": "code",
   "execution_count": null,
   "id": "9518d555",
   "metadata": {},
   "outputs": [],
   "source": [
    "# Briefly check whether we have the correct set sizes\n",
    "print('Test ratio: ', len(test_df) / (len(train_df) + len(test_df)))"
   ]
  },
  {
   "cell_type": "markdown",
   "id": "11958225",
   "metadata": {},
   "source": [
    "## Train and test the linear classifier (Features: MedInc)"
   ]
  },
  {
   "cell_type": "markdown",
   "id": "fd75cbca",
   "metadata": {},
   "source": [
    "### Train the model on the training set"
   ]
  },
  {
   "cell_type": "code",
   "execution_count": null,
   "id": "350474b3",
   "metadata": {},
   "outputs": [],
   "source": [
    "# TODO: Train the model on the training set"
   ]
  },
  {
   "cell_type": "markdown",
   "id": "5749c5cc",
   "metadata": {},
   "source": [
    "### Evaluate the model on the training and testing set"
   ]
  },
  {
   "cell_type": "code",
   "execution_count": null,
   "id": "718eaf9a",
   "metadata": {},
   "outputs": [],
   "source": [
    "# Question: What would be a good error metric?"
   ]
  },
  {
   "cell_type": "code",
   "execution_count": 2,
   "id": "1ba58abc",
   "metadata": {},
   "outputs": [],
   "source": [
    "# TODO: Use the error metric to evaluate the performance on the testing set"
   ]
  },
  {
   "cell_type": "code",
   "execution_count": 3,
   "id": "729cb2a1",
   "metadata": {},
   "outputs": [],
   "source": [
    "# Question: What can we say about the performance of our model?\n",
    "# Does it overfit or underfit the training data?\n",
    "# How can we improve the result?"
   ]
  },
  {
   "cell_type": "markdown",
   "id": "6f60d32a",
   "metadata": {},
   "source": [
    "## Adding another input feature (Features: MedInc, HouseAge)\n",
    "\n",
    "Next, we will add another input feature (HouseAge) to see whether this improves the performance. And also, to check out Matplotlib's 3D plotting capabilities ;-)\n",
    "\n",
    "Note that a linear regression model can process an arbitrarily large number of input features simply by fitting a hyperplane instead of a line."
   ]
  },
  {
   "cell_type": "code",
   "execution_count": null,
   "id": "568232a3",
   "metadata": {},
   "outputs": [],
   "source": [
    "# Add the additional input feature HouseAge\n",
    "feature_names = ['MedInc', 'HouseAge']\n",
    "\n",
    "x_train = train_df[feature_names]\n",
    "y_train = train_df[['HousePrice']]\n",
    "\n",
    "x_test = test_df[feature_names]\n",
    "y_test = test_df[['HousePrice']]"
   ]
  },
  {
   "cell_type": "markdown",
   "id": "49e0d58a",
   "metadata": {},
   "source": [
    "### Visualize the input space using Matplotlib\n",
    "\n",
    "First, let's look at how to visualize the 3D space using Matplotlib."
   ]
  },
  {
   "cell_type": "code",
   "execution_count": null,
   "id": "fc9d2a26",
   "metadata": {},
   "outputs": [],
   "source": [
    "# Create a new figure\n",
    "fig = plt.figure(figsize=(8, 8))\n",
    "ax = fig.add_subplot(111, projection='3d')\n",
    "\n",
    "# Sample some points from the dataset to make the visualization more sparse\n",
    "vis_df = train_df.sample(5000)\n",
    "\n",
    "# Plot the chosen points in the 3D space\n",
    "ax.scatter(vis_df['MedInc'], vis_df['HouseAge'], vis_df['HousePrice'], s=1, c='red')\n",
    "\n",
    "ax.set_xlabel(\"MedInc\")\n",
    "ax.set_ylabel(\"HouseAge\")\n",
    "ax.set_zlabel(\"HousePrice\")\n",
    "\n",
    "plt.show()"
   ]
  },
  {
   "cell_type": "markdown",
   "id": "f53f953e",
   "metadata": {},
   "source": [
    "### Train and evaluate the new model"
   ]
  },
  {
   "cell_type": "code",
   "execution_count": null,
   "id": "1384d5fb",
   "metadata": {},
   "outputs": [],
   "source": [
    "# Train the model\n",
    "reg_model.fit(x_train, y_train)"
   ]
  },
  {
   "cell_type": "code",
   "execution_count": null,
   "id": "dd17948f",
   "metadata": {},
   "outputs": [],
   "source": [
    "y_pred_test = reg_model.predict(x_test)\n",
    "y_pred_train = reg_model.predict(x_train)\n",
    "\n",
    "rmse_test = mean_squared_error(y_test, y_pred_test, squared=False)\n",
    "rmse_train = mean_squared_error(y_train, y_pred_train, squared=False)\n",
    "\n",
    "print('Train RMSE:', rmse_train)\n",
    "print('Test RMSE:', rmse_test)"
   ]
  },
  {
   "cell_type": "markdown",
   "id": "ed76dfc2",
   "metadata": {},
   "source": [
    "As can be seen, adding the new features gives a slight increase in performance. Unfortunately, the model still performs badly."
   ]
  },
  {
   "cell_type": "markdown",
   "id": "86093ba1",
   "metadata": {},
   "source": [
    "### Visualize the hyperplane"
   ]
  },
  {
   "cell_type": "code",
   "execution_count": null,
   "id": "62c2b3af",
   "metadata": {},
   "outputs": [],
   "source": [
    "# Create a new figure\n",
    "fig = plt.figure(figsize=(8, 8))\n",
    "ax = fig.add_subplot(111, projection='3d')\n",
    "\n",
    "# Sample some points from the dataset to make the visualization more sparse\n",
    "vis_df = train_df.sample(5000)\n",
    "\n",
    "# Plot the chosen points in the 3D spcae\n",
    "ax.scatter(vis_df['MedInc'], vis_df['HouseAge'], vis_df['HousePrice'], s=1, c='red')\n",
    "\n",
    "# Obtain coefficients from the linear classifier\n",
    "coef = reg_model.coef_\n",
    "intercept = reg_model.intercept_\n",
    "\n",
    "# Obtain the range across the hyperplane should span\n",
    "x_range = np.arange(vis_df['MedInc'].min(), vis_df['MedInc'].max())\n",
    "y_range = np.arange(vis_df['HouseAge'].min(), vis_df['HouseAge'].max())\n",
    "\n",
    "# Draw hyperplane\n",
    "xx, yy = np.meshgrid(x_range, y_range)\n",
    "\n",
    "zz = coef[0, 0]*xx + coef[0, 1]*yy + intercept\n",
    "ax.plot_surface(xx, yy, zz, alpha=0.5)\n",
    "\n",
    "ax.set_xlabel(\"MedInc\")\n",
    "ax.set_ylabel(\"HouseAge\")\n",
    "ax.set_zlabel(\"HousePrice\")\n",
    "\n",
    "# Rotate the view to better see the hyperplane\n",
    "ax.view_init(elev=10, azim=110, roll=0)\n",
    "\n",
    "plt.show()"
   ]
  }
 ],
 "metadata": {
  "kernelspec": {
   "display_name": "Python 3 (ipykernel)",
   "language": "python",
   "name": "python3"
  },
  "language_info": {
   "codemirror_mode": {
    "name": "ipython",
    "version": 3
   },
   "file_extension": ".py",
   "mimetype": "text/x-python",
   "name": "python",
   "nbconvert_exporter": "python",
   "pygments_lexer": "ipython3",
   "version": "3.11.5"
  }
 },
 "nbformat": 4,
 "nbformat_minor": 5
}
